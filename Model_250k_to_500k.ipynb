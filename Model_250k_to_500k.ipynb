{
  "cells": [
    {
      "cell_type": "markdown",
      "metadata": {
        "id": "view-in-github",
        "colab_type": "text"
      },
      "source": [
        "<a href=\"https://colab.research.google.com/github/navistar792/final-project/blob/main/Model_250k_to_500k.ipynb\" target=\"_parent\"><img src=\"https://colab.research.google.com/assets/colab-badge.svg\" alt=\"Open In Colab\"/></a>"
      ]
    },
    {
      "cell_type": "markdown",
      "metadata": {
        "id": "FhGuhbZ6M5tl"
      },
      "source": [
        "##### Copyright 2018 The TensorFlow Authors."
      ]
    },
    {
      "cell_type": "code",
      "execution_count": null,
      "metadata": {
        "cellView": "form",
        "id": "AwOEIRJC6Une"
      },
      "outputs": [],
      "source": [
        "#@title Licensed under the Apache License, Version 2.0 (the \"License\");\n",
        "# you may not use this file except in compliance with the License.\n",
        "# You may obtain a copy of the License at\n",
        "#\n",
        "# https://www.apache.org/licenses/LICENSE-2.0\n",
        "#\n",
        "# Unless required by applicable law or agreed to in writing, software\n",
        "# distributed under the License is distributed on an \"AS IS\" BASIS,\n",
        "# WITHOUT WARRANTIES OR CONDITIONS OF ANY KIND, either express or implied.\n",
        "# See the License for the specific language governing permissions and\n",
        "# limitations under the License."
      ]
    },
    {
      "cell_type": "code",
      "execution_count": null,
      "metadata": {
        "cellView": "form",
        "id": "KyPEtTqk6VdG"
      },
      "outputs": [],
      "source": [
        "#@title MIT License\n",
        "#\n",
        "# Copyright (c) 2017 François Chollet\n",
        "#\n",
        "# Permission is hereby granted, free of charge, to any person obtaining a\n",
        "# copy of this software and associated documentation files (the \"Software\"),\n",
        "# to deal in the Software without restriction, including without limitation\n",
        "# the rights to use, copy, modify, merge, publish, distribute, sublicense,\n",
        "# and/or sell copies of the Software, and to permit persons to whom the\n",
        "# Software is furnished to do so, subject to the following conditions:\n",
        "#\n",
        "# The above copyright notice and this permission notice shall be included in\n",
        "# all copies or substantial portions of the Software.\n",
        "#\n",
        "# THE SOFTWARE IS PROVIDED \"AS IS\", WITHOUT WARRANTY OF ANY KIND, EXPRESS OR\n",
        "# IMPLIED, INCLUDING BUT NOT LIMITED TO THE WARRANTIES OF MERCHANTABILITY,\n",
        "# FITNESS FOR A PARTICULAR PURPOSE AND NONINFRINGEMENT. IN NO EVENT SHALL\n",
        "# THE AUTHORS OR COPYRIGHT HOLDERS BE LIABLE FOR ANY CLAIM, DAMAGES OR OTHER\n",
        "# LIABILITY, WHETHER IN AN ACTION OF CONTRACT, TORT OR OTHERWISE, ARISING\n",
        "# FROM, OUT OF OR IN CONNECTION WITH THE SOFTWARE OR THE USE OR OTHER\n",
        "# DEALINGS IN THE SOFTWARE."
      ]
    },
    {
      "cell_type": "markdown",
      "metadata": {
        "id": "EIdT9iu_Z4Rb"
      },
      "source": [
        "# Basic regression: Predict salary from experience and languages known"
      ]
    },
    {
      "cell_type": "markdown",
      "metadata": {
        "id": "bBIlTPscrIT9"
      },
      "source": [
        "<table class=\"tfo-notebook-buttons\" align=\"left\">\n",
        "  <td>\n",
        "    <a target=\"_blank\" href=\"https://www.tensorflow.org/tutorials/keras/regression\"><img src=\"https://www.tensorflow.org/images/tf_logo_32px.png\" />View on TensorFlow.org</a>\n",
        "  </td>\n",
        "  <td>\n",
        "    <a target=\"_blank\" href=\"https://colab.research.google.com/github/tensorflow/docs/blob/master/site/en/tutorials/keras/regression.ipynb\"><img src=\"https://www.tensorflow.org/images/colab_logo_32px.png\" />Run in Google Colab</a>\n",
        "  </td>\n",
        "  <td>\n",
        "    <a target=\"_blank\" href=\"https://github.com/tensorflow/docs/blob/master/site/en/tutorials/keras/regression.ipynb\"><img src=\"https://www.tensorflow.org/images/GitHub-Mark-32px.png\" />View source on GitHub</a>\n",
        "  </td>\n",
        "  <td>\n",
        "    <a href=\"https://storage.googleapis.com/tensorflow_docs/docs/site/en/tutorials/keras/regression.ipynb\"><img src=\"https://www.tensorflow.org/images/download_logo_32px.png\" />Download notebook</a>\n",
        "  </td>\n",
        "</table>"
      ]
    },
    {
      "cell_type": "markdown",
      "metadata": {
        "id": "AHp3M9ZmrIxj"
      },
      "source": [
        "In a *regression* problem, the aim is to predict the output of a continuous value, like a price or a probability. Contrast this with a *classification* problem, where the aim is to select a class from a list of classes (for example, where a picture contains an apple or an orange, recognizing which fruit is in the picture).\n",
        "\n",
        "This example uses the Keras API. (Visit the Keras [tutorials](https://www.tensorflow.org/tutorials/keras) and [guides](https://www.tensorflow.org/guide/keras) to learn more.)"
      ]
    },
    {
      "cell_type": "code",
      "execution_count": null,
      "metadata": {
        "id": "moB4tpEHxKB3"
      },
      "outputs": [],
      "source": [
        "# Use seaborn for pairplot.\n",
        "!pip install -q seaborn"
      ]
    },
    {
      "cell_type": "code",
      "execution_count": null,
      "metadata": {
        "id": "1rRo8oNqZ-Rj"
      },
      "outputs": [],
      "source": [
        "import matplotlib.pyplot as plt\n",
        "import numpy as np\n",
        "import pandas as pd\n",
        "import seaborn as sns\n",
        "from matplotlib.pyplot import figure\n",
        "\n",
        "\n",
        "# Make NumPy printouts easier to read.\n",
        "np.set_printoptions(precision=3, suppress=True)"
      ]
    },
    {
      "cell_type": "code",
      "execution_count": null,
      "metadata": {
        "colab": {
          "base_uri": "https://localhost:8080/"
        },
        "id": "9xQKvCJ85kCQ",
        "outputId": "132345f2-9bd2-4f92-91ed-a8feec662c3d"
      },
      "outputs": [
        {
          "output_type": "stream",
          "name": "stdout",
          "text": [
            "2.7.0\n"
          ]
        }
      ],
      "source": [
        "import tensorflow as tf\n",
        "\n",
        "from tensorflow import keras\n",
        "from tensorflow.keras import layers\n",
        "\n",
        "print(tf.__version__)"
      ]
    },
    {
      "cell_type": "markdown",
      "metadata": {
        "id": "F_72b0LCNbjx"
      },
      "source": [
        "## The Stack Overflow Annual Survey (2021) data\n",
        "The dataset is available from the [UCI Machine Learning Repository](https://www.google.com/url?sa=t&rct=j&q=&esrc=s&source=web&cd=&cad=rja&uact=8&ved=2ahUKEwjt1Kanu9L0AhUFG80KHR9iClgQFnoECBQQAQ&url=https%3A%2F%2Finsights.stackoverflow.com%2Fsurvey%2F2021&usg=AOvVaw03n3qvug3EVxESbBohszEz).\n"
      ]
    },
    {
      "cell_type": "markdown",
      "metadata": {
        "id": "gFh9ne3FZ-On"
      },
      "source": [
        "### Get the data\n",
        "First download and import the dataset using pandas:"
      ]
    },
    {
      "cell_type": "code",
      "execution_count": null,
      "metadata": {
        "id": "CiX2FI4gZtTt"
      },
      "outputs": [],
      "source": [
        "url = 'https://raw.githubusercontent.com/navistar792/final-project/main/2021_features.csv'\n",
        "\n",
        "raw_dataset = pd.read_csv(url)\n",
        "raw_dataset = raw_dataset.drop('Unnamed: 0', 1)\n",
        "raw_dataset = raw_dataset.drop('YearsCode', 1)\n",
        "raw = raw_dataset.astype('float64')\n",
        "raw2 = raw[raw['ConvertedCompYearly']>=250000]"
      ]
    },
    {
      "cell_type": "code",
      "execution_count": null,
      "metadata": {
        "colab": {
          "base_uri": "https://localhost:8080/"
        },
        "id": "OFZFQfuqoAH0",
        "outputId": "352a03da-7bf0-4881-b0f4-5736041e2372"
      },
      "outputs": [
        {
          "output_type": "execute_result",
          "data": {
            "text/plain": [
              "Index(['ConvertedCompYearly', 'YearsCodePro', 'AWS', 'Bash/Shell', 'C++',\n",
              "       'COBOL', 'Cassandra', 'Clojure', 'Crystal', 'Delphi', 'Django',\n",
              "       'Drupal', 'DynamoDB', 'Elasticsearch', 'Flask', 'Flow', 'Git', 'Go',\n",
              "       'Google Cloud Platform', 'Hadoop', 'Java', 'JavaScript', 'Kubernetes',\n",
              "       'LISP', 'MariaDB', 'Microsoft Azure', 'Node.js', 'Oracle', 'PHP',\n",
              "       'Pandas', 'Perl', 'PowerShell', 'Python', 'Qt', 'React.js', 'Redis',\n",
              "       'Ruby on Rails', 'Rust', 'Scala', 'Swift', 'Terraform', 'TypeScript',\n",
              "       'Unity 3D', 'Vue.js', 'Xamarin', 'jQuery'],\n",
              "      dtype='object')"
            ]
          },
          "metadata": {},
          "execution_count": 5
        }
      ],
      "source": [
        "raw2.columns"
      ]
    },
    {
      "cell_type": "code",
      "execution_count": null,
      "metadata": {
        "colab": {
          "base_uri": "https://localhost:8080/",
          "height": 261
        },
        "id": "2oY3pMPagJrO",
        "outputId": "b45d6965-9087-4cce-c4d2-8e67c467925f"
      },
      "outputs": [
        {
          "output_type": "execute_result",
          "data": {
            "text/html": [
              "<div>\n",
              "<style scoped>\n",
              "    .dataframe tbody tr th:only-of-type {\n",
              "        vertical-align: middle;\n",
              "    }\n",
              "\n",
              "    .dataframe tbody tr th {\n",
              "        vertical-align: top;\n",
              "    }\n",
              "\n",
              "    .dataframe thead th {\n",
              "        text-align: right;\n",
              "    }\n",
              "</style>\n",
              "<table border=\"1\" class=\"dataframe\">\n",
              "  <thead>\n",
              "    <tr style=\"text-align: right;\">\n",
              "      <th></th>\n",
              "      <th>ConvertedCompYearly</th>\n",
              "      <th>YearsCodePro</th>\n",
              "      <th>AWS</th>\n",
              "      <th>Bash/Shell</th>\n",
              "      <th>C++</th>\n",
              "      <th>COBOL</th>\n",
              "      <th>Cassandra</th>\n",
              "      <th>Clojure</th>\n",
              "      <th>Crystal</th>\n",
              "      <th>Delphi</th>\n",
              "      <th>Django</th>\n",
              "      <th>Drupal</th>\n",
              "      <th>DynamoDB</th>\n",
              "      <th>Elasticsearch</th>\n",
              "      <th>Flask</th>\n",
              "      <th>Flow</th>\n",
              "      <th>Git</th>\n",
              "      <th>Go</th>\n",
              "      <th>Google Cloud Platform</th>\n",
              "      <th>Hadoop</th>\n",
              "      <th>Java</th>\n",
              "      <th>JavaScript</th>\n",
              "      <th>Kubernetes</th>\n",
              "      <th>LISP</th>\n",
              "      <th>MariaDB</th>\n",
              "      <th>Microsoft Azure</th>\n",
              "      <th>Node.js</th>\n",
              "      <th>Oracle</th>\n",
              "      <th>PHP</th>\n",
              "      <th>Pandas</th>\n",
              "      <th>Perl</th>\n",
              "      <th>PowerShell</th>\n",
              "      <th>Python</th>\n",
              "      <th>Qt</th>\n",
              "      <th>React.js</th>\n",
              "      <th>Redis</th>\n",
              "      <th>Ruby on Rails</th>\n",
              "      <th>Rust</th>\n",
              "      <th>Scala</th>\n",
              "      <th>Swift</th>\n",
              "      <th>Terraform</th>\n",
              "      <th>TypeScript</th>\n",
              "      <th>Unity 3D</th>\n",
              "      <th>Vue.js</th>\n",
              "      <th>Xamarin</th>\n",
              "      <th>jQuery</th>\n",
              "    </tr>\n",
              "  </thead>\n",
              "  <tbody>\n",
              "    <tr>\n",
              "      <th>8705</th>\n",
              "      <td>350000.0</td>\n",
              "      <td>15.0</td>\n",
              "      <td>1.0</td>\n",
              "      <td>0.0</td>\n",
              "      <td>0.0</td>\n",
              "      <td>0.0</td>\n",
              "      <td>1.0</td>\n",
              "      <td>0.0</td>\n",
              "      <td>0.0</td>\n",
              "      <td>0.0</td>\n",
              "      <td>0.0</td>\n",
              "      <td>0.0</td>\n",
              "      <td>0.0</td>\n",
              "      <td>1.0</td>\n",
              "      <td>0.0</td>\n",
              "      <td>0.0</td>\n",
              "      <td>1.0</td>\n",
              "      <td>0.0</td>\n",
              "      <td>0.0</td>\n",
              "      <td>0.0</td>\n",
              "      <td>1.0</td>\n",
              "      <td>0.0</td>\n",
              "      <td>0.0</td>\n",
              "      <td>0.0</td>\n",
              "      <td>0.0</td>\n",
              "      <td>0.0</td>\n",
              "      <td>0.0</td>\n",
              "      <td>0.0</td>\n",
              "      <td>0.0</td>\n",
              "      <td>0.0</td>\n",
              "      <td>0.0</td>\n",
              "      <td>0.0</td>\n",
              "      <td>1.0</td>\n",
              "      <td>0.0</td>\n",
              "      <td>0.0</td>\n",
              "      <td>0.0</td>\n",
              "      <td>0.0</td>\n",
              "      <td>0.0</td>\n",
              "      <td>0.0</td>\n",
              "      <td>0.0</td>\n",
              "      <td>0.0</td>\n",
              "      <td>0.0</td>\n",
              "      <td>0.0</td>\n",
              "      <td>0.0</td>\n",
              "      <td>0.0</td>\n",
              "      <td>0.0</td>\n",
              "    </tr>\n",
              "    <tr>\n",
              "      <th>8740</th>\n",
              "      <td>304000.0</td>\n",
              "      <td>5.0</td>\n",
              "      <td>1.0</td>\n",
              "      <td>1.0</td>\n",
              "      <td>0.0</td>\n",
              "      <td>0.0</td>\n",
              "      <td>0.0</td>\n",
              "      <td>0.0</td>\n",
              "      <td>0.0</td>\n",
              "      <td>0.0</td>\n",
              "      <td>0.0</td>\n",
              "      <td>0.0</td>\n",
              "      <td>0.0</td>\n",
              "      <td>0.0</td>\n",
              "      <td>1.0</td>\n",
              "      <td>0.0</td>\n",
              "      <td>1.0</td>\n",
              "      <td>1.0</td>\n",
              "      <td>1.0</td>\n",
              "      <td>0.0</td>\n",
              "      <td>1.0</td>\n",
              "      <td>0.0</td>\n",
              "      <td>1.0</td>\n",
              "      <td>0.0</td>\n",
              "      <td>0.0</td>\n",
              "      <td>0.0</td>\n",
              "      <td>0.0</td>\n",
              "      <td>0.0</td>\n",
              "      <td>0.0</td>\n",
              "      <td>0.0</td>\n",
              "      <td>0.0</td>\n",
              "      <td>0.0</td>\n",
              "      <td>1.0</td>\n",
              "      <td>0.0</td>\n",
              "      <td>0.0</td>\n",
              "      <td>1.0</td>\n",
              "      <td>0.0</td>\n",
              "      <td>0.0</td>\n",
              "      <td>0.0</td>\n",
              "      <td>0.0</td>\n",
              "      <td>1.0</td>\n",
              "      <td>0.0</td>\n",
              "      <td>0.0</td>\n",
              "      <td>0.0</td>\n",
              "      <td>0.0</td>\n",
              "      <td>0.0</td>\n",
              "    </tr>\n",
              "    <tr>\n",
              "      <th>8765</th>\n",
              "      <td>287000.0</td>\n",
              "      <td>6.0</td>\n",
              "      <td>1.0</td>\n",
              "      <td>0.0</td>\n",
              "      <td>0.0</td>\n",
              "      <td>0.0</td>\n",
              "      <td>0.0</td>\n",
              "      <td>0.0</td>\n",
              "      <td>0.0</td>\n",
              "      <td>0.0</td>\n",
              "      <td>0.0</td>\n",
              "      <td>0.0</td>\n",
              "      <td>0.0</td>\n",
              "      <td>0.0</td>\n",
              "      <td>0.0</td>\n",
              "      <td>0.0</td>\n",
              "      <td>1.0</td>\n",
              "      <td>0.0</td>\n",
              "      <td>1.0</td>\n",
              "      <td>0.0</td>\n",
              "      <td>0.0</td>\n",
              "      <td>1.0</td>\n",
              "      <td>0.0</td>\n",
              "      <td>0.0</td>\n",
              "      <td>0.0</td>\n",
              "      <td>0.0</td>\n",
              "      <td>1.0</td>\n",
              "      <td>0.0</td>\n",
              "      <td>0.0</td>\n",
              "      <td>0.0</td>\n",
              "      <td>0.0</td>\n",
              "      <td>0.0</td>\n",
              "      <td>1.0</td>\n",
              "      <td>0.0</td>\n",
              "      <td>1.0</td>\n",
              "      <td>0.0</td>\n",
              "      <td>0.0</td>\n",
              "      <td>0.0</td>\n",
              "      <td>0.0</td>\n",
              "      <td>0.0</td>\n",
              "      <td>0.0</td>\n",
              "      <td>1.0</td>\n",
              "      <td>0.0</td>\n",
              "      <td>0.0</td>\n",
              "      <td>0.0</td>\n",
              "      <td>0.0</td>\n",
              "    </tr>\n",
              "    <tr>\n",
              "      <th>8805</th>\n",
              "      <td>270000.0</td>\n",
              "      <td>6.0</td>\n",
              "      <td>1.0</td>\n",
              "      <td>1.0</td>\n",
              "      <td>0.0</td>\n",
              "      <td>0.0</td>\n",
              "      <td>0.0</td>\n",
              "      <td>1.0</td>\n",
              "      <td>0.0</td>\n",
              "      <td>0.0</td>\n",
              "      <td>0.0</td>\n",
              "      <td>0.0</td>\n",
              "      <td>1.0</td>\n",
              "      <td>0.0</td>\n",
              "      <td>0.0</td>\n",
              "      <td>0.0</td>\n",
              "      <td>1.0</td>\n",
              "      <td>0.0</td>\n",
              "      <td>0.0</td>\n",
              "      <td>0.0</td>\n",
              "      <td>1.0</td>\n",
              "      <td>0.0</td>\n",
              "      <td>0.0</td>\n",
              "      <td>0.0</td>\n",
              "      <td>0.0</td>\n",
              "      <td>0.0</td>\n",
              "      <td>0.0</td>\n",
              "      <td>0.0</td>\n",
              "      <td>0.0</td>\n",
              "      <td>0.0</td>\n",
              "      <td>0.0</td>\n",
              "      <td>0.0</td>\n",
              "      <td>0.0</td>\n",
              "      <td>0.0</td>\n",
              "      <td>0.0</td>\n",
              "      <td>0.0</td>\n",
              "      <td>0.0</td>\n",
              "      <td>0.0</td>\n",
              "      <td>0.0</td>\n",
              "      <td>0.0</td>\n",
              "      <td>0.0</td>\n",
              "      <td>0.0</td>\n",
              "      <td>0.0</td>\n",
              "      <td>0.0</td>\n",
              "      <td>0.0</td>\n",
              "      <td>0.0</td>\n",
              "    </tr>\n",
              "    <tr>\n",
              "      <th>8818</th>\n",
              "      <td>252000.0</td>\n",
              "      <td>10.0</td>\n",
              "      <td>1.0</td>\n",
              "      <td>1.0</td>\n",
              "      <td>0.0</td>\n",
              "      <td>0.0</td>\n",
              "      <td>0.0</td>\n",
              "      <td>0.0</td>\n",
              "      <td>0.0</td>\n",
              "      <td>0.0</td>\n",
              "      <td>0.0</td>\n",
              "      <td>0.0</td>\n",
              "      <td>1.0</td>\n",
              "      <td>0.0</td>\n",
              "      <td>0.0</td>\n",
              "      <td>0.0</td>\n",
              "      <td>1.0</td>\n",
              "      <td>1.0</td>\n",
              "      <td>1.0</td>\n",
              "      <td>0.0</td>\n",
              "      <td>0.0</td>\n",
              "      <td>1.0</td>\n",
              "      <td>1.0</td>\n",
              "      <td>0.0</td>\n",
              "      <td>0.0</td>\n",
              "      <td>1.0</td>\n",
              "      <td>1.0</td>\n",
              "      <td>0.0</td>\n",
              "      <td>0.0</td>\n",
              "      <td>0.0</td>\n",
              "      <td>0.0</td>\n",
              "      <td>1.0</td>\n",
              "      <td>0.0</td>\n",
              "      <td>0.0</td>\n",
              "      <td>1.0</td>\n",
              "      <td>1.0</td>\n",
              "      <td>1.0</td>\n",
              "      <td>0.0</td>\n",
              "      <td>0.0</td>\n",
              "      <td>0.0</td>\n",
              "      <td>1.0</td>\n",
              "      <td>1.0</td>\n",
              "      <td>0.0</td>\n",
              "      <td>0.0</td>\n",
              "      <td>0.0</td>\n",
              "      <td>0.0</td>\n",
              "    </tr>\n",
              "  </tbody>\n",
              "</table>\n",
              "</div>"
            ],
            "text/plain": [
              "      ConvertedCompYearly  YearsCodePro  AWS  ...  Vue.js  Xamarin  jQuery\n",
              "8705             350000.0          15.0  1.0  ...     0.0      0.0     0.0\n",
              "8740             304000.0           5.0  1.0  ...     0.0      0.0     0.0\n",
              "8765             287000.0           6.0  1.0  ...     0.0      0.0     0.0\n",
              "8805             270000.0           6.0  1.0  ...     0.0      0.0     0.0\n",
              "8818             252000.0          10.0  1.0  ...     0.0      0.0     0.0\n",
              "\n",
              "[5 rows x 46 columns]"
            ]
          },
          "metadata": {},
          "execution_count": 6
        }
      ],
      "source": [
        "dataset = raw2.copy()\n",
        "dataset.tail()"
      ]
    },
    {
      "cell_type": "markdown",
      "metadata": {
        "id": "3MWuJTKEDM-f"
      },
      "source": [
        "### Clean the data\n",
        "\n",
        "The dataset may contain a few unknown values:"
      ]
    },
    {
      "cell_type": "code",
      "execution_count": null,
      "metadata": {
        "colab": {
          "base_uri": "https://localhost:8080/"
        },
        "id": "JEJHhN65a2VV",
        "outputId": "eb21824c-86fe-4ec2-8455-3d342ae596a5"
      },
      "outputs": [
        {
          "output_type": "execute_result",
          "data": {
            "text/plain": [
              "ConvertedCompYearly      0\n",
              "YearsCodePro             0\n",
              "AWS                      0\n",
              "Bash/Shell               0\n",
              "C++                      0\n",
              "COBOL                    0\n",
              "Cassandra                0\n",
              "Clojure                  0\n",
              "Crystal                  0\n",
              "Delphi                   0\n",
              "Django                   0\n",
              "Drupal                   0\n",
              "DynamoDB                 0\n",
              "Elasticsearch            0\n",
              "Flask                    0\n",
              "Flow                     0\n",
              "Git                      0\n",
              "Go                       0\n",
              "Google Cloud Platform    0\n",
              "Hadoop                   0\n",
              "Java                     0\n",
              "JavaScript               0\n",
              "Kubernetes               0\n",
              "LISP                     0\n",
              "MariaDB                  0\n",
              "Microsoft Azure          0\n",
              "Node.js                  0\n",
              "Oracle                   0\n",
              "PHP                      0\n",
              "Pandas                   0\n",
              "Perl                     0\n",
              "PowerShell               0\n",
              "Python                   0\n",
              "Qt                       0\n",
              "React.js                 0\n",
              "Redis                    0\n",
              "Ruby on Rails            0\n",
              "Rust                     0\n",
              "Scala                    0\n",
              "Swift                    0\n",
              "Terraform                0\n",
              "TypeScript               0\n",
              "Unity 3D                 0\n",
              "Vue.js                   0\n",
              "Xamarin                  0\n",
              "jQuery                   0\n",
              "dtype: int64"
            ]
          },
          "metadata": {},
          "execution_count": 7
        }
      ],
      "source": [
        "dataset.isna().sum()"
      ]
    },
    {
      "cell_type": "markdown",
      "metadata": {
        "id": "9UPN0KBHa_WI"
      },
      "source": [
        "Drop those rows to keep this initial tutorial simple:"
      ]
    },
    {
      "cell_type": "code",
      "execution_count": null,
      "metadata": {
        "id": "4ZUDosChC1UN"
      },
      "outputs": [],
      "source": [
        "dataset = dataset.dropna()"
      ]
    },
    {
      "cell_type": "markdown",
      "metadata": {
        "id": "Cuym4yvk76vU"
      },
      "source": [
        "### Split the data into training and test sets\n",
        "\n",
        "Now, split the dataset into a training set and a test set. You will use the test set in the final evaluation of your models."
      ]
    },
    {
      "cell_type": "code",
      "execution_count": null,
      "metadata": {
        "id": "qn-IGhUE7_1H"
      },
      "outputs": [],
      "source": [
        "train_dataset = dataset.sample(frac=0.8, random_state=0)\n",
        "test_dataset = dataset.drop(train_dataset.index)"
      ]
    },
    {
      "cell_type": "markdown",
      "metadata": {
        "id": "J4ubs136WLNp"
      },
      "source": [
        "### Inspect the data\n",
        "\n",
        "Review the joint distribution of a few pairs of columns from the training set.\n",
        "\n",
        "The top row suggests that the fuel efficiency (MPG) is a function of all the other parameters. The other rows indicate they are functions of each other."
      ]
    },
    {
      "cell_type": "code",
      "execution_count": null,
      "metadata": {
        "colab": {
          "base_uri": "https://localhost:8080/",
          "height": 920
        },
        "id": "oRKO_x8gWKv-",
        "outputId": "0ee5b49a-901c-4596-a019-84f4a6ac868e"
      },
      "outputs": [
        {
          "output_type": "execute_result",
          "data": {
            "text/plain": [
              "<seaborn.axisgrid.PairGrid at 0x7f1e1e138b90>"
            ]
          },
          "metadata": {},
          "execution_count": 10
        },
        {
          "output_type": "display_data",
          "data": {
            "image/png": "[encoded data removed]",
            "text/plain": [
              "<Figure size 900x900 with 30 Axes>"
            ]
          },
          "metadata": {
            "needs_background": "light"
          }
        }
      ],
      "source": [
        "sns.pairplot(train_dataset[['YearsCodePro', 'AWS', 'Python', 'PHP','Go']], diag_kind='kde')"
      ]
    },
    {
      "cell_type": "code",
      "execution_count": null,
      "metadata": {
        "colab": {
          "base_uri": "https://localhost:8080/",
          "height": 920
        },
        "id": "RB2GifZTorY4",
        "outputId": "827b02e5-0a22-4fbc-de00-dd6ce4a95ff2"
      },
      "outputs": [
        {
          "output_type": "execute_result",
          "data": {
            "text/plain": [
              "<seaborn.axisgrid.PairGrid at 0x7f1e12593d10>"
            ]
          },
          "metadata": {},
          "execution_count": 11
        },
        {
          "output_type": "display_data",
          "data": {
            "image/png": "[encoded data removed]",
            "text/plain": [
              "<Figure size 951.875x900 with 30 Axes>"
            ]
          },
          "metadata": {
            "needs_background": "light"
          }
        }
      ],
      "source": [
        "sns.pairplot(dataset[['ConvertedCompYearly','YearsCodePro', 'AWS', 'Python', 'PHP','Go']], diag_kind='kde', hue='Python')"
      ]
    },
    {
      "cell_type": "markdown",
      "metadata": {
        "id": "gavKO_6DWRMP"
      },
      "source": [
        "Let's also check the overall statistics. Note how each feature covers a very different range:"
      ]
    },
    {
      "cell_type": "code",
      "execution_count": null,
      "metadata": {
        "colab": {
          "base_uri": "https://localhost:8080/",
          "height": 1000
        },
        "id": "yi2FzC3T21jR",
        "outputId": "91ea46cb-8d9e-431e-c37e-13f971a802d6"
      },
      "outputs": [
        {
          "output_type": "execute_result",
          "data": {
            "text/html": [
              "<div>\n",
              "<style scoped>\n",
              "    .dataframe tbody tr th:only-of-type {\n",
              "        vertical-align: middle;\n",
              "    }\n",
              "\n",
              "    .dataframe tbody tr th {\n",
              "        vertical-align: top;\n",
              "    }\n",
              "\n",
              "    .dataframe thead th {\n",
              "        text-align: right;\n",
              "    }\n",
              "</style>\n",
              "<table border=\"1\" class=\"dataframe\">\n",
              "  <thead>\n",
              "    <tr style=\"text-align: right;\">\n",
              "      <th></th>\n",
              "      <th>count</th>\n",
              "      <th>mean</th>\n",
              "      <th>std</th>\n",
              "      <th>min</th>\n",
              "      <th>25%</th>\n",
              "      <th>50%</th>\n",
              "      <th>75%</th>\n",
              "      <th>max</th>\n",
              "    </tr>\n",
              "  </thead>\n",
              "  <tbody>\n",
              "    <tr>\n",
              "      <th>ConvertedCompYearly</th>\n",
              "      <td>494.0</td>\n",
              "      <td>316040.769231</td>\n",
              "      <td>69757.229221</td>\n",
              "      <td>250000.0</td>\n",
              "      <td>255149.0</td>\n",
              "      <td>300000.0</td>\n",
              "      <td>350000.00</td>\n",
              "      <td>500000.0</td>\n",
              "    </tr>\n",
              "    <tr>\n",
              "      <th>YearsCodePro</th>\n",
              "      <td>494.0</td>\n",
              "      <td>15.064777</td>\n",
              "      <td>9.456201</td>\n",
              "      <td>0.0</td>\n",
              "      <td>8.0</td>\n",
              "      <td>12.0</td>\n",
              "      <td>21.00</td>\n",
              "      <td>50.0</td>\n",
              "    </tr>\n",
              "    <tr>\n",
              "      <th>AWS</th>\n",
              "      <td>494.0</td>\n",
              "      <td>0.582996</td>\n",
              "      <td>0.493563</td>\n",
              "      <td>0.0</td>\n",
              "      <td>0.0</td>\n",
              "      <td>1.0</td>\n",
              "      <td>1.00</td>\n",
              "      <td>1.0</td>\n",
              "    </tr>\n",
              "    <tr>\n",
              "      <th>Bash/Shell</th>\n",
              "      <td>494.0</td>\n",
              "      <td>0.483806</td>\n",
              "      <td>0.500244</td>\n",
              "      <td>0.0</td>\n",
              "      <td>0.0</td>\n",
              "      <td>0.0</td>\n",
              "      <td>1.00</td>\n",
              "      <td>1.0</td>\n",
              "    </tr>\n",
              "    <tr>\n",
              "      <th>C++</th>\n",
              "      <td>494.0</td>\n",
              "      <td>0.251012</td>\n",
              "      <td>0.434035</td>\n",
              "      <td>0.0</td>\n",
              "      <td>0.0</td>\n",
              "      <td>0.0</td>\n",
              "      <td>0.75</td>\n",
              "      <td>1.0</td>\n",
              "    </tr>\n",
              "    <tr>\n",
              "      <th>COBOL</th>\n",
              "      <td>494.0</td>\n",
              "      <td>0.000000</td>\n",
              "      <td>0.000000</td>\n",
              "      <td>0.0</td>\n",
              "      <td>0.0</td>\n",
              "      <td>0.0</td>\n",
              "      <td>0.00</td>\n",
              "      <td>0.0</td>\n",
              "    </tr>\n",
              "    <tr>\n",
              "      <th>Cassandra</th>\n",
              "      <td>494.0</td>\n",
              "      <td>0.058704</td>\n",
              "      <td>0.235309</td>\n",
              "      <td>0.0</td>\n",
              "      <td>0.0</td>\n",
              "      <td>0.0</td>\n",
              "      <td>0.00</td>\n",
              "      <td>1.0</td>\n",
              "    </tr>\n",
              "    <tr>\n",
              "      <th>Clojure</th>\n",
              "      <td>494.0</td>\n",
              "      <td>0.052632</td>\n",
              "      <td>0.223523</td>\n",
              "      <td>0.0</td>\n",
              "      <td>0.0</td>\n",
              "      <td>0.0</td>\n",
              "      <td>0.00</td>\n",
              "      <td>1.0</td>\n",
              "    </tr>\n",
              "    <tr>\n",
              "      <th>Crystal</th>\n",
              "      <td>494.0</td>\n",
              "      <td>0.008097</td>\n",
              "      <td>0.089710</td>\n",
              "      <td>0.0</td>\n",
              "      <td>0.0</td>\n",
              "      <td>0.0</td>\n",
              "      <td>0.00</td>\n",
              "      <td>1.0</td>\n",
              "    </tr>\n",
              "    <tr>\n",
              "      <th>Delphi</th>\n",
              "      <td>494.0</td>\n",
              "      <td>0.012146</td>\n",
              "      <td>0.109647</td>\n",
              "      <td>0.0</td>\n",
              "      <td>0.0</td>\n",
              "      <td>0.0</td>\n",
              "      <td>0.00</td>\n",
              "      <td>1.0</td>\n",
              "    </tr>\n",
              "    <tr>\n",
              "      <th>Django</th>\n",
              "      <td>494.0</td>\n",
              "      <td>0.050607</td>\n",
              "      <td>0.219417</td>\n",
              "      <td>0.0</td>\n",
              "      <td>0.0</td>\n",
              "      <td>0.0</td>\n",
              "      <td>0.00</td>\n",
              "      <td>1.0</td>\n",
              "    </tr>\n",
              "    <tr>\n",
              "      <th>Drupal</th>\n",
              "      <td>494.0</td>\n",
              "      <td>0.008097</td>\n",
              "      <td>0.089710</td>\n",
              "      <td>0.0</td>\n",
              "      <td>0.0</td>\n",
              "      <td>0.0</td>\n",
              "      <td>0.00</td>\n",
              "      <td>1.0</td>\n",
              "    </tr>\n",
              "    <tr>\n",
              "      <th>DynamoDB</th>\n",
              "      <td>494.0</td>\n",
              "      <td>0.172065</td>\n",
              "      <td>0.377819</td>\n",
              "      <td>0.0</td>\n",
              "      <td>0.0</td>\n",
              "      <td>0.0</td>\n",
              "      <td>0.00</td>\n",
              "      <td>1.0</td>\n",
              "    </tr>\n",
              "    <tr>\n",
              "      <th>Elasticsearch</th>\n",
              "      <td>494.0</td>\n",
              "      <td>0.218623</td>\n",
              "      <td>0.413732</td>\n",
              "      <td>0.0</td>\n",
              "      <td>0.0</td>\n",
              "      <td>0.0</td>\n",
              "      <td>0.00</td>\n",
              "      <td>1.0</td>\n",
              "    </tr>\n",
              "    <tr>\n",
              "      <th>Flask</th>\n",
              "      <td>494.0</td>\n",
              "      <td>0.139676</td>\n",
              "      <td>0.347002</td>\n",
              "      <td>0.0</td>\n",
              "      <td>0.0</td>\n",
              "      <td>0.0</td>\n",
              "      <td>0.00</td>\n",
              "      <td>1.0</td>\n",
              "    </tr>\n",
              "    <tr>\n",
              "      <th>Flow</th>\n",
              "      <td>494.0</td>\n",
              "      <td>0.024291</td>\n",
              "      <td>0.154109</td>\n",
              "      <td>0.0</td>\n",
              "      <td>0.0</td>\n",
              "      <td>0.0</td>\n",
              "      <td>0.00</td>\n",
              "      <td>1.0</td>\n",
              "    </tr>\n",
              "    <tr>\n",
              "      <th>Git</th>\n",
              "      <td>494.0</td>\n",
              "      <td>0.842105</td>\n",
              "      <td>0.365012</td>\n",
              "      <td>0.0</td>\n",
              "      <td>1.0</td>\n",
              "      <td>1.0</td>\n",
              "      <td>1.00</td>\n",
              "      <td>1.0</td>\n",
              "    </tr>\n",
              "    <tr>\n",
              "      <th>Go</th>\n",
              "      <td>494.0</td>\n",
              "      <td>0.255061</td>\n",
              "      <td>0.436337</td>\n",
              "      <td>0.0</td>\n",
              "      <td>0.0</td>\n",
              "      <td>0.0</td>\n",
              "      <td>1.00</td>\n",
              "      <td>1.0</td>\n",
              "    </tr>\n",
              "    <tr>\n",
              "      <th>Google Cloud Platform</th>\n",
              "      <td>494.0</td>\n",
              "      <td>0.251012</td>\n",
              "      <td>0.434035</td>\n",
              "      <td>0.0</td>\n",
              "      <td>0.0</td>\n",
              "      <td>0.0</td>\n",
              "      <td>0.75</td>\n",
              "      <td>1.0</td>\n",
              "    </tr>\n",
              "    <tr>\n",
              "      <th>Hadoop</th>\n",
              "      <td>494.0</td>\n",
              "      <td>0.062753</td>\n",
              "      <td>0.242764</td>\n",
              "      <td>0.0</td>\n",
              "      <td>0.0</td>\n",
              "      <td>0.0</td>\n",
              "      <td>0.00</td>\n",
              "      <td>1.0</td>\n",
              "    </tr>\n",
              "    <tr>\n",
              "      <th>Java</th>\n",
              "      <td>494.0</td>\n",
              "      <td>0.382591</td>\n",
              "      <td>0.486512</td>\n",
              "      <td>0.0</td>\n",
              "      <td>0.0</td>\n",
              "      <td>0.0</td>\n",
              "      <td>1.00</td>\n",
              "      <td>1.0</td>\n",
              "    </tr>\n",
              "    <tr>\n",
              "      <th>JavaScript</th>\n",
              "      <td>494.0</td>\n",
              "      <td>0.568826</td>\n",
              "      <td>0.495742</td>\n",
              "      <td>0.0</td>\n",
              "      <td>0.0</td>\n",
              "      <td>1.0</td>\n",
              "      <td>1.00</td>\n",
              "      <td>1.0</td>\n",
              "    </tr>\n",
              "    <tr>\n",
              "      <th>Kubernetes</th>\n",
              "      <td>494.0</td>\n",
              "      <td>0.295547</td>\n",
              "      <td>0.456751</td>\n",
              "      <td>0.0</td>\n",
              "      <td>0.0</td>\n",
              "      <td>0.0</td>\n",
              "      <td>1.00</td>\n",
              "      <td>1.0</td>\n",
              "    </tr>\n",
              "    <tr>\n",
              "      <th>LISP</th>\n",
              "      <td>494.0</td>\n",
              "      <td>0.020243</td>\n",
              "      <td>0.140973</td>\n",
              "      <td>0.0</td>\n",
              "      <td>0.0</td>\n",
              "      <td>0.0</td>\n",
              "      <td>0.00</td>\n",
              "      <td>1.0</td>\n",
              "    </tr>\n",
              "    <tr>\n",
              "      <th>MariaDB</th>\n",
              "      <td>494.0</td>\n",
              "      <td>0.074899</td>\n",
              "      <td>0.263495</td>\n",
              "      <td>0.0</td>\n",
              "      <td>0.0</td>\n",
              "      <td>0.0</td>\n",
              "      <td>0.00</td>\n",
              "      <td>1.0</td>\n",
              "    </tr>\n",
              "    <tr>\n",
              "      <th>Microsoft Azure</th>\n",
              "      <td>494.0</td>\n",
              "      <td>0.236842</td>\n",
              "      <td>0.425576</td>\n",
              "      <td>0.0</td>\n",
              "      <td>0.0</td>\n",
              "      <td>0.0</td>\n",
              "      <td>0.00</td>\n",
              "      <td>1.0</td>\n",
              "    </tr>\n",
              "    <tr>\n",
              "      <th>Node.js</th>\n",
              "      <td>494.0</td>\n",
              "      <td>0.297571</td>\n",
              "      <td>0.457653</td>\n",
              "      <td>0.0</td>\n",
              "      <td>0.0</td>\n",
              "      <td>0.0</td>\n",
              "      <td>1.00</td>\n",
              "      <td>1.0</td>\n",
              "    </tr>\n",
              "    <tr>\n",
              "      <th>Oracle</th>\n",
              "      <td>494.0</td>\n",
              "      <td>0.054656</td>\n",
              "      <td>0.227538</td>\n",
              "      <td>0.0</td>\n",
              "      <td>0.0</td>\n",
              "      <td>0.0</td>\n",
              "      <td>0.00</td>\n",
              "      <td>1.0</td>\n",
              "    </tr>\n",
              "    <tr>\n",
              "      <th>PHP</th>\n",
              "      <td>494.0</td>\n",
              "      <td>0.087045</td>\n",
              "      <td>0.282186</td>\n",
              "      <td>0.0</td>\n",
              "      <td>0.0</td>\n",
              "      <td>0.0</td>\n",
              "      <td>0.00</td>\n",
              "      <td>1.0</td>\n",
              "    </tr>\n",
              "    <tr>\n",
              "      <th>Pandas</th>\n",
              "      <td>494.0</td>\n",
              "      <td>0.168016</td>\n",
              "      <td>0.374260</td>\n",
              "      <td>0.0</td>\n",
              "      <td>0.0</td>\n",
              "      <td>0.0</td>\n",
              "      <td>0.00</td>\n",
              "      <td>1.0</td>\n",
              "    </tr>\n",
              "    <tr>\n",
              "      <th>Perl</th>\n",
              "      <td>494.0</td>\n",
              "      <td>0.058704</td>\n",
              "      <td>0.235309</td>\n",
              "      <td>0.0</td>\n",
              "      <td>0.0</td>\n",
              "      <td>0.0</td>\n",
              "      <td>0.00</td>\n",
              "      <td>1.0</td>\n",
              "    </tr>\n",
              "    <tr>\n",
              "      <th>PowerShell</th>\n",
              "      <td>494.0</td>\n",
              "      <td>0.111336</td>\n",
              "      <td>0.314867</td>\n",
              "      <td>0.0</td>\n",
              "      <td>0.0</td>\n",
              "      <td>0.0</td>\n",
              "      <td>0.00</td>\n",
              "      <td>1.0</td>\n",
              "    </tr>\n",
              "    <tr>\n",
              "      <th>Python</th>\n",
              "      <td>494.0</td>\n",
              "      <td>0.536437</td>\n",
              "      <td>0.499176</td>\n",
              "      <td>0.0</td>\n",
              "      <td>0.0</td>\n",
              "      <td>1.0</td>\n",
              "      <td>1.00</td>\n",
              "      <td>1.0</td>\n",
              "    </tr>\n",
              "    <tr>\n",
              "      <th>Qt</th>\n",
              "      <td>494.0</td>\n",
              "      <td>0.032389</td>\n",
              "      <td>0.177210</td>\n",
              "      <td>0.0</td>\n",
              "      <td>0.0</td>\n",
              "      <td>0.0</td>\n",
              "      <td>0.00</td>\n",
              "      <td>1.0</td>\n",
              "    </tr>\n",
              "    <tr>\n",
              "      <th>React.js</th>\n",
              "      <td>494.0</td>\n",
              "      <td>0.336032</td>\n",
              "      <td>0.472829</td>\n",
              "      <td>0.0</td>\n",
              "      <td>0.0</td>\n",
              "      <td>0.0</td>\n",
              "      <td>1.00</td>\n",
              "      <td>1.0</td>\n",
              "    </tr>\n",
              "    <tr>\n",
              "      <th>Redis</th>\n",
              "      <td>494.0</td>\n",
              "      <td>0.281377</td>\n",
              "      <td>0.450127</td>\n",
              "      <td>0.0</td>\n",
              "      <td>0.0</td>\n",
              "      <td>0.0</td>\n",
              "      <td>1.00</td>\n",
              "      <td>1.0</td>\n",
              "    </tr>\n",
              "    <tr>\n",
              "      <th>Ruby on Rails</th>\n",
              "      <td>494.0</td>\n",
              "      <td>0.137652</td>\n",
              "      <td>0.344883</td>\n",
              "      <td>0.0</td>\n",
              "      <td>0.0</td>\n",
              "      <td>0.0</td>\n",
              "      <td>0.00</td>\n",
              "      <td>1.0</td>\n",
              "    </tr>\n",
              "    <tr>\n",
              "      <th>Rust</th>\n",
              "      <td>494.0</td>\n",
              "      <td>0.151822</td>\n",
              "      <td>0.359212</td>\n",
              "      <td>0.0</td>\n",
              "      <td>0.0</td>\n",
              "      <td>0.0</td>\n",
              "      <td>0.00</td>\n",
              "      <td>1.0</td>\n",
              "    </tr>\n",
              "    <tr>\n",
              "      <th>Scala</th>\n",
              "      <td>494.0</td>\n",
              "      <td>0.058704</td>\n",
              "      <td>0.235309</td>\n",
              "      <td>0.0</td>\n",
              "      <td>0.0</td>\n",
              "      <td>0.0</td>\n",
              "      <td>0.00</td>\n",
              "      <td>1.0</td>\n",
              "    </tr>\n",
              "    <tr>\n",
              "      <th>Swift</th>\n",
              "      <td>494.0</td>\n",
              "      <td>0.085020</td>\n",
              "      <td>0.279195</td>\n",
              "      <td>0.0</td>\n",
              "      <td>0.0</td>\n",
              "      <td>0.0</td>\n",
              "      <td>0.00</td>\n",
              "      <td>1.0</td>\n",
              "    </tr>\n",
              "    <tr>\n",
              "      <th>Terraform</th>\n",
              "      <td>494.0</td>\n",
              "      <td>0.210526</td>\n",
              "      <td>0.408096</td>\n",
              "      <td>0.0</td>\n",
              "      <td>0.0</td>\n",
              "      <td>0.0</td>\n",
              "      <td>0.00</td>\n",
              "      <td>1.0</td>\n",
              "    </tr>\n",
              "    <tr>\n",
              "      <th>TypeScript</th>\n",
              "      <td>494.0</td>\n",
              "      <td>0.354251</td>\n",
              "      <td>0.478771</td>\n",
              "      <td>0.0</td>\n",
              "      <td>0.0</td>\n",
              "      <td>0.0</td>\n",
              "      <td>1.00</td>\n",
              "      <td>1.0</td>\n",
              "    </tr>\n",
              "    <tr>\n",
              "      <th>Unity 3D</th>\n",
              "      <td>494.0</td>\n",
              "      <td>0.032389</td>\n",
              "      <td>0.177210</td>\n",
              "      <td>0.0</td>\n",
              "      <td>0.0</td>\n",
              "      <td>0.0</td>\n",
              "      <td>0.00</td>\n",
              "      <td>1.0</td>\n",
              "    </tr>\n",
              "    <tr>\n",
              "      <th>Vue.js</th>\n",
              "      <td>494.0</td>\n",
              "      <td>0.085020</td>\n",
              "      <td>0.279195</td>\n",
              "      <td>0.0</td>\n",
              "      <td>0.0</td>\n",
              "      <td>0.0</td>\n",
              "      <td>0.00</td>\n",
              "      <td>1.0</td>\n",
              "    </tr>\n",
              "    <tr>\n",
              "      <th>Xamarin</th>\n",
              "      <td>494.0</td>\n",
              "      <td>0.026316</td>\n",
              "      <td>0.160235</td>\n",
              "      <td>0.0</td>\n",
              "      <td>0.0</td>\n",
              "      <td>0.0</td>\n",
              "      <td>0.00</td>\n",
              "      <td>1.0</td>\n",
              "    </tr>\n",
              "    <tr>\n",
              "      <th>jQuery</th>\n",
              "      <td>494.0</td>\n",
              "      <td>0.163968</td>\n",
              "      <td>0.370621</td>\n",
              "      <td>0.0</td>\n",
              "      <td>0.0</td>\n",
              "      <td>0.0</td>\n",
              "      <td>0.00</td>\n",
              "      <td>1.0</td>\n",
              "    </tr>\n",
              "  </tbody>\n",
              "</table>\n",
              "</div>"
            ],
            "text/plain": [
              "                       count           mean  ...        75%       max\n",
              "ConvertedCompYearly    494.0  316040.769231  ...  350000.00  500000.0\n",
              "YearsCodePro           494.0      15.064777  ...      21.00      50.0\n",
              "AWS                    494.0       0.582996  ...       1.00       1.0\n",
              "Bash/Shell             494.0       0.483806  ...       1.00       1.0\n",
              "C++                    494.0       0.251012  ...       0.75       1.0\n",
              "COBOL                  494.0       0.000000  ...       0.00       0.0\n",
              "Cassandra              494.0       0.058704  ...       0.00       1.0\n",
              "Clojure                494.0       0.052632  ...       0.00       1.0\n",
              "Crystal                494.0       0.008097  ...       0.00       1.0\n",
              "Delphi                 494.0       0.012146  ...       0.00       1.0\n",
              "Django                 494.0       0.050607  ...       0.00       1.0\n",
              "Drupal                 494.0       0.008097  ...       0.00       1.0\n",
              "DynamoDB               494.0       0.172065  ...       0.00       1.0\n",
              "Elasticsearch          494.0       0.218623  ...       0.00       1.0\n",
              "Flask                  494.0       0.139676  ...       0.00       1.0\n",
              "Flow                   494.0       0.024291  ...       0.00       1.0\n",
              "Git                    494.0       0.842105  ...       1.00       1.0\n",
              "Go                     494.0       0.255061  ...       1.00       1.0\n",
              "Google Cloud Platform  494.0       0.251012  ...       0.75       1.0\n",
              "Hadoop                 494.0       0.062753  ...       0.00       1.0\n",
              "Java                   494.0       0.382591  ...       1.00       1.0\n",
              "JavaScript             494.0       0.568826  ...       1.00       1.0\n",
              "Kubernetes             494.0       0.295547  ...       1.00       1.0\n",
              "LISP                   494.0       0.020243  ...       0.00       1.0\n",
              "MariaDB                494.0       0.074899  ...       0.00       1.0\n",
              "Microsoft Azure        494.0       0.236842  ...       0.00       1.0\n",
              "Node.js                494.0       0.297571  ...       1.00       1.0\n",
              "Oracle                 494.0       0.054656  ...       0.00       1.0\n",
              "PHP                    494.0       0.087045  ...       0.00       1.0\n",
              "Pandas                 494.0       0.168016  ...       0.00       1.0\n",
              "Perl                   494.0       0.058704  ...       0.00       1.0\n",
              "PowerShell             494.0       0.111336  ...       0.00       1.0\n",
              "Python                 494.0       0.536437  ...       1.00       1.0\n",
              "Qt                     494.0       0.032389  ...       0.00       1.0\n",
              "React.js               494.0       0.336032  ...       1.00       1.0\n",
              "Redis                  494.0       0.281377  ...       1.00       1.0\n",
              "Ruby on Rails          494.0       0.137652  ...       0.00       1.0\n",
              "Rust                   494.0       0.151822  ...       0.00       1.0\n",
              "Scala                  494.0       0.058704  ...       0.00       1.0\n",
              "Swift                  494.0       0.085020  ...       0.00       1.0\n",
              "Terraform              494.0       0.210526  ...       0.00       1.0\n",
              "TypeScript             494.0       0.354251  ...       1.00       1.0\n",
              "Unity 3D               494.0       0.032389  ...       0.00       1.0\n",
              "Vue.js                 494.0       0.085020  ...       0.00       1.0\n",
              "Xamarin                494.0       0.026316  ...       0.00       1.0\n",
              "jQuery                 494.0       0.163968  ...       0.00       1.0\n",
              "\n",
              "[46 rows x 8 columns]"
            ]
          },
          "metadata": {},
          "execution_count": 12
        }
      ],
      "source": [
        "train_dataset.describe().transpose()"
      ]
    },
    {
      "cell_type": "markdown",
      "metadata": {
        "id": "Db7Auq1yXUvh"
      },
      "source": [
        "### Split features from labels\n",
        "\n",
        "Separate the target value—the \"label\"—from the features. This label is the value that you will train the model to predict."
      ]
    },
    {
      "cell_type": "code",
      "execution_count": null,
      "metadata": {
        "id": "t2sluJdCW7jN"
      },
      "outputs": [],
      "source": [
        "train_features = train_dataset.copy()\n",
        "test_features = test_dataset.copy()\n",
        "\n",
        "train_labels = train_features.pop('ConvertedCompYearly')\n",
        "test_labels = test_features.pop('ConvertedCompYearly')"
      ]
    },
    {
      "cell_type": "code",
      "execution_count": null,
      "metadata": {
        "colab": {
          "base_uri": "https://localhost:8080/"
        },
        "id": "29GqvjRhn3z1",
        "outputId": "d1d37e49-6da5-441a-a567-f3d67441390f"
      },
      "outputs": [
        {
          "output_type": "execute_result",
          "data": {
            "text/plain": [
              "YearsCodePro             float64\n",
              "AWS                      float64\n",
              "Bash/Shell               float64\n",
              "C++                      float64\n",
              "COBOL                    float64\n",
              "Cassandra                float64\n",
              "Clojure                  float64\n",
              "Crystal                  float64\n",
              "Delphi                   float64\n",
              "Django                   float64\n",
              "Drupal                   float64\n",
              "DynamoDB                 float64\n",
              "Elasticsearch            float64\n",
              "Flask                    float64\n",
              "Flow                     float64\n",
              "Git                      float64\n",
              "Go                       float64\n",
              "Google Cloud Platform    float64\n",
              "Hadoop                   float64\n",
              "Java                     float64\n",
              "JavaScript               float64\n",
              "Kubernetes               float64\n",
              "LISP                     float64\n",
              "MariaDB                  float64\n",
              "Microsoft Azure          float64\n",
              "Node.js                  float64\n",
              "Oracle                   float64\n",
              "PHP                      float64\n",
              "Pandas                   float64\n",
              "Perl                     float64\n",
              "PowerShell               float64\n",
              "Python                   float64\n",
              "Qt                       float64\n",
              "React.js                 float64\n",
              "Redis                    float64\n",
              "Ruby on Rails            float64\n",
              "Rust                     float64\n",
              "Scala                    float64\n",
              "Swift                    float64\n",
              "Terraform                float64\n",
              "TypeScript               float64\n",
              "Unity 3D                 float64\n",
              "Vue.js                   float64\n",
              "Xamarin                  float64\n",
              "jQuery                   float64\n",
              "dtype: object"
            ]
          },
          "metadata": {},
          "execution_count": 14
        }
      ],
      "source": [
        "train_features.dtypes"
      ]
    },
    {
      "cell_type": "markdown",
      "metadata": {
        "id": "mRklxK5s388r"
      },
      "source": [
        "## Normalization\n",
        "\n",
        "In the table of statistics it's easy to see how different the ranges of each feature are:"
      ]
    },
    {
      "cell_type": "code",
      "execution_count": null,
      "metadata": {
        "colab": {
          "base_uri": "https://localhost:8080/",
          "height": 1000
        },
        "id": "IcmY6lKKbkw8",
        "outputId": "da09430c-c3ff-4bb4-8b89-f6744ea75c30"
      },
      "outputs": [
        {
          "output_type": "execute_result",
          "data": {
            "text/html": [
              "<div>\n",
              "<style scoped>\n",
              "    .dataframe tbody tr th:only-of-type {\n",
              "        vertical-align: middle;\n",
              "    }\n",
              "\n",
              "    .dataframe tbody tr th {\n",
              "        vertical-align: top;\n",
              "    }\n",
              "\n",
              "    .dataframe thead th {\n",
              "        text-align: right;\n",
              "    }\n",
              "</style>\n",
              "<table border=\"1\" class=\"dataframe\">\n",
              "  <thead>\n",
              "    <tr style=\"text-align: right;\">\n",
              "      <th></th>\n",
              "      <th>mean</th>\n",
              "      <th>std</th>\n",
              "    </tr>\n",
              "  </thead>\n",
              "  <tbody>\n",
              "    <tr>\n",
              "      <th>ConvertedCompYearly</th>\n",
              "      <td>316040.769231</td>\n",
              "      <td>69757.229221</td>\n",
              "    </tr>\n",
              "    <tr>\n",
              "      <th>YearsCodePro</th>\n",
              "      <td>15.064777</td>\n",
              "      <td>9.456201</td>\n",
              "    </tr>\n",
              "    <tr>\n",
              "      <th>AWS</th>\n",
              "      <td>0.582996</td>\n",
              "      <td>0.493563</td>\n",
              "    </tr>\n",
              "    <tr>\n",
              "      <th>Bash/Shell</th>\n",
              "      <td>0.483806</td>\n",
              "      <td>0.500244</td>\n",
              "    </tr>\n",
              "    <tr>\n",
              "      <th>C++</th>\n",
              "      <td>0.251012</td>\n",
              "      <td>0.434035</td>\n",
              "    </tr>\n",
              "    <tr>\n",
              "      <th>COBOL</th>\n",
              "      <td>0.000000</td>\n",
              "      <td>0.000000</td>\n",
              "    </tr>\n",
              "    <tr>\n",
              "      <th>Cassandra</th>\n",
              "      <td>0.058704</td>\n",
              "      <td>0.235309</td>\n",
              "    </tr>\n",
              "    <tr>\n",
              "      <th>Clojure</th>\n",
              "      <td>0.052632</td>\n",
              "      <td>0.223523</td>\n",
              "    </tr>\n",
              "    <tr>\n",
              "      <th>Crystal</th>\n",
              "      <td>0.008097</td>\n",
              "      <td>0.089710</td>\n",
              "    </tr>\n",
              "    <tr>\n",
              "      <th>Delphi</th>\n",
              "      <td>0.012146</td>\n",
              "      <td>0.109647</td>\n",
              "    </tr>\n",
              "    <tr>\n",
              "      <th>Django</th>\n",
              "      <td>0.050607</td>\n",
              "      <td>0.219417</td>\n",
              "    </tr>\n",
              "    <tr>\n",
              "      <th>Drupal</th>\n",
              "      <td>0.008097</td>\n",
              "      <td>0.089710</td>\n",
              "    </tr>\n",
              "    <tr>\n",
              "      <th>DynamoDB</th>\n",
              "      <td>0.172065</td>\n",
              "      <td>0.377819</td>\n",
              "    </tr>\n",
              "    <tr>\n",
              "      <th>Elasticsearch</th>\n",
              "      <td>0.218623</td>\n",
              "      <td>0.413732</td>\n",
              "    </tr>\n",
              "    <tr>\n",
              "      <th>Flask</th>\n",
              "      <td>0.139676</td>\n",
              "      <td>0.347002</td>\n",
              "    </tr>\n",
              "    <tr>\n",
              "      <th>Flow</th>\n",
              "      <td>0.024291</td>\n",
              "      <td>0.154109</td>\n",
              "    </tr>\n",
              "    <tr>\n",
              "      <th>Git</th>\n",
              "      <td>0.842105</td>\n",
              "      <td>0.365012</td>\n",
              "    </tr>\n",
              "    <tr>\n",
              "      <th>Go</th>\n",
              "      <td>0.255061</td>\n",
              "      <td>0.436337</td>\n",
              "    </tr>\n",
              "    <tr>\n",
              "      <th>Google Cloud Platform</th>\n",
              "      <td>0.251012</td>\n",
              "      <td>0.434035</td>\n",
              "    </tr>\n",
              "    <tr>\n",
              "      <th>Hadoop</th>\n",
              "      <td>0.062753</td>\n",
              "      <td>0.242764</td>\n",
              "    </tr>\n",
              "    <tr>\n",
              "      <th>Java</th>\n",
              "      <td>0.382591</td>\n",
              "      <td>0.486512</td>\n",
              "    </tr>\n",
              "    <tr>\n",
              "      <th>JavaScript</th>\n",
              "      <td>0.568826</td>\n",
              "      <td>0.495742</td>\n",
              "    </tr>\n",
              "    <tr>\n",
              "      <th>Kubernetes</th>\n",
              "      <td>0.295547</td>\n",
              "      <td>0.456751</td>\n",
              "    </tr>\n",
              "    <tr>\n",
              "      <th>LISP</th>\n",
              "      <td>0.020243</td>\n",
              "      <td>0.140973</td>\n",
              "    </tr>\n",
              "    <tr>\n",
              "      <th>MariaDB</th>\n",
              "      <td>0.074899</td>\n",
              "      <td>0.263495</td>\n",
              "    </tr>\n",
              "    <tr>\n",
              "      <th>Microsoft Azure</th>\n",
              "      <td>0.236842</td>\n",
              "      <td>0.425576</td>\n",
              "    </tr>\n",
              "    <tr>\n",
              "      <th>Node.js</th>\n",
              "      <td>0.297571</td>\n",
              "      <td>0.457653</td>\n",
              "    </tr>\n",
              "    <tr>\n",
              "      <th>Oracle</th>\n",
              "      <td>0.054656</td>\n",
              "      <td>0.227538</td>\n",
              "    </tr>\n",
              "    <tr>\n",
              "      <th>PHP</th>\n",
              "      <td>0.087045</td>\n",
              "      <td>0.282186</td>\n",
              "    </tr>\n",
              "    <tr>\n",
              "      <th>Pandas</th>\n",
              "      <td>0.168016</td>\n",
              "      <td>0.374260</td>\n",
              "    </tr>\n",
              "    <tr>\n",
              "      <th>Perl</th>\n",
              "      <td>0.058704</td>\n",
              "      <td>0.235309</td>\n",
              "    </tr>\n",
              "    <tr>\n",
              "      <th>PowerShell</th>\n",
              "      <td>0.111336</td>\n",
              "      <td>0.314867</td>\n",
              "    </tr>\n",
              "    <tr>\n",
              "      <th>Python</th>\n",
              "      <td>0.536437</td>\n",
              "      <td>0.499176</td>\n",
              "    </tr>\n",
              "    <tr>\n",
              "      <th>Qt</th>\n",
              "      <td>0.032389</td>\n",
              "      <td>0.177210</td>\n",
              "    </tr>\n",
              "    <tr>\n",
              "      <th>React.js</th>\n",
              "      <td>0.336032</td>\n",
              "      <td>0.472829</td>\n",
              "    </tr>\n",
              "    <tr>\n",
              "      <th>Redis</th>\n",
              "      <td>0.281377</td>\n",
              "      <td>0.450127</td>\n",
              "    </tr>\n",
              "    <tr>\n",
              "      <th>Ruby on Rails</th>\n",
              "      <td>0.137652</td>\n",
              "      <td>0.344883</td>\n",
              "    </tr>\n",
              "    <tr>\n",
              "      <th>Rust</th>\n",
              "      <td>0.151822</td>\n",
              "      <td>0.359212</td>\n",
              "    </tr>\n",
              "    <tr>\n",
              "      <th>Scala</th>\n",
              "      <td>0.058704</td>\n",
              "      <td>0.235309</td>\n",
              "    </tr>\n",
              "    <tr>\n",
              "      <th>Swift</th>\n",
              "      <td>0.085020</td>\n",
              "      <td>0.279195</td>\n",
              "    </tr>\n",
              "    <tr>\n",
              "      <th>Terraform</th>\n",
              "      <td>0.210526</td>\n",
              "      <td>0.408096</td>\n",
              "    </tr>\n",
              "    <tr>\n",
              "      <th>TypeScript</th>\n",
              "      <td>0.354251</td>\n",
              "      <td>0.478771</td>\n",
              "    </tr>\n",
              "    <tr>\n",
              "      <th>Unity 3D</th>\n",
              "      <td>0.032389</td>\n",
              "      <td>0.177210</td>\n",
              "    </tr>\n",
              "    <tr>\n",
              "      <th>Vue.js</th>\n",
              "      <td>0.085020</td>\n",
              "      <td>0.279195</td>\n",
              "    </tr>\n",
              "    <tr>\n",
              "      <th>Xamarin</th>\n",
              "      <td>0.026316</td>\n",
              "      <td>0.160235</td>\n",
              "    </tr>\n",
              "    <tr>\n",
              "      <th>jQuery</th>\n",
              "      <td>0.163968</td>\n",
              "      <td>0.370621</td>\n",
              "    </tr>\n",
              "  </tbody>\n",
              "</table>\n",
              "</div>"
            ],
            "text/plain": [
              "                                mean           std\n",
              "ConvertedCompYearly    316040.769231  69757.229221\n",
              "YearsCodePro               15.064777      9.456201\n",
              "AWS                         0.582996      0.493563\n",
              "Bash/Shell                  0.483806      0.500244\n",
              "C++                         0.251012      0.434035\n",
              "COBOL                       0.000000      0.000000\n",
              "Cassandra                   0.058704      0.235309\n",
              "Clojure                     0.052632      0.223523\n",
              "Crystal                     0.008097      0.089710\n",
              "Delphi                      0.012146      0.109647\n",
              "Django                      0.050607      0.219417\n",
              "Drupal                      0.008097      0.089710\n",
              "DynamoDB                    0.172065      0.377819\n",
              "Elasticsearch               0.218623      0.413732\n",
              "Flask                       0.139676      0.347002\n",
              "Flow                        0.024291      0.154109\n",
              "Git                         0.842105      0.365012\n",
              "Go                          0.255061      0.436337\n",
              "Google Cloud Platform       0.251012      0.434035\n",
              "Hadoop                      0.062753      0.242764\n",
              "Java                        0.382591      0.486512\n",
              "JavaScript                  0.568826      0.495742\n",
              "Kubernetes                  0.295547      0.456751\n",
              "LISP                        0.020243      0.140973\n",
              "MariaDB                     0.074899      0.263495\n",
              "Microsoft Azure             0.236842      0.425576\n",
              "Node.js                     0.297571      0.457653\n",
              "Oracle                      0.054656      0.227538\n",
              "PHP                         0.087045      0.282186\n",
              "Pandas                      0.168016      0.374260\n",
              "Perl                        0.058704      0.235309\n",
              "PowerShell                  0.111336      0.314867\n",
              "Python                      0.536437      0.499176\n",
              "Qt                          0.032389      0.177210\n",
              "React.js                    0.336032      0.472829\n",
              "Redis                       0.281377      0.450127\n",
              "Ruby on Rails               0.137652      0.344883\n",
              "Rust                        0.151822      0.359212\n",
              "Scala                       0.058704      0.235309\n",
              "Swift                       0.085020      0.279195\n",
              "Terraform                   0.210526      0.408096\n",
              "TypeScript                  0.354251      0.478771\n",
              "Unity 3D                    0.032389      0.177210\n",
              "Vue.js                      0.085020      0.279195\n",
              "Xamarin                     0.026316      0.160235\n",
              "jQuery                      0.163968      0.370621"
            ]
          },
          "metadata": {},
          "execution_count": 14
        }
      ],
      "source": [
        "train_dataset.describe().transpose()[['mean', 'std']]"
      ]
    },
    {
      "cell_type": "markdown",
      "metadata": {
        "id": "-ywmerQ6dSox"
      },
      "source": [
        "It is good practice to normalize features that use different scales and ranges.\n",
        "\n",
        "One reason this is important is because the features are multiplied by the model weights. So, the scale of the outputs and the scale of the gradients are affected by the scale of the inputs.\n",
        "\n",
        "Although a model *might* converge without feature normalization, normalization makes training much more stable.\n",
        "\n",
        "Note: There is no advantage to normalizing the one-hot features—it is done here for simplicity. For more details on how to use the preprocessing layers, refer to the [Working with preprocessing layers](https://www.tensorflow.org/guide/keras/preprocessing_layers) guide and the [Classify structured data using Keras preprocessing layers](../structured_data/preprocessing_layers.ipynb) tutorial."
      ]
    },
    {
      "cell_type": "markdown",
      "metadata": {
        "id": "aFJ6ISropeoo"
      },
      "source": [
        "### The Normalization layer\n",
        "\n",
        "The `tf.keras.layers.Normalization` is a clean and simple way to add feature normalization into your model.\n",
        "\n",
        "The first step is to create the layer:"
      ]
    },
    {
      "cell_type": "code",
      "execution_count": null,
      "metadata": {
        "id": "JlC5ooJrgjQF"
      },
      "outputs": [],
      "source": [
        "normalizer = tf.keras.layers.Normalization(axis=-1)"
      ]
    },
    {
      "cell_type": "markdown",
      "metadata": {
        "id": "XYA2Ap6nVOha"
      },
      "source": [
        "Then, fit the state of the preprocessing layer to the data by calling `Normalization.adapt`:"
      ]
    },
    {
      "cell_type": "code",
      "execution_count": null,
      "metadata": {
        "id": "CrBbbjbwV91f"
      },
      "outputs": [],
      "source": [
        "normalizer.adapt(np.array(train_features))"
      ]
    },
    {
      "cell_type": "markdown",
      "metadata": {
        "id": "oZccMR5yV9YV"
      },
      "source": [
        "Calculate the mean and variance, and store them in the layer:"
      ]
    },
    {
      "cell_type": "code",
      "execution_count": null,
      "metadata": {
        "colab": {
          "base_uri": "https://localhost:8080/"
        },
        "id": "GGn-ukwxSPtx",
        "outputId": "7381a805-8a83-4206-964c-b3012954ee66"
      },
      "outputs": [
        {
          "output_type": "stream",
          "name": "stdout",
          "text": [
            "[[15.065  0.583  0.484  0.251  0.     0.059  0.053  0.008  0.012  0.051\n",
            "   0.008  0.172  0.219  0.14   0.024  0.842  0.255  0.251  0.063  0.383\n",
            "   0.569  0.296  0.02   0.075  0.237  0.298  0.055  0.087  0.168  0.059\n",
            "   0.111  0.536  0.032  0.336  0.281  0.138  0.152  0.059  0.085  0.211\n",
            "   0.354  0.032  0.085  0.026  0.164]]\n"
          ]
        }
      ],
      "source": [
        "print(normalizer.mean.numpy())"
      ]
    },
    {
      "cell_type": "markdown",
      "metadata": {
        "id": "oGWKaF9GSRuN"
      },
      "source": [
        "When the layer is called, it returns the input data, with each feature independently normalized:"
      ]
    },
    {
      "cell_type": "code",
      "execution_count": null,
      "metadata": {
        "colab": {
          "base_uri": "https://localhost:8080/"
        },
        "id": "2l7zFL_XWIRu",
        "outputId": "261610bf-9705-4d8f-ede6-55bb8fb9127d"
      },
      "outputs": [
        {
          "output_type": "stream",
          "name": "stdout",
          "text": [
            "First example: [[23.  0.  1.  1.  0.  0.  0.  0.  0.  0.  0.  0.  0.  0.  0.  1.  0.  0.\n",
            "   0.  0.  1.  0.  0.  0.  0.  1.  0.  0.  0.  0.  1.  0.  0.  1.  0.  0.\n",
            "   0.  0.  0.  0.  0.  0.  0.  0.  0.]]\n",
            "\n",
            "Normalized: [[ 0.84 -1.18  1.03  1.73  0.   -0.25 -0.24 -0.09 -0.11 -0.23 -0.09 -0.46\n",
            "  -0.53 -0.4  -0.16  0.43 -0.59 -0.58 -0.26 -0.79  0.87 -0.65 -0.14 -0.28\n",
            "  -0.56  1.54 -0.24 -0.31 -0.45 -0.25  2.83 -1.08 -0.18  1.41 -0.63 -0.4\n",
            "  -0.42 -0.25 -0.3  -0.52 -0.74 -0.18 -0.3  -0.16 -0.44]]\n"
          ]
        }
      ],
      "source": [
        "first = np.array(train_features[:1])\n",
        "\n",
        "with np.printoptions(precision=2, suppress=True):\n",
        "  print('First example:', first)\n",
        "  print()\n",
        "  print('Normalized:', normalizer(first).numpy())"
      ]
    },
    {
      "cell_type": "markdown",
      "metadata": {
        "id": "6o3CrycBXA2s"
      },
      "source": [
        "## Linear regression\n",
        "\n",
        "Before building a deep neural network model, start with linear regression using one and several variables."
      ]
    },
    {
      "cell_type": "markdown",
      "metadata": {
        "id": "lFby9n0tnHkw"
      },
      "source": [
        "### Linear regression with one variable\n",
        "\n",
        "Begin with a single-variable linear regression to predict `'ConvertedCompYearly'` from `'YearsCodePro'`.\n",
        "\n",
        "Training a model with `tf.keras` typically starts by defining the model architecture. Use a `tf.keras.Sequential` model, which [represents a sequence of steps](.././guide/keras/sequential_model.ipynb).\n",
        "\n",
        "There are two steps in your single-variable linear regression model:\n",
        "\n",
        "- Normalize the `'YearsCodePro'` input features using the `tf.keras.layers.Normalization` preprocessing layer.\n",
        "- Apply a linear transformation ($y = mx+b$) to produce 1 output using a linear layer (`tf.keras.layers.Dense`).\n",
        "\n",
        "The number of _inputs_ can either be set by the `input_shape` argument, or automatically when the model is run for the first time."
      ]
    },
    {
      "cell_type": "markdown",
      "metadata": {
        "id": "Xp3gAFn3TPv8"
      },
      "source": [
        "First, create a NumPy array made of the `'Horsepower'` features. Then, instantiate the `tf.keras.layers.Normalization` and fit its state to the `horsepower` data:"
      ]
    },
    {
      "cell_type": "code",
      "execution_count": null,
      "metadata": {
        "id": "1gJAy0fKs1TS"
      },
      "outputs": [],
      "source": [
        "horsepower = np.array(train_features['YearsCodePro'])\n",
        "\n",
        "horsepower_normalizer = layers.Normalization(input_shape=[1,], axis=None)\n",
        "horsepower_normalizer.adapt(horsepower)"
      ]
    },
    {
      "cell_type": "markdown",
      "metadata": {
        "id": "4NVlHJY2TWlC"
      },
      "source": [
        "Build the Keras Sequential model:"
      ]
    },
    {
      "cell_type": "code",
      "execution_count": null,
      "metadata": {
        "colab": {
          "base_uri": "https://localhost:8080/"
        },
        "id": "c0sXM7qLlKfZ",
        "outputId": "ab67c764-a995-4e7e-c3e0-87c791fcb755"
      },
      "outputs": [
        {
          "output_type": "stream",
          "name": "stdout",
          "text": [
            "Model: \"sequential_1\"\n",
            "_________________________________________________________________\n",
            " Layer (type)                Output Shape              Param #   \n",
            "=================================================================\n",
            " normalization_2 (Normalizat  (None, 1)                3         \n",
            " ion)                                                            \n",
            "                                                                 \n",
            " dense_1 (Dense)             (None, 1)                 2         \n",
            "                                                                 \n",
            "=================================================================\n",
            "Total params: 5\n",
            "Trainable params: 2\n",
            "Non-trainable params: 3\n",
            "_________________________________________________________________\n"
          ]
        }
      ],
      "source": [
        "horsepower_model = tf.keras.Sequential([\n",
        "    horsepower_normalizer,\n",
        "    layers.Dense(units=1)\n",
        "])\n",
        "\n",
        "horsepower_model.summary()"
      ]
    },
    {
      "cell_type": "markdown",
      "metadata": {
        "id": "eObQu9fDnXGL"
      },
      "source": [
        "This model will predict `'Salary'` from `'YearsCodePro'`.\n",
        "\n",
        "Run the untrained model on the first 10 'Horsepower' values. The output won't be good, but notice that it has the expected shape of `(10, 1)`:"
      ]
    },
    {
      "cell_type": "code",
      "execution_count": null,
      "metadata": {
        "colab": {
          "base_uri": "https://localhost:8080/"
        },
        "id": "UfV1HS6bns-s",
        "outputId": "8955c7be-4eb0-44e4-875f-a8f21f7d34e2"
      },
      "outputs": [
        {
          "output_type": "execute_result",
          "data": {
            "text/plain": [
              "array([[ 0.147],\n",
              "       [-0.001],\n",
              "       [ 0.277],\n",
              "       [ 0.11 ],\n",
              "       [-0.224],\n",
              "       [-0.113],\n",
              "       [-0.02 ],\n",
              "       [-0.131],\n",
              "       [-0.001],\n",
              "       [-0.131]], dtype=float32)"
            ]
          },
          "metadata": {},
          "execution_count": 23
        }
      ],
      "source": [
        "horsepower_model.predict(horsepower[:10])"
      ]
    },
    {
      "cell_type": "markdown",
      "metadata": {
        "id": "CSkanJlmmFBX"
      },
      "source": [
        "Once the model is built, configure the training procedure using the Keras `Model.compile` method. The most important arguments to compile are the `loss` and the `optimizer`, since these define what will be optimized (`mean_absolute_error`) and how (using the `tf.keras.optimizers.Adam`)."
      ]
    },
    {
      "cell_type": "code",
      "execution_count": null,
      "metadata": {
        "id": "JxA_3lpOm-SK"
      },
      "outputs": [],
      "source": [
        "horsepower_model.compile(\n",
        "    optimizer=tf.optimizers.Adam(learning_rate=0.1),\n",
        "    loss='mean_absolute_error')"
      ]
    },
    {
      "cell_type": "markdown",
      "metadata": {
        "id": "Z3q1I9TwnRSC"
      },
      "source": [
        "Use Keras `Model.fit` to execute the training for 100 epochs:"
      ]
    },
    {
      "cell_type": "code",
      "execution_count": null,
      "metadata": {
        "colab": {
          "base_uri": "https://localhost:8080/"
        },
        "id": "-iSrNy59nRAp",
        "outputId": "2f8b6587-4d98-4a3e-e84a-2dc9edc9801f"
      },
      "outputs": [
        {
          "output_type": "stream",
          "name": "stdout",
          "text": [
            "CPU times: user 4.25 s, sys: 210 ms, total: 4.46 s\n",
            "Wall time: 5.52 s\n"
          ]
        }
      ],
      "source": [
        "%%time\n",
        "history = horsepower_model.fit(\n",
        "    train_features['YearsCodePro'],\n",
        "    train_labels,\n",
        "    epochs=100,\n",
        "    # Suppress logging.\n",
        "    verbose=0,\n",
        "    # Calculate validation results on 20% of the training data.\n",
        "    validation_split = 0.2)"
      ]
    },
    {
      "cell_type": "markdown",
      "metadata": {
        "id": "tQm3pc0FYPQB"
      },
      "source": [
        "Visualize the model's training progress using the stats stored in the `history` object:"
      ]
    },
    {
      "cell_type": "code",
      "execution_count": null,
      "metadata": {
        "colab": {
          "base_uri": "https://localhost:8080/",
          "height": 206
        },
        "id": "YCAwD_y4AdC3",
        "outputId": "fac9fc54-75f5-4f35-dc00-da33637f6182"
      },
      "outputs": [
        {
          "output_type": "execute_result",
          "data": {
            "text/html": [
              "<div>\n",
              "<style scoped>\n",
              "    .dataframe tbody tr th:only-of-type {\n",
              "        vertical-align: middle;\n",
              "    }\n",
              "\n",
              "    .dataframe tbody tr th {\n",
              "        vertical-align: top;\n",
              "    }\n",
              "\n",
              "    .dataframe thead th {\n",
              "        text-align: right;\n",
              "    }\n",
              "</style>\n",
              "<table border=\"1\" class=\"dataframe\">\n",
              "  <thead>\n",
              "    <tr style=\"text-align: right;\">\n",
              "      <th></th>\n",
              "      <th>loss</th>\n",
              "      <th>val_loss</th>\n",
              "      <th>epoch</th>\n",
              "    </tr>\n",
              "  </thead>\n",
              "  <tbody>\n",
              "    <tr>\n",
              "      <th>95</th>\n",
              "      <td>315579.75000</td>\n",
              "      <td>317260.3125</td>\n",
              "      <td>95</td>\n",
              "    </tr>\n",
              "    <tr>\n",
              "      <th>96</th>\n",
              "      <td>315578.46875</td>\n",
              "      <td>317259.0000</td>\n",
              "      <td>96</td>\n",
              "    </tr>\n",
              "    <tr>\n",
              "      <th>97</th>\n",
              "      <td>315577.18750</td>\n",
              "      <td>317257.7500</td>\n",
              "      <td>97</td>\n",
              "    </tr>\n",
              "    <tr>\n",
              "      <th>98</th>\n",
              "      <td>315575.81250</td>\n",
              "      <td>317256.4375</td>\n",
              "      <td>98</td>\n",
              "    </tr>\n",
              "    <tr>\n",
              "      <th>99</th>\n",
              "      <td>315574.56250</td>\n",
              "      <td>317255.1250</td>\n",
              "      <td>99</td>\n",
              "    </tr>\n",
              "  </tbody>\n",
              "</table>\n",
              "</div>"
            ],
            "text/plain": [
              "            loss     val_loss  epoch\n",
              "95  315579.75000  317260.3125     95\n",
              "96  315578.46875  317259.0000     96\n",
              "97  315577.18750  317257.7500     97\n",
              "98  315575.81250  317256.4375     98\n",
              "99  315574.56250  317255.1250     99"
            ]
          },
          "metadata": {},
          "execution_count": 26
        }
      ],
      "source": [
        "hist = pd.DataFrame(history.history)\n",
        "hist['epoch'] = history.epoch\n",
        "hist.tail()"
      ]
    },
    {
      "cell_type": "code",
      "execution_count": null,
      "metadata": {
        "id": "9E54UoZunqhc"
      },
      "outputs": [],
      "source": [
        "def plot_loss(history):\n",
        "  plt.plot(history.history['loss'], label='loss')\n",
        "  plt.plot(history.history['val_loss'], label='val_loss')\n",
        "  # plt.ylim([0, 10])\n",
        "  plt.xlabel('Epoch')\n",
        "  plt.ylabel('Error [Salary]')\n",
        "  plt.legend()\n",
        "  plt.grid(True)\n",
        "  plt.rcParams[\"figure.figsize\"] = (15,15)"
      ]
    },
    {
      "cell_type": "code",
      "execution_count": null,
      "metadata": {
        "colab": {
          "base_uri": "https://localhost:8080/",
          "height": 279
        },
        "id": "yYsQYrIZyqjz",
        "outputId": "3e7c1356-b1ca-42c0-f819-6a5fc6efaa4a"
      },
      "outputs": [
        {
          "output_type": "display_data",
          "data": {
            "image/png": "[encoded data removed]",
            "text/plain": [
              "<Figure size 432x288 with 1 Axes>"
            ]
          },
          "metadata": {
            "needs_background": "light"
          }
        }
      ],
      "source": [
        "plot_loss(history)"
      ]
    },
    {
      "cell_type": "markdown",
      "metadata": {
        "id": "CMNrt8X2ebXd"
      },
      "source": [
        "Collect the results on the test set for later:"
      ]
    },
    {
      "cell_type": "code",
      "execution_count": null,
      "metadata": {
        "id": "kDZ8EvNYrDtx"
      },
      "outputs": [],
      "source": [
        "test_results = {}\n",
        "\n",
        "test_results['horsepower_model'] = horsepower_model.evaluate(\n",
        "    test_features['YearsCodePro'],\n",
        "    test_labels, verbose=0)"
      ]
    },
    {
      "cell_type": "markdown",
      "metadata": {
        "id": "F0qutYAKwoda"
      },
      "source": [
        "Since this is a single variable regression, it's easy to view the model's predictions as a function of the input:"
      ]
    },
    {
      "cell_type": "code",
      "execution_count": null,
      "metadata": {
        "id": "xDS2JEtOn9Jn"
      },
      "outputs": [],
      "source": [
        "x = tf.linspace(0.0, 250, 251)\n",
        "y = horsepower_model.predict(x)"
      ]
    },
    {
      "cell_type": "code",
      "execution_count": null,
      "metadata": {
        "id": "rttFCTU8czsI"
      },
      "outputs": [],
      "source": [
        "def plot_horsepower(x, y):\n",
        "  plt.scatter(train_features['YearsCodePro'], train_labels, label='Data')\n",
        "  plt.plot(x, y, color='k', label='Predictions')\n",
        "  plt.xlim([0, 60])\n",
        "  plt.xlabel('YearsCodePro')\n",
        "  plt.ylabel('Salary')\n",
        "  plt.legend()\n",
        "  plt.rcParams[\"figure.figsize\"] = (15,15)"
      ]
    },
    {
      "cell_type": "code",
      "execution_count": null,
      "metadata": {
        "colab": {
          "base_uri": "https://localhost:8080/",
          "height": 877
        },
        "id": "7l9ZiAOEUNBL",
        "outputId": "ae3b4bcd-bef0-4656-9db6-54d55b263e4f"
      },
      "outputs": [
        {
          "output_type": "display_data",
          "data": {
            "image/png": "[encoded data removed]",
            "text/plain": [
              "<Figure size 1080x1080 with 1 Axes>"
            ]
          },
          "metadata": {
            "needs_background": "light"
          }
        }
      ],
      "source": [
        "plot_horsepower(x,y)"
      ]
    },
    {
      "cell_type": "markdown",
      "metadata": {
        "id": "Yk2RmlqPoM9u"
      },
      "source": [
        "### Linear regression with multiple inputs"
      ]
    },
    {
      "cell_type": "markdown",
      "metadata": {
        "id": "PribnwDHUksC"
      },
      "source": [
        "You can use an almost identical setup to make predictions based on multiple inputs. This model still does the same $y = mx+b$ except that $m$ is a matrix and $b$ is a vector.\n",
        "\n",
        "Create a two-step Keras Sequential model again with the first layer being `normalizer` (`tf.keras.layers.Normalization(axis=-1)`) you defined earlier and adapted to the whole dataset:"
      ]
    },
    {
      "cell_type": "code",
      "execution_count": null,
      "metadata": {
        "id": "ssnVcKg7oMe6"
      },
      "outputs": [],
      "source": [
        "linear_model = tf.keras.Sequential([\n",
        "    normalizer,\n",
        "    layers.Dense(units=1)\n",
        "])"
      ]
    },
    {
      "cell_type": "code",
      "execution_count": null,
      "metadata": {
        "colab": {
          "base_uri": "https://localhost:8080/",
          "height": 478
        },
        "id": "t-IrcvtWfUja",
        "outputId": "7ee19123-c3ee-476b-d4ff-c9fcd180f3f5"
      },
      "outputs": [
        {
          "output_type": "execute_result",
          "data": {
            "text/html": [
              "<div>\n",
              "<style scoped>\n",
              "    .dataframe tbody tr th:only-of-type {\n",
              "        vertical-align: middle;\n",
              "    }\n",
              "\n",
              "    .dataframe tbody tr th {\n",
              "        vertical-align: top;\n",
              "    }\n",
              "\n",
              "    .dataframe thead th {\n",
              "        text-align: right;\n",
              "    }\n",
              "</style>\n",
              "<table border=\"1\" class=\"dataframe\">\n",
              "  <thead>\n",
              "    <tr style=\"text-align: right;\">\n",
              "      <th></th>\n",
              "      <th>YearsCodePro</th>\n",
              "      <th>AWS</th>\n",
              "      <th>Bash/Shell</th>\n",
              "      <th>C++</th>\n",
              "      <th>COBOL</th>\n",
              "      <th>Cassandra</th>\n",
              "      <th>Clojure</th>\n",
              "      <th>Crystal</th>\n",
              "      <th>Delphi</th>\n",
              "      <th>Django</th>\n",
              "      <th>Drupal</th>\n",
              "      <th>DynamoDB</th>\n",
              "      <th>Elasticsearch</th>\n",
              "      <th>Flask</th>\n",
              "      <th>Flow</th>\n",
              "      <th>Git</th>\n",
              "      <th>Go</th>\n",
              "      <th>Google Cloud Platform</th>\n",
              "      <th>Hadoop</th>\n",
              "      <th>Java</th>\n",
              "      <th>JavaScript</th>\n",
              "      <th>Kubernetes</th>\n",
              "      <th>LISP</th>\n",
              "      <th>MariaDB</th>\n",
              "      <th>Microsoft Azure</th>\n",
              "      <th>Node.js</th>\n",
              "      <th>Oracle</th>\n",
              "      <th>PHP</th>\n",
              "      <th>Pandas</th>\n",
              "      <th>Perl</th>\n",
              "      <th>PowerShell</th>\n",
              "      <th>Python</th>\n",
              "      <th>Qt</th>\n",
              "      <th>React.js</th>\n",
              "      <th>Redis</th>\n",
              "      <th>Ruby on Rails</th>\n",
              "      <th>Rust</th>\n",
              "      <th>Scala</th>\n",
              "      <th>Swift</th>\n",
              "      <th>Terraform</th>\n",
              "      <th>TypeScript</th>\n",
              "      <th>Unity 3D</th>\n",
              "      <th>Vue.js</th>\n",
              "      <th>Xamarin</th>\n",
              "      <th>jQuery</th>\n",
              "    </tr>\n",
              "  </thead>\n",
              "  <tbody>\n",
              "    <tr>\n",
              "      <th>6088</th>\n",
              "      <td>23.0</td>\n",
              "      <td>0.0</td>\n",
              "      <td>1.0</td>\n",
              "      <td>1.0</td>\n",
              "      <td>0.0</td>\n",
              "      <td>0.0</td>\n",
              "      <td>0.0</td>\n",
              "      <td>0.0</td>\n",
              "      <td>0.0</td>\n",
              "      <td>0.0</td>\n",
              "      <td>0.0</td>\n",
              "      <td>0.0</td>\n",
              "      <td>0.0</td>\n",
              "      <td>0.0</td>\n",
              "      <td>0.0</td>\n",
              "      <td>1.0</td>\n",
              "      <td>0.0</td>\n",
              "      <td>0.0</td>\n",
              "      <td>0.0</td>\n",
              "      <td>0.0</td>\n",
              "      <td>1.0</td>\n",
              "      <td>0.0</td>\n",
              "      <td>0.0</td>\n",
              "      <td>0.0</td>\n",
              "      <td>0.0</td>\n",
              "      <td>1.0</td>\n",
              "      <td>0.0</td>\n",
              "      <td>0.0</td>\n",
              "      <td>0.0</td>\n",
              "      <td>0.0</td>\n",
              "      <td>1.0</td>\n",
              "      <td>0.0</td>\n",
              "      <td>0.0</td>\n",
              "      <td>1.0</td>\n",
              "      <td>0.0</td>\n",
              "      <td>0.0</td>\n",
              "      <td>0.0</td>\n",
              "      <td>0.0</td>\n",
              "      <td>0.0</td>\n",
              "      <td>0.0</td>\n",
              "      <td>0.0</td>\n",
              "      <td>0.0</td>\n",
              "      <td>0.0</td>\n",
              "      <td>0.0</td>\n",
              "      <td>0.0</td>\n",
              "    </tr>\n",
              "    <tr>\n",
              "      <th>5990</th>\n",
              "      <td>15.0</td>\n",
              "      <td>1.0</td>\n",
              "      <td>1.0</td>\n",
              "      <td>1.0</td>\n",
              "      <td>0.0</td>\n",
              "      <td>0.0</td>\n",
              "      <td>1.0</td>\n",
              "      <td>0.0</td>\n",
              "      <td>0.0</td>\n",
              "      <td>0.0</td>\n",
              "      <td>0.0</td>\n",
              "      <td>0.0</td>\n",
              "      <td>0.0</td>\n",
              "      <td>0.0</td>\n",
              "      <td>0.0</td>\n",
              "      <td>1.0</td>\n",
              "      <td>0.0</td>\n",
              "      <td>1.0</td>\n",
              "      <td>0.0</td>\n",
              "      <td>1.0</td>\n",
              "      <td>1.0</td>\n",
              "      <td>0.0</td>\n",
              "      <td>0.0</td>\n",
              "      <td>0.0</td>\n",
              "      <td>0.0</td>\n",
              "      <td>1.0</td>\n",
              "      <td>0.0</td>\n",
              "      <td>0.0</td>\n",
              "      <td>0.0</td>\n",
              "      <td>0.0</td>\n",
              "      <td>0.0</td>\n",
              "      <td>1.0</td>\n",
              "      <td>0.0</td>\n",
              "      <td>0.0</td>\n",
              "      <td>0.0</td>\n",
              "      <td>0.0</td>\n",
              "      <td>0.0</td>\n",
              "      <td>0.0</td>\n",
              "      <td>0.0</td>\n",
              "      <td>0.0</td>\n",
              "      <td>0.0</td>\n",
              "      <td>0.0</td>\n",
              "      <td>0.0</td>\n",
              "      <td>0.0</td>\n",
              "      <td>0.0</td>\n",
              "    </tr>\n",
              "    <tr>\n",
              "      <th>2866</th>\n",
              "      <td>30.0</td>\n",
              "      <td>1.0</td>\n",
              "      <td>0.0</td>\n",
              "      <td>0.0</td>\n",
              "      <td>0.0</td>\n",
              "      <td>0.0</td>\n",
              "      <td>0.0</td>\n",
              "      <td>0.0</td>\n",
              "      <td>0.0</td>\n",
              "      <td>0.0</td>\n",
              "      <td>0.0</td>\n",
              "      <td>0.0</td>\n",
              "      <td>0.0</td>\n",
              "      <td>0.0</td>\n",
              "      <td>0.0</td>\n",
              "      <td>1.0</td>\n",
              "      <td>0.0</td>\n",
              "      <td>0.0</td>\n",
              "      <td>0.0</td>\n",
              "      <td>0.0</td>\n",
              "      <td>1.0</td>\n",
              "      <td>1.0</td>\n",
              "      <td>0.0</td>\n",
              "      <td>1.0</td>\n",
              "      <td>1.0</td>\n",
              "      <td>1.0</td>\n",
              "      <td>0.0</td>\n",
              "      <td>1.0</td>\n",
              "      <td>0.0</td>\n",
              "      <td>0.0</td>\n",
              "      <td>1.0</td>\n",
              "      <td>0.0</td>\n",
              "      <td>0.0</td>\n",
              "      <td>0.0</td>\n",
              "      <td>1.0</td>\n",
              "      <td>0.0</td>\n",
              "      <td>0.0</td>\n",
              "      <td>0.0</td>\n",
              "      <td>0.0</td>\n",
              "      <td>0.0</td>\n",
              "      <td>1.0</td>\n",
              "      <td>0.0</td>\n",
              "      <td>0.0</td>\n",
              "      <td>1.0</td>\n",
              "      <td>1.0</td>\n",
              "    </tr>\n",
              "    <tr>\n",
              "      <th>5537</th>\n",
              "      <td>21.0</td>\n",
              "      <td>1.0</td>\n",
              "      <td>1.0</td>\n",
              "      <td>0.0</td>\n",
              "      <td>0.0</td>\n",
              "      <td>1.0</td>\n",
              "      <td>0.0</td>\n",
              "      <td>0.0</td>\n",
              "      <td>0.0</td>\n",
              "      <td>0.0</td>\n",
              "      <td>0.0</td>\n",
              "      <td>1.0</td>\n",
              "      <td>1.0</td>\n",
              "      <td>0.0</td>\n",
              "      <td>0.0</td>\n",
              "      <td>1.0</td>\n",
              "      <td>0.0</td>\n",
              "      <td>0.0</td>\n",
              "      <td>0.0</td>\n",
              "      <td>1.0</td>\n",
              "      <td>1.0</td>\n",
              "      <td>1.0</td>\n",
              "      <td>0.0</td>\n",
              "      <td>0.0</td>\n",
              "      <td>0.0</td>\n",
              "      <td>1.0</td>\n",
              "      <td>1.0</td>\n",
              "      <td>0.0</td>\n",
              "      <td>1.0</td>\n",
              "      <td>0.0</td>\n",
              "      <td>0.0</td>\n",
              "      <td>1.0</td>\n",
              "      <td>0.0</td>\n",
              "      <td>1.0</td>\n",
              "      <td>1.0</td>\n",
              "      <td>0.0</td>\n",
              "      <td>0.0</td>\n",
              "      <td>1.0</td>\n",
              "      <td>0.0</td>\n",
              "      <td>0.0</td>\n",
              "      <td>1.0</td>\n",
              "      <td>0.0</td>\n",
              "      <td>0.0</td>\n",
              "      <td>0.0</td>\n",
              "      <td>1.0</td>\n",
              "    </tr>\n",
              "    <tr>\n",
              "      <th>4766</th>\n",
              "      <td>3.0</td>\n",
              "      <td>0.0</td>\n",
              "      <td>0.0</td>\n",
              "      <td>0.0</td>\n",
              "      <td>0.0</td>\n",
              "      <td>0.0</td>\n",
              "      <td>0.0</td>\n",
              "      <td>0.0</td>\n",
              "      <td>0.0</td>\n",
              "      <td>0.0</td>\n",
              "      <td>0.0</td>\n",
              "      <td>0.0</td>\n",
              "      <td>0.0</td>\n",
              "      <td>0.0</td>\n",
              "      <td>0.0</td>\n",
              "      <td>0.0</td>\n",
              "      <td>0.0</td>\n",
              "      <td>0.0</td>\n",
              "      <td>0.0</td>\n",
              "      <td>0.0</td>\n",
              "      <td>1.0</td>\n",
              "      <td>0.0</td>\n",
              "      <td>0.0</td>\n",
              "      <td>0.0</td>\n",
              "      <td>0.0</td>\n",
              "      <td>0.0</td>\n",
              "      <td>0.0</td>\n",
              "      <td>0.0</td>\n",
              "      <td>0.0</td>\n",
              "      <td>0.0</td>\n",
              "      <td>0.0</td>\n",
              "      <td>0.0</td>\n",
              "      <td>0.0</td>\n",
              "      <td>0.0</td>\n",
              "      <td>0.0</td>\n",
              "      <td>0.0</td>\n",
              "      <td>0.0</td>\n",
              "      <td>0.0</td>\n",
              "      <td>0.0</td>\n",
              "      <td>0.0</td>\n",
              "      <td>1.0</td>\n",
              "      <td>0.0</td>\n",
              "      <td>0.0</td>\n",
              "      <td>0.0</td>\n",
              "      <td>0.0</td>\n",
              "    </tr>\n",
              "    <tr>\n",
              "      <th>...</th>\n",
              "      <td>...</td>\n",
              "      <td>...</td>\n",
              "      <td>...</td>\n",
              "      <td>...</td>\n",
              "      <td>...</td>\n",
              "      <td>...</td>\n",
              "      <td>...</td>\n",
              "      <td>...</td>\n",
              "      <td>...</td>\n",
              "      <td>...</td>\n",
              "      <td>...</td>\n",
              "      <td>...</td>\n",
              "      <td>...</td>\n",
              "      <td>...</td>\n",
              "      <td>...</td>\n",
              "      <td>...</td>\n",
              "      <td>...</td>\n",
              "      <td>...</td>\n",
              "      <td>...</td>\n",
              "      <td>...</td>\n",
              "      <td>...</td>\n",
              "      <td>...</td>\n",
              "      <td>...</td>\n",
              "      <td>...</td>\n",
              "      <td>...</td>\n",
              "      <td>...</td>\n",
              "      <td>...</td>\n",
              "      <td>...</td>\n",
              "      <td>...</td>\n",
              "      <td>...</td>\n",
              "      <td>...</td>\n",
              "      <td>...</td>\n",
              "      <td>...</td>\n",
              "      <td>...</td>\n",
              "      <td>...</td>\n",
              "      <td>...</td>\n",
              "      <td>...</td>\n",
              "      <td>...</td>\n",
              "      <td>...</td>\n",
              "      <td>...</td>\n",
              "      <td>...</td>\n",
              "      <td>...</td>\n",
              "      <td>...</td>\n",
              "      <td>...</td>\n",
              "      <td>...</td>\n",
              "    </tr>\n",
              "    <tr>\n",
              "      <th>7105</th>\n",
              "      <td>6.0</td>\n",
              "      <td>1.0</td>\n",
              "      <td>0.0</td>\n",
              "      <td>0.0</td>\n",
              "      <td>0.0</td>\n",
              "      <td>0.0</td>\n",
              "      <td>0.0</td>\n",
              "      <td>0.0</td>\n",
              "      <td>0.0</td>\n",
              "      <td>0.0</td>\n",
              "      <td>0.0</td>\n",
              "      <td>0.0</td>\n",
              "      <td>0.0</td>\n",
              "      <td>0.0</td>\n",
              "      <td>0.0</td>\n",
              "      <td>1.0</td>\n",
              "      <td>0.0</td>\n",
              "      <td>1.0</td>\n",
              "      <td>0.0</td>\n",
              "      <td>0.0</td>\n",
              "      <td>0.0</td>\n",
              "      <td>0.0</td>\n",
              "      <td>0.0</td>\n",
              "      <td>0.0</td>\n",
              "      <td>0.0</td>\n",
              "      <td>0.0</td>\n",
              "      <td>0.0</td>\n",
              "      <td>0.0</td>\n",
              "      <td>0.0</td>\n",
              "      <td>0.0</td>\n",
              "      <td>0.0</td>\n",
              "      <td>1.0</td>\n",
              "      <td>0.0</td>\n",
              "      <td>0.0</td>\n",
              "      <td>1.0</td>\n",
              "      <td>0.0</td>\n",
              "      <td>0.0</td>\n",
              "      <td>0.0</td>\n",
              "      <td>1.0</td>\n",
              "      <td>0.0</td>\n",
              "      <td>0.0</td>\n",
              "      <td>0.0</td>\n",
              "      <td>0.0</td>\n",
              "      <td>0.0</td>\n",
              "      <td>0.0</td>\n",
              "    </tr>\n",
              "    <tr>\n",
              "      <th>1871</th>\n",
              "      <td>10.0</td>\n",
              "      <td>0.0</td>\n",
              "      <td>1.0</td>\n",
              "      <td>0.0</td>\n",
              "      <td>0.0</td>\n",
              "      <td>0.0</td>\n",
              "      <td>0.0</td>\n",
              "      <td>0.0</td>\n",
              "      <td>0.0</td>\n",
              "      <td>0.0</td>\n",
              "      <td>0.0</td>\n",
              "      <td>0.0</td>\n",
              "      <td>1.0</td>\n",
              "      <td>0.0</td>\n",
              "      <td>0.0</td>\n",
              "      <td>1.0</td>\n",
              "      <td>0.0</td>\n",
              "      <td>0.0</td>\n",
              "      <td>0.0</td>\n",
              "      <td>0.0</td>\n",
              "      <td>1.0</td>\n",
              "      <td>1.0</td>\n",
              "      <td>0.0</td>\n",
              "      <td>0.0</td>\n",
              "      <td>0.0</td>\n",
              "      <td>0.0</td>\n",
              "      <td>0.0</td>\n",
              "      <td>0.0</td>\n",
              "      <td>1.0</td>\n",
              "      <td>0.0</td>\n",
              "      <td>1.0</td>\n",
              "      <td>1.0</td>\n",
              "      <td>1.0</td>\n",
              "      <td>1.0</td>\n",
              "      <td>0.0</td>\n",
              "      <td>1.0</td>\n",
              "      <td>0.0</td>\n",
              "      <td>0.0</td>\n",
              "      <td>0.0</td>\n",
              "      <td>1.0</td>\n",
              "      <td>0.0</td>\n",
              "      <td>0.0</td>\n",
              "      <td>1.0</td>\n",
              "      <td>0.0</td>\n",
              "      <td>1.0</td>\n",
              "    </tr>\n",
              "    <tr>\n",
              "      <th>3130</th>\n",
              "      <td>22.0</td>\n",
              "      <td>1.0</td>\n",
              "      <td>0.0</td>\n",
              "      <td>0.0</td>\n",
              "      <td>0.0</td>\n",
              "      <td>0.0</td>\n",
              "      <td>0.0</td>\n",
              "      <td>0.0</td>\n",
              "      <td>0.0</td>\n",
              "      <td>0.0</td>\n",
              "      <td>0.0</td>\n",
              "      <td>0.0</td>\n",
              "      <td>0.0</td>\n",
              "      <td>0.0</td>\n",
              "      <td>0.0</td>\n",
              "      <td>1.0</td>\n",
              "      <td>1.0</td>\n",
              "      <td>0.0</td>\n",
              "      <td>1.0</td>\n",
              "      <td>0.0</td>\n",
              "      <td>0.0</td>\n",
              "      <td>1.0</td>\n",
              "      <td>0.0</td>\n",
              "      <td>0.0</td>\n",
              "      <td>0.0</td>\n",
              "      <td>0.0</td>\n",
              "      <td>0.0</td>\n",
              "      <td>0.0</td>\n",
              "      <td>0.0</td>\n",
              "      <td>0.0</td>\n",
              "      <td>0.0</td>\n",
              "      <td>0.0</td>\n",
              "      <td>0.0</td>\n",
              "      <td>0.0</td>\n",
              "      <td>0.0</td>\n",
              "      <td>0.0</td>\n",
              "      <td>0.0</td>\n",
              "      <td>0.0</td>\n",
              "      <td>0.0</td>\n",
              "      <td>0.0</td>\n",
              "      <td>0.0</td>\n",
              "      <td>0.0</td>\n",
              "      <td>0.0</td>\n",
              "      <td>0.0</td>\n",
              "      <td>1.0</td>\n",
              "    </tr>\n",
              "    <tr>\n",
              "      <th>5903</th>\n",
              "      <td>20.0</td>\n",
              "      <td>0.0</td>\n",
              "      <td>0.0</td>\n",
              "      <td>0.0</td>\n",
              "      <td>0.0</td>\n",
              "      <td>0.0</td>\n",
              "      <td>0.0</td>\n",
              "      <td>0.0</td>\n",
              "      <td>0.0</td>\n",
              "      <td>0.0</td>\n",
              "      <td>0.0</td>\n",
              "      <td>0.0</td>\n",
              "      <td>0.0</td>\n",
              "      <td>0.0</td>\n",
              "      <td>0.0</td>\n",
              "      <td>0.0</td>\n",
              "      <td>0.0</td>\n",
              "      <td>0.0</td>\n",
              "      <td>0.0</td>\n",
              "      <td>0.0</td>\n",
              "      <td>1.0</td>\n",
              "      <td>0.0</td>\n",
              "      <td>0.0</td>\n",
              "      <td>0.0</td>\n",
              "      <td>0.0</td>\n",
              "      <td>1.0</td>\n",
              "      <td>0.0</td>\n",
              "      <td>0.0</td>\n",
              "      <td>0.0</td>\n",
              "      <td>0.0</td>\n",
              "      <td>0.0</td>\n",
              "      <td>0.0</td>\n",
              "      <td>0.0</td>\n",
              "      <td>1.0</td>\n",
              "      <td>0.0</td>\n",
              "      <td>0.0</td>\n",
              "      <td>0.0</td>\n",
              "      <td>0.0</td>\n",
              "      <td>0.0</td>\n",
              "      <td>0.0</td>\n",
              "      <td>0.0</td>\n",
              "      <td>0.0</td>\n",
              "      <td>0.0</td>\n",
              "      <td>0.0</td>\n",
              "      <td>0.0</td>\n",
              "    </tr>\n",
              "    <tr>\n",
              "      <th>3508</th>\n",
              "      <td>8.0</td>\n",
              "      <td>0.0</td>\n",
              "      <td>1.0</td>\n",
              "      <td>0.0</td>\n",
              "      <td>0.0</td>\n",
              "      <td>0.0</td>\n",
              "      <td>0.0</td>\n",
              "      <td>0.0</td>\n",
              "      <td>0.0</td>\n",
              "      <td>0.0</td>\n",
              "      <td>0.0</td>\n",
              "      <td>0.0</td>\n",
              "      <td>0.0</td>\n",
              "      <td>0.0</td>\n",
              "      <td>0.0</td>\n",
              "      <td>0.0</td>\n",
              "      <td>0.0</td>\n",
              "      <td>0.0</td>\n",
              "      <td>0.0</td>\n",
              "      <td>1.0</td>\n",
              "      <td>0.0</td>\n",
              "      <td>0.0</td>\n",
              "      <td>0.0</td>\n",
              "      <td>0.0</td>\n",
              "      <td>0.0</td>\n",
              "      <td>0.0</td>\n",
              "      <td>0.0</td>\n",
              "      <td>0.0</td>\n",
              "      <td>0.0</td>\n",
              "      <td>0.0</td>\n",
              "      <td>0.0</td>\n",
              "      <td>0.0</td>\n",
              "      <td>0.0</td>\n",
              "      <td>0.0</td>\n",
              "      <td>0.0</td>\n",
              "      <td>0.0</td>\n",
              "      <td>0.0</td>\n",
              "      <td>0.0</td>\n",
              "      <td>1.0</td>\n",
              "      <td>0.0</td>\n",
              "      <td>0.0</td>\n",
              "      <td>0.0</td>\n",
              "      <td>0.0</td>\n",
              "      <td>0.0</td>\n",
              "      <td>0.0</td>\n",
              "    </tr>\n",
              "  </tbody>\n",
              "</table>\n",
              "<p>494 rows × 45 columns</p>\n",
              "</div>"
            ],
            "text/plain": [
              "      YearsCodePro  AWS  Bash/Shell  C++  ...  Unity 3D  Vue.js  Xamarin  jQuery\n",
              "6088          23.0  0.0         1.0  1.0  ...       0.0     0.0      0.0     0.0\n",
              "5990          15.0  1.0         1.0  1.0  ...       0.0     0.0      0.0     0.0\n",
              "2866          30.0  1.0         0.0  0.0  ...       0.0     0.0      1.0     1.0\n",
              "5537          21.0  1.0         1.0  0.0  ...       0.0     0.0      0.0     1.0\n",
              "4766           3.0  0.0         0.0  0.0  ...       0.0     0.0      0.0     0.0\n",
              "...            ...  ...         ...  ...  ...       ...     ...      ...     ...\n",
              "7105           6.0  1.0         0.0  0.0  ...       0.0     0.0      0.0     0.0\n",
              "1871          10.0  0.0         1.0  0.0  ...       0.0     1.0      0.0     1.0\n",
              "3130          22.0  1.0         0.0  0.0  ...       0.0     0.0      0.0     1.0\n",
              "5903          20.0  0.0         0.0  0.0  ...       0.0     0.0      0.0     0.0\n",
              "3508           8.0  0.0         1.0  0.0  ...       0.0     0.0      0.0     0.0\n",
              "\n",
              "[494 rows x 45 columns]"
            ]
          },
          "metadata": {},
          "execution_count": 35
        }
      ],
      "source": [
        "train_features"
      ]
    },
    {
      "cell_type": "markdown",
      "metadata": {
        "id": "IHlx6WeIWyAr"
      },
      "source": [
        "When you call `Model.predict` on a batch of inputs, it produces `units=1` outputs for each example:"
      ]
    },
    {
      "cell_type": "code",
      "execution_count": null,
      "metadata": {
        "colab": {
          "base_uri": "https://localhost:8080/"
        },
        "id": "DynfJV18WiuT",
        "outputId": "b282e3f6-87fb-4c26-a1b8-096de804a41f"
      },
      "outputs": [
        {
          "output_type": "execute_result",
          "data": {
            "text/plain": [
              "array([[ 0.342],\n",
              "       [ 2.133],\n",
              "       [-3.186],\n",
              "       [ 1.458],\n",
              "       [ 0.241],\n",
              "       [ 0.859],\n",
              "       [ 0.789],\n",
              "       [-0.342],\n",
              "       [-1.111],\n",
              "       [ 2.521],\n",
              "       [-0.772],\n",
              "       [ 3.228],\n",
              "       [ 0.752],\n",
              "       [ 1.363],\n",
              "       [ 1.587],\n",
              "       [ 0.745],\n",
              "       [-0.422],\n",
              "       [ 1.174],\n",
              "       [-0.306],\n",
              "       [-0.042],\n",
              "       [ 0.169],\n",
              "       [-2.172],\n",
              "       [-0.659],\n",
              "       [ 3.659],\n",
              "       [-2.43 ],\n",
              "       [-0.215],\n",
              "       [ 2.288],\n",
              "       [-0.372],\n",
              "       [-1.529],\n",
              "       [-0.829],\n",
              "       [ 0.134],\n",
              "       [-0.471],\n",
              "       [ 1.836],\n",
              "       [-1.431],\n",
              "       [ 0.033],\n",
              "       [-1.003],\n",
              "       [ 0.095],\n",
              "       [ 1.662],\n",
              "       [ 0.17 ],\n",
              "       [ 0.335],\n",
              "       [ 2.038],\n",
              "       [-0.013],\n",
              "       [-0.315],\n",
              "       [ 0.697],\n",
              "       [-2.133],\n",
              "       [ 0.762],\n",
              "       [ 0.213],\n",
              "       [ 0.358],\n",
              "       [-0.348],\n",
              "       [ 1.627],\n",
              "       [-1.066],\n",
              "       [-0.901],\n",
              "       [-0.335],\n",
              "       [-0.232],\n",
              "       [ 0.461],\n",
              "       [-0.255],\n",
              "       [-0.634],\n",
              "       [-1.292],\n",
              "       [ 0.511],\n",
              "       [ 0.129],\n",
              "       [ 0.699],\n",
              "       [ 0.217],\n",
              "       [ 0.227],\n",
              "       [ 1.264],\n",
              "       [ 0.683],\n",
              "       [-0.908],\n",
              "       [ 0.344],\n",
              "       [-4.068],\n",
              "       [-1.18 ],\n",
              "       [-0.241],\n",
              "       [-2.349],\n",
              "       [-0.899],\n",
              "       [-1.043],\n",
              "       [ 1.556],\n",
              "       [-0.136],\n",
              "       [-0.918],\n",
              "       [-0.093],\n",
              "       [-0.945],\n",
              "       [-0.417],\n",
              "       [ 2.24 ],\n",
              "       [ 2.272],\n",
              "       [ 1.922],\n",
              "       [-0.921],\n",
              "       [ 0.462],\n",
              "       [ 0.914],\n",
              "       [ 1.28 ],\n",
              "       [-1.777],\n",
              "       [-0.408],\n",
              "       [-0.907],\n",
              "       [-0.565],\n",
              "       [-1.093],\n",
              "       [-0.343],\n",
              "       [-2.7  ],\n",
              "       [ 0.205],\n",
              "       [ 1.045],\n",
              "       [ 1.012],\n",
              "       [-2.009],\n",
              "       [-1.49 ],\n",
              "       [ 0.905],\n",
              "       [ 0.19 ],\n",
              "       [ 0.012],\n",
              "       [-1.33 ],\n",
              "       [ 0.75 ],\n",
              "       [ 0.619],\n",
              "       [-0.55 ],\n",
              "       [ 0.669],\n",
              "       [-1.529],\n",
              "       [-1.734],\n",
              "       [ 0.462],\n",
              "       [ 2.103],\n",
              "       [ 1.194],\n",
              "       [ 1.443],\n",
              "       [-0.65 ],\n",
              "       [ 0.932],\n",
              "       [ 0.604],\n",
              "       [-0.931],\n",
              "       [ 1.214],\n",
              "       [-0.988],\n",
              "       [ 0.728],\n",
              "       [ 0.361],\n",
              "       [ 1.145],\n",
              "       [ 0.385],\n",
              "       [-1.007],\n",
              "       [ 1.187],\n",
              "       [ 1.012],\n",
              "       [-0.513],\n",
              "       [-1.334],\n",
              "       [ 1.132],\n",
              "       [ 2.333],\n",
              "       [-1.375],\n",
              "       [-1.101],\n",
              "       [-0.13 ],\n",
              "       [-1.492],\n",
              "       [-0.901],\n",
              "       [-0.053],\n",
              "       [ 0.247],\n",
              "       [-0.777],\n",
              "       [-0.707],\n",
              "       [ 1.094],\n",
              "       [-0.37 ],\n",
              "       [-1.08 ],\n",
              "       [-1.167],\n",
              "       [ 1.308],\n",
              "       [-2.456],\n",
              "       [ 0.714],\n",
              "       [ 0.678],\n",
              "       [-2.198],\n",
              "       [-0.373],\n",
              "       [-0.837],\n",
              "       [ 1.678],\n",
              "       [ 0.522],\n",
              "       [-1.629],\n",
              "       [-0.788],\n",
              "       [-1.016],\n",
              "       [-0.782],\n",
              "       [-0.795],\n",
              "       [-0.12 ],\n",
              "       [-3.458],\n",
              "       [ 0.245],\n",
              "       [-0.293],\n",
              "       [ 1.243],\n",
              "       [ 5.329],\n",
              "       [ 0.654],\n",
              "       [ 1.345],\n",
              "       [ 1.523],\n",
              "       [ 0.253],\n",
              "       [ 0.009],\n",
              "       [ 0.598],\n",
              "       [ 1.537],\n",
              "       [-0.028],\n",
              "       [ 0.099],\n",
              "       [ 0.639],\n",
              "       [-1.28 ],\n",
              "       [-0.657],\n",
              "       [-1.439],\n",
              "       [ 1.204],\n",
              "       [-0.662],\n",
              "       [ 2.224],\n",
              "       [-0.122],\n",
              "       [-0.468],\n",
              "       [-0.257],\n",
              "       [-0.214],\n",
              "       [-0.229],\n",
              "       [-0.104],\n",
              "       [ 0.916],\n",
              "       [ 0.426],\n",
              "       [-1.592],\n",
              "       [ 0.36 ],\n",
              "       [ 1.912],\n",
              "       [-2.475],\n",
              "       [-1.139],\n",
              "       [ 4.953],\n",
              "       [-0.622],\n",
              "       [-0.717],\n",
              "       [-0.177],\n",
              "       [-0.616],\n",
              "       [-1.174],\n",
              "       [-1.458],\n",
              "       [-1.427],\n",
              "       [ 0.779],\n",
              "       [-0.528],\n",
              "       [ 2.236],\n",
              "       [ 2.819],\n",
              "       [ 2.686],\n",
              "       [-0.869],\n",
              "       [-0.694],\n",
              "       [-1.188],\n",
              "       [-2.301],\n",
              "       [ 1.059],\n",
              "       [ 2.34 ],\n",
              "       [-0.267],\n",
              "       [ 2.621],\n",
              "       [ 0.289],\n",
              "       [ 2.091],\n",
              "       [-1.574],\n",
              "       [ 0.698],\n",
              "       [-1.229],\n",
              "       [ 1.564],\n",
              "       [-1.699],\n",
              "       [-0.138],\n",
              "       [-0.521],\n",
              "       [-3.861],\n",
              "       [-0.265],\n",
              "       [-1.117],\n",
              "       [ 1.142],\n",
              "       [ 0.45 ],\n",
              "       [ 0.609],\n",
              "       [-0.002],\n",
              "       [-0.534],\n",
              "       [ 0.212],\n",
              "       [-1.95 ],\n",
              "       [ 0.1  ],\n",
              "       [ 1.601],\n",
              "       [-0.064],\n",
              "       [ 1.685],\n",
              "       [ 1.98 ],\n",
              "       [-0.483],\n",
              "       [-0.194],\n",
              "       [ 0.393],\n",
              "       [-1.895],\n",
              "       [ 0.486],\n",
              "       [-0.137],\n",
              "       [ 0.467],\n",
              "       [-1.134],\n",
              "       [ 1.388],\n",
              "       [-4.458],\n",
              "       [ 3.474],\n",
              "       [ 1.343],\n",
              "       [ 0.188],\n",
              "       [-1.245],\n",
              "       [ 0.146],\n",
              "       [ 1.581],\n",
              "       [ 4.262],\n",
              "       [-2.008],\n",
              "       [ 0.505],\n",
              "       [ 0.686],\n",
              "       [-1.513],\n",
              "       [-1.103],\n",
              "       [-0.628],\n",
              "       [ 0.177],\n",
              "       [-0.812],\n",
              "       [ 0.171],\n",
              "       [-0.124],\n",
              "       [ 1.756],\n",
              "       [ 0.673],\n",
              "       [ 0.44 ],\n",
              "       [ 0.861],\n",
              "       [ 1.426],\n",
              "       [-2.547],\n",
              "       [-1.782],\n",
              "       [ 0.737],\n",
              "       [-1.765],\n",
              "       [-1.553],\n",
              "       [-0.661],\n",
              "       [ 0.389],\n",
              "       [ 0.704],\n",
              "       [ 2.01 ],\n",
              "       [ 1.324],\n",
              "       [-1.068],\n",
              "       [-0.773],\n",
              "       [-1.263],\n",
              "       [-0.374],\n",
              "       [ 1.278],\n",
              "       [-0.063],\n",
              "       [-1.861],\n",
              "       [-0.979],\n",
              "       [-1.162],\n",
              "       [-0.575],\n",
              "       [ 2.852],\n",
              "       [ 3.925],\n",
              "       [-0.212],\n",
              "       [ 0.02 ],\n",
              "       [-4.305],\n",
              "       [ 1.466],\n",
              "       [-0.308],\n",
              "       [-0.477],\n",
              "       [-0.663],\n",
              "       [-1.6  ],\n",
              "       [-0.276],\n",
              "       [-1.595],\n",
              "       [ 1.081],\n",
              "       [ 1.397],\n",
              "       [ 0.102],\n",
              "       [ 2.611],\n",
              "       [-1.197],\n",
              "       [-1.035],\n",
              "       [ 2.844],\n",
              "       [ 1.284],\n",
              "       [-0.951],\n",
              "       [ 0.181],\n",
              "       [-2.538],\n",
              "       [ 0.065],\n",
              "       [ 1.147],\n",
              "       [-2.217],\n",
              "       [ 0.144],\n",
              "       [ 2.201],\n",
              "       [-2.48 ],\n",
              "       [ 1.731],\n",
              "       [ 0.988],\n",
              "       [-2.8  ],\n",
              "       [-1.751],\n",
              "       [-1.403],\n",
              "       [ 0.523],\n",
              "       [ 0.164],\n",
              "       [-1.092],\n",
              "       [-2.443],\n",
              "       [ 2.323],\n",
              "       [ 0.885],\n",
              "       [-0.217],\n",
              "       [ 1.045],\n",
              "       [-0.511],\n",
              "       [-0.51 ],\n",
              "       [-1.279],\n",
              "       [-0.822],\n",
              "       [-0.104],\n",
              "       [-1.638],\n",
              "       [ 0.224],\n",
              "       [-2.009],\n",
              "       [-2.226],\n",
              "       [-2.052],\n",
              "       [-0.911],\n",
              "       [ 0.775],\n",
              "       [ 0.325],\n",
              "       [-0.771],\n",
              "       [ 1.707],\n",
              "       [-1.67 ],\n",
              "       [-1.282],\n",
              "       [ 0.465],\n",
              "       [-1.269],\n",
              "       [ 0.251],\n",
              "       [ 0.437],\n",
              "       [ 0.593],\n",
              "       [-0.084],\n",
              "       [ 6.127],\n",
              "       [-0.164],\n",
              "       [-0.663],\n",
              "       [ 1.582],\n",
              "       [-0.668],\n",
              "       [-1.067],\n",
              "       [ 0.263],\n",
              "       [-1.782],\n",
              "       [-1.492],\n",
              "       [ 0.824],\n",
              "       [-0.134],\n",
              "       [-0.845],\n",
              "       [-0.577],\n",
              "       [-0.405],\n",
              "       [-0.467],\n",
              "       [ 3.077],\n",
              "       [ 1.529],\n",
              "       [-0.434],\n",
              "       [ 2.624],\n",
              "       [ 0.23 ],\n",
              "       [-0.864],\n",
              "       [-0.067],\n",
              "       [-0.502],\n",
              "       [-0.147],\n",
              "       [ 0.31 ],\n",
              "       [ 1.399],\n",
              "       [-1.404],\n",
              "       [-0.153],\n",
              "       [ 1.419],\n",
              "       [ 0.044],\n",
              "       [ 0.301],\n",
              "       [ 0.29 ],\n",
              "       [-0.816],\n",
              "       [-0.183],\n",
              "       [-0.169],\n",
              "       [ 2.984],\n",
              "       [ 0.577],\n",
              "       [-0.4  ],\n",
              "       [ 0.914],\n",
              "       [ 0.383],\n",
              "       [ 0.138],\n",
              "       [-0.277],\n",
              "       [-0.391],\n",
              "       [ 1.146],\n",
              "       [ 0.729],\n",
              "       [ 1.942],\n",
              "       [ 0.395],\n",
              "       [-1.136],\n",
              "       [-0.714],\n",
              "       [-0.662],\n",
              "       [ 0.785],\n",
              "       [-1.391],\n",
              "       [-1.992],\n",
              "       [ 2.094],\n",
              "       [-0.449],\n",
              "       [ 1.466],\n",
              "       [ 0.136],\n",
              "       [ 2.138],\n",
              "       [ 2.96 ],\n",
              "       [ 1.59 ],\n",
              "       [ 0.793],\n",
              "       [-0.451],\n",
              "       [ 1.328],\n",
              "       [ 0.273],\n",
              "       [ 1.234],\n",
              "       [-1.096],\n",
              "       [ 1.092],\n",
              "       [ 1.033],\n",
              "       [-3.315],\n",
              "       [ 2.123],\n",
              "       [-1.222],\n",
              "       [-0.696],\n",
              "       [-2.193],\n",
              "       [-0.526],\n",
              "       [-1.684],\n",
              "       [-1.635],\n",
              "       [ 1.203],\n",
              "       [-1.878],\n",
              "       [ 0.74 ],\n",
              "       [ 0.025],\n",
              "       [ 1.354],\n",
              "       [-1.405],\n",
              "       [-2.756],\n",
              "       [-0.886],\n",
              "       [-1.236],\n",
              "       [-1.535],\n",
              "       [-0.729],\n",
              "       [-1.194],\n",
              "       [ 1.15 ],\n",
              "       [ 1.444],\n",
              "       [-0.287],\n",
              "       [ 1.333],\n",
              "       [ 1.375],\n",
              "       [-1.315],\n",
              "       [-1.391],\n",
              "       [ 1.424],\n",
              "       [-0.732],\n",
              "       [-1.214],\n",
              "       [-0.221],\n",
              "       [-1.246],\n",
              "       [-0.505],\n",
              "       [-1.31 ],\n",
              "       [ 1.861],\n",
              "       [ 0.879],\n",
              "       [ 1.844],\n",
              "       [ 1.904],\n",
              "       [ 0.414],\n",
              "       [-1.784],\n",
              "       [-1.203],\n",
              "       [-2.869],\n",
              "       [-0.383],\n",
              "       [-1.163],\n",
              "       [ 0.149],\n",
              "       [ 1.629],\n",
              "       [ 2.257],\n",
              "       [ 1.451],\n",
              "       [ 1.067],\n",
              "       [ 1.371],\n",
              "       [-1.397],\n",
              "       [ 1.517],\n",
              "       [-0.248],\n",
              "       [-0.903],\n",
              "       [ 0.261],\n",
              "       [-4.581],\n",
              "       [-1.819],\n",
              "       [ 2.554],\n",
              "       [ 0.513],\n",
              "       [-0.886],\n",
              "       [-0.821],\n",
              "       [-2.162],\n",
              "       [ 0.18 ],\n",
              "       [ 0.103],\n",
              "       [ 2.818],\n",
              "       [ 0.082],\n",
              "       [-1.005],\n",
              "       [ 1.686],\n",
              "       [ 0.338],\n",
              "       [ 0.241],\n",
              "       [-1.349],\n",
              "       [ 1.106],\n",
              "       [ 0.92 ]], dtype=float32)"
            ]
          },
          "metadata": {},
          "execution_count": 36
        }
      ],
      "source": [
        "linear_model.predict(train_features)"
      ]
    },
    {
      "cell_type": "markdown",
      "metadata": {
        "id": "hvHKH3rPXHmq"
      },
      "source": [
        "When you call the model, its weight matrices will be built"
      ]
    },
    {
      "cell_type": "code",
      "execution_count": null,
      "metadata": {
        "colab": {
          "base_uri": "https://localhost:8080/"
        },
        "id": "DwJ4Fq0RXBQf",
        "outputId": "81c96662-69a2-4403-bc12-10c550bc289b"
      },
      "outputs": [
        {
          "output_type": "execute_result",
          "data": {
            "text/plain": [
              "<tf.Variable 'dense_2/kernel:0' shape=(45, 1) dtype=float32, numpy=\n",
              "array([[ 0.013],\n",
              "       [ 0.001],\n",
              "       [-0.172],\n",
              "       [ 0.235],\n",
              "       [ 0.021],\n",
              "       [ 0.223],\n",
              "       [ 0.257],\n",
              "       [ 0.316],\n",
              "       [-0.175],\n",
              "       [ 0.024],\n",
              "       [-0.004],\n",
              "       [-0.207],\n",
              "       [ 0.165],\n",
              "       [ 0.222],\n",
              "       [-0.152],\n",
              "       [-0.336],\n",
              "       [ 0.322],\n",
              "       [ 0.246],\n",
              "       [-0.33 ],\n",
              "       [ 0.068],\n",
              "       [ 0.332],\n",
              "       [ 0.351],\n",
              "       [-0.129],\n",
              "       [ 0.211],\n",
              "       [-0.312],\n",
              "       [ 0.311],\n",
              "       [ 0.327],\n",
              "       [-0.334],\n",
              "       [ 0.165],\n",
              "       [-0.026],\n",
              "       [-0.014],\n",
              "       [-0.286],\n",
              "       [-0.014],\n",
              "       [-0.221],\n",
              "       [ 0.063],\n",
              "       [ 0.067],\n",
              "       [-0.027],\n",
              "       [-0.027],\n",
              "       [ 0.256],\n",
              "       [ 0.297],\n",
              "       [-0.301],\n",
              "       [-0.119],\n",
              "       [ 0.016],\n",
              "       [-0.348],\n",
              "       [-0.297]], dtype=float32)>"
            ]
          },
          "metadata": {},
          "execution_count": 37
        }
      ],
      "source": [
        "linear_model.layers[1].kernel"
      ]
    },
    {
      "cell_type": "markdown",
      "metadata": {
        "id": "eINAc6rZXzOt"
      },
      "source": [
        "Configure the model with Keras `Model.compile` and train with `Model.fit` for 100 epochs:"
      ]
    },
    {
      "cell_type": "code",
      "execution_count": null,
      "metadata": {
        "id": "A0Sv_Ybr0szp"
      },
      "outputs": [],
      "source": [
        "linear_model.compile(\n",
        "    optimizer=tf.optimizers.Adam(learning_rate=0.1),\n",
        "    loss='mean_absolute_error')"
      ]
    },
    {
      "cell_type": "code",
      "execution_count": null,
      "metadata": {
        "colab": {
          "base_uri": "https://localhost:8080/"
        },
        "id": "EZoOYORvoTSe",
        "outputId": "b0fe5e8f-cbcf-4d41-a8c0-5a6646feed95"
      },
      "outputs": [
        {
          "output_type": "stream",
          "name": "stdout",
          "text": [
            "CPU times: user 4.35 s, sys: 210 ms, total: 4.56 s\n",
            "Wall time: 4.89 s\n"
          ]
        }
      ],
      "source": [
        "%%time\n",
        "history = linear_model.fit(\n",
        "    train_features,\n",
        "    train_labels,\n",
        "    epochs=100,\n",
        "    # Suppress logging.\n",
        "    verbose=0,\n",
        "    # Calculate validation results on 20% of the training data.\n",
        "    validation_split = 0.2)"
      ]
    },
    {
      "cell_type": "markdown",
      "metadata": {
        "id": "EdxiCbiNYK2F"
      },
      "source": [
        "Using all the inputs in this regression model achieves a much lower training and validation error than the `horsepower_model`, which had one input:"
      ]
    },
    {
      "cell_type": "code",
      "execution_count": null,
      "metadata": {
        "colab": {
          "base_uri": "https://localhost:8080/",
          "height": 877
        },
        "id": "4sWO3W0koYgu",
        "outputId": "484907d5-b617-4945-e871-21a431c51739"
      },
      "outputs": [
        {
          "output_type": "display_data",
          "data": {
            "image/png": "[encoded data removed]",
            "text/plain": [
              "<Figure size 1080x1080 with 1 Axes>"
            ]
          },
          "metadata": {
            "needs_background": "light"
          }
        }
      ],
      "source": [
        "plot_loss(history)"
      ]
    },
    {
      "cell_type": "markdown",
      "metadata": {
        "id": "NyN49hIWe_NH"
      },
      "source": [
        "Collect the results on the test set for later:"
      ]
    },
    {
      "cell_type": "code",
      "execution_count": null,
      "metadata": {
        "id": "jNC3D1DGsGgK"
      },
      "outputs": [],
      "source": [
        "test_results['linear_model'] = linear_model.evaluate(\n",
        "    test_features, test_labels, verbose=0)"
      ]
    },
    {
      "cell_type": "markdown",
      "metadata": {
        "id": "SmjdzxKzEu1-"
      },
      "source": [
        "## Regression with a deep neural network (DNN)"
      ]
    },
    {
      "cell_type": "markdown",
      "metadata": {
        "id": "DT_aHPsrzO1t"
      },
      "source": [
        "In the previous section, you implemented two linear models for single and multiple inputs.\n",
        "\n",
        "Here, you will implement single-input and multiple-input DNN models.\n",
        "\n",
        "The code is basically the same except the model is expanded to include some \"hidden\" non-linear layers. The name \"hidden\" here just means not directly connected to the inputs or outputs."
      ]
    },
    {
      "cell_type": "markdown",
      "metadata": {
        "id": "6SWtkIjhrZwa"
      },
      "source": [
        "These models will contain a few more layers than the linear model:\n",
        "\n",
        "* The normalization layer, as before (with `horsepower_normalizer` for a single-input model and `normalizer` for a multiple-input model).\n",
        "* Two hidden, non-linear, `Dense` layers with the ReLU (`relu`) activation function nonlinearity.\n",
        "* A linear `Dense` single-output layer.\n",
        "\n",
        "Both models will use the same training procedure so the `compile` method is included in the `build_and_compile_model` function below."
      ]
    },
    {
      "cell_type": "code",
      "execution_count": null,
      "metadata": {
        "id": "c26juK7ZG8j-"
      },
      "outputs": [],
      "source": [
        "def build_and_compile_model(norm):\n",
        "  model = keras.Sequential([\n",
        "      norm,\n",
        "      layers.Dense(64, activation='relu'),\n",
        "      layers.Dense(64, activation='relu'),\n",
        "      layers.Dense(1)\n",
        "  ])\n",
        "\n",
        "  model.compile(loss='mean_absolute_error',\n",
        "                optimizer=tf.keras.optimizers.Adam(0.001))\n",
        "  return model"
      ]
    },
    {
      "cell_type": "markdown",
      "metadata": {
        "id": "6c51caebbc0d"
      },
      "source": [
        "### Regression using a DNN and a single input"
      ]
    },
    {
      "cell_type": "markdown",
      "metadata": {
        "id": "xvu9gtxTZR5V"
      },
      "source": [
        "Create a DNN model with only `'YearsCodePro'` as input and `horsepower_normalizer` (defined earlier) as the normalization layer:"
      ]
    },
    {
      "cell_type": "code",
      "execution_count": null,
      "metadata": {
        "id": "cGbPb-PHGbhs"
      },
      "outputs": [],
      "source": [
        "dnn_horsepower_model = build_and_compile_model(horsepower_normalizer)"
      ]
    },
    {
      "cell_type": "markdown",
      "metadata": {
        "id": "Sj49Og4YGULr"
      },
      "source": [
        "This model has quite a few more trainable parameters than the linear models:"
      ]
    },
    {
      "cell_type": "code",
      "execution_count": null,
      "metadata": {
        "colab": {
          "base_uri": "https://localhost:8080/"
        },
        "id": "ReAD0n6MsFK-",
        "outputId": "dbcbf207-f888-4484-e00a-7c111c508464"
      },
      "outputs": [
        {
          "output_type": "stream",
          "name": "stdout",
          "text": [
            "Model: \"sequential_3\"\n",
            "_________________________________________________________________\n",
            " Layer (type)                Output Shape              Param #   \n",
            "=================================================================\n",
            " normalization_2 (Normalizat  (None, 1)                3         \n",
            " ion)                                                            \n",
            "                                                                 \n",
            " dense_3 (Dense)             (None, 64)                128       \n",
            "                                                                 \n",
            " dense_4 (Dense)             (None, 64)                4160      \n",
            "                                                                 \n",
            " dense_5 (Dense)             (None, 1)                 65        \n",
            "                                                                 \n",
            "=================================================================\n",
            "Total params: 4,356\n",
            "Trainable params: 4,353\n",
            "Non-trainable params: 3\n",
            "_________________________________________________________________\n"
          ]
        }
      ],
      "source": [
        "dnn_horsepower_model.summary()"
      ]
    },
    {
      "cell_type": "markdown",
      "metadata": {
        "id": "0-qWCsh6DlyH"
      },
      "source": [
        "Train the model with Keras `Model.fit`:"
      ]
    },
    {
      "cell_type": "code",
      "execution_count": null,
      "metadata": {
        "colab": {
          "base_uri": "https://localhost:8080/"
        },
        "id": "sD7qHCmNIOY0",
        "outputId": "c0c1e205-d062-42c0-867e-066fd307dfa7"
      },
      "outputs": [
        {
          "output_type": "stream",
          "name": "stdout",
          "text": [
            "CPU times: user 1.36 s, sys: 67.2 ms, total: 1.43 s\n",
            "Wall time: 1.43 s\n"
          ]
        }
      ],
      "source": [
        "%%time\n",
        "history = dnn_horsepower_model.fit(\n",
        "    train_features['YearsCodePro'],\n",
        "    train_labels,\n",
        "    validation_split=0.2,\n",
        "    verbose=0, epochs=20)"
      ]
    },
    {
      "cell_type": "markdown",
      "metadata": {
        "id": "dArGGxHxcKjN"
      },
      "source": [
        "This model does slightly better than the linear single-input `horsepower_model`:"
      ]
    },
    {
      "cell_type": "code",
      "execution_count": null,
      "metadata": {
        "colab": {
          "base_uri": "https://localhost:8080/",
          "height": 877
        },
        "id": "NcF6UWjdCU8T",
        "outputId": "349c52b2-215c-443e-e1f2-bd15a667d597"
      },
      "outputs": [
        {
          "output_type": "display_data",
          "data": {
            "image/png": "[encoded data removed]",
            "text/plain": [
              "<Figure size 1080x1080 with 1 Axes>"
            ]
          },
          "metadata": {
            "needs_background": "light"
          }
        }
      ],
      "source": [
        "plot_loss(history)"
      ]
    },
    {
      "cell_type": "markdown",
      "metadata": {
        "id": "TG1snlpR2QCK"
      },
      "source": [
        "If you plot the predictions as a function of `'Horsepower'`, you should notice how this model takes advantage of the nonlinearity provided by the hidden layers:"
      ]
    },
    {
      "cell_type": "code",
      "execution_count": null,
      "metadata": {
        "id": "hPF53Rem14NS"
      },
      "outputs": [],
      "source": [
        "x = tf.linspace(0.0, 250, 251)\n",
        "y = dnn_horsepower_model.predict(x)\n"
      ]
    },
    {
      "cell_type": "code",
      "execution_count": null,
      "metadata": {
        "colab": {
          "base_uri": "https://localhost:8080/"
        },
        "id": "084ojhDf682P",
        "outputId": "7dffbd26-ccc1-4b63-9c5b-0d13d9ad3e65"
      },
      "outputs": [
        {
          "output_type": "stream",
          "name": "stdout",
          "text": [
            "tf.Tensor(\n",
            "[  0.   1.   2.   3.   4.   5.   6.   7.   8.   9.  10.  11.  12.  13.\n",
            "  14.  15.  16.  17.  18.  19.  20.  21.  22.  23.  24.  25.  26.  27.\n",
            "  28.  29.  30.  31.  32.  33.  34.  35.  36.  37.  38.  39.  40.  41.\n",
            "  42.  43.  44.  45.  46.  47.  48.  49.  50.  51.  52.  53.  54.  55.\n",
            "  56.  57.  58.  59.  60.  61.  62.  63.  64.  65.  66.  67.  68.  69.\n",
            "  70.  71.  72.  73.  74.  75.  76.  77.  78.  79.  80.  81.  82.  83.\n",
            "  84.  85.  86.  87.  88.  89.  90.  91.  92.  93.  94.  95.  96.  97.\n",
            "  98.  99. 100. 101. 102. 103. 104. 105. 106. 107. 108. 109. 110. 111.\n",
            " 112. 113. 114. 115. 116. 117. 118. 119. 120. 121. 122. 123. 124. 125.\n",
            " 126. 127. 128. 129. 130. 131. 132. 133. 134. 135. 136. 137. 138. 139.\n",
            " 140. 141. 142. 143. 144. 145. 146. 147. 148. 149. 150. 151. 152. 153.\n",
            " 154. 155. 156. 157. 158. 159. 160. 161. 162. 163. 164. 165. 166. 167.\n",
            " 168. 169. 170. 171. 172. 173. 174. 175. 176. 177. 178. 179. 180. 181.\n",
            " 182. 183. 184. 185. 186. 187. 188. 189. 190. 191. 192. 193. 194. 195.\n",
            " 196. 197. 198. 199. 200. 201. 202. 203. 204. 205. 206. 207. 208. 209.\n",
            " 210. 211. 212. 213. 214. 215. 216. 217. 218. 219. 220. 221. 222. 223.\n",
            " 224. 225. 226. 227. 228. 229. 230. 231. 232. 233. 234. 235. 236. 237.\n",
            " 238. 239. 240. 241. 242. 243. 244. 245. 246. 247. 248. 249. 250.], shape=(251,), dtype=float32)\n"
          ]
        }
      ],
      "source": [
        "print(x)"
      ]
    },
    {
      "cell_type": "code",
      "execution_count": null,
      "metadata": {
        "colab": {
          "base_uri": "https://localhost:8080/",
          "height": 877
        },
        "id": "rsf9rD8I17Wq",
        "outputId": "1604aa66-18ae-4f5f-bbbc-32681f081a3a"
      },
      "outputs": [
        {
          "output_type": "display_data",
          "data": {
            "image/png": "[encoded data removed]",
            "text/plain": [
              "<Figure size 1080x1080 with 1 Axes>"
            ]
          },
          "metadata": {
            "needs_background": "light"
          }
        }
      ],
      "source": [
        "plot_horsepower(x, y)"
      ]
    },
    {
      "cell_type": "markdown",
      "metadata": {
        "id": "WxCJKIUpe4io"
      },
      "source": [
        "Collect the results on the test set for later:"
      ]
    },
    {
      "cell_type": "code",
      "execution_count": null,
      "metadata": {
        "id": "bJjM0dU52XtN"
      },
      "outputs": [],
      "source": [
        "test_results['dnn_horsepower_model'] = dnn_horsepower_model.evaluate(\n",
        "    test_features['YearsCodePro'], test_labels,\n",
        "    verbose=0)"
      ]
    },
    {
      "cell_type": "markdown",
      "metadata": {
        "id": "S_2Btebp2e64"
      },
      "source": [
        "### Regression using a DNN and multiple inputs"
      ]
    },
    {
      "cell_type": "markdown",
      "metadata": {
        "id": "aKFtezDldLSf"
      },
      "source": [
        "Repeat the previous process using all the inputs. The model's performance slightly improves on the validation dataset."
      ]
    },
    {
      "cell_type": "code",
      "execution_count": null,
      "metadata": {
        "colab": {
          "base_uri": "https://localhost:8080/"
        },
        "id": "c0mhscXh2k36",
        "outputId": "c47145f9-7706-417e-b67b-9f2594dcfb7d"
      },
      "outputs": [
        {
          "output_type": "stream",
          "name": "stdout",
          "text": [
            "Model: \"sequential_4\"\n",
            "_________________________________________________________________\n",
            " Layer (type)                Output Shape              Param #   \n",
            "=================================================================\n",
            " normalization (Normalizatio  (None, 45)               91        \n",
            " n)                                                              \n",
            "                                                                 \n",
            " dense_6 (Dense)             (None, 64)                2944      \n",
            "                                                                 \n",
            " dense_7 (Dense)             (None, 64)                4160      \n",
            "                                                                 \n",
            " dense_8 (Dense)             (None, 1)                 65        \n",
            "                                                                 \n",
            "=================================================================\n",
            "Total params: 7,260\n",
            "Trainable params: 7,169\n",
            "Non-trainable params: 91\n",
            "_________________________________________________________________\n"
          ]
        }
      ],
      "source": [
        "dnn_model = build_and_compile_model(normalizer)\n",
        "dnn_model.summary()"
      ]
    },
    {
      "cell_type": "code",
      "execution_count": null,
      "metadata": {
        "colab": {
          "base_uri": "https://localhost:8080/"
        },
        "id": "CXDENACl2tuW",
        "outputId": "149a2f99-1fb5-4d27-f6b7-6224df571d31"
      },
      "outputs": [
        {
          "output_type": "stream",
          "name": "stdout",
          "text": [
            "CPU times: user 6.78 s, sys: 412 ms, total: 7.19 s\n",
            "Wall time: 7.16 s\n"
          ]
        }
      ],
      "source": [
        "%%time\n",
        "history = dnn_model.fit(\n",
        "    train_features,\n",
        "    train_labels,\n",
        "    validation_split=0.2,\n",
        "    verbose=0, epochs=150)"
      ]
    },
    {
      "cell_type": "code",
      "execution_count": null,
      "metadata": {
        "colab": {
          "base_uri": "https://localhost:8080/",
          "height": 877
        },
        "id": "-9Dbj0fX23RQ",
        "outputId": "b5c40505-9c03-4233-835a-0c12e72be690"
      },
      "outputs": [
        {
          "output_type": "display_data",
          "data": {
            "image/png": "[encoded data removed]",
            "text/plain": [
              "<Figure size 1080x1080 with 1 Axes>"
            ]
          },
          "metadata": {
            "needs_background": "light"
          }
        }
      ],
      "source": [
        "plot_loss(history)"
      ]
    },
    {
      "cell_type": "markdown",
      "metadata": {
        "id": "hWoVYS34fJPZ"
      },
      "source": [
        "Collect the results on the test set:"
      ]
    },
    {
      "cell_type": "code",
      "execution_count": null,
      "metadata": {
        "id": "-bZIa96W3c7K"
      },
      "outputs": [],
      "source": [
        "test_results['dnn_model'] = dnn_model.evaluate(test_features, test_labels, verbose=0)"
      ]
    },
    {
      "cell_type": "markdown",
      "metadata": {
        "id": "uiCucdPLfMkZ"
      },
      "source": [
        "## Performance"
      ]
    },
    {
      "cell_type": "markdown",
      "metadata": {
        "id": "rDf1xebEfWBw"
      },
      "source": [
        "Since all models have been trained, you can review their test set performance:"
      ]
    },
    {
      "cell_type": "code",
      "execution_count": null,
      "metadata": {
        "colab": {
          "base_uri": "https://localhost:8080/",
          "height": 175
        },
        "id": "e5_ooufM5iH2",
        "outputId": "73069780-ff7f-45b1-fa30-439675b696d5"
      },
      "outputs": [
        {
          "output_type": "execute_result",
          "data": {
            "text/html": [
              "<div>\n",
              "<style scoped>\n",
              "    .dataframe tbody tr th:only-of-type {\n",
              "        vertical-align: middle;\n",
              "    }\n",
              "\n",
              "    .dataframe tbody tr th {\n",
              "        vertical-align: top;\n",
              "    }\n",
              "\n",
              "    .dataframe thead th {\n",
              "        text-align: right;\n",
              "    }\n",
              "</style>\n",
              "<table border=\"1\" class=\"dataframe\">\n",
              "  <thead>\n",
              "    <tr style=\"text-align: right;\">\n",
              "      <th></th>\n",
              "      <th>Mean absolute error [ConvertedCompYearly]</th>\n",
              "    </tr>\n",
              "  </thead>\n",
              "  <tbody>\n",
              "    <tr>\n",
              "      <th>horsepower_model</th>\n",
              "      <td>318281.531250</td>\n",
              "    </tr>\n",
              "    <tr>\n",
              "      <th>linear_model</th>\n",
              "      <td>318279.625000</td>\n",
              "    </tr>\n",
              "    <tr>\n",
              "      <th>dnn_horsepower_model</th>\n",
              "      <td>318150.187500</td>\n",
              "    </tr>\n",
              "    <tr>\n",
              "      <th>dnn_model</th>\n",
              "      <td>78312.796875</td>\n",
              "    </tr>\n",
              "  </tbody>\n",
              "</table>\n",
              "</div>"
            ],
            "text/plain": [
              "                      Mean absolute error [ConvertedCompYearly]\n",
              "horsepower_model                                  318281.531250\n",
              "linear_model                                      318279.625000\n",
              "dnn_horsepower_model                              318150.187500\n",
              "dnn_model                                          78312.796875"
            ]
          },
          "metadata": {},
          "execution_count": 63
        }
      ],
      "source": [
        "pd.DataFrame(test_results, index=['Mean absolute error [ConvertedCompYearly]']).T"
      ]
    },
    {
      "cell_type": "markdown",
      "metadata": {
        "id": "DABIVzsCf-QI"
      },
      "source": [
        "These results match the validation error observed during training."
      ]
    },
    {
      "cell_type": "markdown",
      "metadata": {
        "id": "ft603OzXuEZC"
      },
      "source": [
        "### Make predictions\n",
        "\n",
        "You can now make predictions with the `dnn_model` on the test set using Keras `Model.predict` and review the loss:"
      ]
    },
    {
      "cell_type": "code",
      "execution_count": null,
      "metadata": {
        "colab": {
          "base_uri": "https://localhost:8080/"
        },
        "id": "I-3SCC_-7Ooq",
        "outputId": "e0c78fa9-794f-46c7-cbfa-397f45bcf5d0"
      },
      "outputs": [
        {
          "output_type": "stream",
          "name": "stdout",
          "text": [
            "[     YearsCodePro  AWS  Bash/Shell  C++  ...  Unity 3D  Vue.js  Xamarin  jQuery\n",
            "393          32.0  1.0         0.0  0.0  ...       0.0     0.0      0.0     1.0\n",
            "\n",
            "[1 rows x 45 columns]]\n"
          ]
        }
      ],
      "source": [
        "import pprint\n",
        "import sys\n",
        "\n",
        "np.set_printoptions(threshold=sys.maxsize)\n",
        "\n",
        "sample = []\n",
        "list1 = test_features.iloc[3:4]\n",
        "sample.append(test_features.iloc[3:4])\n",
        "print(sample)"
      ]
    },
    {
      "cell_type": "code",
      "execution_count": null,
      "metadata": {
        "colab": {
          "base_uri": "https://localhost:8080/",
          "height": 104
        },
        "id": "l7s7oIkeC_Do",
        "outputId": "607c1a4a-3b1e-4c77-8983-c7bc1b7cf117"
      },
      "outputs": [
        {
          "output_type": "execute_result",
          "data": {
            "text/html": [
              "<div>\n",
              "<style scoped>\n",
              "    .dataframe tbody tr th:only-of-type {\n",
              "        vertical-align: middle;\n",
              "    }\n",
              "\n",
              "    .dataframe tbody tr th {\n",
              "        vertical-align: top;\n",
              "    }\n",
              "\n",
              "    .dataframe thead th {\n",
              "        text-align: right;\n",
              "    }\n",
              "</style>\n",
              "<table border=\"1\" class=\"dataframe\">\n",
              "  <thead>\n",
              "    <tr style=\"text-align: right;\">\n",
              "      <th></th>\n",
              "      <th>YearsCodePro</th>\n",
              "      <th>AWS</th>\n",
              "      <th>Bash/Shell</th>\n",
              "      <th>C++</th>\n",
              "      <th>COBOL</th>\n",
              "      <th>Cassandra</th>\n",
              "      <th>Clojure</th>\n",
              "      <th>Crystal</th>\n",
              "      <th>Delphi</th>\n",
              "      <th>Django</th>\n",
              "      <th>Drupal</th>\n",
              "      <th>DynamoDB</th>\n",
              "      <th>Elasticsearch</th>\n",
              "      <th>Flask</th>\n",
              "      <th>Flow</th>\n",
              "      <th>Git</th>\n",
              "      <th>Go</th>\n",
              "      <th>Google Cloud Platform</th>\n",
              "      <th>Hadoop</th>\n",
              "      <th>Java</th>\n",
              "      <th>JavaScript</th>\n",
              "      <th>Kubernetes</th>\n",
              "      <th>LISP</th>\n",
              "      <th>MariaDB</th>\n",
              "      <th>Microsoft Azure</th>\n",
              "      <th>Node.js</th>\n",
              "      <th>Oracle</th>\n",
              "      <th>PHP</th>\n",
              "      <th>Pandas</th>\n",
              "      <th>Perl</th>\n",
              "      <th>PowerShell</th>\n",
              "      <th>Python</th>\n",
              "      <th>Qt</th>\n",
              "      <th>React.js</th>\n",
              "      <th>Redis</th>\n",
              "      <th>Ruby on Rails</th>\n",
              "      <th>Rust</th>\n",
              "      <th>Scala</th>\n",
              "      <th>Swift</th>\n",
              "      <th>Terraform</th>\n",
              "      <th>TypeScript</th>\n",
              "      <th>Unity 3D</th>\n",
              "      <th>Vue.js</th>\n",
              "      <th>Xamarin</th>\n",
              "      <th>jQuery</th>\n",
              "    </tr>\n",
              "  </thead>\n",
              "  <tbody>\n",
              "  </tbody>\n",
              "</table>\n",
              "</div>"
            ],
            "text/plain": [
              "Empty DataFrame\n",
              "Columns: [YearsCodePro, AWS, Bash/Shell, C++, COBOL, Cassandra, Clojure, Crystal, Delphi, Django, Drupal, DynamoDB, Elasticsearch, Flask, Flow, Git, Go, Google Cloud Platform, Hadoop, Java, JavaScript, Kubernetes, LISP, MariaDB, Microsoft Azure, Node.js, Oracle, PHP, Pandas, Perl, PowerShell, Python, Qt, React.js, Redis, Ruby on Rails, Rust, Scala, Swift, Terraform, TypeScript, Unity 3D, Vue.js, Xamarin, jQuery]\n",
              "Index: []"
            ]
          },
          "metadata": {},
          "execution_count": 65
        }
      ],
      "source": [
        "headers = ['YearsCodePro', 'AWS', 'Bash/Shell', 'C++',\n",
        "       'COBOL', 'Cassandra', 'Clojure', 'Crystal', 'Delphi', 'Django',\n",
        "       'Drupal', 'DynamoDB', 'Elasticsearch', 'Flask', 'Flow', 'Git', 'Go',\n",
        "       'Google Cloud Platform', 'Hadoop', 'Java', 'JavaScript', 'Kubernetes',\n",
        "       'LISP', 'MariaDB', 'Microsoft Azure', 'Node.js', 'Oracle', 'PHP',\n",
        "       'Pandas', 'Perl', 'PowerShell', 'Python', 'Qt', 'React.js', 'Redis',\n",
        "       'Ruby on Rails', 'Rust', 'Scala', 'Swift', 'Terraform', 'TypeScript',\n",
        "       'Unity 3D', 'Vue.js', 'Xamarin', 'jQuery']\n",
        "\n",
        "dataset_input = pd.DataFrame(columns=headers)\n",
        "dataset_input = dataset_input.astype('float64')\n",
        "dataset_input\n",
        "# "
      ]
    },
    {
      "cell_type": "code",
      "execution_count": null,
      "metadata": {
        "colab": {
          "base_uri": "https://localhost:8080/",
          "height": 135
        },
        "id": "RAs2tD_pSalV",
        "outputId": "529ed7e3-64b0-402d-c315-d159bddef14d"
      },
      "outputs": [
        {
          "output_type": "execute_result",
          "data": {
            "text/html": [
              "<div>\n",
              "<style scoped>\n",
              "    .dataframe tbody tr th:only-of-type {\n",
              "        vertical-align: middle;\n",
              "    }\n",
              "\n",
              "    .dataframe tbody tr th {\n",
              "        vertical-align: top;\n",
              "    }\n",
              "\n",
              "    .dataframe thead th {\n",
              "        text-align: right;\n",
              "    }\n",
              "</style>\n",
              "<table border=\"1\" class=\"dataframe\">\n",
              "  <thead>\n",
              "    <tr style=\"text-align: right;\">\n",
              "      <th></th>\n",
              "      <th>YearsCodePro</th>\n",
              "      <th>AWS</th>\n",
              "      <th>Bash/Shell</th>\n",
              "      <th>C++</th>\n",
              "      <th>COBOL</th>\n",
              "      <th>Cassandra</th>\n",
              "      <th>Clojure</th>\n",
              "      <th>Crystal</th>\n",
              "      <th>Delphi</th>\n",
              "      <th>Django</th>\n",
              "      <th>Drupal</th>\n",
              "      <th>DynamoDB</th>\n",
              "      <th>Elasticsearch</th>\n",
              "      <th>Flask</th>\n",
              "      <th>Flow</th>\n",
              "      <th>Git</th>\n",
              "      <th>Go</th>\n",
              "      <th>Google Cloud Platform</th>\n",
              "      <th>Hadoop</th>\n",
              "      <th>Java</th>\n",
              "      <th>JavaScript</th>\n",
              "      <th>Kubernetes</th>\n",
              "      <th>LISP</th>\n",
              "      <th>MariaDB</th>\n",
              "      <th>Microsoft Azure</th>\n",
              "      <th>Node.js</th>\n",
              "      <th>Oracle</th>\n",
              "      <th>PHP</th>\n",
              "      <th>Pandas</th>\n",
              "      <th>Perl</th>\n",
              "      <th>PowerShell</th>\n",
              "      <th>Python</th>\n",
              "      <th>Qt</th>\n",
              "      <th>React.js</th>\n",
              "      <th>Redis</th>\n",
              "      <th>Ruby on Rails</th>\n",
              "      <th>Rust</th>\n",
              "      <th>Scala</th>\n",
              "      <th>Swift</th>\n",
              "      <th>Terraform</th>\n",
              "      <th>TypeScript</th>\n",
              "      <th>Unity 3D</th>\n",
              "      <th>Vue.js</th>\n",
              "      <th>Xamarin</th>\n",
              "      <th>jQuery</th>\n",
              "    </tr>\n",
              "  </thead>\n",
              "  <tbody>\n",
              "    <tr>\n",
              "      <th>0</th>\n",
              "      <td>5.0</td>\n",
              "      <td>1.0</td>\n",
              "      <td>0.0</td>\n",
              "      <td>1.0</td>\n",
              "      <td>0.0</td>\n",
              "      <td>1.0</td>\n",
              "      <td>0.0</td>\n",
              "      <td>1.0</td>\n",
              "      <td>0.0</td>\n",
              "      <td>1.0</td>\n",
              "      <td>0.0</td>\n",
              "      <td>1.0</td>\n",
              "      <td>0.0</td>\n",
              "      <td>1.0</td>\n",
              "      <td>0.0</td>\n",
              "      <td>1.0</td>\n",
              "      <td>0.0</td>\n",
              "      <td>1.0</td>\n",
              "      <td>0.0</td>\n",
              "      <td>1.0</td>\n",
              "      <td>0.0</td>\n",
              "      <td>1.0</td>\n",
              "      <td>0.0</td>\n",
              "      <td>1.0</td>\n",
              "      <td>0.0</td>\n",
              "      <td>1.0</td>\n",
              "      <td>0.0</td>\n",
              "      <td>1.0</td>\n",
              "      <td>0.0</td>\n",
              "      <td>1.0</td>\n",
              "      <td>0.0</td>\n",
              "      <td>1.0</td>\n",
              "      <td>0.0</td>\n",
              "      <td>1.0</td>\n",
              "      <td>0.0</td>\n",
              "      <td>1.0</td>\n",
              "      <td>0.0</td>\n",
              "      <td>1.0</td>\n",
              "      <td>0.0</td>\n",
              "      <td>1.0</td>\n",
              "      <td>0.0</td>\n",
              "      <td>1.0</td>\n",
              "      <td>0.0</td>\n",
              "      <td>1.0</td>\n",
              "      <td>0.0</td>\n",
              "    </tr>\n",
              "  </tbody>\n",
              "</table>\n",
              "</div>"
            ],
            "text/plain": [
              "   YearsCodePro  AWS  Bash/Shell  C++  ...  Unity 3D  Vue.js  Xamarin  jQuery\n",
              "0           5.0  1.0         0.0  1.0  ...       1.0     0.0      1.0     0.0\n",
              "\n",
              "[1 rows x 45 columns]"
            ]
          },
          "metadata": {},
          "execution_count": 66
        }
      ],
      "source": [
        "headers = ['YearsCodePro', 'AWS', 'Bash/Shell', 'C++',\n",
        "       'COBOL', 'Cassandra', 'Clojure', 'Crystal', 'Delphi', 'Django',\n",
        "       'Drupal', 'DynamoDB', 'Elasticsearch', 'Flask', 'Flow', 'Git', 'Go',\n",
        "       'Google Cloud Platform', 'Hadoop', 'Java', 'JavaScript', 'Kubernetes',\n",
        "       'LISP', 'MariaDB', 'Microsoft Azure', 'Node.js', 'Oracle', 'PHP',\n",
        "       'Pandas', 'Perl', 'PowerShell', 'Python', 'Qt', 'React.js', 'Redis',\n",
        "       'Ruby on Rails', 'Rust', 'Scala', 'Swift', 'Terraform', 'TypeScript',\n",
        "       'Unity 3D', 'Vue.js', 'Xamarin', 'jQuery']\n",
        "\n",
        "simple_list = [[5.0,1.0,0.0,1.0,0.0,1.0,0.0,1.0,0.0,1.0,0.0,1.0,0.0,1.0,0.0,1.0,0.0,1.0,0.0,1.0,0.0,1.0,0.0,1.0,0.0,1.0,0.0,1.0,0.0,1.0,0.0,1.0,0.0,1.0,0.0,1.0,0.0,1.0,0.0,1.0,0.0,1.0,0.0,1.0,0.0]]\n",
        "mylist = pd.DataFrame(simple_list, columns = headers)\n",
        "mylist\n"
      ]
    },
    {
      "cell_type": "code",
      "execution_count": null,
      "metadata": {
        "colab": {
          "base_uri": "https://localhost:8080/"
        },
        "id": "c2_qm-yo8roI",
        "outputId": "392207d6-3cf6-425b-d7db-335045d32d0f"
      },
      "outputs": [
        {
          "output_type": "execute_result",
          "data": {
            "text/plain": [
              "205495.42"
            ]
          },
          "metadata": {},
          "execution_count": 67
        }
      ],
      "source": [
        "test_one = dnn_model.predict(mylist).flatten()\n",
        "test_one[0]"
      ]
    },
    {
      "cell_type": "code",
      "execution_count": null,
      "metadata": {
        "colab": {
          "base_uri": "https://localhost:8080/",
          "height": 881
        },
        "id": "Xe7RXH3N3CWU",
        "outputId": "acdcfbff-bb76-45b7-d714-f2d548218374"
      },
      "outputs": [
        {
          "output_type": "display_data",
          "data": {
            "image/png": "[encoded data removed]",
            "text/plain": [
              "<Figure size 1080x1080 with 1 Axes>"
            ]
          },
          "metadata": {
            "needs_background": "light"
          }
        }
      ],
      "source": [
        "test_predictions = dnn_model.predict(test_features).flatten()\n",
        "\n",
        "a = plt.axes(aspect='equal')\n",
        "plt.scatter(test_labels, test_predictions)\n",
        "plt.xlabel('True Values [ConvertedCompYearly]')\n",
        "plt.ylabel('Predictions [ConvertedCompYearly]')\n",
        "lims = [250000, 500000]\n",
        "plt.rcParams[\"figure.figsize\"] = (15,15)\n",
        "plt.xlim(lims)\n",
        "plt.ylim(lims)\n",
        "_ = plt.plot(lims, lims)\n"
      ]
    },
    {
      "cell_type": "code",
      "execution_count": null,
      "metadata": {
        "colab": {
          "base_uri": "https://localhost:8080/"
        },
        "id": "KpKIOIFU7j21",
        "outputId": "baa76071-2271-4d2c-aa24-56b74b0718e9"
      },
      "outputs": [
        {
          "output_type": "stream",
          "name": "stdout",
          "text": [
            "[277094.25  388549.44  350734.56   92623.39  329348.12  246915.45\n",
            " 357804.75  323585.25  409093.3   224321.58  377045.7   261230.53\n",
            " 306213.47  390707.38  336078.56  223754.92  230471.44  410834.6\n",
            " 350451.12  125327.984 326770.8   152023.7   240040.47  235011.64\n",
            " 289293.    281148.62  375926.8   289446.84  247867.6   307486.7\n",
            " 117740.09  239631.73  250338.95  271605.56  288483.22  339746.38\n",
            " 303813.34  219702.97  213145.31  335285.    341524.84  161465.12\n",
            " 273081.6   271987.88  234007.89  369075.72  264780.22  276926.1\n",
            " 330612.62  176118.3   273716.8   348942.    235003.86  186680.31\n",
            " 350611.56  326433.25  334116.88  241420.77  354178.03  260013.92\n",
            " 153449.36  361666.78  301067.3    63272.07  254750.36  404728.9\n",
            " 249115.92  282813.62  252237.08  268208.72  417562.44  423276.94\n",
            " 272344.2   303604.12  392094.28  264458.75  281363.88  272615.88\n",
            " 182918.14  494149.94  268702.06  257539.05  367018.12  348409.16\n",
            " 398893.06  251772.5   326229.44  239056.14  339731.    262181.06\n",
            " 419158.9   225271.86  394177.44  250525.9   351667.97  307415.56\n",
            " 252650.44  290039.1   212366.58  374014.16  209506.62  153621.47\n",
            " 383580.    268095.47  321956.56  252375.05  284186.47  333369.5\n",
            " 329598.88  299997.84  217382.3   258772.39  231229.73  275459.88\n",
            " 319835.94  286277.53  211704.72  141775.17  315617.56  301566.25\n",
            " 297841.5   350905.    308541.66  200360.06 ]\n"
          ]
        }
      ],
      "source": [
        "print(test_predictions)"
      ]
    },
    {
      "cell_type": "markdown",
      "metadata": {
        "id": "19wyogbOSU5t"
      },
      "source": [
        "It appears that the model predicts reasonably well.\n",
        "\n",
        "Now, check the error distribution:"
      ]
    },
    {
      "cell_type": "code",
      "execution_count": null,
      "metadata": {
        "colab": {
          "base_uri": "https://localhost:8080/",
          "height": 877
        },
        "id": "f-OHX4DiXd8x",
        "outputId": "33d46c47-c641-4132-9fce-df43b147bfd0"
      },
      "outputs": [
        {
          "output_type": "display_data",
          "data": {
            "image/png": "[encoded data removed]",
            "text/plain": [
              "<Figure size 1080x1080 with 1 Axes>"
            ]
          },
          "metadata": {
            "needs_background": "light"
          }
        }
      ],
      "source": [
        "error = test_predictions - test_labels\n",
        "plt.hist(error, bins=10)\n",
        "plt.rcParams[\"figure.figsize\"] = (15,15)\n",
        "plt.xlabel('Prediction Error [ConvertedCompYearly]')\n",
        "_ = plt.ylabel('Count')"
      ]
    },
    {
      "cell_type": "markdown",
      "metadata": {
        "id": "KSyaHUfDT-mZ"
      },
      "source": [
        "If you're happy with the model, save it for later use with `Model.save`:"
      ]
    },
    {
      "cell_type": "code",
      "execution_count": null,
      "metadata": {
        "colab": {
          "base_uri": "https://localhost:8080/"
        },
        "id": "4-WwLlmfT-mb",
        "outputId": "09668309-ad1c-41da-9341-8707d30062dd"
      },
      "outputs": [
        {
          "name": "stdout",
          "output_type": "stream",
          "text": [
            "INFO:tensorflow:Assets written to: dnn_model/assets\n"
          ]
        }
      ],
      "source": [
        "dnn_model.save('dnn_model')"
      ]
    },
    {
      "cell_type": "code",
      "execution_count": null,
      "metadata": {
        "id": "pc3wkQAX9cO0",
        "colab": {
          "base_uri": "https://localhost:8080/"
        },
        "outputId": "42991833-f768-4854-e62b-df2db1189a94"
      },
      "outputs": [
        {
          "output_type": "stream",
          "name": "stdout",
          "text": [
            "INFO:tensorflow:Assets written to: ram://2ffbb912-7ab5-405e-932d-88f5dc96b7d2/assets\n"
          ]
        }
      ],
      "source": [
        "import pickle\n",
        "pickle.dump(dnn_model,open('/content/model.pkl','wb'))"
      ]
    },
    {
      "cell_type": "markdown",
      "metadata": {
        "id": "Benlnl8UT-me"
      },
      "source": [
        "If you reload the model, it gives identical output:"
      ]
    },
    {
      "cell_type": "code",
      "execution_count": null,
      "metadata": {
        "id": "dyyyj2zVT-mf"
      },
      "outputs": [],
      "source": [
        "reloaded = tf.keras.models.load_model('dnn_model')\n",
        "\n",
        "test_results['reloaded'] = reloaded.evaluate(\n",
        "    test_features, test_labels, verbose=0)"
      ]
    },
    {
      "cell_type": "code",
      "execution_count": null,
      "metadata": {
        "colab": {
          "base_uri": "https://localhost:8080/"
        },
        "id": "OoWrqkZnydkf",
        "outputId": "4a469d57-684e-40a0-c210-8f01ae5d114d"
      },
      "outputs": [
        {
          "output_type": "execute_result",
          "data": {
            "text/plain": [
              "120673.07"
            ]
          },
          "metadata": {},
          "execution_count": 144
        }
      ],
      "source": [
        "test_one = reloaded.predict(mylist).flatten()\n",
        "test_one[0]"
      ]
    },
    {
      "cell_type": "code",
      "execution_count": null,
      "metadata": {
        "colab": {
          "base_uri": "https://localhost:8080/",
          "height": 175
        },
        "id": "f_GchJ2tg-2o",
        "outputId": "9008a175-38ce-4e5a-bd49-0e9e1a4eeb37"
      },
      "outputs": [
        {
          "output_type": "execute_result",
          "data": {
            "text/html": [
              "<div>\n",
              "<style scoped>\n",
              "    .dataframe tbody tr th:only-of-type {\n",
              "        vertical-align: middle;\n",
              "    }\n",
              "\n",
              "    .dataframe tbody tr th {\n",
              "        vertical-align: top;\n",
              "    }\n",
              "\n",
              "    .dataframe thead th {\n",
              "        text-align: right;\n",
              "    }\n",
              "</style>\n",
              "<table border=\"1\" class=\"dataframe\">\n",
              "  <thead>\n",
              "    <tr style=\"text-align: right;\">\n",
              "      <th></th>\n",
              "      <th>Mean absolute error [ConvertedCompYearly]</th>\n",
              "    </tr>\n",
              "  </thead>\n",
              "  <tbody>\n",
              "    <tr>\n",
              "      <th>horsepower_model</th>\n",
              "      <td>318281.531250</td>\n",
              "    </tr>\n",
              "    <tr>\n",
              "      <th>linear_model</th>\n",
              "      <td>318279.625000</td>\n",
              "    </tr>\n",
              "    <tr>\n",
              "      <th>dnn_horsepower_model</th>\n",
              "      <td>318150.187500</td>\n",
              "    </tr>\n",
              "    <tr>\n",
              "      <th>dnn_model</th>\n",
              "      <td>78312.796875</td>\n",
              "    </tr>\n",
              "  </tbody>\n",
              "</table>\n",
              "</div>"
            ],
            "text/plain": [
              "                      Mean absolute error [ConvertedCompYearly]\n",
              "horsepower_model                                  318281.531250\n",
              "linear_model                                      318279.625000\n",
              "dnn_horsepower_model                              318150.187500\n",
              "dnn_model                                          78312.796875"
            ]
          },
          "metadata": {},
          "execution_count": 72
        }
      ],
      "source": [
        "pd.DataFrame(test_results, index=['Mean absolute error [ConvertedCompYearly]']).T"
      ]
    },
    {
      "cell_type": "code",
      "execution_count": null,
      "metadata": {
        "colab": {
          "base_uri": "https://localhost:8080/"
        },
        "id": "EDw2yiz-i4PM",
        "outputId": "f1339a2b-5e6f-4921-deb7-d8987cb87583"
      },
      "outputs": [
        {
          "output_type": "stream",
          "name": "stdout",
          "text": [
            "Mounted at /content/drive\n"
          ]
        }
      ],
      "source": [
        "from google.colab import drive\n",
        "drive.mount('/content/drive')"
      ]
    },
    {
      "cell_type": "markdown",
      "metadata": {
        "id": "vgGQuV-yqYZH"
      },
      "source": [
        "## Conclusion\n",
        "\n",
        "This notebook introduced a few techniques to handle a regression problem. Here are a few more tips that may help:\n",
        "\n",
        "- Mean squared error (MSE) (`tf.losses.MeanSquaredError`) and mean absolute error (MAE) (`tf.losses.MeanAbsoluteError`) are common loss functions used for regression problems. MAE is less sensitive to outliers. Different loss functions are used for classification problems.\n",
        "- Similarly, evaluation metrics used for regression differ from classification.\n",
        "- When numeric input data features have values with different ranges, each feature should be scaled independently to the same range.\n",
        "- Overfitting is a common problem for DNN models, though it wasn't a problem for this tutorial. Visit the [Overfit and underfit](overfit_and_underfit.ipynb) tutorial for more help with this."
      ]
    },
    {
      "cell_type": "code",
      "execution_count": null,
      "metadata": {
        "colab": {
          "base_uri": "https://localhost:8080/"
        },
        "id": "cfHFz_Xj1moy",
        "outputId": "914b0f3f-2517-4ecf-d192-b304f5597794"
      },
      "outputs": [
        {
          "output_type": "stream",
          "name": "stdout",
          "text": [
            "Requirement already satisfied: flask-ngrok in /usr/local/lib/python3.7/dist-packages (0.0.25)\n",
            "Requirement already satisfied: Flask>=0.8 in /usr/local/lib/python3.7/dist-packages (from flask-ngrok) (1.1.4)\n",
            "Requirement already satisfied: requests in /usr/local/lib/python3.7/dist-packages (from flask-ngrok) (2.23.0)\n",
            "Requirement already satisfied: click<8.0,>=5.1 in /usr/local/lib/python3.7/dist-packages (from Flask>=0.8->flask-ngrok) (7.1.2)\n",
            "Requirement already satisfied: Jinja2<3.0,>=2.10.1 in /usr/local/lib/python3.7/dist-packages (from Flask>=0.8->flask-ngrok) (2.11.3)\n",
            "Requirement already satisfied: itsdangerous<2.0,>=0.24 in /usr/local/lib/python3.7/dist-packages (from Flask>=0.8->flask-ngrok) (1.1.0)\n",
            "Requirement already satisfied: Werkzeug<2.0,>=0.15 in /usr/local/lib/python3.7/dist-packages (from Flask>=0.8->flask-ngrok) (1.0.1)\n",
            "Requirement already satisfied: MarkupSafe>=0.23 in /usr/local/lib/python3.7/dist-packages (from Jinja2<3.0,>=2.10.1->Flask>=0.8->flask-ngrok) (2.0.1)\n",
            "Requirement already satisfied: idna<3,>=2.5 in /usr/local/lib/python3.7/dist-packages (from requests->flask-ngrok) (2.10)\n",
            "Requirement already satisfied: chardet<4,>=3.0.2 in /usr/local/lib/python3.7/dist-packages (from requests->flask-ngrok) (3.0.4)\n",
            "Requirement already satisfied: certifi>=2017.4.17 in /usr/local/lib/python3.7/dist-packages (from requests->flask-ngrok) (2021.10.8)\n",
            "Requirement already satisfied: urllib3!=1.25.0,!=1.25.1,<1.26,>=1.21.1 in /usr/local/lib/python3.7/dist-packages (from requests->flask-ngrok) (1.24.3)\n"
          ]
        }
      ],
      "source": [
        "!pip install flask-ngrok"
      ]
    },
    {
      "cell_type": "code",
      "execution_count": null,
      "metadata": {
        "id": "1Z-zdSvX1ztK"
      },
      "outputs": [],
      "source": [
        "from flask import Flask, request, render_template\n",
        "from languages import languages\n",
        "from flask_ngrok import run_with_ngrok\n",
        "\n",
        "from google.colab import drive\n",
        "drive.mount('/content/gdrive')\n",
        "\n",
        "app = Flask(__name__)\n",
        "run_with_ngrok(app)\n",
        "\n",
        "@app.route('/', methods=['GET', 'POST'])\n",
        "def my_form():\n",
        "    testlist = languages\n",
        "    if request.method == 'POST':\n",
        "        list = []\n",
        "        list.append(request.form.get('CodingPro'))\n",
        "        langs = (request.form.getlist('checkbox'))\n",
        "        params = [i in langs for i in testlist] \n",
        "        list = list + params\n",
        "\n",
        "        print(list)\n",
        "    return render_template('test1.html')\n",
        "\n",
        "if __name__ == '__main__':\n",
        "    app.run()"
      ]
    },
    {
      "cell_type": "code",
      "execution_count": null,
      "metadata": {
        "id": "cxcdIPi613Za"
      },
      "outputs": [],
      "source": [
        ""
      ]
    }
  ],
  "metadata": {
    "colab": {
      "collapsed_sections": [],
      "name": "Model 250k to 500k.ipynb",
      "provenance": [],
      "include_colab_link": true
    },
    "kernelspec": {
      "display_name": "Python 3",
      "name": "python3"
    }
  },
  "nbformat": 4,
  "nbformat_minor": 0
}