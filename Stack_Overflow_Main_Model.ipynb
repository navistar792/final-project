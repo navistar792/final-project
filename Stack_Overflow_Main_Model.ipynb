{
  "cells": [
    {
      "cell_type": "markdown",
      "metadata": {
        "id": "view-in-github",
        "colab_type": "text"
      },
      "source": [
        "<a href=\"https://colab.research.google.com/github/navistar792/final-project/blob/main/Stack_Overflow_Main_Model.ipynb\" target=\"_parent\"><img src=\"https://colab.research.google.com/assets/colab-badge.svg\" alt=\"Open In Colab\"/></a>"
      ]
    },
    {
      "cell_type": "markdown",
      "metadata": {
        "id": "FhGuhbZ6M5tl"
      },
      "source": [
        "##### Copyright 2018 The TensorFlow Authors."
      ]
    },
    {
      "cell_type": "code",
      "execution_count": null,
      "metadata": {
        "cellView": "form",
        "id": "AwOEIRJC6Une"
      },
      "outputs": [],
      "source": [
        "#@title Licensed under the Apache License, Version 2.0 (the \"License\");\n",
        "# you may not use this file except in compliance with the License.\n",
        "# You may obtain a copy of the License at\n",
        "#\n",
        "# https://www.apache.org/licenses/LICENSE-2.0\n",
        "#\n",
        "# Unless required by applicable law or agreed to in writing, software\n",
        "# distributed under the License is distributed on an \"AS IS\" BASIS,\n",
        "# WITHOUT WARRANTIES OR CONDITIONS OF ANY KIND, either express or implied.\n",
        "# See the License for the specific language governing permissions and\n",
        "# limitations under the License."
      ]
    },
    {
      "cell_type": "code",
      "execution_count": null,
      "metadata": {
        "cellView": "form",
        "id": "KyPEtTqk6VdG"
      },
      "outputs": [],
      "source": [
        "#@title MIT License\n",
        "#\n",
        "# Copyright (c) 2017 François Chollet\n",
        "#\n",
        "# Permission is hereby granted, free of charge, to any person obtaining a\n",
        "# copy of this software and associated documentation files (the \"Software\"),\n",
        "# to deal in the Software without restriction, including without limitation\n",
        "# the rights to use, copy, modify, merge, publish, distribute, sublicense,\n",
        "# and/or sell copies of the Software, and to permit persons to whom the\n",
        "# Software is furnished to do so, subject to the following conditions:\n",
        "#\n",
        "# The above copyright notice and this permission notice shall be included in\n",
        "# all copies or substantial portions of the Software.\n",
        "#\n",
        "# THE SOFTWARE IS PROVIDED \"AS IS\", WITHOUT WARRANTY OF ANY KIND, EXPRESS OR\n",
        "# IMPLIED, INCLUDING BUT NOT LIMITED TO THE WARRANTIES OF MERCHANTABILITY,\n",
        "# FITNESS FOR A PARTICULAR PURPOSE AND NONINFRINGEMENT. IN NO EVENT SHALL\n",
        "# THE AUTHORS OR COPYRIGHT HOLDERS BE LIABLE FOR ANY CLAIM, DAMAGES OR OTHER\n",
        "# LIABILITY, WHETHER IN AN ACTION OF CONTRACT, TORT OR OTHERWISE, ARISING\n",
        "# FROM, OUT OF OR IN CONNECTION WITH THE SOFTWARE OR THE USE OR OTHER\n",
        "# DEALINGS IN THE SOFTWARE."
      ]
    },
    {
      "cell_type": "markdown",
      "metadata": {
        "id": "EIdT9iu_Z4Rb"
      },
      "source": [
        "# Basic regression: Predict salary from experience and languages known"
      ]
    },
    {
      "cell_type": "markdown",
      "metadata": {
        "id": "bBIlTPscrIT9"
      },
      "source": [
        "<table class=\"tfo-notebook-buttons\" align=\"left\">\n",
        "  <td>\n",
        "    <a target=\"_blank\" href=\"https://www.tensorflow.org/tutorials/keras/regression\"><img src=\"https://www.tensorflow.org/images/tf_logo_32px.png\" />View on TensorFlow.org</a>\n",
        "  </td>\n",
        "  <td>\n",
        "    <a target=\"_blank\" href=\"https://colab.research.google.com/github/tensorflow/docs/blob/master/site/en/tutorials/keras/regression.ipynb\"><img src=\"https://www.tensorflow.org/images/colab_logo_32px.png\" />Run in Google Colab</a>\n",
        "  </td>\n",
        "  <td>\n",
        "    <a target=\"_blank\" href=\"https://github.com/tensorflow/docs/blob/master/site/en/tutorials/keras/regression.ipynb\"><img src=\"https://www.tensorflow.org/images/GitHub-Mark-32px.png\" />View source on GitHub</a>\n",
        "  </td>\n",
        "  <td>\n",
        "    <a href=\"https://storage.googleapis.com/tensorflow_docs/docs/site/en/tutorials/keras/regression.ipynb\"><img src=\"https://www.tensorflow.org/images/download_logo_32px.png\" />Download notebook</a>\n",
        "  </td>\n",
        "</table>"
      ]
    },
    {
      "cell_type": "markdown",
      "metadata": {
        "id": "AHp3M9ZmrIxj"
      },
      "source": [
        "In a *regression* problem, the aim is to predict the output of a continuous value, like a price or a probability. Contrast this with a *classification* problem, where the aim is to select a class from a list of classes (for example, where a picture contains an apple or an orange, recognizing which fruit is in the picture).\n",
        "\n",
        "This example uses the Keras API. (Visit the Keras [tutorials](https://www.tensorflow.org/tutorials/keras) and [guides](https://www.tensorflow.org/guide/keras) to learn more.)"
      ]
    },
    {
      "cell_type": "code",
      "execution_count": null,
      "metadata": {
        "id": "moB4tpEHxKB3"
      },
      "outputs": [],
      "source": [
        "# Use seaborn for pairplot.\n",
        "!pip install -q seaborn"
      ]
    },
    {
      "cell_type": "code",
      "execution_count": null,
      "metadata": {
        "id": "1rRo8oNqZ-Rj"
      },
      "outputs": [],
      "source": [
        "import matplotlib.pyplot as plt\n",
        "import numpy as np\n",
        "import pandas as pd\n",
        "import seaborn as sns\n",
        "from matplotlib.pyplot import figure\n",
        "\n",
        "\n",
        "# Make NumPy printouts easier to read.\n",
        "np.set_printoptions(precision=3, suppress=True)"
      ]
    },
    {
      "cell_type": "code",
      "execution_count": null,
      "metadata": {
        "colab": {
          "base_uri": "https://localhost:8080/"
        },
        "id": "9xQKvCJ85kCQ",
        "outputId": "097ae898-1c68-4671-a172-06dbf4f98dc1"
      },
      "outputs": [
        {
          "output_type": "stream",
          "name": "stdout",
          "text": [
            "2.7.0\n"
          ]
        }
      ],
      "source": [
        "import tensorflow as tf\n",
        "\n",
        "from tensorflow import keras\n",
        "from tensorflow.keras import layers\n",
        "\n",
        "print(tf.__version__)"
      ]
    },
    {
      "cell_type": "markdown",
      "metadata": {
        "id": "F_72b0LCNbjx"
      },
      "source": [
        "## The Stack Overflow Annual Survey (2021) data\n",
        "The dataset is available from the [UCI Machine Learning Repository](https://www.google.com/url?sa=t&rct=j&q=&esrc=s&source=web&cd=&cad=rja&uact=8&ved=2ahUKEwjt1Kanu9L0AhUFG80KHR9iClgQFnoECBQQAQ&url=https%3A%2F%2Finsights.stackoverflow.com%2Fsurvey%2F2021&usg=AOvVaw03n3qvug3EVxESbBohszEz).\n"
      ]
    },
    {
      "cell_type": "markdown",
      "metadata": {
        "id": "gFh9ne3FZ-On"
      },
      "source": [
        "### Get the data\n",
        "First download and import the dataset using pandas:"
      ]
    },
    {
      "cell_type": "code",
      "execution_count": null,
      "metadata": {
        "id": "CiX2FI4gZtTt"
      },
      "outputs": [],
      "source": [
        "url = 'https://raw.githubusercontent.com/navistar792/final-project/main/2021_features.csv'\n",
        "\n",
        "raw_dataset = pd.read_csv(url)\n",
        "raw_dataset = raw_dataset.drop('Unnamed: 0', 1)\n",
        "raw_dataset = raw_dataset.drop('YearsCode', 1)\n",
        "raw = raw_dataset.astype('float64')"
      ]
    },
    {
      "cell_type": "code",
      "execution_count": null,
      "metadata": {
        "colab": {
          "base_uri": "https://localhost:8080/"
        },
        "id": "OFZFQfuqoAH0",
        "outputId": "a8234746-56b1-44c6-8234-b01a36ff826a"
      },
      "outputs": [
        {
          "data": {
            "text/plain": [
              "Index(['ConvertedCompYearly', 'YearsCodePro', 'AWS', 'Bash/Shell', 'C++',\n",
              "       'COBOL', 'Cassandra', 'Clojure', 'Crystal', 'Delphi', 'Django',\n",
              "       'Drupal', 'DynamoDB', 'Elasticsearch', 'Flask', 'Flow', 'Git', 'Go',\n",
              "       'Google Cloud Platform', 'Hadoop', 'Java', 'JavaScript', 'Kubernetes',\n",
              "       'LISP', 'MariaDB', 'Microsoft Azure', 'Node.js', 'Oracle', 'PHP',\n",
              "       'Pandas', 'Perl', 'PowerShell', 'Python', 'Qt', 'React.js', 'Redis',\n",
              "       'Ruby on Rails', 'Rust', 'Scala', 'Swift', 'Terraform', 'TypeScript',\n",
              "       'Unity 3D', 'Vue.js', 'Xamarin', 'jQuery'],\n",
              "      dtype='object')"
            ]
          },
          "execution_count": 5,
          "metadata": {},
          "output_type": "execute_result"
        }
      ],
      "source": [
        "raw.columns"
      ]
    },
    {
      "cell_type": "code",
      "execution_count": null,
      "metadata": {
        "colab": {
          "base_uri": "https://localhost:8080/",
          "height": 261
        },
        "id": "2oY3pMPagJrO",
        "outputId": "ff60d4c7-5968-45c3-ae8e-f527fe1b081d"
      },
      "outputs": [
        {
          "data": {
            "text/html": [
              "<div>\n",
              "<style scoped>\n",
              "    .dataframe tbody tr th:only-of-type {\n",
              "        vertical-align: middle;\n",
              "    }\n",
              "\n",
              "    .dataframe tbody tr th {\n",
              "        vertical-align: top;\n",
              "    }\n",
              "\n",
              "    .dataframe thead th {\n",
              "        text-align: right;\n",
              "    }\n",
              "</style>\n",
              "<table border=\"1\" class=\"dataframe\">\n",
              "  <thead>\n",
              "    <tr style=\"text-align: right;\">\n",
              "      <th></th>\n",
              "      <th>ConvertedCompYearly</th>\n",
              "      <th>YearsCodePro</th>\n",
              "      <th>AWS</th>\n",
              "      <th>Bash/Shell</th>\n",
              "      <th>C++</th>\n",
              "      <th>COBOL</th>\n",
              "      <th>Cassandra</th>\n",
              "      <th>Clojure</th>\n",
              "      <th>Crystal</th>\n",
              "      <th>Delphi</th>\n",
              "      <th>Django</th>\n",
              "      <th>Drupal</th>\n",
              "      <th>DynamoDB</th>\n",
              "      <th>Elasticsearch</th>\n",
              "      <th>Flask</th>\n",
              "      <th>Flow</th>\n",
              "      <th>Git</th>\n",
              "      <th>Go</th>\n",
              "      <th>Google Cloud Platform</th>\n",
              "      <th>Hadoop</th>\n",
              "      <th>Java</th>\n",
              "      <th>JavaScript</th>\n",
              "      <th>Kubernetes</th>\n",
              "      <th>LISP</th>\n",
              "      <th>MariaDB</th>\n",
              "      <th>Microsoft Azure</th>\n",
              "      <th>Node.js</th>\n",
              "      <th>Oracle</th>\n",
              "      <th>PHP</th>\n",
              "      <th>Pandas</th>\n",
              "      <th>Perl</th>\n",
              "      <th>PowerShell</th>\n",
              "      <th>Python</th>\n",
              "      <th>Qt</th>\n",
              "      <th>React.js</th>\n",
              "      <th>Redis</th>\n",
              "      <th>Ruby on Rails</th>\n",
              "      <th>Rust</th>\n",
              "      <th>Scala</th>\n",
              "      <th>Swift</th>\n",
              "      <th>Terraform</th>\n",
              "      <th>TypeScript</th>\n",
              "      <th>Unity 3D</th>\n",
              "      <th>Vue.js</th>\n",
              "      <th>Xamarin</th>\n",
              "      <th>jQuery</th>\n",
              "    </tr>\n",
              "  </thead>\n",
              "  <tbody>\n",
              "    <tr>\n",
              "      <th>8815</th>\n",
              "      <td>200000.0</td>\n",
              "      <td>5.0</td>\n",
              "      <td>1.0</td>\n",
              "      <td>1.0</td>\n",
              "      <td>0.0</td>\n",
              "      <td>0.0</td>\n",
              "      <td>0.0</td>\n",
              "      <td>0.0</td>\n",
              "      <td>0.0</td>\n",
              "      <td>0.0</td>\n",
              "      <td>0.0</td>\n",
              "      <td>0.0</td>\n",
              "      <td>0.0</td>\n",
              "      <td>1.0</td>\n",
              "      <td>1.0</td>\n",
              "      <td>0.0</td>\n",
              "      <td>1.0</td>\n",
              "      <td>0.0</td>\n",
              "      <td>0.0</td>\n",
              "      <td>0.0</td>\n",
              "      <td>0.0</td>\n",
              "      <td>1.0</td>\n",
              "      <td>0.0</td>\n",
              "      <td>0.0</td>\n",
              "      <td>0.0</td>\n",
              "      <td>0.0</td>\n",
              "      <td>0.0</td>\n",
              "      <td>0.0</td>\n",
              "      <td>0.0</td>\n",
              "      <td>0.0</td>\n",
              "      <td>0.0</td>\n",
              "      <td>0.0</td>\n",
              "      <td>1.0</td>\n",
              "      <td>0.0</td>\n",
              "      <td>1.0</td>\n",
              "      <td>0.0</td>\n",
              "      <td>0.0</td>\n",
              "      <td>0.0</td>\n",
              "      <td>0.0</td>\n",
              "      <td>0.0</td>\n",
              "      <td>0.0</td>\n",
              "      <td>0.0</td>\n",
              "      <td>0.0</td>\n",
              "      <td>0.0</td>\n",
              "      <td>0.0</td>\n",
              "      <td>0.0</td>\n",
              "    </tr>\n",
              "    <tr>\n",
              "      <th>8816</th>\n",
              "      <td>160000.0</td>\n",
              "      <td>35.0</td>\n",
              "      <td>0.0</td>\n",
              "      <td>1.0</td>\n",
              "      <td>0.0</td>\n",
              "      <td>0.0</td>\n",
              "      <td>0.0</td>\n",
              "      <td>0.0</td>\n",
              "      <td>0.0</td>\n",
              "      <td>0.0</td>\n",
              "      <td>0.0</td>\n",
              "      <td>0.0</td>\n",
              "      <td>0.0</td>\n",
              "      <td>0.0</td>\n",
              "      <td>0.0</td>\n",
              "      <td>0.0</td>\n",
              "      <td>1.0</td>\n",
              "      <td>0.0</td>\n",
              "      <td>0.0</td>\n",
              "      <td>0.0</td>\n",
              "      <td>1.0</td>\n",
              "      <td>1.0</td>\n",
              "      <td>1.0</td>\n",
              "      <td>0.0</td>\n",
              "      <td>0.0</td>\n",
              "      <td>1.0</td>\n",
              "      <td>1.0</td>\n",
              "      <td>0.0</td>\n",
              "      <td>0.0</td>\n",
              "      <td>0.0</td>\n",
              "      <td>0.0</td>\n",
              "      <td>0.0</td>\n",
              "      <td>0.0</td>\n",
              "      <td>0.0</td>\n",
              "      <td>0.0</td>\n",
              "      <td>0.0</td>\n",
              "      <td>0.0</td>\n",
              "      <td>0.0</td>\n",
              "      <td>1.0</td>\n",
              "      <td>0.0</td>\n",
              "      <td>0.0</td>\n",
              "      <td>0.0</td>\n",
              "      <td>0.0</td>\n",
              "      <td>0.0</td>\n",
              "      <td>0.0</td>\n",
              "      <td>1.0</td>\n",
              "    </tr>\n",
              "    <tr>\n",
              "      <th>8817</th>\n",
              "      <td>40000.0</td>\n",
              "      <td>0.0</td>\n",
              "      <td>1.0</td>\n",
              "      <td>1.0</td>\n",
              "      <td>0.0</td>\n",
              "      <td>0.0</td>\n",
              "      <td>0.0</td>\n",
              "      <td>0.0</td>\n",
              "      <td>0.0</td>\n",
              "      <td>0.0</td>\n",
              "      <td>0.0</td>\n",
              "      <td>0.0</td>\n",
              "      <td>0.0</td>\n",
              "      <td>0.0</td>\n",
              "      <td>1.0</td>\n",
              "      <td>0.0</td>\n",
              "      <td>1.0</td>\n",
              "      <td>0.0</td>\n",
              "      <td>0.0</td>\n",
              "      <td>0.0</td>\n",
              "      <td>0.0</td>\n",
              "      <td>1.0</td>\n",
              "      <td>0.0</td>\n",
              "      <td>0.0</td>\n",
              "      <td>0.0</td>\n",
              "      <td>0.0</td>\n",
              "      <td>1.0</td>\n",
              "      <td>0.0</td>\n",
              "      <td>1.0</td>\n",
              "      <td>0.0</td>\n",
              "      <td>0.0</td>\n",
              "      <td>1.0</td>\n",
              "      <td>1.0</td>\n",
              "      <td>1.0</td>\n",
              "      <td>1.0</td>\n",
              "      <td>0.0</td>\n",
              "      <td>0.0</td>\n",
              "      <td>0.0</td>\n",
              "      <td>0.0</td>\n",
              "      <td>0.0</td>\n",
              "      <td>0.0</td>\n",
              "      <td>0.0</td>\n",
              "      <td>0.0</td>\n",
              "      <td>1.0</td>\n",
              "      <td>0.0</td>\n",
              "      <td>0.0</td>\n",
              "    </tr>\n",
              "    <tr>\n",
              "      <th>8818</th>\n",
              "      <td>252000.0</td>\n",
              "      <td>10.0</td>\n",
              "      <td>1.0</td>\n",
              "      <td>1.0</td>\n",
              "      <td>0.0</td>\n",
              "      <td>0.0</td>\n",
              "      <td>0.0</td>\n",
              "      <td>0.0</td>\n",
              "      <td>0.0</td>\n",
              "      <td>0.0</td>\n",
              "      <td>0.0</td>\n",
              "      <td>0.0</td>\n",
              "      <td>1.0</td>\n",
              "      <td>0.0</td>\n",
              "      <td>0.0</td>\n",
              "      <td>0.0</td>\n",
              "      <td>1.0</td>\n",
              "      <td>1.0</td>\n",
              "      <td>1.0</td>\n",
              "      <td>0.0</td>\n",
              "      <td>0.0</td>\n",
              "      <td>1.0</td>\n",
              "      <td>1.0</td>\n",
              "      <td>0.0</td>\n",
              "      <td>0.0</td>\n",
              "      <td>1.0</td>\n",
              "      <td>1.0</td>\n",
              "      <td>0.0</td>\n",
              "      <td>0.0</td>\n",
              "      <td>0.0</td>\n",
              "      <td>0.0</td>\n",
              "      <td>1.0</td>\n",
              "      <td>0.0</td>\n",
              "      <td>0.0</td>\n",
              "      <td>1.0</td>\n",
              "      <td>1.0</td>\n",
              "      <td>1.0</td>\n",
              "      <td>0.0</td>\n",
              "      <td>0.0</td>\n",
              "      <td>0.0</td>\n",
              "      <td>1.0</td>\n",
              "      <td>1.0</td>\n",
              "      <td>0.0</td>\n",
              "      <td>0.0</td>\n",
              "      <td>0.0</td>\n",
              "      <td>0.0</td>\n",
              "    </tr>\n",
              "    <tr>\n",
              "      <th>8819</th>\n",
              "      <td>128000.0</td>\n",
              "      <td>6.0</td>\n",
              "      <td>1.0</td>\n",
              "      <td>0.0</td>\n",
              "      <td>0.0</td>\n",
              "      <td>0.0</td>\n",
              "      <td>0.0</td>\n",
              "      <td>0.0</td>\n",
              "      <td>0.0</td>\n",
              "      <td>0.0</td>\n",
              "      <td>0.0</td>\n",
              "      <td>0.0</td>\n",
              "      <td>0.0</td>\n",
              "      <td>0.0</td>\n",
              "      <td>0.0</td>\n",
              "      <td>0.0</td>\n",
              "      <td>0.0</td>\n",
              "      <td>0.0</td>\n",
              "      <td>0.0</td>\n",
              "      <td>0.0</td>\n",
              "      <td>0.0</td>\n",
              "      <td>0.0</td>\n",
              "      <td>0.0</td>\n",
              "      <td>0.0</td>\n",
              "      <td>0.0</td>\n",
              "      <td>0.0</td>\n",
              "      <td>0.0</td>\n",
              "      <td>0.0</td>\n",
              "      <td>0.0</td>\n",
              "      <td>0.0</td>\n",
              "      <td>0.0</td>\n",
              "      <td>0.0</td>\n",
              "      <td>0.0</td>\n",
              "      <td>0.0</td>\n",
              "      <td>0.0</td>\n",
              "      <td>0.0</td>\n",
              "      <td>1.0</td>\n",
              "      <td>0.0</td>\n",
              "      <td>0.0</td>\n",
              "      <td>0.0</td>\n",
              "      <td>0.0</td>\n",
              "      <td>1.0</td>\n",
              "      <td>0.0</td>\n",
              "      <td>0.0</td>\n",
              "      <td>0.0</td>\n",
              "      <td>0.0</td>\n",
              "    </tr>\n",
              "  </tbody>\n",
              "</table>\n",
              "</div>"
            ],
            "text/plain": [
              "      ConvertedCompYearly  YearsCodePro  AWS  ...  Vue.js  Xamarin  jQuery\n",
              "8815             200000.0           5.0  1.0  ...     0.0      0.0     0.0\n",
              "8816             160000.0          35.0  0.0  ...     0.0      0.0     1.0\n",
              "8817              40000.0           0.0  1.0  ...     1.0      0.0     0.0\n",
              "8818             252000.0          10.0  1.0  ...     0.0      0.0     0.0\n",
              "8819             128000.0           6.0  1.0  ...     0.0      0.0     0.0\n",
              "\n",
              "[5 rows x 46 columns]"
            ]
          },
          "execution_count": 7,
          "metadata": {},
          "output_type": "execute_result"
        }
      ],
      "source": [
        "dataset = raw.copy()\n",
        "dataset.tail()"
      ]
    },
    {
      "cell_type": "markdown",
      "metadata": {
        "id": "3MWuJTKEDM-f"
      },
      "source": [
        "### Clean the data\n",
        "\n",
        "The dataset may contain a few unknown values:"
      ]
    },
    {
      "cell_type": "code",
      "execution_count": null,
      "metadata": {
        "colab": {
          "base_uri": "https://localhost:8080/"
        },
        "id": "JEJHhN65a2VV",
        "outputId": "068eca42-01d9-474e-998f-796c6b6d3d01"
      },
      "outputs": [
        {
          "data": {
            "text/plain": [
              "ConvertedCompYearly      0\n",
              "YearsCodePro             0\n",
              "AWS                      0\n",
              "Bash/Shell               0\n",
              "C++                      0\n",
              "COBOL                    0\n",
              "Cassandra                0\n",
              "Clojure                  0\n",
              "Crystal                  0\n",
              "Delphi                   0\n",
              "Django                   0\n",
              "Drupal                   0\n",
              "DynamoDB                 0\n",
              "Elasticsearch            0\n",
              "Flask                    0\n",
              "Flow                     0\n",
              "Git                      0\n",
              "Go                       0\n",
              "Google Cloud Platform    0\n",
              "Hadoop                   0\n",
              "Java                     0\n",
              "JavaScript               0\n",
              "Kubernetes               0\n",
              "LISP                     0\n",
              "MariaDB                  0\n",
              "Microsoft Azure          0\n",
              "Node.js                  0\n",
              "Oracle                   0\n",
              "PHP                      0\n",
              "Pandas                   0\n",
              "Perl                     0\n",
              "PowerShell               0\n",
              "Python                   0\n",
              "Qt                       0\n",
              "React.js                 0\n",
              "Redis                    0\n",
              "Ruby on Rails            0\n",
              "Rust                     0\n",
              "Scala                    0\n",
              "Swift                    0\n",
              "Terraform                0\n",
              "TypeScript               0\n",
              "Unity 3D                 0\n",
              "Vue.js                   0\n",
              "Xamarin                  0\n",
              "jQuery                   0\n",
              "dtype: int64"
            ]
          },
          "execution_count": 8,
          "metadata": {},
          "output_type": "execute_result"
        }
      ],
      "source": [
        "dataset.isna().sum()"
      ]
    },
    {
      "cell_type": "markdown",
      "metadata": {
        "id": "9UPN0KBHa_WI"
      },
      "source": [
        "Drop those rows to keep this initial tutorial simple:"
      ]
    },
    {
      "cell_type": "code",
      "execution_count": null,
      "metadata": {
        "id": "4ZUDosChC1UN"
      },
      "outputs": [],
      "source": [
        "dataset = dataset.dropna()"
      ]
    },
    {
      "cell_type": "markdown",
      "metadata": {
        "id": "Cuym4yvk76vU"
      },
      "source": [
        "### Split the data into training and test sets\n",
        "\n",
        "Now, split the dataset into a training set and a test set. You will use the test set in the final evaluation of your models."
      ]
    },
    {
      "cell_type": "code",
      "execution_count": null,
      "metadata": {
        "id": "qn-IGhUE7_1H"
      },
      "outputs": [],
      "source": [
        "train_dataset = dataset.sample(frac=0.8, random_state=0)\n",
        "test_dataset = dataset.drop(train_dataset.index)"
      ]
    },
    {
      "cell_type": "markdown",
      "metadata": {
        "id": "J4ubs136WLNp"
      },
      "source": [
        "### Inspect the data\n",
        "\n",
        "Review the joint distribution of a few pairs of columns from the training set.\n",
        "\n",
        "The top row suggests that the fuel efficiency (MPG) is a function of all the other parameters. The other rows indicate they are functions of each other."
      ]
    },
    {
      "cell_type": "code",
      "execution_count": null,
      "metadata": {
        "colab": {
          "base_uri": "https://localhost:8080/",
          "height": 920
        },
        "id": "oRKO_x8gWKv-",
        "outputId": "70808b4b-66c3-44ad-d548-2a70298bd68e"
      },
      "outputs": [
        {
          "data": {
            "text/plain": [
              "<seaborn.axisgrid.PairGrid at 0x7f890033cc10>"
            ]
          },
          "execution_count": 11,
          "metadata": {},
          "output_type": "execute_result"
        },
        {
          "data": {
            "image/png": "[encoded data removed]",
            "text/plain": [
              "<Figure size 900x900 with 30 Axes>"
            ]
          },
          "metadata": {},
          "output_type": "display_data"
        }
      ],
      "source": [
        "sns.pairplot(train_dataset[['YearsCodePro', 'AWS', 'Python', 'PHP','Go']], diag_kind='kde')"
      ]
    },
    {
      "cell_type": "code",
      "execution_count": null,
      "metadata": {
        "colab": {
          "base_uri": "https://localhost:8080/",
          "height": 920
        },
        "id": "RB2GifZTorY4",
        "outputId": "5ec65f5f-36ca-457b-d408-95ed8d90213f"
      },
      "outputs": [
        {
          "data": {
            "text/plain": [
              "<seaborn.axisgrid.PairGrid at 0x7f88f4164410>"
            ]
          },
          "execution_count": 12,
          "metadata": {},
          "output_type": "execute_result"
        },
        {
          "data": {
            "image/png": "[encoded data removed]",
            "text/plain": [
              "<Figure size 951.875x900 with 30 Axes>"
            ]
          },
          "metadata": {},
          "output_type": "display_data"
        }
      ],
      "source": [
        "sns.pairplot(dataset[['ConvertedCompYearly','YearsCodePro', 'AWS', 'Python', 'PHP','Go']], diag_kind='kde', hue='Python')"
      ]
    },
    {
      "cell_type": "markdown",
      "metadata": {
        "id": "gavKO_6DWRMP"
      },
      "source": [
        "Let's also check the overall statistics. Note how each feature covers a very different range:"
      ]
    },
    {
      "cell_type": "code",
      "execution_count": null,
      "metadata": {
        "colab": {
          "base_uri": "https://localhost:8080/",
          "height": 1000
        },
        "id": "yi2FzC3T21jR",
        "outputId": "82bf72c4-ebca-4182-aef2-c9369a5df4d2"
      },
      "outputs": [
        {
          "data": {
            "text/html": [
              "<div>\n",
              "<style scoped>\n",
              "    .dataframe tbody tr th:only-of-type {\n",
              "        vertical-align: middle;\n",
              "    }\n",
              "\n",
              "    .dataframe tbody tr th {\n",
              "        vertical-align: top;\n",
              "    }\n",
              "\n",
              "    .dataframe thead th {\n",
              "        text-align: right;\n",
              "    }\n",
              "</style>\n",
              "<table border=\"1\" class=\"dataframe\">\n",
              "  <thead>\n",
              "    <tr style=\"text-align: right;\">\n",
              "      <th></th>\n",
              "      <th>count</th>\n",
              "      <th>mean</th>\n",
              "      <th>std</th>\n",
              "      <th>min</th>\n",
              "      <th>25%</th>\n",
              "      <th>50%</th>\n",
              "      <th>75%</th>\n",
              "      <th>max</th>\n",
              "    </tr>\n",
              "  </thead>\n",
              "  <tbody>\n",
              "    <tr>\n",
              "      <th>ConvertedCompYearly</th>\n",
              "      <td>7056.0</td>\n",
              "      <td>138069.162132</td>\n",
              "      <td>68226.674368</td>\n",
              "      <td>40000.0</td>\n",
              "      <td>92561.5</td>\n",
              "      <td>125000.0</td>\n",
              "      <td>164625.0</td>\n",
              "      <td>500000.0</td>\n",
              "    </tr>\n",
              "    <tr>\n",
              "      <th>YearsCodePro</th>\n",
              "      <td>7056.0</td>\n",
              "      <td>11.492489</td>\n",
              "      <td>9.528454</td>\n",
              "      <td>0.0</td>\n",
              "      <td>4.0</td>\n",
              "      <td>9.0</td>\n",
              "      <td>16.0</td>\n",
              "      <td>51.0</td>\n",
              "    </tr>\n",
              "    <tr>\n",
              "      <th>AWS</th>\n",
              "      <td>7056.0</td>\n",
              "      <td>0.525935</td>\n",
              "      <td>0.499362</td>\n",
              "      <td>0.0</td>\n",
              "      <td>0.0</td>\n",
              "      <td>1.0</td>\n",
              "      <td>1.0</td>\n",
              "      <td>1.0</td>\n",
              "    </tr>\n",
              "    <tr>\n",
              "      <th>Bash/Shell</th>\n",
              "      <td>7056.0</td>\n",
              "      <td>0.395692</td>\n",
              "      <td>0.489033</td>\n",
              "      <td>0.0</td>\n",
              "      <td>0.0</td>\n",
              "      <td>0.0</td>\n",
              "      <td>1.0</td>\n",
              "      <td>1.0</td>\n",
              "    </tr>\n",
              "    <tr>\n",
              "      <th>C++</th>\n",
              "      <td>7056.0</td>\n",
              "      <td>0.172336</td>\n",
              "      <td>0.377699</td>\n",
              "      <td>0.0</td>\n",
              "      <td>0.0</td>\n",
              "      <td>0.0</td>\n",
              "      <td>0.0</td>\n",
              "      <td>1.0</td>\n",
              "    </tr>\n",
              "    <tr>\n",
              "      <th>COBOL</th>\n",
              "      <td>7056.0</td>\n",
              "      <td>0.004819</td>\n",
              "      <td>0.069254</td>\n",
              "      <td>0.0</td>\n",
              "      <td>0.0</td>\n",
              "      <td>0.0</td>\n",
              "      <td>0.0</td>\n",
              "      <td>1.0</td>\n",
              "    </tr>\n",
              "    <tr>\n",
              "      <th>Cassandra</th>\n",
              "      <td>7056.0</td>\n",
              "      <td>0.022534</td>\n",
              "      <td>0.148423</td>\n",
              "      <td>0.0</td>\n",
              "      <td>0.0</td>\n",
              "      <td>0.0</td>\n",
              "      <td>0.0</td>\n",
              "      <td>1.0</td>\n",
              "    </tr>\n",
              "    <tr>\n",
              "      <th>Clojure</th>\n",
              "      <td>7056.0</td>\n",
              "      <td>0.031604</td>\n",
              "      <td>0.174957</td>\n",
              "      <td>0.0</td>\n",
              "      <td>0.0</td>\n",
              "      <td>0.0</td>\n",
              "      <td>0.0</td>\n",
              "      <td>1.0</td>\n",
              "    </tr>\n",
              "    <tr>\n",
              "      <th>Crystal</th>\n",
              "      <td>7056.0</td>\n",
              "      <td>0.007086</td>\n",
              "      <td>0.083887</td>\n",
              "      <td>0.0</td>\n",
              "      <td>0.0</td>\n",
              "      <td>0.0</td>\n",
              "      <td>0.0</td>\n",
              "      <td>1.0</td>\n",
              "    </tr>\n",
              "    <tr>\n",
              "      <th>Delphi</th>\n",
              "      <td>7056.0</td>\n",
              "      <td>0.011054</td>\n",
              "      <td>0.104565</td>\n",
              "      <td>0.0</td>\n",
              "      <td>0.0</td>\n",
              "      <td>0.0</td>\n",
              "      <td>0.0</td>\n",
              "      <td>1.0</td>\n",
              "    </tr>\n",
              "    <tr>\n",
              "      <th>Django</th>\n",
              "      <td>7056.0</td>\n",
              "      <td>0.081491</td>\n",
              "      <td>0.273607</td>\n",
              "      <td>0.0</td>\n",
              "      <td>0.0</td>\n",
              "      <td>0.0</td>\n",
              "      <td>0.0</td>\n",
              "      <td>1.0</td>\n",
              "    </tr>\n",
              "    <tr>\n",
              "      <th>Drupal</th>\n",
              "      <td>7056.0</td>\n",
              "      <td>0.023810</td>\n",
              "      <td>0.152466</td>\n",
              "      <td>0.0</td>\n",
              "      <td>0.0</td>\n",
              "      <td>0.0</td>\n",
              "      <td>0.0</td>\n",
              "      <td>1.0</td>\n",
              "    </tr>\n",
              "    <tr>\n",
              "      <th>DynamoDB</th>\n",
              "      <td>7056.0</td>\n",
              "      <td>0.115221</td>\n",
              "      <td>0.319311</td>\n",
              "      <td>0.0</td>\n",
              "      <td>0.0</td>\n",
              "      <td>0.0</td>\n",
              "      <td>0.0</td>\n",
              "      <td>1.0</td>\n",
              "    </tr>\n",
              "    <tr>\n",
              "      <th>Elasticsearch</th>\n",
              "      <td>7056.0</td>\n",
              "      <td>0.149235</td>\n",
              "      <td>0.356345</td>\n",
              "      <td>0.0</td>\n",
              "      <td>0.0</td>\n",
              "      <td>0.0</td>\n",
              "      <td>0.0</td>\n",
              "      <td>1.0</td>\n",
              "    </tr>\n",
              "    <tr>\n",
              "      <th>Flask</th>\n",
              "      <td>7056.0</td>\n",
              "      <td>0.117914</td>\n",
              "      <td>0.322529</td>\n",
              "      <td>0.0</td>\n",
              "      <td>0.0</td>\n",
              "      <td>0.0</td>\n",
              "      <td>0.0</td>\n",
              "      <td>1.0</td>\n",
              "    </tr>\n",
              "    <tr>\n",
              "      <th>Flow</th>\n",
              "      <td>7056.0</td>\n",
              "      <td>0.009637</td>\n",
              "      <td>0.097702</td>\n",
              "      <td>0.0</td>\n",
              "      <td>0.0</td>\n",
              "      <td>0.0</td>\n",
              "      <td>0.0</td>\n",
              "      <td>1.0</td>\n",
              "    </tr>\n",
              "    <tr>\n",
              "      <th>Git</th>\n",
              "      <td>7056.0</td>\n",
              "      <td>0.877551</td>\n",
              "      <td>0.327827</td>\n",
              "      <td>0.0</td>\n",
              "      <td>1.0</td>\n",
              "      <td>1.0</td>\n",
              "      <td>1.0</td>\n",
              "      <td>1.0</td>\n",
              "    </tr>\n",
              "    <tr>\n",
              "      <th>Go</th>\n",
              "      <td>7056.0</td>\n",
              "      <td>0.136054</td>\n",
              "      <td>0.342871</td>\n",
              "      <td>0.0</td>\n",
              "      <td>0.0</td>\n",
              "      <td>0.0</td>\n",
              "      <td>0.0</td>\n",
              "      <td>1.0</td>\n",
              "    </tr>\n",
              "    <tr>\n",
              "      <th>Google Cloud Platform</th>\n",
              "      <td>7056.0</td>\n",
              "      <td>0.184524</td>\n",
              "      <td>0.387938</td>\n",
              "      <td>0.0</td>\n",
              "      <td>0.0</td>\n",
              "      <td>0.0</td>\n",
              "      <td>0.0</td>\n",
              "      <td>1.0</td>\n",
              "    </tr>\n",
              "    <tr>\n",
              "      <th>Hadoop</th>\n",
              "      <td>7056.0</td>\n",
              "      <td>0.026644</td>\n",
              "      <td>0.161052</td>\n",
              "      <td>0.0</td>\n",
              "      <td>0.0</td>\n",
              "      <td>0.0</td>\n",
              "      <td>0.0</td>\n",
              "      <td>1.0</td>\n",
              "    </tr>\n",
              "    <tr>\n",
              "      <th>Java</th>\n",
              "      <td>7056.0</td>\n",
              "      <td>0.281179</td>\n",
              "      <td>0.449607</td>\n",
              "      <td>0.0</td>\n",
              "      <td>0.0</td>\n",
              "      <td>0.0</td>\n",
              "      <td>1.0</td>\n",
              "      <td>1.0</td>\n",
              "    </tr>\n",
              "    <tr>\n",
              "      <th>JavaScript</th>\n",
              "      <td>7056.0</td>\n",
              "      <td>0.678713</td>\n",
              "      <td>0.467004</td>\n",
              "      <td>0.0</td>\n",
              "      <td>0.0</td>\n",
              "      <td>1.0</td>\n",
              "      <td>1.0</td>\n",
              "      <td>1.0</td>\n",
              "    </tr>\n",
              "    <tr>\n",
              "      <th>Kubernetes</th>\n",
              "      <td>7056.0</td>\n",
              "      <td>0.208333</td>\n",
              "      <td>0.406145</td>\n",
              "      <td>0.0</td>\n",
              "      <td>0.0</td>\n",
              "      <td>0.0</td>\n",
              "      <td>0.0</td>\n",
              "      <td>1.0</td>\n",
              "    </tr>\n",
              "    <tr>\n",
              "      <th>LISP</th>\n",
              "      <td>7056.0</td>\n",
              "      <td>0.017857</td>\n",
              "      <td>0.132442</td>\n",
              "      <td>0.0</td>\n",
              "      <td>0.0</td>\n",
              "      <td>0.0</td>\n",
              "      <td>0.0</td>\n",
              "      <td>1.0</td>\n",
              "    </tr>\n",
              "    <tr>\n",
              "      <th>MariaDB</th>\n",
              "      <td>7056.0</td>\n",
              "      <td>0.101049</td>\n",
              "      <td>0.301415</td>\n",
              "      <td>0.0</td>\n",
              "      <td>0.0</td>\n",
              "      <td>0.0</td>\n",
              "      <td>0.0</td>\n",
              "      <td>1.0</td>\n",
              "    </tr>\n",
              "    <tr>\n",
              "      <th>Microsoft Azure</th>\n",
              "      <td>7056.0</td>\n",
              "      <td>0.262188</td>\n",
              "      <td>0.439856</td>\n",
              "      <td>0.0</td>\n",
              "      <td>0.0</td>\n",
              "      <td>0.0</td>\n",
              "      <td>1.0</td>\n",
              "      <td>1.0</td>\n",
              "    </tr>\n",
              "    <tr>\n",
              "      <th>Node.js</th>\n",
              "      <td>7056.0</td>\n",
              "      <td>0.354450</td>\n",
              "      <td>0.478380</td>\n",
              "      <td>0.0</td>\n",
              "      <td>0.0</td>\n",
              "      <td>0.0</td>\n",
              "      <td>1.0</td>\n",
              "      <td>1.0</td>\n",
              "    </tr>\n",
              "    <tr>\n",
              "      <th>Oracle</th>\n",
              "      <td>7056.0</td>\n",
              "      <td>0.088577</td>\n",
              "      <td>0.284152</td>\n",
              "      <td>0.0</td>\n",
              "      <td>0.0</td>\n",
              "      <td>0.0</td>\n",
              "      <td>0.0</td>\n",
              "      <td>1.0</td>\n",
              "    </tr>\n",
              "    <tr>\n",
              "      <th>PHP</th>\n",
              "      <td>7056.0</td>\n",
              "      <td>0.139739</td>\n",
              "      <td>0.346741</td>\n",
              "      <td>0.0</td>\n",
              "      <td>0.0</td>\n",
              "      <td>0.0</td>\n",
              "      <td>0.0</td>\n",
              "      <td>1.0</td>\n",
              "    </tr>\n",
              "    <tr>\n",
              "      <th>Pandas</th>\n",
              "      <td>7056.0</td>\n",
              "      <td>0.151927</td>\n",
              "      <td>0.358976</td>\n",
              "      <td>0.0</td>\n",
              "      <td>0.0</td>\n",
              "      <td>0.0</td>\n",
              "      <td>0.0</td>\n",
              "      <td>1.0</td>\n",
              "    </tr>\n",
              "    <tr>\n",
              "      <th>Perl</th>\n",
              "      <td>7056.0</td>\n",
              "      <td>0.041383</td>\n",
              "      <td>0.199189</td>\n",
              "      <td>0.0</td>\n",
              "      <td>0.0</td>\n",
              "      <td>0.0</td>\n",
              "      <td>0.0</td>\n",
              "      <td>1.0</td>\n",
              "    </tr>\n",
              "    <tr>\n",
              "      <th>PowerShell</th>\n",
              "      <td>7056.0</td>\n",
              "      <td>0.163265</td>\n",
              "      <td>0.369634</td>\n",
              "      <td>0.0</td>\n",
              "      <td>0.0</td>\n",
              "      <td>0.0</td>\n",
              "      <td>0.0</td>\n",
              "      <td>1.0</td>\n",
              "    </tr>\n",
              "    <tr>\n",
              "      <th>Python</th>\n",
              "      <td>7056.0</td>\n",
              "      <td>0.475198</td>\n",
              "      <td>0.499420</td>\n",
              "      <td>0.0</td>\n",
              "      <td>0.0</td>\n",
              "      <td>0.0</td>\n",
              "      <td>1.0</td>\n",
              "      <td>1.0</td>\n",
              "    </tr>\n",
              "    <tr>\n",
              "      <th>Qt</th>\n",
              "      <td>7056.0</td>\n",
              "      <td>0.036990</td>\n",
              "      <td>0.188750</td>\n",
              "      <td>0.0</td>\n",
              "      <td>0.0</td>\n",
              "      <td>0.0</td>\n",
              "      <td>0.0</td>\n",
              "      <td>1.0</td>\n",
              "    </tr>\n",
              "    <tr>\n",
              "      <th>React.js</th>\n",
              "      <td>7056.0</td>\n",
              "      <td>0.348639</td>\n",
              "      <td>0.476573</td>\n",
              "      <td>0.0</td>\n",
              "      <td>0.0</td>\n",
              "      <td>0.0</td>\n",
              "      <td>1.0</td>\n",
              "      <td>1.0</td>\n",
              "    </tr>\n",
              "    <tr>\n",
              "      <th>Redis</th>\n",
              "      <td>7056.0</td>\n",
              "      <td>0.231151</td>\n",
              "      <td>0.421598</td>\n",
              "      <td>0.0</td>\n",
              "      <td>0.0</td>\n",
              "      <td>0.0</td>\n",
              "      <td>0.0</td>\n",
              "      <td>1.0</td>\n",
              "    </tr>\n",
              "    <tr>\n",
              "      <th>Ruby on Rails</th>\n",
              "      <td>7056.0</td>\n",
              "      <td>0.102608</td>\n",
              "      <td>0.303467</td>\n",
              "      <td>0.0</td>\n",
              "      <td>0.0</td>\n",
              "      <td>0.0</td>\n",
              "      <td>0.0</td>\n",
              "      <td>1.0</td>\n",
              "    </tr>\n",
              "    <tr>\n",
              "      <th>Rust</th>\n",
              "      <td>7056.0</td>\n",
              "      <td>0.088577</td>\n",
              "      <td>0.284152</td>\n",
              "      <td>0.0</td>\n",
              "      <td>0.0</td>\n",
              "      <td>0.0</td>\n",
              "      <td>0.0</td>\n",
              "      <td>1.0</td>\n",
              "    </tr>\n",
              "    <tr>\n",
              "      <th>Scala</th>\n",
              "      <td>7056.0</td>\n",
              "      <td>0.032313</td>\n",
              "      <td>0.176842</td>\n",
              "      <td>0.0</td>\n",
              "      <td>0.0</td>\n",
              "      <td>0.0</td>\n",
              "      <td>0.0</td>\n",
              "      <td>1.0</td>\n",
              "    </tr>\n",
              "    <tr>\n",
              "      <th>Swift</th>\n",
              "      <td>7056.0</td>\n",
              "      <td>0.054280</td>\n",
              "      <td>0.226586</td>\n",
              "      <td>0.0</td>\n",
              "      <td>0.0</td>\n",
              "      <td>0.0</td>\n",
              "      <td>0.0</td>\n",
              "      <td>1.0</td>\n",
              "    </tr>\n",
              "    <tr>\n",
              "      <th>Terraform</th>\n",
              "      <td>7056.0</td>\n",
              "      <td>0.130102</td>\n",
              "      <td>0.336440</td>\n",
              "      <td>0.0</td>\n",
              "      <td>0.0</td>\n",
              "      <td>0.0</td>\n",
              "      <td>0.0</td>\n",
              "      <td>1.0</td>\n",
              "    </tr>\n",
              "    <tr>\n",
              "      <th>TypeScript</th>\n",
              "      <td>7056.0</td>\n",
              "      <td>0.359977</td>\n",
              "      <td>0.480027</td>\n",
              "      <td>0.0</td>\n",
              "      <td>0.0</td>\n",
              "      <td>0.0</td>\n",
              "      <td>1.0</td>\n",
              "      <td>1.0</td>\n",
              "    </tr>\n",
              "    <tr>\n",
              "      <th>Unity 3D</th>\n",
              "      <td>7056.0</td>\n",
              "      <td>0.050170</td>\n",
              "      <td>0.218311</td>\n",
              "      <td>0.0</td>\n",
              "      <td>0.0</td>\n",
              "      <td>0.0</td>\n",
              "      <td>0.0</td>\n",
              "      <td>1.0</td>\n",
              "    </tr>\n",
              "    <tr>\n",
              "      <th>Vue.js</th>\n",
              "      <td>7056.0</td>\n",
              "      <td>0.136480</td>\n",
              "      <td>0.343321</td>\n",
              "      <td>0.0</td>\n",
              "      <td>0.0</td>\n",
              "      <td>0.0</td>\n",
              "      <td>0.0</td>\n",
              "      <td>1.0</td>\n",
              "    </tr>\n",
              "    <tr>\n",
              "      <th>Xamarin</th>\n",
              "      <td>7056.0</td>\n",
              "      <td>0.032171</td>\n",
              "      <td>0.176467</td>\n",
              "      <td>0.0</td>\n",
              "      <td>0.0</td>\n",
              "      <td>0.0</td>\n",
              "      <td>0.0</td>\n",
              "      <td>1.0</td>\n",
              "    </tr>\n",
              "    <tr>\n",
              "      <th>jQuery</th>\n",
              "      <td>7056.0</td>\n",
              "      <td>0.249008</td>\n",
              "      <td>0.432469</td>\n",
              "      <td>0.0</td>\n",
              "      <td>0.0</td>\n",
              "      <td>0.0</td>\n",
              "      <td>0.0</td>\n",
              "      <td>1.0</td>\n",
              "    </tr>\n",
              "  </tbody>\n",
              "</table>\n",
              "</div>"
            ],
            "text/plain": [
              "                        count           mean  ...       75%       max\n",
              "ConvertedCompYearly    7056.0  138069.162132  ...  164625.0  500000.0\n",
              "YearsCodePro           7056.0      11.492489  ...      16.0      51.0\n",
              "AWS                    7056.0       0.525935  ...       1.0       1.0\n",
              "Bash/Shell             7056.0       0.395692  ...       1.0       1.0\n",
              "C++                    7056.0       0.172336  ...       0.0       1.0\n",
              "COBOL                  7056.0       0.004819  ...       0.0       1.0\n",
              "Cassandra              7056.0       0.022534  ...       0.0       1.0\n",
              "Clojure                7056.0       0.031604  ...       0.0       1.0\n",
              "Crystal                7056.0       0.007086  ...       0.0       1.0\n",
              "Delphi                 7056.0       0.011054  ...       0.0       1.0\n",
              "Django                 7056.0       0.081491  ...       0.0       1.0\n",
              "Drupal                 7056.0       0.023810  ...       0.0       1.0\n",
              "DynamoDB               7056.0       0.115221  ...       0.0       1.0\n",
              "Elasticsearch          7056.0       0.149235  ...       0.0       1.0\n",
              "Flask                  7056.0       0.117914  ...       0.0       1.0\n",
              "Flow                   7056.0       0.009637  ...       0.0       1.0\n",
              "Git                    7056.0       0.877551  ...       1.0       1.0\n",
              "Go                     7056.0       0.136054  ...       0.0       1.0\n",
              "Google Cloud Platform  7056.0       0.184524  ...       0.0       1.0\n",
              "Hadoop                 7056.0       0.026644  ...       0.0       1.0\n",
              "Java                   7056.0       0.281179  ...       1.0       1.0\n",
              "JavaScript             7056.0       0.678713  ...       1.0       1.0\n",
              "Kubernetes             7056.0       0.208333  ...       0.0       1.0\n",
              "LISP                   7056.0       0.017857  ...       0.0       1.0\n",
              "MariaDB                7056.0       0.101049  ...       0.0       1.0\n",
              "Microsoft Azure        7056.0       0.262188  ...       1.0       1.0\n",
              "Node.js                7056.0       0.354450  ...       1.0       1.0\n",
              "Oracle                 7056.0       0.088577  ...       0.0       1.0\n",
              "PHP                    7056.0       0.139739  ...       0.0       1.0\n",
              "Pandas                 7056.0       0.151927  ...       0.0       1.0\n",
              "Perl                   7056.0       0.041383  ...       0.0       1.0\n",
              "PowerShell             7056.0       0.163265  ...       0.0       1.0\n",
              "Python                 7056.0       0.475198  ...       1.0       1.0\n",
              "Qt                     7056.0       0.036990  ...       0.0       1.0\n",
              "React.js               7056.0       0.348639  ...       1.0       1.0\n",
              "Redis                  7056.0       0.231151  ...       0.0       1.0\n",
              "Ruby on Rails          7056.0       0.102608  ...       0.0       1.0\n",
              "Rust                   7056.0       0.088577  ...       0.0       1.0\n",
              "Scala                  7056.0       0.032313  ...       0.0       1.0\n",
              "Swift                  7056.0       0.054280  ...       0.0       1.0\n",
              "Terraform              7056.0       0.130102  ...       0.0       1.0\n",
              "TypeScript             7056.0       0.359977  ...       1.0       1.0\n",
              "Unity 3D               7056.0       0.050170  ...       0.0       1.0\n",
              "Vue.js                 7056.0       0.136480  ...       0.0       1.0\n",
              "Xamarin                7056.0       0.032171  ...       0.0       1.0\n",
              "jQuery                 7056.0       0.249008  ...       0.0       1.0\n",
              "\n",
              "[46 rows x 8 columns]"
            ]
          },
          "execution_count": 13,
          "metadata": {},
          "output_type": "execute_result"
        }
      ],
      "source": [
        "train_dataset.describe().transpose()"
      ]
    },
    {
      "cell_type": "markdown",
      "metadata": {
        "id": "Db7Auq1yXUvh"
      },
      "source": [
        "### Split features from labels\n",
        "\n",
        "Separate the target value—the \"label\"—from the features. This label is the value that you will train the model to predict."
      ]
    },
    {
      "cell_type": "code",
      "execution_count": null,
      "metadata": {
        "id": "t2sluJdCW7jN"
      },
      "outputs": [],
      "source": [
        "train_features = train_dataset.copy()\n",
        "test_features = test_dataset.copy()\n",
        "\n",
        "train_labels = train_features.pop('ConvertedCompYearly')\n",
        "test_labels = test_features.pop('ConvertedCompYearly')"
      ]
    },
    {
      "cell_type": "code",
      "execution_count": null,
      "metadata": {
        "colab": {
          "base_uri": "https://localhost:8080/"
        },
        "id": "29GqvjRhn3z1",
        "outputId": "32628f22-e70a-42d0-9fa7-b3f1727e192d"
      },
      "outputs": [
        {
          "data": {
            "text/plain": [
              "YearsCodePro             float64\n",
              "AWS                      float64\n",
              "Bash/Shell               float64\n",
              "C++                      float64\n",
              "COBOL                    float64\n",
              "Cassandra                float64\n",
              "Clojure                  float64\n",
              "Crystal                  float64\n",
              "Delphi                   float64\n",
              "Django                   float64\n",
              "Drupal                   float64\n",
              "DynamoDB                 float64\n",
              "Elasticsearch            float64\n",
              "Flask                    float64\n",
              "Flow                     float64\n",
              "Git                      float64\n",
              "Go                       float64\n",
              "Google Cloud Platform    float64\n",
              "Hadoop                   float64\n",
              "Java                     float64\n",
              "JavaScript               float64\n",
              "Kubernetes               float64\n",
              "LISP                     float64\n",
              "MariaDB                  float64\n",
              "Microsoft Azure          float64\n",
              "Node.js                  float64\n",
              "Oracle                   float64\n",
              "PHP                      float64\n",
              "Pandas                   float64\n",
              "Perl                     float64\n",
              "PowerShell               float64\n",
              "Python                   float64\n",
              "Qt                       float64\n",
              "React.js                 float64\n",
              "Redis                    float64\n",
              "Ruby on Rails            float64\n",
              "Rust                     float64\n",
              "Scala                    float64\n",
              "Swift                    float64\n",
              "Terraform                float64\n",
              "TypeScript               float64\n",
              "Unity 3D                 float64\n",
              "Vue.js                   float64\n",
              "Xamarin                  float64\n",
              "jQuery                   float64\n",
              "dtype: object"
            ]
          },
          "execution_count": 15,
          "metadata": {},
          "output_type": "execute_result"
        }
      ],
      "source": [
        "train_features.dtypes"
      ]
    },
    {
      "cell_type": "markdown",
      "metadata": {
        "id": "mRklxK5s388r"
      },
      "source": [
        "## Normalization\n",
        "\n",
        "In the table of statistics it's easy to see how different the ranges of each feature are:"
      ]
    },
    {
      "cell_type": "code",
      "execution_count": null,
      "metadata": {
        "colab": {
          "base_uri": "https://localhost:8080/",
          "height": 1000
        },
        "id": "IcmY6lKKbkw8",
        "outputId": "7190720a-2503-4f36-f1f5-049c33b043ea"
      },
      "outputs": [
        {
          "data": {
            "text/html": [
              "<div>\n",
              "<style scoped>\n",
              "    .dataframe tbody tr th:only-of-type {\n",
              "        vertical-align: middle;\n",
              "    }\n",
              "\n",
              "    .dataframe tbody tr th {\n",
              "        vertical-align: top;\n",
              "    }\n",
              "\n",
              "    .dataframe thead th {\n",
              "        text-align: right;\n",
              "    }\n",
              "</style>\n",
              "<table border=\"1\" class=\"dataframe\">\n",
              "  <thead>\n",
              "    <tr style=\"text-align: right;\">\n",
              "      <th></th>\n",
              "      <th>mean</th>\n",
              "      <th>std</th>\n",
              "    </tr>\n",
              "  </thead>\n",
              "  <tbody>\n",
              "    <tr>\n",
              "      <th>ConvertedCompYearly</th>\n",
              "      <td>138069.162132</td>\n",
              "      <td>68226.674368</td>\n",
              "    </tr>\n",
              "    <tr>\n",
              "      <th>YearsCodePro</th>\n",
              "      <td>11.492489</td>\n",
              "      <td>9.528454</td>\n",
              "    </tr>\n",
              "    <tr>\n",
              "      <th>AWS</th>\n",
              "      <td>0.525935</td>\n",
              "      <td>0.499362</td>\n",
              "    </tr>\n",
              "    <tr>\n",
              "      <th>Bash/Shell</th>\n",
              "      <td>0.395692</td>\n",
              "      <td>0.489033</td>\n",
              "    </tr>\n",
              "    <tr>\n",
              "      <th>C++</th>\n",
              "      <td>0.172336</td>\n",
              "      <td>0.377699</td>\n",
              "    </tr>\n",
              "    <tr>\n",
              "      <th>COBOL</th>\n",
              "      <td>0.004819</td>\n",
              "      <td>0.069254</td>\n",
              "    </tr>\n",
              "    <tr>\n",
              "      <th>Cassandra</th>\n",
              "      <td>0.022534</td>\n",
              "      <td>0.148423</td>\n",
              "    </tr>\n",
              "    <tr>\n",
              "      <th>Clojure</th>\n",
              "      <td>0.031604</td>\n",
              "      <td>0.174957</td>\n",
              "    </tr>\n",
              "    <tr>\n",
              "      <th>Crystal</th>\n",
              "      <td>0.007086</td>\n",
              "      <td>0.083887</td>\n",
              "    </tr>\n",
              "    <tr>\n",
              "      <th>Delphi</th>\n",
              "      <td>0.011054</td>\n",
              "      <td>0.104565</td>\n",
              "    </tr>\n",
              "    <tr>\n",
              "      <th>Django</th>\n",
              "      <td>0.081491</td>\n",
              "      <td>0.273607</td>\n",
              "    </tr>\n",
              "    <tr>\n",
              "      <th>Drupal</th>\n",
              "      <td>0.023810</td>\n",
              "      <td>0.152466</td>\n",
              "    </tr>\n",
              "    <tr>\n",
              "      <th>DynamoDB</th>\n",
              "      <td>0.115221</td>\n",
              "      <td>0.319311</td>\n",
              "    </tr>\n",
              "    <tr>\n",
              "      <th>Elasticsearch</th>\n",
              "      <td>0.149235</td>\n",
              "      <td>0.356345</td>\n",
              "    </tr>\n",
              "    <tr>\n",
              "      <th>Flask</th>\n",
              "      <td>0.117914</td>\n",
              "      <td>0.322529</td>\n",
              "    </tr>\n",
              "    <tr>\n",
              "      <th>Flow</th>\n",
              "      <td>0.009637</td>\n",
              "      <td>0.097702</td>\n",
              "    </tr>\n",
              "    <tr>\n",
              "      <th>Git</th>\n",
              "      <td>0.877551</td>\n",
              "      <td>0.327827</td>\n",
              "    </tr>\n",
              "    <tr>\n",
              "      <th>Go</th>\n",
              "      <td>0.136054</td>\n",
              "      <td>0.342871</td>\n",
              "    </tr>\n",
              "    <tr>\n",
              "      <th>Google Cloud Platform</th>\n",
              "      <td>0.184524</td>\n",
              "      <td>0.387938</td>\n",
              "    </tr>\n",
              "    <tr>\n",
              "      <th>Hadoop</th>\n",
              "      <td>0.026644</td>\n",
              "      <td>0.161052</td>\n",
              "    </tr>\n",
              "    <tr>\n",
              "      <th>Java</th>\n",
              "      <td>0.281179</td>\n",
              "      <td>0.449607</td>\n",
              "    </tr>\n",
              "    <tr>\n",
              "      <th>JavaScript</th>\n",
              "      <td>0.678713</td>\n",
              "      <td>0.467004</td>\n",
              "    </tr>\n",
              "    <tr>\n",
              "      <th>Kubernetes</th>\n",
              "      <td>0.208333</td>\n",
              "      <td>0.406145</td>\n",
              "    </tr>\n",
              "    <tr>\n",
              "      <th>LISP</th>\n",
              "      <td>0.017857</td>\n",
              "      <td>0.132442</td>\n",
              "    </tr>\n",
              "    <tr>\n",
              "      <th>MariaDB</th>\n",
              "      <td>0.101049</td>\n",
              "      <td>0.301415</td>\n",
              "    </tr>\n",
              "    <tr>\n",
              "      <th>Microsoft Azure</th>\n",
              "      <td>0.262188</td>\n",
              "      <td>0.439856</td>\n",
              "    </tr>\n",
              "    <tr>\n",
              "      <th>Node.js</th>\n",
              "      <td>0.354450</td>\n",
              "      <td>0.478380</td>\n",
              "    </tr>\n",
              "    <tr>\n",
              "      <th>Oracle</th>\n",
              "      <td>0.088577</td>\n",
              "      <td>0.284152</td>\n",
              "    </tr>\n",
              "    <tr>\n",
              "      <th>PHP</th>\n",
              "      <td>0.139739</td>\n",
              "      <td>0.346741</td>\n",
              "    </tr>\n",
              "    <tr>\n",
              "      <th>Pandas</th>\n",
              "      <td>0.151927</td>\n",
              "      <td>0.358976</td>\n",
              "    </tr>\n",
              "    <tr>\n",
              "      <th>Perl</th>\n",
              "      <td>0.041383</td>\n",
              "      <td>0.199189</td>\n",
              "    </tr>\n",
              "    <tr>\n",
              "      <th>PowerShell</th>\n",
              "      <td>0.163265</td>\n",
              "      <td>0.369634</td>\n",
              "    </tr>\n",
              "    <tr>\n",
              "      <th>Python</th>\n",
              "      <td>0.475198</td>\n",
              "      <td>0.499420</td>\n",
              "    </tr>\n",
              "    <tr>\n",
              "      <th>Qt</th>\n",
              "      <td>0.036990</td>\n",
              "      <td>0.188750</td>\n",
              "    </tr>\n",
              "    <tr>\n",
              "      <th>React.js</th>\n",
              "      <td>0.348639</td>\n",
              "      <td>0.476573</td>\n",
              "    </tr>\n",
              "    <tr>\n",
              "      <th>Redis</th>\n",
              "      <td>0.231151</td>\n",
              "      <td>0.421598</td>\n",
              "    </tr>\n",
              "    <tr>\n",
              "      <th>Ruby on Rails</th>\n",
              "      <td>0.102608</td>\n",
              "      <td>0.303467</td>\n",
              "    </tr>\n",
              "    <tr>\n",
              "      <th>Rust</th>\n",
              "      <td>0.088577</td>\n",
              "      <td>0.284152</td>\n",
              "    </tr>\n",
              "    <tr>\n",
              "      <th>Scala</th>\n",
              "      <td>0.032313</td>\n",
              "      <td>0.176842</td>\n",
              "    </tr>\n",
              "    <tr>\n",
              "      <th>Swift</th>\n",
              "      <td>0.054280</td>\n",
              "      <td>0.226586</td>\n",
              "    </tr>\n",
              "    <tr>\n",
              "      <th>Terraform</th>\n",
              "      <td>0.130102</td>\n",
              "      <td>0.336440</td>\n",
              "    </tr>\n",
              "    <tr>\n",
              "      <th>TypeScript</th>\n",
              "      <td>0.359977</td>\n",
              "      <td>0.480027</td>\n",
              "    </tr>\n",
              "    <tr>\n",
              "      <th>Unity 3D</th>\n",
              "      <td>0.050170</td>\n",
              "      <td>0.218311</td>\n",
              "    </tr>\n",
              "    <tr>\n",
              "      <th>Vue.js</th>\n",
              "      <td>0.136480</td>\n",
              "      <td>0.343321</td>\n",
              "    </tr>\n",
              "    <tr>\n",
              "      <th>Xamarin</th>\n",
              "      <td>0.032171</td>\n",
              "      <td>0.176467</td>\n",
              "    </tr>\n",
              "    <tr>\n",
              "      <th>jQuery</th>\n",
              "      <td>0.249008</td>\n",
              "      <td>0.432469</td>\n",
              "    </tr>\n",
              "  </tbody>\n",
              "</table>\n",
              "</div>"
            ],
            "text/plain": [
              "                                mean           std\n",
              "ConvertedCompYearly    138069.162132  68226.674368\n",
              "YearsCodePro               11.492489      9.528454\n",
              "AWS                         0.525935      0.499362\n",
              "Bash/Shell                  0.395692      0.489033\n",
              "C++                         0.172336      0.377699\n",
              "COBOL                       0.004819      0.069254\n",
              "Cassandra                   0.022534      0.148423\n",
              "Clojure                     0.031604      0.174957\n",
              "Crystal                     0.007086      0.083887\n",
              "Delphi                      0.011054      0.104565\n",
              "Django                      0.081491      0.273607\n",
              "Drupal                      0.023810      0.152466\n",
              "DynamoDB                    0.115221      0.319311\n",
              "Elasticsearch               0.149235      0.356345\n",
              "Flask                       0.117914      0.322529\n",
              "Flow                        0.009637      0.097702\n",
              "Git                         0.877551      0.327827\n",
              "Go                          0.136054      0.342871\n",
              "Google Cloud Platform       0.184524      0.387938\n",
              "Hadoop                      0.026644      0.161052\n",
              "Java                        0.281179      0.449607\n",
              "JavaScript                  0.678713      0.467004\n",
              "Kubernetes                  0.208333      0.406145\n",
              "LISP                        0.017857      0.132442\n",
              "MariaDB                     0.101049      0.301415\n",
              "Microsoft Azure             0.262188      0.439856\n",
              "Node.js                     0.354450      0.478380\n",
              "Oracle                      0.088577      0.284152\n",
              "PHP                         0.139739      0.346741\n",
              "Pandas                      0.151927      0.358976\n",
              "Perl                        0.041383      0.199189\n",
              "PowerShell                  0.163265      0.369634\n",
              "Python                      0.475198      0.499420\n",
              "Qt                          0.036990      0.188750\n",
              "React.js                    0.348639      0.476573\n",
              "Redis                       0.231151      0.421598\n",
              "Ruby on Rails               0.102608      0.303467\n",
              "Rust                        0.088577      0.284152\n",
              "Scala                       0.032313      0.176842\n",
              "Swift                       0.054280      0.226586\n",
              "Terraform                   0.130102      0.336440\n",
              "TypeScript                  0.359977      0.480027\n",
              "Unity 3D                    0.050170      0.218311\n",
              "Vue.js                      0.136480      0.343321\n",
              "Xamarin                     0.032171      0.176467\n",
              "jQuery                      0.249008      0.432469"
            ]
          },
          "execution_count": 16,
          "metadata": {},
          "output_type": "execute_result"
        }
      ],
      "source": [
        "train_dataset.describe().transpose()[['mean', 'std']]"
      ]
    },
    {
      "cell_type": "markdown",
      "metadata": {
        "id": "-ywmerQ6dSox"
      },
      "source": [
        "It is good practice to normalize features that use different scales and ranges.\n",
        "\n",
        "One reason this is important is because the features are multiplied by the model weights. So, the scale of the outputs and the scale of the gradients are affected by the scale of the inputs.\n",
        "\n",
        "Although a model *might* converge without feature normalization, normalization makes training much more stable.\n",
        "\n",
        "Note: There is no advantage to normalizing the one-hot features—it is done here for simplicity. For more details on how to use the preprocessing layers, refer to the [Working with preprocessing layers](https://www.tensorflow.org/guide/keras/preprocessing_layers) guide and the [Classify structured data using Keras preprocessing layers](../structured_data/preprocessing_layers.ipynb) tutorial."
      ]
    },
    {
      "cell_type": "markdown",
      "metadata": {
        "id": "aFJ6ISropeoo"
      },
      "source": [
        "### The Normalization layer\n",
        "\n",
        "The `tf.keras.layers.Normalization` is a clean and simple way to add feature normalization into your model.\n",
        "\n",
        "The first step is to create the layer:"
      ]
    },
    {
      "cell_type": "code",
      "execution_count": null,
      "metadata": {
        "id": "JlC5ooJrgjQF"
      },
      "outputs": [],
      "source": [
        "normalizer = tf.keras.layers.Normalization(axis=-1)"
      ]
    },
    {
      "cell_type": "markdown",
      "metadata": {
        "id": "XYA2Ap6nVOha"
      },
      "source": [
        "Then, fit the state of the preprocessing layer to the data by calling `Normalization.adapt`:"
      ]
    },
    {
      "cell_type": "code",
      "execution_count": null,
      "metadata": {
        "id": "CrBbbjbwV91f"
      },
      "outputs": [],
      "source": [
        "normalizer.adapt(np.array(train_features))"
      ]
    },
    {
      "cell_type": "markdown",
      "metadata": {
        "id": "oZccMR5yV9YV"
      },
      "source": [
        "Calculate the mean and variance, and store them in the layer:"
      ]
    },
    {
      "cell_type": "code",
      "execution_count": null,
      "metadata": {
        "colab": {
          "base_uri": "https://localhost:8080/"
        },
        "id": "GGn-ukwxSPtx",
        "outputId": "3fed8b38-03ee-40e9-be2c-2314954cec18"
      },
      "outputs": [
        {
          "name": "stdout",
          "output_type": "stream",
          "text": [
            "[[11.492  0.526  0.396  0.172  0.005  0.023  0.032  0.007  0.011  0.081\n",
            "   0.024  0.115  0.149  0.118  0.01   0.878  0.136  0.185  0.027  0.281\n",
            "   0.679  0.208  0.018  0.101  0.262  0.354  0.089  0.14   0.152  0.041\n",
            "   0.163  0.475  0.037  0.349  0.231  0.103  0.089  0.032  0.054  0.13\n",
            "   0.36   0.05   0.136  0.032  0.249]]\n"
          ]
        }
      ],
      "source": [
        "print(normalizer.mean.numpy())"
      ]
    },
    {
      "cell_type": "markdown",
      "metadata": {
        "id": "oGWKaF9GSRuN"
      },
      "source": [
        "When the layer is called, it returns the input data, with each feature independently normalized:"
      ]
    },
    {
      "cell_type": "code",
      "execution_count": null,
      "metadata": {
        "colab": {
          "base_uri": "https://localhost:8080/"
        },
        "id": "2l7zFL_XWIRu",
        "outputId": "5d5eef43-a5a0-4661-bc98-162922866270"
      },
      "outputs": [
        {
          "name": "stdout",
          "output_type": "stream",
          "text": [
            "First example: [[25.  1.  0.  0.  0.  0.  0.  0.  0.  0.  0.  0.  0.  0.  0.  1.  1.  1.\n",
            "   0.  0.  1.  1.  0.  0.  0.  0.  0.  0.  0.  0.  0.  0.  0.  0.  1.  1.\n",
            "   0.  0.  0.  0.  0.  0.  0.  0.  1.]]\n",
            "\n",
            "Normalized: [[ 1.42  0.95 -0.81 -0.46 -0.07 -0.15 -0.18 -0.08 -0.11 -0.3  -0.16 -0.36\n",
            "  -0.42 -0.37 -0.1   0.37  2.52  2.1  -0.17 -0.63  0.69  1.95 -0.13 -0.34\n",
            "  -0.6  -0.74 -0.31 -0.4  -0.42 -0.21 -0.44 -0.95 -0.2  -0.73  1.82  2.96\n",
            "  -0.31 -0.18 -0.24 -0.39 -0.75 -0.23 -0.4  -0.18  1.74]]\n"
          ]
        }
      ],
      "source": [
        "first = np.array(train_features[:1])\n",
        "\n",
        "with np.printoptions(precision=2, suppress=True):\n",
        "  print('First example:', first)\n",
        "  print()\n",
        "  print('Normalized:', normalizer(first).numpy())"
      ]
    },
    {
      "cell_type": "markdown",
      "metadata": {
        "id": "6o3CrycBXA2s"
      },
      "source": [
        "## Linear regression\n",
        "\n",
        "Before building a deep neural network model, start with linear regression using one and several variables."
      ]
    },
    {
      "cell_type": "markdown",
      "metadata": {
        "id": "lFby9n0tnHkw"
      },
      "source": [
        "### Linear regression with one variable\n",
        "\n",
        "Begin with a single-variable linear regression to predict `'ConvertedCompYearly'` from `'YearsCodePro'`.\n",
        "\n",
        "Training a model with `tf.keras` typically starts by defining the model architecture. Use a `tf.keras.Sequential` model, which [represents a sequence of steps](.././guide/keras/sequential_model.ipynb).\n",
        "\n",
        "There are two steps in your single-variable linear regression model:\n",
        "\n",
        "- Normalize the `'YearsCodePro'` input features using the `tf.keras.layers.Normalization` preprocessing layer.\n",
        "- Apply a linear transformation ($y = mx+b$) to produce 1 output using a linear layer (`tf.keras.layers.Dense`).\n",
        "\n",
        "The number of _inputs_ can either be set by the `input_shape` argument, or automatically when the model is run for the first time."
      ]
    },
    {
      "cell_type": "markdown",
      "metadata": {
        "id": "Xp3gAFn3TPv8"
      },
      "source": [
        "First, create a NumPy array made of the `'Horsepower'` features. Then, instantiate the `tf.keras.layers.Normalization` and fit its state to the `horsepower` data:"
      ]
    },
    {
      "cell_type": "code",
      "execution_count": null,
      "metadata": {
        "id": "1gJAy0fKs1TS"
      },
      "outputs": [],
      "source": [
        "horsepower = np.array(train_features['YearsCodePro'])\n",
        "\n",
        "horsepower_normalizer = layers.Normalization(input_shape=[1,], axis=None)\n",
        "horsepower_normalizer.adapt(horsepower)"
      ]
    },
    {
      "cell_type": "markdown",
      "metadata": {
        "id": "4NVlHJY2TWlC"
      },
      "source": [
        "Build the Keras Sequential model:"
      ]
    },
    {
      "cell_type": "code",
      "execution_count": null,
      "metadata": {
        "colab": {
          "base_uri": "https://localhost:8080/"
        },
        "id": "c0sXM7qLlKfZ",
        "outputId": "0c524258-39a8-4ba6-b608-f6362ff68e2f"
      },
      "outputs": [
        {
          "name": "stdout",
          "output_type": "stream",
          "text": [
            "Model: \"sequential\"\n",
            "_________________________________________________________________\n",
            " Layer (type)                Output Shape              Param #   \n",
            "=================================================================\n",
            " normalization_1 (Normalizat  (None, 1)                3         \n",
            " ion)                                                            \n",
            "                                                                 \n",
            " dense (Dense)               (None, 1)                 2         \n",
            "                                                                 \n",
            "=================================================================\n",
            "Total params: 5\n",
            "Trainable params: 2\n",
            "Non-trainable params: 3\n",
            "_________________________________________________________________\n"
          ]
        }
      ],
      "source": [
        "horsepower_model = tf.keras.Sequential([\n",
        "    horsepower_normalizer,\n",
        "    layers.Dense(units=1)\n",
        "])\n",
        "\n",
        "horsepower_model.summary()"
      ]
    },
    {
      "cell_type": "markdown",
      "metadata": {
        "id": "eObQu9fDnXGL"
      },
      "source": [
        "This model will predict `'Salary'` from `'YearsCodePro'`.\n",
        "\n",
        "Run the untrained model on the first 10 'Horsepower' values. The output won't be good, but notice that it has the expected shape of `(10, 1)`:"
      ]
    },
    {
      "cell_type": "code",
      "execution_count": null,
      "metadata": {
        "colab": {
          "base_uri": "https://localhost:8080/"
        },
        "id": "UfV1HS6bns-s",
        "outputId": "d431603a-4be3-4e76-8136-3ab8108d9933"
      },
      "outputs": [
        {
          "data": {
            "text/plain": [
              "array([[ 0.378],\n",
              "       [-0.266],\n",
              "       [-0.042],\n",
              "       [-0.098],\n",
              "       [-0.07 ],\n",
              "       [-0.182],\n",
              "       [ 0.238],\n",
              "       [-0.182],\n",
              "       [ 0.126],\n",
              "       [-0.014]], dtype=float32)"
            ]
          },
          "execution_count": 23,
          "metadata": {},
          "output_type": "execute_result"
        }
      ],
      "source": [
        "horsepower_model.predict(horsepower[:10])"
      ]
    },
    {
      "cell_type": "markdown",
      "metadata": {
        "id": "CSkanJlmmFBX"
      },
      "source": [
        "Once the model is built, configure the training procedure using the Keras `Model.compile` method. The most important arguments to compile are the `loss` and the `optimizer`, since these define what will be optimized (`mean_absolute_error`) and how (using the `tf.keras.optimizers.Adam`)."
      ]
    },
    {
      "cell_type": "code",
      "execution_count": null,
      "metadata": {
        "id": "JxA_3lpOm-SK"
      },
      "outputs": [],
      "source": [
        "horsepower_model.compile(\n",
        "    optimizer=tf.optimizers.Adam(learning_rate=0.1),\n",
        "    loss='mean_absolute_error')"
      ]
    },
    {
      "cell_type": "markdown",
      "metadata": {
        "id": "Z3q1I9TwnRSC"
      },
      "source": [
        "Use Keras `Model.fit` to execute the training for 100 epochs:"
      ]
    },
    {
      "cell_type": "code",
      "execution_count": null,
      "metadata": {
        "colab": {
          "base_uri": "https://localhost:8080/"
        },
        "id": "-iSrNy59nRAp",
        "outputId": "ec6013f6-3a75-4351-e34b-77fee9ba4390"
      },
      "outputs": [
        {
          "name": "stdout",
          "output_type": "stream",
          "text": [
            "CPU times: user 27.2 s, sys: 1.89 s, total: 29.1 s\n",
            "Wall time: 41.4 s\n"
          ]
        }
      ],
      "source": [
        "%%time\n",
        "history = horsepower_model.fit(\n",
        "    train_features['YearsCodePro'],\n",
        "    train_labels,\n",
        "    epochs=100,\n",
        "    # Suppress logging.\n",
        "    verbose=0,\n",
        "    # Calculate validation results on 20% of the training data.\n",
        "    validation_split = 0.2)"
      ]
    },
    {
      "cell_type": "markdown",
      "metadata": {
        "id": "tQm3pc0FYPQB"
      },
      "source": [
        "Visualize the model's training progress using the stats stored in the `history` object:"
      ]
    },
    {
      "cell_type": "code",
      "execution_count": null,
      "metadata": {
        "colab": {
          "base_uri": "https://localhost:8080/",
          "height": 206
        },
        "id": "YCAwD_y4AdC3",
        "outputId": "e42a975a-1b2a-4782-e949-10d3e22d7f62"
      },
      "outputs": [
        {
          "data": {
            "text/html": [
              "<div>\n",
              "<style scoped>\n",
              "    .dataframe tbody tr th:only-of-type {\n",
              "        vertical-align: middle;\n",
              "    }\n",
              "\n",
              "    .dataframe tbody tr th {\n",
              "        vertical-align: top;\n",
              "    }\n",
              "\n",
              "    .dataframe thead th {\n",
              "        text-align: right;\n",
              "    }\n",
              "</style>\n",
              "<table border=\"1\" class=\"dataframe\">\n",
              "  <thead>\n",
              "    <tr style=\"text-align: right;\">\n",
              "      <th></th>\n",
              "      <th>loss</th>\n",
              "      <th>val_loss</th>\n",
              "      <th>epoch</th>\n",
              "    </tr>\n",
              "  </thead>\n",
              "  <tbody>\n",
              "    <tr>\n",
              "      <th>95</th>\n",
              "      <td>136133.984375</td>\n",
              "      <td>137350.125000</td>\n",
              "      <td>95</td>\n",
              "    </tr>\n",
              "    <tr>\n",
              "      <th>96</th>\n",
              "      <td>136116.328125</td>\n",
              "      <td>137332.437500</td>\n",
              "      <td>96</td>\n",
              "    </tr>\n",
              "    <tr>\n",
              "      <th>97</th>\n",
              "      <td>136098.656250</td>\n",
              "      <td>137314.734375</td>\n",
              "      <td>97</td>\n",
              "    </tr>\n",
              "    <tr>\n",
              "      <th>98</th>\n",
              "      <td>136080.937500</td>\n",
              "      <td>137297.046875</td>\n",
              "      <td>98</td>\n",
              "    </tr>\n",
              "    <tr>\n",
              "      <th>99</th>\n",
              "      <td>136063.250000</td>\n",
              "      <td>137279.359375</td>\n",
              "      <td>99</td>\n",
              "    </tr>\n",
              "  </tbody>\n",
              "</table>\n",
              "</div>"
            ],
            "text/plain": [
              "             loss       val_loss  epoch\n",
              "95  136133.984375  137350.125000     95\n",
              "96  136116.328125  137332.437500     96\n",
              "97  136098.656250  137314.734375     97\n",
              "98  136080.937500  137297.046875     98\n",
              "99  136063.250000  137279.359375     99"
            ]
          },
          "execution_count": 26,
          "metadata": {},
          "output_type": "execute_result"
        }
      ],
      "source": [
        "hist = pd.DataFrame(history.history)\n",
        "hist['epoch'] = history.epoch\n",
        "hist.tail()"
      ]
    },
    {
      "cell_type": "code",
      "execution_count": null,
      "metadata": {
        "id": "9E54UoZunqhc"
      },
      "outputs": [],
      "source": [
        "def plot_loss(history):\n",
        "  plt.plot(history.history['loss'], label='loss')\n",
        "  plt.plot(history.history['val_loss'], label='val_loss')\n",
        "  # plt.ylim([0, 10])\n",
        "  plt.xlabel('Epoch')\n",
        "  plt.ylabel('Error [Salary]')\n",
        "  plt.legend()\n",
        "  plt.grid(True)\n",
        "  plt.rcParams[\"figure.figsize\"] = (15,15)"
      ]
    },
    {
      "cell_type": "code",
      "execution_count": null,
      "metadata": {
        "colab": {
          "base_uri": "https://localhost:8080/",
          "height": 279
        },
        "id": "yYsQYrIZyqjz",
        "outputId": "a7f4f672-71c6-4e34-c7af-c26bd3bea87c"
      },
      "outputs": [
        {
          "data": {
            "image/png": "[encoded data removed]",
            "text/plain": [
              "<Figure size 432x288 with 1 Axes>"
            ]
          },
          "metadata": {},
          "output_type": "display_data"
        }
      ],
      "source": [
        "plot_loss(history)"
      ]
    },
    {
      "cell_type": "markdown",
      "metadata": {
        "id": "CMNrt8X2ebXd"
      },
      "source": [
        "Collect the results on the test set for later:"
      ]
    },
    {
      "cell_type": "code",
      "execution_count": null,
      "metadata": {
        "id": "kDZ8EvNYrDtx"
      },
      "outputs": [],
      "source": [
        "test_results = {}\n",
        "\n",
        "test_results['horsepower_model'] = horsepower_model.evaluate(\n",
        "    test_features['YearsCodePro'],\n",
        "    test_labels, verbose=0)"
      ]
    },
    {
      "cell_type": "markdown",
      "metadata": {
        "id": "F0qutYAKwoda"
      },
      "source": [
        "Since this is a single variable regression, it's easy to view the model's predictions as a function of the input:"
      ]
    },
    {
      "cell_type": "code",
      "execution_count": null,
      "metadata": {
        "id": "xDS2JEtOn9Jn"
      },
      "outputs": [],
      "source": [
        "x = tf.linspace(0.0, 250, 251)\n",
        "y = horsepower_model.predict(x)"
      ]
    },
    {
      "cell_type": "code",
      "execution_count": null,
      "metadata": {
        "id": "rttFCTU8czsI"
      },
      "outputs": [],
      "source": [
        "def plot_horsepower(x, y):\n",
        "  plt.scatter(train_features['YearsCodePro'], train_labels, label='Data')\n",
        "  plt.plot(x, y, color='k', label='Predictions')\n",
        "  plt.xlim([0, 60])\n",
        "  plt.xlabel('YearsCodePro')\n",
        "  plt.ylabel('Salary')\n",
        "  plt.legend()\n",
        "  plt.rcParams[\"figure.figsize\"] = (15,15)"
      ]
    },
    {
      "cell_type": "code",
      "execution_count": null,
      "metadata": {
        "colab": {
          "base_uri": "https://localhost:8080/",
          "height": 877
        },
        "id": "7l9ZiAOEUNBL",
        "outputId": "7dfdbcf6-7de2-4b8e-a922-c40aebf307d0"
      },
      "outputs": [
        {
          "data": {
            "image/png": "[encoded data removed]",
            "text/plain": [
              "<Figure size 1080x1080 with 1 Axes>"
            ]
          },
          "metadata": {},
          "output_type": "display_data"
        }
      ],
      "source": [
        "plot_horsepower(x,y)"
      ]
    },
    {
      "cell_type": "markdown",
      "metadata": {
        "id": "Yk2RmlqPoM9u"
      },
      "source": [
        "### Linear regression with multiple inputs"
      ]
    },
    {
      "cell_type": "markdown",
      "metadata": {
        "id": "PribnwDHUksC"
      },
      "source": [
        "You can use an almost identical setup to make predictions based on multiple inputs. This model still does the same $y = mx+b$ except that $m$ is a matrix and $b$ is a vector.\n",
        "\n",
        "Create a two-step Keras Sequential model again with the first layer being `normalizer` (`tf.keras.layers.Normalization(axis=-1)`) you defined earlier and adapted to the whole dataset:"
      ]
    },
    {
      "cell_type": "code",
      "execution_count": null,
      "metadata": {
        "id": "ssnVcKg7oMe6"
      },
      "outputs": [],
      "source": [
        "linear_model = tf.keras.Sequential([\n",
        "    normalizer,\n",
        "    layers.Dense(units=1)\n",
        "])"
      ]
    },
    {
      "cell_type": "code",
      "execution_count": null,
      "metadata": {
        "colab": {
          "base_uri": "https://localhost:8080/",
          "height": 479
        },
        "id": "t-IrcvtWfUja",
        "outputId": "562b0f61-3750-4544-b08d-9b84aac67358"
      },
      "outputs": [
        {
          "data": {
            "text/html": [
              "<div>\n",
              "<style scoped>\n",
              "    .dataframe tbody tr th:only-of-type {\n",
              "        vertical-align: middle;\n",
              "    }\n",
              "\n",
              "    .dataframe tbody tr th {\n",
              "        vertical-align: top;\n",
              "    }\n",
              "\n",
              "    .dataframe thead th {\n",
              "        text-align: right;\n",
              "    }\n",
              "</style>\n",
              "<table border=\"1\" class=\"dataframe\">\n",
              "  <thead>\n",
              "    <tr style=\"text-align: right;\">\n",
              "      <th></th>\n",
              "      <th>YearsCodePro</th>\n",
              "      <th>AWS</th>\n",
              "      <th>Bash/Shell</th>\n",
              "      <th>C++</th>\n",
              "      <th>COBOL</th>\n",
              "      <th>Cassandra</th>\n",
              "      <th>Clojure</th>\n",
              "      <th>Crystal</th>\n",
              "      <th>Delphi</th>\n",
              "      <th>Django</th>\n",
              "      <th>Drupal</th>\n",
              "      <th>DynamoDB</th>\n",
              "      <th>Elasticsearch</th>\n",
              "      <th>Flask</th>\n",
              "      <th>Flow</th>\n",
              "      <th>Git</th>\n",
              "      <th>Go</th>\n",
              "      <th>Google Cloud Platform</th>\n",
              "      <th>Hadoop</th>\n",
              "      <th>Java</th>\n",
              "      <th>JavaScript</th>\n",
              "      <th>Kubernetes</th>\n",
              "      <th>LISP</th>\n",
              "      <th>MariaDB</th>\n",
              "      <th>Microsoft Azure</th>\n",
              "      <th>Node.js</th>\n",
              "      <th>Oracle</th>\n",
              "      <th>PHP</th>\n",
              "      <th>Pandas</th>\n",
              "      <th>Perl</th>\n",
              "      <th>PowerShell</th>\n",
              "      <th>Python</th>\n",
              "      <th>Qt</th>\n",
              "      <th>React.js</th>\n",
              "      <th>Redis</th>\n",
              "      <th>Ruby on Rails</th>\n",
              "      <th>Rust</th>\n",
              "      <th>Scala</th>\n",
              "      <th>Swift</th>\n",
              "      <th>Terraform</th>\n",
              "      <th>TypeScript</th>\n",
              "      <th>Unity 3D</th>\n",
              "      <th>Vue.js</th>\n",
              "      <th>Xamarin</th>\n",
              "      <th>jQuery</th>\n",
              "    </tr>\n",
              "  </thead>\n",
              "  <tbody>\n",
              "    <tr>\n",
              "      <th>5255</th>\n",
              "      <td>25.0</td>\n",
              "      <td>1.0</td>\n",
              "      <td>0.0</td>\n",
              "      <td>0.0</td>\n",
              "      <td>0.0</td>\n",
              "      <td>0.0</td>\n",
              "      <td>0.0</td>\n",
              "      <td>0.0</td>\n",
              "      <td>0.0</td>\n",
              "      <td>0.0</td>\n",
              "      <td>0.0</td>\n",
              "      <td>0.0</td>\n",
              "      <td>0.0</td>\n",
              "      <td>0.0</td>\n",
              "      <td>0.0</td>\n",
              "      <td>1.0</td>\n",
              "      <td>1.0</td>\n",
              "      <td>1.0</td>\n",
              "      <td>0.0</td>\n",
              "      <td>0.0</td>\n",
              "      <td>1.0</td>\n",
              "      <td>1.0</td>\n",
              "      <td>0.0</td>\n",
              "      <td>0.0</td>\n",
              "      <td>0.0</td>\n",
              "      <td>0.0</td>\n",
              "      <td>0.0</td>\n",
              "      <td>0.0</td>\n",
              "      <td>0.0</td>\n",
              "      <td>0.0</td>\n",
              "      <td>0.0</td>\n",
              "      <td>0.0</td>\n",
              "      <td>0.0</td>\n",
              "      <td>0.0</td>\n",
              "      <td>1.0</td>\n",
              "      <td>1.0</td>\n",
              "      <td>0.0</td>\n",
              "      <td>0.0</td>\n",
              "      <td>0.0</td>\n",
              "      <td>0.0</td>\n",
              "      <td>0.0</td>\n",
              "      <td>0.0</td>\n",
              "      <td>0.0</td>\n",
              "      <td>0.0</td>\n",
              "      <td>1.0</td>\n",
              "    </tr>\n",
              "    <tr>\n",
              "      <th>379</th>\n",
              "      <td>2.0</td>\n",
              "      <td>1.0</td>\n",
              "      <td>0.0</td>\n",
              "      <td>1.0</td>\n",
              "      <td>0.0</td>\n",
              "      <td>0.0</td>\n",
              "      <td>0.0</td>\n",
              "      <td>0.0</td>\n",
              "      <td>0.0</td>\n",
              "      <td>0.0</td>\n",
              "      <td>0.0</td>\n",
              "      <td>0.0</td>\n",
              "      <td>0.0</td>\n",
              "      <td>0.0</td>\n",
              "      <td>0.0</td>\n",
              "      <td>1.0</td>\n",
              "      <td>0.0</td>\n",
              "      <td>0.0</td>\n",
              "      <td>0.0</td>\n",
              "      <td>0.0</td>\n",
              "      <td>1.0</td>\n",
              "      <td>0.0</td>\n",
              "      <td>0.0</td>\n",
              "      <td>0.0</td>\n",
              "      <td>0.0</td>\n",
              "      <td>1.0</td>\n",
              "      <td>0.0</td>\n",
              "      <td>0.0</td>\n",
              "      <td>0.0</td>\n",
              "      <td>0.0</td>\n",
              "      <td>0.0</td>\n",
              "      <td>0.0</td>\n",
              "      <td>1.0</td>\n",
              "      <td>0.0</td>\n",
              "      <td>0.0</td>\n",
              "      <td>0.0</td>\n",
              "      <td>0.0</td>\n",
              "      <td>0.0</td>\n",
              "      <td>0.0</td>\n",
              "      <td>0.0</td>\n",
              "      <td>0.0</td>\n",
              "      <td>0.0</td>\n",
              "      <td>1.0</td>\n",
              "      <td>0.0</td>\n",
              "      <td>0.0</td>\n",
              "    </tr>\n",
              "    <tr>\n",
              "      <th>8458</th>\n",
              "      <td>10.0</td>\n",
              "      <td>0.0</td>\n",
              "      <td>0.0</td>\n",
              "      <td>0.0</td>\n",
              "      <td>0.0</td>\n",
              "      <td>0.0</td>\n",
              "      <td>0.0</td>\n",
              "      <td>0.0</td>\n",
              "      <td>0.0</td>\n",
              "      <td>0.0</td>\n",
              "      <td>0.0</td>\n",
              "      <td>0.0</td>\n",
              "      <td>0.0</td>\n",
              "      <td>0.0</td>\n",
              "      <td>0.0</td>\n",
              "      <td>0.0</td>\n",
              "      <td>0.0</td>\n",
              "      <td>0.0</td>\n",
              "      <td>0.0</td>\n",
              "      <td>1.0</td>\n",
              "      <td>1.0</td>\n",
              "      <td>0.0</td>\n",
              "      <td>0.0</td>\n",
              "      <td>0.0</td>\n",
              "      <td>0.0</td>\n",
              "      <td>0.0</td>\n",
              "      <td>0.0</td>\n",
              "      <td>0.0</td>\n",
              "      <td>0.0</td>\n",
              "      <td>0.0</td>\n",
              "      <td>1.0</td>\n",
              "      <td>0.0</td>\n",
              "      <td>0.0</td>\n",
              "      <td>0.0</td>\n",
              "      <td>0.0</td>\n",
              "      <td>0.0</td>\n",
              "      <td>0.0</td>\n",
              "      <td>0.0</td>\n",
              "      <td>0.0</td>\n",
              "      <td>0.0</td>\n",
              "      <td>1.0</td>\n",
              "      <td>0.0</td>\n",
              "      <td>0.0</td>\n",
              "      <td>0.0</td>\n",
              "      <td>0.0</td>\n",
              "    </tr>\n",
              "    <tr>\n",
              "      <th>3343</th>\n",
              "      <td>8.0</td>\n",
              "      <td>1.0</td>\n",
              "      <td>1.0</td>\n",
              "      <td>0.0</td>\n",
              "      <td>0.0</td>\n",
              "      <td>0.0</td>\n",
              "      <td>0.0</td>\n",
              "      <td>0.0</td>\n",
              "      <td>0.0</td>\n",
              "      <td>0.0</td>\n",
              "      <td>0.0</td>\n",
              "      <td>0.0</td>\n",
              "      <td>0.0</td>\n",
              "      <td>0.0</td>\n",
              "      <td>0.0</td>\n",
              "      <td>1.0</td>\n",
              "      <td>0.0</td>\n",
              "      <td>0.0</td>\n",
              "      <td>0.0</td>\n",
              "      <td>0.0</td>\n",
              "      <td>1.0</td>\n",
              "      <td>0.0</td>\n",
              "      <td>0.0</td>\n",
              "      <td>0.0</td>\n",
              "      <td>0.0</td>\n",
              "      <td>1.0</td>\n",
              "      <td>0.0</td>\n",
              "      <td>0.0</td>\n",
              "      <td>0.0</td>\n",
              "      <td>0.0</td>\n",
              "      <td>0.0</td>\n",
              "      <td>0.0</td>\n",
              "      <td>0.0</td>\n",
              "      <td>1.0</td>\n",
              "      <td>0.0</td>\n",
              "      <td>1.0</td>\n",
              "      <td>0.0</td>\n",
              "      <td>0.0</td>\n",
              "      <td>0.0</td>\n",
              "      <td>0.0</td>\n",
              "      <td>0.0</td>\n",
              "      <td>0.0</td>\n",
              "      <td>0.0</td>\n",
              "      <td>0.0</td>\n",
              "      <td>1.0</td>\n",
              "    </tr>\n",
              "    <tr>\n",
              "      <th>5472</th>\n",
              "      <td>9.0</td>\n",
              "      <td>1.0</td>\n",
              "      <td>0.0</td>\n",
              "      <td>0.0</td>\n",
              "      <td>0.0</td>\n",
              "      <td>0.0</td>\n",
              "      <td>0.0</td>\n",
              "      <td>0.0</td>\n",
              "      <td>0.0</td>\n",
              "      <td>0.0</td>\n",
              "      <td>0.0</td>\n",
              "      <td>1.0</td>\n",
              "      <td>0.0</td>\n",
              "      <td>0.0</td>\n",
              "      <td>0.0</td>\n",
              "      <td>1.0</td>\n",
              "      <td>1.0</td>\n",
              "      <td>0.0</td>\n",
              "      <td>0.0</td>\n",
              "      <td>1.0</td>\n",
              "      <td>0.0</td>\n",
              "      <td>0.0</td>\n",
              "      <td>0.0</td>\n",
              "      <td>0.0</td>\n",
              "      <td>0.0</td>\n",
              "      <td>1.0</td>\n",
              "      <td>0.0</td>\n",
              "      <td>0.0</td>\n",
              "      <td>0.0</td>\n",
              "      <td>0.0</td>\n",
              "      <td>0.0</td>\n",
              "      <td>0.0</td>\n",
              "      <td>0.0</td>\n",
              "      <td>0.0</td>\n",
              "      <td>1.0</td>\n",
              "      <td>0.0</td>\n",
              "      <td>0.0</td>\n",
              "      <td>0.0</td>\n",
              "      <td>0.0</td>\n",
              "      <td>0.0</td>\n",
              "      <td>1.0</td>\n",
              "      <td>0.0</td>\n",
              "      <td>0.0</td>\n",
              "      <td>0.0</td>\n",
              "      <td>0.0</td>\n",
              "    </tr>\n",
              "    <tr>\n",
              "      <th>...</th>\n",
              "      <td>...</td>\n",
              "      <td>...</td>\n",
              "      <td>...</td>\n",
              "      <td>...</td>\n",
              "      <td>...</td>\n",
              "      <td>...</td>\n",
              "      <td>...</td>\n",
              "      <td>...</td>\n",
              "      <td>...</td>\n",
              "      <td>...</td>\n",
              "      <td>...</td>\n",
              "      <td>...</td>\n",
              "      <td>...</td>\n",
              "      <td>...</td>\n",
              "      <td>...</td>\n",
              "      <td>...</td>\n",
              "      <td>...</td>\n",
              "      <td>...</td>\n",
              "      <td>...</td>\n",
              "      <td>...</td>\n",
              "      <td>...</td>\n",
              "      <td>...</td>\n",
              "      <td>...</td>\n",
              "      <td>...</td>\n",
              "      <td>...</td>\n",
              "      <td>...</td>\n",
              "      <td>...</td>\n",
              "      <td>...</td>\n",
              "      <td>...</td>\n",
              "      <td>...</td>\n",
              "      <td>...</td>\n",
              "      <td>...</td>\n",
              "      <td>...</td>\n",
              "      <td>...</td>\n",
              "      <td>...</td>\n",
              "      <td>...</td>\n",
              "      <td>...</td>\n",
              "      <td>...</td>\n",
              "      <td>...</td>\n",
              "      <td>...</td>\n",
              "      <td>...</td>\n",
              "      <td>...</td>\n",
              "      <td>...</td>\n",
              "      <td>...</td>\n",
              "      <td>...</td>\n",
              "    </tr>\n",
              "    <tr>\n",
              "      <th>7099</th>\n",
              "      <td>2.0</td>\n",
              "      <td>0.0</td>\n",
              "      <td>1.0</td>\n",
              "      <td>0.0</td>\n",
              "      <td>0.0</td>\n",
              "      <td>0.0</td>\n",
              "      <td>0.0</td>\n",
              "      <td>0.0</td>\n",
              "      <td>0.0</td>\n",
              "      <td>0.0</td>\n",
              "      <td>0.0</td>\n",
              "      <td>0.0</td>\n",
              "      <td>0.0</td>\n",
              "      <td>0.0</td>\n",
              "      <td>0.0</td>\n",
              "      <td>1.0</td>\n",
              "      <td>0.0</td>\n",
              "      <td>1.0</td>\n",
              "      <td>0.0</td>\n",
              "      <td>0.0</td>\n",
              "      <td>1.0</td>\n",
              "      <td>0.0</td>\n",
              "      <td>0.0</td>\n",
              "      <td>0.0</td>\n",
              "      <td>1.0</td>\n",
              "      <td>0.0</td>\n",
              "      <td>0.0</td>\n",
              "      <td>0.0</td>\n",
              "      <td>0.0</td>\n",
              "      <td>0.0</td>\n",
              "      <td>1.0</td>\n",
              "      <td>0.0</td>\n",
              "      <td>0.0</td>\n",
              "      <td>0.0</td>\n",
              "      <td>0.0</td>\n",
              "      <td>0.0</td>\n",
              "      <td>0.0</td>\n",
              "      <td>0.0</td>\n",
              "      <td>0.0</td>\n",
              "      <td>0.0</td>\n",
              "      <td>1.0</td>\n",
              "      <td>0.0</td>\n",
              "      <td>0.0</td>\n",
              "      <td>0.0</td>\n",
              "      <td>0.0</td>\n",
              "    </tr>\n",
              "    <tr>\n",
              "      <th>3249</th>\n",
              "      <td>6.0</td>\n",
              "      <td>1.0</td>\n",
              "      <td>0.0</td>\n",
              "      <td>0.0</td>\n",
              "      <td>0.0</td>\n",
              "      <td>0.0</td>\n",
              "      <td>0.0</td>\n",
              "      <td>0.0</td>\n",
              "      <td>0.0</td>\n",
              "      <td>0.0</td>\n",
              "      <td>0.0</td>\n",
              "      <td>0.0</td>\n",
              "      <td>0.0</td>\n",
              "      <td>0.0</td>\n",
              "      <td>0.0</td>\n",
              "      <td>1.0</td>\n",
              "      <td>0.0</td>\n",
              "      <td>0.0</td>\n",
              "      <td>0.0</td>\n",
              "      <td>0.0</td>\n",
              "      <td>1.0</td>\n",
              "      <td>1.0</td>\n",
              "      <td>0.0</td>\n",
              "      <td>0.0</td>\n",
              "      <td>0.0</td>\n",
              "      <td>1.0</td>\n",
              "      <td>0.0</td>\n",
              "      <td>0.0</td>\n",
              "      <td>0.0</td>\n",
              "      <td>0.0</td>\n",
              "      <td>0.0</td>\n",
              "      <td>0.0</td>\n",
              "      <td>0.0</td>\n",
              "      <td>1.0</td>\n",
              "      <td>1.0</td>\n",
              "      <td>1.0</td>\n",
              "      <td>0.0</td>\n",
              "      <td>0.0</td>\n",
              "      <td>0.0</td>\n",
              "      <td>0.0</td>\n",
              "      <td>1.0</td>\n",
              "      <td>0.0</td>\n",
              "      <td>0.0</td>\n",
              "      <td>0.0</td>\n",
              "      <td>0.0</td>\n",
              "    </tr>\n",
              "    <tr>\n",
              "      <th>7773</th>\n",
              "      <td>5.0</td>\n",
              "      <td>1.0</td>\n",
              "      <td>0.0</td>\n",
              "      <td>0.0</td>\n",
              "      <td>0.0</td>\n",
              "      <td>0.0</td>\n",
              "      <td>0.0</td>\n",
              "      <td>0.0</td>\n",
              "      <td>0.0</td>\n",
              "      <td>1.0</td>\n",
              "      <td>0.0</td>\n",
              "      <td>0.0</td>\n",
              "      <td>1.0</td>\n",
              "      <td>0.0</td>\n",
              "      <td>0.0</td>\n",
              "      <td>1.0</td>\n",
              "      <td>1.0</td>\n",
              "      <td>0.0</td>\n",
              "      <td>0.0</td>\n",
              "      <td>1.0</td>\n",
              "      <td>1.0</td>\n",
              "      <td>1.0</td>\n",
              "      <td>0.0</td>\n",
              "      <td>0.0</td>\n",
              "      <td>1.0</td>\n",
              "      <td>0.0</td>\n",
              "      <td>0.0</td>\n",
              "      <td>0.0</td>\n",
              "      <td>0.0</td>\n",
              "      <td>0.0</td>\n",
              "      <td>0.0</td>\n",
              "      <td>1.0</td>\n",
              "      <td>0.0</td>\n",
              "      <td>1.0</td>\n",
              "      <td>1.0</td>\n",
              "      <td>0.0</td>\n",
              "      <td>0.0</td>\n",
              "      <td>0.0</td>\n",
              "      <td>0.0</td>\n",
              "      <td>1.0</td>\n",
              "      <td>0.0</td>\n",
              "      <td>0.0</td>\n",
              "      <td>1.0</td>\n",
              "      <td>0.0</td>\n",
              "      <td>0.0</td>\n",
              "    </tr>\n",
              "    <tr>\n",
              "      <th>6564</th>\n",
              "      <td>12.0</td>\n",
              "      <td>1.0</td>\n",
              "      <td>0.0</td>\n",
              "      <td>0.0</td>\n",
              "      <td>0.0</td>\n",
              "      <td>0.0</td>\n",
              "      <td>0.0</td>\n",
              "      <td>0.0</td>\n",
              "      <td>0.0</td>\n",
              "      <td>0.0</td>\n",
              "      <td>0.0</td>\n",
              "      <td>0.0</td>\n",
              "      <td>0.0</td>\n",
              "      <td>0.0</td>\n",
              "      <td>0.0</td>\n",
              "      <td>1.0</td>\n",
              "      <td>0.0</td>\n",
              "      <td>0.0</td>\n",
              "      <td>0.0</td>\n",
              "      <td>0.0</td>\n",
              "      <td>1.0</td>\n",
              "      <td>0.0</td>\n",
              "      <td>0.0</td>\n",
              "      <td>0.0</td>\n",
              "      <td>0.0</td>\n",
              "      <td>1.0</td>\n",
              "      <td>0.0</td>\n",
              "      <td>1.0</td>\n",
              "      <td>0.0</td>\n",
              "      <td>0.0</td>\n",
              "      <td>0.0</td>\n",
              "      <td>1.0</td>\n",
              "      <td>0.0</td>\n",
              "      <td>1.0</td>\n",
              "      <td>0.0</td>\n",
              "      <td>0.0</td>\n",
              "      <td>0.0</td>\n",
              "      <td>0.0</td>\n",
              "      <td>1.0</td>\n",
              "      <td>0.0</td>\n",
              "      <td>1.0</td>\n",
              "      <td>0.0</td>\n",
              "      <td>0.0</td>\n",
              "      <td>0.0</td>\n",
              "      <td>0.0</td>\n",
              "    </tr>\n",
              "    <tr>\n",
              "      <th>2408</th>\n",
              "      <td>3.0</td>\n",
              "      <td>1.0</td>\n",
              "      <td>1.0</td>\n",
              "      <td>0.0</td>\n",
              "      <td>0.0</td>\n",
              "      <td>0.0</td>\n",
              "      <td>0.0</td>\n",
              "      <td>0.0</td>\n",
              "      <td>0.0</td>\n",
              "      <td>0.0</td>\n",
              "      <td>0.0</td>\n",
              "      <td>0.0</td>\n",
              "      <td>0.0</td>\n",
              "      <td>1.0</td>\n",
              "      <td>0.0</td>\n",
              "      <td>1.0</td>\n",
              "      <td>0.0</td>\n",
              "      <td>0.0</td>\n",
              "      <td>0.0</td>\n",
              "      <td>0.0</td>\n",
              "      <td>1.0</td>\n",
              "      <td>1.0</td>\n",
              "      <td>0.0</td>\n",
              "      <td>0.0</td>\n",
              "      <td>0.0</td>\n",
              "      <td>0.0</td>\n",
              "      <td>0.0</td>\n",
              "      <td>0.0</td>\n",
              "      <td>1.0</td>\n",
              "      <td>0.0</td>\n",
              "      <td>0.0</td>\n",
              "      <td>1.0</td>\n",
              "      <td>0.0</td>\n",
              "      <td>0.0</td>\n",
              "      <td>0.0</td>\n",
              "      <td>0.0</td>\n",
              "      <td>0.0</td>\n",
              "      <td>0.0</td>\n",
              "      <td>0.0</td>\n",
              "      <td>0.0</td>\n",
              "      <td>0.0</td>\n",
              "      <td>0.0</td>\n",
              "      <td>0.0</td>\n",
              "      <td>0.0</td>\n",
              "      <td>0.0</td>\n",
              "    </tr>\n",
              "  </tbody>\n",
              "</table>\n",
              "<p>7056 rows × 45 columns</p>\n",
              "</div>"
            ],
            "text/plain": [
              "      YearsCodePro  AWS  Bash/Shell  C++  ...  Unity 3D  Vue.js  Xamarin  jQuery\n",
              "5255          25.0  1.0         0.0  0.0  ...       0.0     0.0      0.0     1.0\n",
              "379            2.0  1.0         0.0  1.0  ...       0.0     1.0      0.0     0.0\n",
              "8458          10.0  0.0         0.0  0.0  ...       0.0     0.0      0.0     0.0\n",
              "3343           8.0  1.0         1.0  0.0  ...       0.0     0.0      0.0     1.0\n",
              "5472           9.0  1.0         0.0  0.0  ...       0.0     0.0      0.0     0.0\n",
              "...            ...  ...         ...  ...  ...       ...     ...      ...     ...\n",
              "7099           2.0  0.0         1.0  0.0  ...       0.0     0.0      0.0     0.0\n",
              "3249           6.0  1.0         0.0  0.0  ...       0.0     0.0      0.0     0.0\n",
              "7773           5.0  1.0         0.0  0.0  ...       0.0     1.0      0.0     0.0\n",
              "6564          12.0  1.0         0.0  0.0  ...       0.0     0.0      0.0     0.0\n",
              "2408           3.0  1.0         1.0  0.0  ...       0.0     0.0      0.0     0.0\n",
              "\n",
              "[7056 rows x 45 columns]"
            ]
          },
          "execution_count": 36,
          "metadata": {},
          "output_type": "execute_result"
        }
      ],
      "source": [
        "train_features"
      ]
    },
    {
      "cell_type": "markdown",
      "metadata": {
        "id": "IHlx6WeIWyAr"
      },
      "source": [
        "When you call `Model.predict` on a batch of inputs, it produces `units=1` outputs for each example:"
      ]
    },
    {
      "cell_type": "code",
      "execution_count": null,
      "metadata": {
        "colab": {
          "base_uri": "https://localhost:8080/"
        },
        "id": "DynfJV18WiuT",
        "outputId": "d17c6aa1-a880-4fac-b4a9-daffa04345d4"
      },
      "outputs": [
        {
          "data": {
            "text/plain": [
              "array([[-0.089],\n",
              "       [-0.196],\n",
              "       [ 0.544],\n",
              "       ...,\n",
              "       [ 2.462],\n",
              "       [ 1.698],\n",
              "       [-0.995]], dtype=float32)"
            ]
          },
          "execution_count": 35,
          "metadata": {},
          "output_type": "execute_result"
        }
      ],
      "source": [
        "linear_model.predict(train_features)"
      ]
    },
    {
      "cell_type": "markdown",
      "metadata": {
        "id": "hvHKH3rPXHmq"
      },
      "source": [
        "When you call the model, its weight matrices will be built"
      ]
    },
    {
      "cell_type": "code",
      "execution_count": null,
      "metadata": {
        "colab": {
          "base_uri": "https://localhost:8080/"
        },
        "id": "DwJ4Fq0RXBQf",
        "outputId": "fb0bef31-23a2-4ca2-fd69-77e69476d0fe"
      },
      "outputs": [
        {
          "data": {
            "text/plain": [
              "<tf.Variable 'dense_1/kernel:0' shape=(45, 1) dtype=float32, numpy=\n",
              "array([[-0.344],\n",
              "       [ 0.022],\n",
              "       [ 0.096],\n",
              "       [-0.232],\n",
              "       [-0.321],\n",
              "       [-0.101],\n",
              "       [-0.307],\n",
              "       [ 0.294],\n",
              "       [-0.036],\n",
              "       [ 0.266],\n",
              "       [-0.264],\n",
              "       [-0.357],\n",
              "       [-0.178],\n",
              "       [-0.155],\n",
              "       [-0.025],\n",
              "       [-0.143],\n",
              "       [ 0.336],\n",
              "       [-0.131],\n",
              "       [ 0.081],\n",
              "       [-0.296],\n",
              "       [-0.211],\n",
              "       [-0.126],\n",
              "       [-0.278],\n",
              "       [ 0.062],\n",
              "       [ 0.31 ],\n",
              "       [-0.248],\n",
              "       [ 0.051],\n",
              "       [ 0.081],\n",
              "       [-0.297],\n",
              "       [-0.205],\n",
              "       [ 0.276],\n",
              "       [ 0.221],\n",
              "       [ 0.239],\n",
              "       [ 0.314],\n",
              "       [ 0.263],\n",
              "       [ 0.045],\n",
              "       [ 0.077],\n",
              "       [ 0.032],\n",
              "       [ 0.202],\n",
              "       [-0.007],\n",
              "       [ 0.159],\n",
              "       [-0.077],\n",
              "       [-0.119],\n",
              "       [-0.177],\n",
              "       [-0.166]], dtype=float32)>"
            ]
          },
          "execution_count": 37,
          "metadata": {},
          "output_type": "execute_result"
        }
      ],
      "source": [
        "linear_model.layers[1].kernel"
      ]
    },
    {
      "cell_type": "markdown",
      "metadata": {
        "id": "eINAc6rZXzOt"
      },
      "source": [
        "Configure the model with Keras `Model.compile` and train with `Model.fit` for 100 epochs:"
      ]
    },
    {
      "cell_type": "code",
      "execution_count": null,
      "metadata": {
        "id": "A0Sv_Ybr0szp"
      },
      "outputs": [],
      "source": [
        "linear_model.compile(\n",
        "    optimizer=tf.optimizers.Adam(learning_rate=0.1),\n",
        "    loss='mean_absolute_error')"
      ]
    },
    {
      "cell_type": "code",
      "execution_count": null,
      "metadata": {
        "colab": {
          "base_uri": "https://localhost:8080/"
        },
        "id": "EZoOYORvoTSe",
        "outputId": "1dcdc322-f543-4678-fe79-528af92d786d"
      },
      "outputs": [
        {
          "name": "stdout",
          "output_type": "stream",
          "text": [
            "CPU times: user 29.4 s, sys: 1.95 s, total: 31.4 s\n",
            "Wall time: 41.4 s\n"
          ]
        }
      ],
      "source": [
        "%%time\n",
        "history = linear_model.fit(\n",
        "    train_features,\n",
        "    train_labels,\n",
        "    epochs=100,\n",
        "    # Suppress logging.\n",
        "    verbose=0,\n",
        "    # Calculate validation results on 20% of the training data.\n",
        "    validation_split = 0.2)"
      ]
    },
    {
      "cell_type": "markdown",
      "metadata": {
        "id": "EdxiCbiNYK2F"
      },
      "source": [
        "Using all the inputs in this regression model achieves a much lower training and validation error than the `horsepower_model`, which had one input:"
      ]
    },
    {
      "cell_type": "code",
      "execution_count": null,
      "metadata": {
        "colab": {
          "base_uri": "https://localhost:8080/",
          "height": 877
        },
        "id": "4sWO3W0koYgu",
        "outputId": "03839e0c-8d6a-475a-8ddf-13f2288e8ed5"
      },
      "outputs": [
        {
          "data": {
            "image/png": "[encoded data removed]",
            "text/plain": [
              "<Figure size 1080x1080 with 1 Axes>"
            ]
          },
          "metadata": {},
          "output_type": "display_data"
        }
      ],
      "source": [
        "plot_loss(history)"
      ]
    },
    {
      "cell_type": "markdown",
      "metadata": {
        "id": "NyN49hIWe_NH"
      },
      "source": [
        "Collect the results on the test set for later:"
      ]
    },
    {
      "cell_type": "code",
      "execution_count": null,
      "metadata": {
        "id": "jNC3D1DGsGgK"
      },
      "outputs": [],
      "source": [
        "test_results['linear_model'] = linear_model.evaluate(\n",
        "    test_features, test_labels, verbose=0)"
      ]
    },
    {
      "cell_type": "markdown",
      "metadata": {
        "id": "SmjdzxKzEu1-"
      },
      "source": [
        "## Regression with a deep neural network (DNN)"
      ]
    },
    {
      "cell_type": "markdown",
      "metadata": {
        "id": "DT_aHPsrzO1t"
      },
      "source": [
        "In the previous section, you implemented two linear models for single and multiple inputs.\n",
        "\n",
        "Here, you will implement single-input and multiple-input DNN models.\n",
        "\n",
        "The code is basically the same except the model is expanded to include some \"hidden\" non-linear layers. The name \"hidden\" here just means not directly connected to the inputs or outputs."
      ]
    },
    {
      "cell_type": "markdown",
      "metadata": {
        "id": "6SWtkIjhrZwa"
      },
      "source": [
        "These models will contain a few more layers than the linear model:\n",
        "\n",
        "* The normalization layer, as before (with `horsepower_normalizer` for a single-input model and `normalizer` for a multiple-input model).\n",
        "* Two hidden, non-linear, `Dense` layers with the ReLU (`relu`) activation function nonlinearity.\n",
        "* A linear `Dense` single-output layer.\n",
        "\n",
        "Both models will use the same training procedure so the `compile` method is included in the `build_and_compile_model` function below."
      ]
    },
    {
      "cell_type": "code",
      "execution_count": null,
      "metadata": {
        "id": "c26juK7ZG8j-"
      },
      "outputs": [],
      "source": [
        "def build_and_compile_model(norm):\n",
        "  model = keras.Sequential([\n",
        "      norm,\n",
        "      layers.Dense(64, activation='relu'),\n",
        "      layers.Dense(64, activation='relu'),\n",
        "      layers.Dense(1)\n",
        "  ])\n",
        "\n",
        "  model.compile(loss='mean_absolute_error',\n",
        "                optimizer=tf.keras.optimizers.Adam(0.001))\n",
        "  return model"
      ]
    },
    {
      "cell_type": "markdown",
      "metadata": {
        "id": "6c51caebbc0d"
      },
      "source": [
        "### Regression using a DNN and a single input"
      ]
    },
    {
      "cell_type": "markdown",
      "metadata": {
        "id": "xvu9gtxTZR5V"
      },
      "source": [
        "Create a DNN model with only `'YearsCodePro'` as input and `horsepower_normalizer` (defined earlier) as the normalization layer:"
      ]
    },
    {
      "cell_type": "code",
      "execution_count": null,
      "metadata": {
        "id": "cGbPb-PHGbhs"
      },
      "outputs": [],
      "source": [
        "dnn_horsepower_model = build_and_compile_model(horsepower_normalizer)"
      ]
    },
    {
      "cell_type": "markdown",
      "metadata": {
        "id": "Sj49Og4YGULr"
      },
      "source": [
        "This model has quite a few more trainable parameters than the linear models:"
      ]
    },
    {
      "cell_type": "code",
      "execution_count": null,
      "metadata": {
        "colab": {
          "base_uri": "https://localhost:8080/"
        },
        "id": "ReAD0n6MsFK-",
        "outputId": "6548d236-5e51-4967-a1f5-219fe02795e3"
      },
      "outputs": [
        {
          "name": "stdout",
          "output_type": "stream",
          "text": [
            "Model: \"sequential_2\"\n",
            "_________________________________________________________________\n",
            " Layer (type)                Output Shape              Param #   \n",
            "=================================================================\n",
            " normalization_1 (Normalizat  (None, 1)                3         \n",
            " ion)                                                            \n",
            "                                                                 \n",
            " dense_2 (Dense)             (None, 64)                128       \n",
            "                                                                 \n",
            " dense_3 (Dense)             (None, 64)                4160      \n",
            "                                                                 \n",
            " dense_4 (Dense)             (None, 1)                 65        \n",
            "                                                                 \n",
            "=================================================================\n",
            "Total params: 4,356\n",
            "Trainable params: 4,353\n",
            "Non-trainable params: 3\n",
            "_________________________________________________________________\n"
          ]
        }
      ],
      "source": [
        "dnn_horsepower_model.summary()"
      ]
    },
    {
      "cell_type": "markdown",
      "metadata": {
        "id": "0-qWCsh6DlyH"
      },
      "source": [
        "Train the model with Keras `Model.fit`:"
      ]
    },
    {
      "cell_type": "code",
      "execution_count": null,
      "metadata": {
        "colab": {
          "base_uri": "https://localhost:8080/"
        },
        "id": "sD7qHCmNIOY0",
        "outputId": "cbcb77dc-95b7-4a70-fa74-d30807bdbdf3"
      },
      "outputs": [
        {
          "name": "stdout",
          "output_type": "stream",
          "text": [
            "CPU times: user 40.5 s, sys: 3.08 s, total: 43.6 s\n",
            "Wall time: 41.4 s\n"
          ]
        }
      ],
      "source": [
        "%%time\n",
        "history = dnn_horsepower_model.fit(\n",
        "    train_features['YearsCodePro'],\n",
        "    train_labels,\n",
        "    validation_split=0.2,\n",
        "    verbose=0, epochs=100)"
      ]
    },
    {
      "cell_type": "markdown",
      "metadata": {
        "id": "dArGGxHxcKjN"
      },
      "source": [
        "This model does slightly better than the linear single-input `horsepower_model`:"
      ]
    },
    {
      "cell_type": "code",
      "execution_count": null,
      "metadata": {
        "colab": {
          "base_uri": "https://localhost:8080/",
          "height": 877
        },
        "id": "NcF6UWjdCU8T",
        "outputId": "e2cbf26c-d0ee-453c-ff8d-342818102077"
      },
      "outputs": [
        {
          "data": {
            "image/png": "[encoded data removed]",
            "text/plain": [
              "<Figure size 1080x1080 with 1 Axes>"
            ]
          },
          "metadata": {},
          "output_type": "display_data"
        }
      ],
      "source": [
        "plot_loss(history)"
      ]
    },
    {
      "cell_type": "markdown",
      "metadata": {
        "id": "TG1snlpR2QCK"
      },
      "source": [
        "If you plot the predictions as a function of `'Horsepower'`, you should notice how this model takes advantage of the nonlinearity provided by the hidden layers:"
      ]
    },
    {
      "cell_type": "code",
      "execution_count": null,
      "metadata": {
        "id": "hPF53Rem14NS"
      },
      "outputs": [],
      "source": [
        "x = tf.linspace(0.0, 250, 251)\n",
        "y = dnn_horsepower_model.predict(x)\n"
      ]
    },
    {
      "cell_type": "code",
      "execution_count": null,
      "metadata": {
        "colab": {
          "base_uri": "https://localhost:8080/"
        },
        "id": "084ojhDf682P",
        "outputId": "fb677c1a-d0f7-4eb2-9037-69b8d582db0b"
      },
      "outputs": [
        {
          "name": "stdout",
          "output_type": "stream",
          "text": [
            "tf.Tensor(\n",
            "[  0.   1.   2.   3.   4.   5.   6.   7.   8.   9.  10.  11.  12.  13.\n",
            "  14.  15.  16.  17.  18.  19.  20.  21.  22.  23.  24.  25.  26.  27.\n",
            "  28.  29.  30.  31.  32.  33.  34.  35.  36.  37.  38.  39.  40.  41.\n",
            "  42.  43.  44.  45.  46.  47.  48.  49.  50.  51.  52.  53.  54.  55.\n",
            "  56.  57.  58.  59.  60.  61.  62.  63.  64.  65.  66.  67.  68.  69.\n",
            "  70.  71.  72.  73.  74.  75.  76.  77.  78.  79.  80.  81.  82.  83.\n",
            "  84.  85.  86.  87.  88.  89.  90.  91.  92.  93.  94.  95.  96.  97.\n",
            "  98.  99. 100. 101. 102. 103. 104. 105. 106. 107. 108. 109. 110. 111.\n",
            " 112. 113. 114. 115. 116. 117. 118. 119. 120. 121. 122. 123. 124. 125.\n",
            " 126. 127. 128. 129. 130. 131. 132. 133. 134. 135. 136. 137. 138. 139.\n",
            " 140. 141. 142. 143. 144. 145. 146. 147. 148. 149. 150. 151. 152. 153.\n",
            " 154. 155. 156. 157. 158. 159. 160. 161. 162. 163. 164. 165. 166. 167.\n",
            " 168. 169. 170. 171. 172. 173. 174. 175. 176. 177. 178. 179. 180. 181.\n",
            " 182. 183. 184. 185. 186. 187. 188. 189. 190. 191. 192. 193. 194. 195.\n",
            " 196. 197. 198. 199. 200. 201. 202. 203. 204. 205. 206. 207. 208. 209.\n",
            " 210. 211. 212. 213. 214. 215. 216. 217. 218. 219. 220. 221. 222. 223.\n",
            " 224. 225. 226. 227. 228. 229. 230. 231. 232. 233. 234. 235. 236. 237.\n",
            " 238. 239. 240. 241. 242. 243. 244. 245. 246. 247. 248. 249. 250.], shape=(251,), dtype=float32)\n"
          ]
        }
      ],
      "source": [
        "print(x)"
      ]
    },
    {
      "cell_type": "code",
      "execution_count": null,
      "metadata": {
        "colab": {
          "base_uri": "https://localhost:8080/",
          "height": 877
        },
        "id": "rsf9rD8I17Wq",
        "outputId": "5f6a102a-7d1c-4c36-bfdb-9c852d4a70cd"
      },
      "outputs": [
        {
          "data": {
            "image/png": "[encoded data removed]",
            "text/plain": [
              "<Figure size 1080x1080 with 1 Axes>"
            ]
          },
          "metadata": {},
          "output_type": "display_data"
        }
      ],
      "source": [
        "plot_horsepower(x, y)"
      ]
    },
    {
      "cell_type": "markdown",
      "metadata": {
        "id": "WxCJKIUpe4io"
      },
      "source": [
        "Collect the results on the test set for later:"
      ]
    },
    {
      "cell_type": "code",
      "execution_count": null,
      "metadata": {
        "id": "bJjM0dU52XtN"
      },
      "outputs": [],
      "source": [
        "test_results['dnn_horsepower_model'] = dnn_horsepower_model.evaluate(\n",
        "    test_features['YearsCodePro'], test_labels,\n",
        "    verbose=0)"
      ]
    },
    {
      "cell_type": "markdown",
      "metadata": {
        "id": "S_2Btebp2e64"
      },
      "source": [
        "### Regression using a DNN and multiple inputs"
      ]
    },
    {
      "cell_type": "markdown",
      "metadata": {
        "id": "aKFtezDldLSf"
      },
      "source": [
        "Repeat the previous process using all the inputs. The model's performance slightly improves on the validation dataset."
      ]
    },
    {
      "cell_type": "code",
      "execution_count": null,
      "metadata": {
        "colab": {
          "base_uri": "https://localhost:8080/"
        },
        "id": "c0mhscXh2k36",
        "outputId": "6e576205-820d-4ae6-a35a-12fee21e9324"
      },
      "outputs": [
        {
          "name": "stdout",
          "output_type": "stream",
          "text": [
            "Model: \"sequential_3\"\n",
            "_________________________________________________________________\n",
            " Layer (type)                Output Shape              Param #   \n",
            "=================================================================\n",
            " normalization (Normalizatio  (None, 45)               91        \n",
            " n)                                                              \n",
            "                                                                 \n",
            " dense_5 (Dense)             (None, 64)                2944      \n",
            "                                                                 \n",
            " dense_6 (Dense)             (None, 64)                4160      \n",
            "                                                                 \n",
            " dense_7 (Dense)             (None, 1)                 65        \n",
            "                                                                 \n",
            "=================================================================\n",
            "Total params: 7,260\n",
            "Trainable params: 7,169\n",
            "Non-trainable params: 91\n",
            "_________________________________________________________________\n"
          ]
        }
      ],
      "source": [
        "dnn_model = build_and_compile_model(normalizer)\n",
        "dnn_model.summary()"
      ]
    },
    {
      "cell_type": "code",
      "execution_count": null,
      "metadata": {
        "colab": {
          "base_uri": "https://localhost:8080/"
        },
        "id": "CXDENACl2tuW",
        "outputId": "feeb766f-7a52-47c0-8589-29195f80bc7c"
      },
      "outputs": [
        {
          "name": "stdout",
          "output_type": "stream",
          "text": [
            "CPU times: user 23.3 s, sys: 1.86 s, total: 25.2 s\n",
            "Wall time: 20.6 s\n"
          ]
        }
      ],
      "source": [
        "%%time\n",
        "history = dnn_model.fit(\n",
        "    train_features,\n",
        "    train_labels,\n",
        "    validation_split=0.2,\n",
        "    verbose=0, epochs=60)"
      ]
    },
    {
      "cell_type": "code",
      "execution_count": null,
      "metadata": {
        "colab": {
          "base_uri": "https://localhost:8080/",
          "height": 877
        },
        "id": "-9Dbj0fX23RQ",
        "outputId": "511a2fc2-6a27-4376-fa1b-ac8cb6917489"
      },
      "outputs": [
        {
          "data": {
            "image/png": "[encoded data removed]",
            "text/plain": [
              "<Figure size 1080x1080 with 1 Axes>"
            ]
          },
          "metadata": {},
          "output_type": "display_data"
        }
      ],
      "source": [
        "plot_loss(history)"
      ]
    },
    {
      "cell_type": "markdown",
      "metadata": {
        "id": "hWoVYS34fJPZ"
      },
      "source": [
        "Collect the results on the test set:"
      ]
    },
    {
      "cell_type": "code",
      "execution_count": null,
      "metadata": {
        "id": "-bZIa96W3c7K"
      },
      "outputs": [],
      "source": [
        "test_results['dnn_model'] = dnn_model.evaluate(test_features, test_labels, verbose=0)"
      ]
    },
    {
      "cell_type": "markdown",
      "metadata": {
        "id": "uiCucdPLfMkZ"
      },
      "source": [
        "## Performance"
      ]
    },
    {
      "cell_type": "markdown",
      "metadata": {
        "id": "rDf1xebEfWBw"
      },
      "source": [
        "Since all models have been trained, you can review their test set performance:"
      ]
    },
    {
      "cell_type": "code",
      "execution_count": null,
      "metadata": {
        "colab": {
          "base_uri": "https://localhost:8080/",
          "height": 175
        },
        "id": "e5_ooufM5iH2",
        "outputId": "04f95be4-c346-4388-b367-72bb0d661b05"
      },
      "outputs": [
        {
          "data": {
            "text/html": [
              "<div>\n",
              "<style scoped>\n",
              "    .dataframe tbody tr th:only-of-type {\n",
              "        vertical-align: middle;\n",
              "    }\n",
              "\n",
              "    .dataframe tbody tr th {\n",
              "        vertical-align: top;\n",
              "    }\n",
              "\n",
              "    .dataframe thead th {\n",
              "        text-align: right;\n",
              "    }\n",
              "</style>\n",
              "<table border=\"1\" class=\"dataframe\">\n",
              "  <thead>\n",
              "    <tr style=\"text-align: right;\">\n",
              "      <th></th>\n",
              "      <th>Mean absolute error [ConvertedCompYearly]</th>\n",
              "    </tr>\n",
              "  </thead>\n",
              "  <tbody>\n",
              "    <tr>\n",
              "      <th>horsepower_model</th>\n",
              "      <td>136949.171875</td>\n",
              "    </tr>\n",
              "    <tr>\n",
              "      <th>linear_model</th>\n",
              "      <td>136954.937500</td>\n",
              "    </tr>\n",
              "    <tr>\n",
              "      <th>dnn_horsepower_model</th>\n",
              "      <td>43975.554688</td>\n",
              "    </tr>\n",
              "    <tr>\n",
              "      <th>dnn_model</th>\n",
              "      <td>39936.164062</td>\n",
              "    </tr>\n",
              "  </tbody>\n",
              "</table>\n",
              "</div>"
            ],
            "text/plain": [
              "                      Mean absolute error [ConvertedCompYearly]\n",
              "horsepower_model                                  136949.171875\n",
              "linear_model                                      136954.937500\n",
              "dnn_horsepower_model                               43975.554688\n",
              "dnn_model                                          39936.164062"
            ]
          },
          "execution_count": 66,
          "metadata": {},
          "output_type": "execute_result"
        }
      ],
      "source": [
        "pd.DataFrame(test_results, index=['Mean absolute error [ConvertedCompYearly]']).T"
      ]
    },
    {
      "cell_type": "markdown",
      "metadata": {
        "id": "DABIVzsCf-QI"
      },
      "source": [
        "These results match the validation error observed during training."
      ]
    },
    {
      "cell_type": "markdown",
      "metadata": {
        "id": "ft603OzXuEZC"
      },
      "source": [
        "### Make predictions\n",
        "\n",
        "You can now make predictions with the `dnn_model` on the test set using Keras `Model.predict` and review the loss:"
      ]
    },
    {
      "cell_type": "code",
      "execution_count": null,
      "metadata": {
        "colab": {
          "base_uri": "https://localhost:8080/"
        },
        "id": "I-3SCC_-7Ooq",
        "outputId": "94974b52-0657-49b6-e524-0e8581376cac"
      },
      "outputs": [
        {
          "output_type": "stream",
          "name": "stdout",
          "text": [
            "[    YearsCodePro  AWS  Bash/Shell  C++  ...  Unity 3D  Vue.js  Xamarin  jQuery\n",
            "24           4.0  0.0         1.0  1.0  ...       0.0     0.0      0.0     1.0\n",
            "\n",
            "[1 rows x 45 columns]]\n"
          ]
        }
      ],
      "source": [
        "import pprint\n",
        "import sys\n",
        "\n",
        "np.set_printoptions(threshold=sys.maxsize)\n",
        "\n",
        "sample = []\n",
        "list1 = test_features.iloc[3:4]\n",
        "sample.append(test_features.iloc[3:4])\n",
        "print(sample)"
      ]
    },
    {
      "cell_type": "code",
      "execution_count": null,
      "metadata": {
        "colab": {
          "base_uri": "https://localhost:8080/",
          "height": 104
        },
        "id": "l7s7oIkeC_Do",
        "outputId": "a3cfc607-31d7-4802-cb65-a6c2c0566bdc"
      },
      "outputs": [
        {
          "output_type": "execute_result",
          "data": {
            "text/html": [
              "<div>\n",
              "<style scoped>\n",
              "    .dataframe tbody tr th:only-of-type {\n",
              "        vertical-align: middle;\n",
              "    }\n",
              "\n",
              "    .dataframe tbody tr th {\n",
              "        vertical-align: top;\n",
              "    }\n",
              "\n",
              "    .dataframe thead th {\n",
              "        text-align: right;\n",
              "    }\n",
              "</style>\n",
              "<table border=\"1\" class=\"dataframe\">\n",
              "  <thead>\n",
              "    <tr style=\"text-align: right;\">\n",
              "      <th></th>\n",
              "      <th>YearsCodePro</th>\n",
              "      <th>AWS</th>\n",
              "      <th>Bash/Shell</th>\n",
              "      <th>C++</th>\n",
              "      <th>COBOL</th>\n",
              "      <th>Cassandra</th>\n",
              "      <th>Clojure</th>\n",
              "      <th>Crystal</th>\n",
              "      <th>Delphi</th>\n",
              "      <th>Django</th>\n",
              "      <th>Drupal</th>\n",
              "      <th>DynamoDB</th>\n",
              "      <th>Elasticsearch</th>\n",
              "      <th>Flask</th>\n",
              "      <th>Flow</th>\n",
              "      <th>Git</th>\n",
              "      <th>Go</th>\n",
              "      <th>Google Cloud Platform</th>\n",
              "      <th>Hadoop</th>\n",
              "      <th>Java</th>\n",
              "      <th>JavaScript</th>\n",
              "      <th>Kubernetes</th>\n",
              "      <th>LISP</th>\n",
              "      <th>MariaDB</th>\n",
              "      <th>Microsoft Azure</th>\n",
              "      <th>Node.js</th>\n",
              "      <th>Oracle</th>\n",
              "      <th>PHP</th>\n",
              "      <th>Pandas</th>\n",
              "      <th>Perl</th>\n",
              "      <th>PowerShell</th>\n",
              "      <th>Python</th>\n",
              "      <th>Qt</th>\n",
              "      <th>React.js</th>\n",
              "      <th>Redis</th>\n",
              "      <th>Ruby on Rails</th>\n",
              "      <th>Rust</th>\n",
              "      <th>Scala</th>\n",
              "      <th>Swift</th>\n",
              "      <th>Terraform</th>\n",
              "      <th>TypeScript</th>\n",
              "      <th>Unity 3D</th>\n",
              "      <th>Vue.js</th>\n",
              "      <th>Xamarin</th>\n",
              "      <th>jQuery</th>\n",
              "    </tr>\n",
              "  </thead>\n",
              "  <tbody>\n",
              "  </tbody>\n",
              "</table>\n",
              "</div>"
            ],
            "text/plain": [
              "Empty DataFrame\n",
              "Columns: [YearsCodePro, AWS, Bash/Shell, C++, COBOL, Cassandra, Clojure, Crystal, Delphi, Django, Drupal, DynamoDB, Elasticsearch, Flask, Flow, Git, Go, Google Cloud Platform, Hadoop, Java, JavaScript, Kubernetes, LISP, MariaDB, Microsoft Azure, Node.js, Oracle, PHP, Pandas, Perl, PowerShell, Python, Qt, React.js, Redis, Ruby on Rails, Rust, Scala, Swift, Terraform, TypeScript, Unity 3D, Vue.js, Xamarin, jQuery]\n",
              "Index: []"
            ]
          },
          "metadata": {},
          "execution_count": 138
        }
      ],
      "source": [
        "headers = ['YearsCodePro', 'AWS', 'Bash/Shell', 'C++',\n",
        "       'COBOL', 'Cassandra', 'Clojure', 'Crystal', 'Delphi', 'Django',\n",
        "       'Drupal', 'DynamoDB', 'Elasticsearch', 'Flask', 'Flow', 'Git', 'Go',\n",
        "       'Google Cloud Platform', 'Hadoop', 'Java', 'JavaScript', 'Kubernetes',\n",
        "       'LISP', 'MariaDB', 'Microsoft Azure', 'Node.js', 'Oracle', 'PHP',\n",
        "       'Pandas', 'Perl', 'PowerShell', 'Python', 'Qt', 'React.js', 'Redis',\n",
        "       'Ruby on Rails', 'Rust', 'Scala', 'Swift', 'Terraform', 'TypeScript',\n",
        "       'Unity 3D', 'Vue.js', 'Xamarin', 'jQuery']\n",
        "\n",
        "dataset_input = pd.DataFrame(columns=headers)\n",
        "dataset_input = dataset_input.astype('float64')\n",
        "dataset_input\n",
        "# "
      ]
    },
    {
      "cell_type": "code",
      "execution_count": null,
      "metadata": {
        "colab": {
          "base_uri": "https://localhost:8080/",
          "height": 135
        },
        "id": "RAs2tD_pSalV",
        "outputId": "a4a6279b-e2e3-45bf-ee09-c9f4fbb65089"
      },
      "outputs": [
        {
          "output_type": "execute_result",
          "data": {
            "text/html": [
              "<div>\n",
              "<style scoped>\n",
              "    .dataframe tbody tr th:only-of-type {\n",
              "        vertical-align: middle;\n",
              "    }\n",
              "\n",
              "    .dataframe tbody tr th {\n",
              "        vertical-align: top;\n",
              "    }\n",
              "\n",
              "    .dataframe thead th {\n",
              "        text-align: right;\n",
              "    }\n",
              "</style>\n",
              "<table border=\"1\" class=\"dataframe\">\n",
              "  <thead>\n",
              "    <tr style=\"text-align: right;\">\n",
              "      <th></th>\n",
              "      <th>YearsCodePro</th>\n",
              "      <th>AWS</th>\n",
              "      <th>Bash/Shell</th>\n",
              "      <th>C++</th>\n",
              "      <th>COBOL</th>\n",
              "      <th>Cassandra</th>\n",
              "      <th>Clojure</th>\n",
              "      <th>Crystal</th>\n",
              "      <th>Delphi</th>\n",
              "      <th>Django</th>\n",
              "      <th>Drupal</th>\n",
              "      <th>DynamoDB</th>\n",
              "      <th>Elasticsearch</th>\n",
              "      <th>Flask</th>\n",
              "      <th>Flow</th>\n",
              "      <th>Git</th>\n",
              "      <th>Go</th>\n",
              "      <th>Google Cloud Platform</th>\n",
              "      <th>Hadoop</th>\n",
              "      <th>Java</th>\n",
              "      <th>JavaScript</th>\n",
              "      <th>Kubernetes</th>\n",
              "      <th>LISP</th>\n",
              "      <th>MariaDB</th>\n",
              "      <th>Microsoft Azure</th>\n",
              "      <th>Node.js</th>\n",
              "      <th>Oracle</th>\n",
              "      <th>PHP</th>\n",
              "      <th>Pandas</th>\n",
              "      <th>Perl</th>\n",
              "      <th>PowerShell</th>\n",
              "      <th>Python</th>\n",
              "      <th>Qt</th>\n",
              "      <th>React.js</th>\n",
              "      <th>Redis</th>\n",
              "      <th>Ruby on Rails</th>\n",
              "      <th>Rust</th>\n",
              "      <th>Scala</th>\n",
              "      <th>Swift</th>\n",
              "      <th>Terraform</th>\n",
              "      <th>TypeScript</th>\n",
              "      <th>Unity 3D</th>\n",
              "      <th>Vue.js</th>\n",
              "      <th>Xamarin</th>\n",
              "      <th>jQuery</th>\n",
              "    </tr>\n",
              "  </thead>\n",
              "  <tbody>\n",
              "    <tr>\n",
              "      <th>0</th>\n",
              "      <td>5.0</td>\n",
              "      <td>1.0</td>\n",
              "      <td>0.0</td>\n",
              "      <td>1.0</td>\n",
              "      <td>0.0</td>\n",
              "      <td>1.0</td>\n",
              "      <td>0.0</td>\n",
              "      <td>1.0</td>\n",
              "      <td>0.0</td>\n",
              "      <td>1.0</td>\n",
              "      <td>0.0</td>\n",
              "      <td>1.0</td>\n",
              "      <td>0.0</td>\n",
              "      <td>1.0</td>\n",
              "      <td>0.0</td>\n",
              "      <td>1.0</td>\n",
              "      <td>0.0</td>\n",
              "      <td>1.0</td>\n",
              "      <td>0.0</td>\n",
              "      <td>1.0</td>\n",
              "      <td>0.0</td>\n",
              "      <td>1.0</td>\n",
              "      <td>0.0</td>\n",
              "      <td>1.0</td>\n",
              "      <td>0.0</td>\n",
              "      <td>1.0</td>\n",
              "      <td>0.0</td>\n",
              "      <td>1.0</td>\n",
              "      <td>0.0</td>\n",
              "      <td>1.0</td>\n",
              "      <td>0.0</td>\n",
              "      <td>1.0</td>\n",
              "      <td>0.0</td>\n",
              "      <td>1.0</td>\n",
              "      <td>0.0</td>\n",
              "      <td>1.0</td>\n",
              "      <td>0.0</td>\n",
              "      <td>1.0</td>\n",
              "      <td>0.0</td>\n",
              "      <td>1.0</td>\n",
              "      <td>0.0</td>\n",
              "      <td>1.0</td>\n",
              "      <td>0.0</td>\n",
              "      <td>1.0</td>\n",
              "      <td>0.0</td>\n",
              "    </tr>\n",
              "  </tbody>\n",
              "</table>\n",
              "</div>"
            ],
            "text/plain": [
              "   YearsCodePro  AWS  Bash/Shell  C++  ...  Unity 3D  Vue.js  Xamarin  jQuery\n",
              "0           5.0  1.0         0.0  1.0  ...       1.0     0.0      1.0     0.0\n",
              "\n",
              "[1 rows x 45 columns]"
            ]
          },
          "metadata": {},
          "execution_count": 139
        }
      ],
      "source": [
        "headers = ['YearsCodePro', 'AWS', 'Bash/Shell', 'C++',\n",
        "       'COBOL', 'Cassandra', 'Clojure', 'Crystal', 'Delphi', 'Django',\n",
        "       'Drupal', 'DynamoDB', 'Elasticsearch', 'Flask', 'Flow', 'Git', 'Go',\n",
        "       'Google Cloud Platform', 'Hadoop', 'Java', 'JavaScript', 'Kubernetes',\n",
        "       'LISP', 'MariaDB', 'Microsoft Azure', 'Node.js', 'Oracle', 'PHP',\n",
        "       'Pandas', 'Perl', 'PowerShell', 'Python', 'Qt', 'React.js', 'Redis',\n",
        "       'Ruby on Rails', 'Rust', 'Scala', 'Swift', 'Terraform', 'TypeScript',\n",
        "       'Unity 3D', 'Vue.js', 'Xamarin', 'jQuery']\n",
        "\n",
        "simple_list = [[5.0,1.0,0.0,1.0,0.0,1.0,0.0,1.0,0.0,1.0,0.0,1.0,0.0,1.0,0.0,1.0,0.0,1.0,0.0,1.0,0.0,1.0,0.0,1.0,0.0,1.0,0.0,1.0,0.0,1.0,0.0,1.0,0.0,1.0,0.0,1.0,0.0,1.0,0.0,1.0,0.0,1.0,0.0,1.0,0.0]]\n",
        "mylist = pd.DataFrame(simple_list, columns = headers)\n",
        "mylist\n"
      ]
    },
    {
      "cell_type": "code",
      "execution_count": null,
      "metadata": {
        "colab": {
          "base_uri": "https://localhost:8080/"
        },
        "id": "c2_qm-yo8roI",
        "outputId": "3e78c9a9-3789-48fb-a04a-06c3fd629e1c"
      },
      "outputs": [
        {
          "output_type": "execute_result",
          "data": {
            "text/plain": [
              "120673.07"
            ]
          },
          "metadata": {},
          "execution_count": 157
        }
      ],
      "source": [
        "test_one = dnn_model.predict(mylist).flatten()\n",
        "test_one[0]"
      ]
    },
    {
      "cell_type": "code",
      "execution_count": null,
      "metadata": {
        "colab": {
          "base_uri": "https://localhost:8080/",
          "height": 881
        },
        "id": "Xe7RXH3N3CWU",
        "outputId": "791eec6a-fc25-492c-f5a6-8d9f09059fda"
      },
      "outputs": [
        {
          "data": {
            "image/png": "[encoded data removed]",
            "text/plain": [
              "<Figure size 1080x1080 with 1 Axes>"
            ]
          },
          "metadata": {},
          "output_type": "display_data"
        }
      ],
      "source": [
        "test_predictions = dnn_model.predict(test_features).flatten()\n",
        "\n",
        "a = plt.axes(aspect='equal')\n",
        "plt.scatter(test_labels, test_predictions)\n",
        "plt.xlabel('True Values [ConvertedCompYearly]')\n",
        "plt.ylabel('Predictions [ConvertedCompYearly]')\n",
        "lims = [0, 500000]\n",
        "plt.rcParams[\"figure.figsize\"] = (15,15)\n",
        "plt.xlim(lims)\n",
        "plt.ylim(lims)\n",
        "_ = plt.plot(lims, lims)\n"
      ]
    },
    {
      "cell_type": "code",
      "execution_count": null,
      "metadata": {
        "colab": {
          "base_uri": "https://localhost:8080/"
        },
        "id": "KpKIOIFU7j21",
        "outputId": "c31d3c3c-e010-41b3-8479-f53e2e10fb5c"
      },
      "outputs": [
        {
          "name": "stdout",
          "output_type": "stream",
          "text": [
            "[112288.09  133179.94  127891.62  116195.35   91388.414 175336.\n",
            " 118870.695 108614.51  110624.44  116803.4   101675.46  151188.77\n",
            " 124781.12   83035.75  120327.734  82528.01  109283.29   80962.016\n",
            " 180051.25   87910.49  141074.22  111895.11   82071.99   79632.266\n",
            " 157486.38  118548.04  121723.086  99103.63   92146.38  150531.7\n",
            " 124377.336 116234.414  87282.805 130499.49  152623.95  120136.53\n",
            " 118397.06  136972.86  134406.4   110075.086 171495.    227297.6\n",
            " 167184.34  160686.     96672.086 146435.08   83223.57   75645.08\n",
            " 106364.84  124968.195 156411.6    66149.26  104810.02  142334.16\n",
            " 147647.48   96911.16   94614.01  139074.34  145338.44  149651.84\n",
            "  88190.21  129411.836 185794.19  114276.87  121236.7    89664.01\n",
            "  96891.23   96807.71  163428.34   88874.945 174944.39   74595.01\n",
            "  93229.45  134578.22  103607.27  223792.25   94855.68  114517.44\n",
            " 100872.81  113177.46  135735.33   97633.66   84902.23  127848.016\n",
            " 142117.06  117555.27   91904.734 115170.3   153805.45  178396.\n",
            " 161151.28  133530.2    81088.555 106055.23  170998.    112159.875\n",
            " 164560.     94316.3    96231.02  108440.67   98892.72   97339.8\n",
            " 103885.49   71566.71  100744.87  101948.94  157049.14  133066.84\n",
            " 122176.71   97859.016  76285.32  160387.53   70113.734 180515.61\n",
            " 116288.58  196079.56  152382.97  112562.07  147114.28  111002.81\n",
            " 226540.47  129611.664 183369.67  157675.45  162372.81  123110.62\n",
            " 115453.52  129588.11  158157.97  105218.4   140599.83   92377.17\n",
            " 144653.31   78298.6   110302.73  117987.85  187881.94  157891.25\n",
            " 164064.66  169314.31  104682.57  172042.23  166735.81  119388.56\n",
            "  85824.23   91771.875 138362.4   121375.4   117295.77  115612.88\n",
            " 113567.46  127692.586 140171.78  112629.305 214235.12  130443.82\n",
            " 106952.52  163958.06  172748.34   83328.29  111889.586 190819.19\n",
            " 145125.52   64247.965 114929.46  131187.52   86607.11  158943.78\n",
            " 139299.31  179688.77  146452.52  115237.36  129819.93  207141.42\n",
            " 117491.1    89136.195 155543.67  179399.97  156245.44  185988.16\n",
            "  80099.51  128714.14   72584.95  132781.75  153679.31   80687.67\n",
            " 177263.52  106033.445 110100.13  122335.195  75790.664 119215.38\n",
            "  84443.93  112059.52  132921.94  137645.53  157939.7   121305.266\n",
            " 106476.48  101557.766 129834.85   89078.69  106464.29  132996.86\n",
            " 146770.88  135635.52  167916.62  128841.56  126997.484 173287.73\n",
            " 180353.66  164313.5    92703.336 148689.06  120048.18  144208.38\n",
            " 138762.62   71499.27  123183.93   92782.69   74776.    167189.38\n",
            " 113098.23   96870.805 126619.64  106093.71   96703.805 108836.086\n",
            " 102345.55  137832.08  136940.83  147564.75   94478.4   165171.89\n",
            " 160561.78  180917.33  158736.19  132392.25  156035.3    94399.29\n",
            " 155374.12   91061.39  203711.47   96297.375 109955.96  152660.53\n",
            " 145251.36   96824.68   96454.93  126468.65  133783.28  107469.69\n",
            " 106892.29  166415.22   93028.15  140496.03  113609.766  72896.81\n",
            " 124825.195 135023.56  129958.44  103394.83   85587.29  136349.47\n",
            "  89194.26  154094.22  155864.56  108089.79   96205.33  152393.14\n",
            " 101900.16  122047.6    94104.18  129230.836 179378.19  104628.77\n",
            " 188250.38   90118.29  103821.82  120146.34  199095.56   89664.01\n",
            " 131149.66   84220.26  131041.71  125253.29  110216.305 160935.1\n",
            "  92027.086 146316.78  205087.4   116439.71  121813.33  149718.62\n",
            " 166100.05  161113.8   141114.72  138575.08  156462.78  109680.195\n",
            " 135640.38   75554.414 112659.9   117107.984 112239.29   90277.09\n",
            " 197227.1   107532.73  126274.625 106483.945 142236.66   91578.836\n",
            " 123733.555 136496.38  113115.29  195541.16   87371.375  96690.94\n",
            "  87701.48  100231.72  142888.34  207597.58  116681.914 191045.56\n",
            " 197316.06  107779.625 142889.33  116327.03  107352.54  161502.58\n",
            " 140369.19  132179.53  108788.35  134799.36   94505.66  104602.24\n",
            " 152337.05  103327.73  129962.23  101702.88   86556.51   76528.266\n",
            " 142860.47  129829.4    95514.305 108034.49   69278.586 148826.17\n",
            " 124369.36  183377.81   72032.37  127324.75   97553.24  121173.63\n",
            "  92268.4   104865.34   79549.43  128184.516  90417.555  92304.6\n",
            "  88895.93   93823.43  117788.24  139575.94  109042.13   68133.945\n",
            " 148526.34  107088.58   70165.58  153149.75  144014.53   84207.46\n",
            " 124598.28  132672.97  139607.3   106367.32  128518.32  107259.36\n",
            " 180216.16  143882.6    96721.9   106456.445 166339.22  117678.77\n",
            "  87746.836  67739.79   85208.82   98913.164 140229.52  150510.6\n",
            " 106813.97  135842.72  111300.37   75782.99  152186.25   90217.54\n",
            " 135723.84  103621.04  101093.15  132577.97   57560.215 122442.14\n",
            "  96356.85   75558.75  143651.55  113604.88  141705.9   105564.1\n",
            " 173956.86   95803.9    68911.484 132508.1   148271.33  100658.24\n",
            " 125075.79  138753.83  121504.65  132157.86   99545.164 130498.9\n",
            " 120036.18   80469.57  161382.31   90115.04  160607.75   94081.336\n",
            " 184271.47  166151.81  106330.04  104496.33  111273.88  137419.81\n",
            " 175516.9    85391.43   94583.24  107034.99  139521.05  144066.62\n",
            " 130773.98  112035.2   128135.68  146114.06  170824.56  177892.81\n",
            " 130698.82  129315.664 307385.3   110281.26  145602.42  150502.6\n",
            "  93819.82  120357.6   128440.64  140360.19  101775.18   87899.88\n",
            " 113069.086 136014.5   150681.89  144187.98  115860.24  141668.81\n",
            " 121389.1   129078.68  118819.586 171090.19  134989.9   123920.29\n",
            " 140987.17   80711.85   87244.51  134343.31  147817.92  179572.23\n",
            "  79249.445  83249.164 139808.23   89495.39   97383.4    97860.94\n",
            " 228361.12  203842.78  126249.57   99921.46   98806.37   77206.51\n",
            " 220852.98  122992.6   147971.53  131554.44  116307.62  249247.31\n",
            "  87630.9   194067.1   127126.13  121136.04  107628.85   73631.445\n",
            " 132136.42   89664.01  123917.445 110179.46  107261.    189009.48\n",
            " 177711.1   127028.45  138862.64  120634.04  145451.14  170443.28\n",
            "  99934.61  108416.34  147018.33  124522.7    84197.945 167049.75\n",
            "  99149.96  210247.45   96891.23   95557.56  118208.76  135854.88\n",
            " 141005.5   136406.75  144921.7   209008.12   83305.6   127713.2\n",
            "  92219.87  120135.305  91175.836 135839.75  187721.55  135226.16\n",
            " 147238.97  118712.914 155476.69  149982.47   83305.234 168100.75\n",
            " 141190.64  192256.48  122753.43  116294.55  120935.17  106535.82\n",
            " 128196.016 188864.66   96649.12  132870.45   97121.27  116599.74\n",
            " 100767.51  112909.055 105886.2   170244.56  143692.92  124311.94\n",
            " 117163.52   72894.53  220151.5    98354.125 133619.81  138453.88\n",
            " 115136.82   99667.68  179957.75  139884.94  101508.63  136816.4\n",
            " 201905.75   97975.49   97805.914 125420.4    86790.85  144187.39\n",
            " 140216.95  108414.34  101295.11  147655.97  125560.23   99583.24\n",
            " 133696.39  177454.45  112181.12  150734.9   129135.586 121305.85\n",
            " 142800.12  115552.54   81395.73   87043.38  106317.125  87117.91\n",
            " 114344.01  149830.53   98273.4    93080.43  146597.16  147371.16\n",
            " 134830.69  198280.4    82294.164 138813.1   108533.74  112108.15\n",
            " 196349.58  123172.21  101144.64  112039.51  119750.74   64585.293\n",
            " 163514.12  144479.58  122287.22  104301.305 125983.82  122315.63\n",
            " 163610.1   126280.836 143642.1   110760.15  146717.06  134639.73\n",
            "  74232.42   84154.85  152260.42  140520.52  145668.56  102154.7\n",
            " 170156.78  114365.79  115642.65   90502.74  110462.33  167982.06\n",
            " 119096.51  122525.125 122071.414  84322.695 186608.5    82851.29\n",
            "  60410.598 145114.     97479.57   84710.32  217247.03  135572.89\n",
            "  88374.79  155110.64  136605.97  132957.23  148061.73  106037.18\n",
            " 150464.1   122985.87  105172.28  107165.01   96231.02  173980.9\n",
            " 106620.08  145924.14  127682.73  158998.28  149707.34  146989.75\n",
            "  75350.68   95631.62  155784.05  102686.55  137596.88  142722.89\n",
            " 228520.84  122310.164 161099.6   131141.38  130857.94  138010.94\n",
            " 220535.6   179699.17  118204.98  137300.73  187970.31  141019.47\n",
            " 145590.45  183296.47  152739.44  148012.42  117740.06   90505.59\n",
            "  97234.64  157932.5    99203.195 276289.7    74073.77   93527.82\n",
            " 141673.31  159570.1   151823.53  172568.06  113104.74  179677.62\n",
            " 227949.03  205494.16   99280.195  99637.38  127692.88   74169.42\n",
            " 144534.73  118259.836 107436.29  161975.12  118984.875  93299.195\n",
            "  99493.48  106779.11  196316.22  120315.    122735.07  125514.73\n",
            " 129370.04  178290.44  156908.53  148922.5   116949.74  181712.81\n",
            " 100206.195 135052.9   102051.54  114441.61  128007.5   146192.03\n",
            " 131979.38   57921.277  98785.055 180004.16   67326.414 134478.08\n",
            " 116849.1   156591.06  129212.05  105237.48  109933.46   51194.613\n",
            " 129255.65   84896.76  112365.62  132546.27  202372.2   109163.52\n",
            " 118917.836 156549.33  138615.25  100494.11  167143.81   96228.57\n",
            " 118352.68  154178.39  100463.92  101946.54  130213.67  135964.03\n",
            " 147192.05  149839.33  140287.38  111270.68  117465.516  84141.68\n",
            "  50837.305 113511.48   98108.914 116087.82   84952.414 171896.5\n",
            " 112580.63  148451.22  201034.6   166429.72   79637.37  150234.05\n",
            " 129904.37  236785.88  110241.51  127213.266 126176.516 125346.21\n",
            " 183629.94   88177.82  119062.164 144439.8   123924.695 144176.33\n",
            " 123524.21  123312.15  173946.69  101417.12  189072.86   97741.27\n",
            " 118458.48  102876.82  121825.43  114251.055 105190.29  102252.65\n",
            " 106612.086 137745.97   80697.77  117311.69  187824.25  129789.07\n",
            "  87606.15   97281.57  107975.73  144216.45  108608.23   85447.484\n",
            "  79766.46  131440.16  146590.19  116528.51  105370.43  110178.49\n",
            " 104514.29  119237.79  108196.38  115705.836 127247.836 195667.67\n",
            " 123191.09  126034.55  138092.97   67207.27   97335.625 131225.56\n",
            " 119299.89  128756.96  101424.93  145731.44  185035.88  116792.414\n",
            " 161847.84  124381.79  127499.336 111161.195 104324.73  167627.12\n",
            " 131027.92  115637.95  135386.22   89071.86   99899.1   102828.984\n",
            " 112480.95   79678.57  155583.89  131530.83  127304.46  127021.82\n",
            " 140283.19  102519.83   76648.69   92061.305 141539.38  135670.05\n",
            " 100328.086 151511.1    97753.695 139647.86  144809.81  168215.95\n",
            " 168186.8   163715.36  118569.87  115140.34  145635.36   78885.63\n",
            " 106442.35  198077.22  141491.33  105563.43   91760.4   158428.23\n",
            "  85402.445 100456.74  132761.86  157925.3    96458.62  115118.89\n",
            " 142633.73  106038.9   109090.87  109775.09  131446.4   118364.734\n",
            " 156870.72  179940.58  151191.14  148985.94  130062.86  125467.2\n",
            "  50381.133 142517.53   94211.17  184982.12  107859.81  116524.22\n",
            " 116295.52  134322.72  125035.81  140905.53   84274.164 151693.52\n",
            " 145623.25  140477.5   200379.16  154414.73   94208.25  167413.\n",
            " 169574.8   143799.34  115164.64  119975.96  151371.33  138118.83\n",
            " 129600.04  135675.42  103743.88   86205.805 117631.31   93733.164\n",
            " 114315.37  202352.75   94381.72  100439.29  121982.53  158641.5\n",
            " 167306.52  165415.78  131060.52  171128.1   158174.5    92328.49\n",
            " 151734.11  102452.7   116482.52  153720.97   83902.8   158630.\n",
            " 177039.3   105913.98  128745.24  178651.56   86071.43   83210.805\n",
            "  87891.74  101018.52  137845.9   205662.72   85554.01  138517.69\n",
            "  76218.945 129994.48  105465.76  103292.77  117528.74   95183.41\n",
            " 183484.28  121707.51  176647.14  100984.89  164751.55  195903.\n",
            " 152041.75  154206.06   85069.83  106391.42  116973.49  153358.06\n",
            " 130198.39  116156.07  147106.72  144871.89  110671.74  100079.97\n",
            " 137269.8    95967.35  147842.42  111548.23  220305.4   135465.9\n",
            " 140862.4    91179.85  123146.97   92323.78  128827.01   74389.03\n",
            " 124079.305  92573.4   182837.6    80241.67  117017.8   138418.34\n",
            "  91948.305 136435.95  147768.16  210179.75   96474.38   86087.805\n",
            "  84610.766 104373.77   88810.18  139847.22  132474.58  128803.02\n",
            " 198183.8   144915.    114218.46  128146.02  147396.22  124518.57\n",
            " 134248.95   84332.62  117978.82  111351.516 121562.74  123206.49\n",
            " 121642.984  85398.86   76311.52  119907.01   72255.664  84339.01\n",
            " 153863.44   97068.195  95710.555  98361.39  101329.4   124208.37\n",
            " 123320.18  130425.98  118862.07  175847.38  114473.73  174268.\n",
            " 127858.4    95668.46  106593.305 133562.33  134980.48  217430.67\n",
            " 171590.03  135841.25  106611.44  149809.73  164747.62  107702.76\n",
            " 130191.69   77489.1   128863.71  265573.8   204290.44  117470.58\n",
            "  91179.18  106592.336 158049.56  188861.81  194572.66  135478.56\n",
            " 129716.05   82349.4   108854.01  140574.97   86951.87  106594.4\n",
            " 100688.28  154650.23  134302.08   82809.65  108247.81  142510.28\n",
            " 228797.33  151462.78  140191.27  118280.55  166335.1   115453.47\n",
            " 129278.805 198696.77  104882.63  109610.1   114303.6   111533.84\n",
            " 144391.69  159069.42  213932.34  108150.516 130079.34  171763.44\n",
            " 123091.484 172021.97  153204.72  157377.6   157534.95   94169.71\n",
            "  85883.21   92597.11   74548.74  152719.08   71930.51  129791.35\n",
            " 138781.53  119171.266  91593.805 141499.42  125473.81  187230.66\n",
            "  63833.332 149982.97  225814.    161782.06  104548.336  82166.69\n",
            " 127291.125  87155.57  139430.33   94748.66   91805.37  108495.266\n",
            " 123944.664 103824.23  152923.02  115164.1   142163.64  194954.62\n",
            "  95700.35  129766.55  120882.125 149972.94  116002.57  102327.6\n",
            "  94045.16  139133.98  199311.66  116903.586 158559.1   225226.\n",
            " 150555.08  103242.33  177384.52  127739.01  183078.19  100951.086\n",
            " 164827.5   178875.8   110686.94   98548.68   95207.17  143229.56\n",
            " 125239.164 159921.25  124738.55  216530.98  110261.48  204433.5\n",
            " 120774.305 125552.805 155264.38  167864.66  113950.04   96379.414\n",
            " 112669.35  183298.53   81034.39  240276.72   85530.914 125681.2\n",
            "  82246.84  130568.28  136921.05  121215.305  93518.125 204007.88\n",
            "  90238.47   88879.15  209842.4   110401.79  127861.76  127272.305\n",
            "  96231.02  117683.51  225014.92  171251.4   155086.14  204003.45\n",
            " 107520.18  194931.44  117142.23  140527.53  222264.05  132910.02\n",
            " 207856.11  123798.54  133257.33  128976.59  155697.7    87827.46\n",
            "  63337.883 159835.55  230525.73  165804.52  157589.78  150945.12\n",
            " 150073.3   131222.12   98202.945 192637.92  166806.75  173006.8\n",
            " 147963.67  101222.87  154828.73   99403.48   91599.04  150006.88\n",
            " 174626.38  130189.98   68008.29  151456.72  162365.55  206027.81\n",
            " 166163.6   168652.27  158838.12   83002.02  247186.14  112661.336\n",
            " 179834.7   180904.67  102167.07  140462.53  198379.78  103609.54\n",
            " 144848.94  131332.33   97730.336 213430.84  158094.53   82732.1\n",
            " 164648.36  199578.44  132757.16  175465.84  180187.06  152774.\n",
            " 144560.52  142548.34  153027.92  152719.47  138654.86  111548.23\n",
            " 144178.97  117369.21  126305.945 109167.47  159696.69  145755.6\n",
            " 129386.195  77400.914  83311.01   62924.36  126916.88  119062.164\n",
            "  86051.12  128504.61  211723.95  134348.78  162328.45  157631.66\n",
            " 111799.82   97170.37  135760.62  148338.38  189726.64   90834.12\n",
            "  90300.9   170826.03  124968.195 232796.12  114618.54  128181.21\n",
            " 135368.67   90562.98  208515.9   101785.37   89766.39   89616.49\n",
            "  90384.42  129340.14   73418.63  142064.8   182009.95  143236.05\n",
            " 166005.19  154874.31   87891.74   96245.734 209822.81  135488.03\n",
            " 147195.22   82610.555 162104.19  108882.33  123242.23   90834.12\n",
            " 102146.79  148880.66  140266.22   91637.61  134962.47  101104.836\n",
            "  78771.7   184881.72  125749.27  114475.555 103607.836 122873.08\n",
            "  99039.83  181833.97  126891.68  156969.55   96948.01   84935.93\n",
            " 108350.914 131601.53  142750.75  109053.21  159743.86   91166.27\n",
            "  98691.555 114051.086 100670.305 109878.27   98951.336  80651.15\n",
            "  96650.836 178073.06  139481.94  206882.81  110989.6   101714.82\n",
            "  84832.12  117734.38  124840.74  133309.97  110037.305 156285.78\n",
            " 132631.53  141196.5   199263.66  121286.305 133261.5   132129.53\n",
            " 165115.56  107588.26   97245.18  213787.44  218241.72   88251.734\n",
            " 150310.06  104837.445 184943.67  147522.05  164326.45  108789.15\n",
            " 111692.98  121181.89  133298.1    84990.06   79303.71   96641.02\n",
            " 127536.29  129980.695  91248.51  102339.71   80411.305 175588.48\n",
            " 105493.    125635.17  160297.34   80198.016 103749.63  122830.95\n",
            " 146310.    156337.4   161992.12  105789.38  108341.8   143235.98\n",
            " 159682.45  138235.67   97759.38  166412.81  129293.79  141749.89\n",
            "  89814.62  100263.22  158884.78   75424.695 119429.086  90175.32\n",
            " 118641.6    85027.9   193122.52  175764.44   94694.04   79303.71\n",
            " 140378.9   127592.13  123849.48   77229.15  161572.69  111994.41\n",
            " 103700.086 141527.64  144955.75   76644.26  179637.2   124516.04\n",
            " 152811.34  101363.586  62924.36   90931.67  106535.87   82576.93\n",
            " 138265.56  193970.14   98601.27  139258.89  130693.85  124739.086\n",
            " 108757.44  102679.25  110162.76  118357.664  68921.19  129079.414\n",
            " 147278.81   78669.695  98751.875  98367.45  114733.01   66120.57\n",
            "  88159.38   82856.52   93666.164 114492.53  167567.77  197508.19\n",
            "  93004.01  100073.11  162988.4   180681.89   85068.24  117472.4\n",
            "  93092.375 142260.22  131086.72  178287.81   91594.99  154057.89\n",
            " 110220.19  173356.5    91670.52   99506.48   83538.836 163476.22\n",
            " 164184.4   186676.75  107577.61   94881.37  338403.56  173539.56\n",
            " 125662.21  132590.34  183888.25  110904.29   97985.45  148394.92\n",
            " 144318.81  128595.45  101885.1    84066.2    84867.414  90925.61\n",
            " 137416.47  125321.5   158013.17  260366.12   88368.35  138076.81\n",
            "  99877.305 185959.78  161796.47  113096.57   84955.57  117847.35\n",
            " 121645.164  85836.43  112326.83  172092.38  220386.34  154725.58\n",
            " 183737.53  206506.94   86110.555 155109.36  234812.78  151881.92\n",
            " 146359.6   206120.19  105835.305  87371.375 222338.27  129355.984\n",
            " 148984.73  113753.67  111178.49   87454.54   98164.305  93653.99\n",
            " 184992.88   81663.25  173146.44   87801.44  192087.27  130721.74\n",
            " 134668.02  113818.32   91987.91  131522.94   90167.664 112140.48\n",
            " 108034.49   96922.62   82834.16  145066.14  116170.45  142313.7\n",
            "  88727.58  157823.34  110465.43  115957.52  107481.266 113499.46\n",
            " 147176.61  124347.65   95556.17  131411.34  159394.28  146306.75\n",
            " 109959.15  189339.66  130977.805 132409.47  114620.49  151218.3\n",
            " 100961.96  146591.38  130637.4   116247.77  107797.77  134994.9\n",
            "  71957.164  86674.76  158761.7   203443.53  109594.18  174934.06\n",
            "  97262.04   82071.99  102515.14   82186.51  124099.984 111212.445\n",
            " 116715.305 114746.984 107573.664 103291.54   59210.91   86579.32\n",
            "  94935.16  116254.79  132816.9   123146.97   87795.12  130342.805\n",
            " 119060.02   98648.26  147727.53  125991.81  118848.89  106630.52\n",
            "  89201.53   73968.32   85503.08   93903.734 133415.4   140366.72\n",
            " 174476.38  102845.3   123578.86   86699.164 100191.4   150892.16\n",
            "  72157.47  136986.12  118777.97   97105.39   99213.18   71025.13\n",
            " 120212.29  119142.09  124583.49  110546.51   86139.85   84154.85\n",
            " 141706.44   91854.95   82133.37   90850.96  126347.51  109655.21\n",
            " 152691.69   77442.38  146738.47  141448.14   70495.664 139490.61\n",
            " 122273.85  109820.86  120178.586  83288.414 113093.24  150363.58\n",
            " 117917.67  116371.14   82607.51  191996.94  144817.02  101431.414\n",
            "  86709.38  136518.56   92420.086 208911.42  143064.98  119742.65\n",
            " 145069.92  154183.97   77048.555 113634.055 192326.    109062.56\n",
            " 121712.26  129239.61   82493.19  104443.664  94636.71   88770.73\n",
            "  74860.33   91198.586 104818.73   95612.336  96555.055 133725.\n",
            " 126661.37  103693.39  133685.47  156047.05  122302.32  117555.16\n",
            " 109495.4   166449.03   89552.57  105611.14  137751.31   92909.586\n",
            "  91696.125  87371.32  111505.24  123885.1   106335.8   102497.35\n",
            " 175038.19  145907.81   82817.53  133247.81  124853.8   126743.52\n",
            " 133238.9   112342.04  160186.03   96908.305 100341.74  114893.516\n",
            " 108792.21  146230.64  133893.69  130806.29  165043.11  142515.92\n",
            " 136858.86  200201.4   144660.03   82955.445 133446.2    86915.67\n",
            " 143444.06   74064.16  136796.97  102392.32  108944.57  174991.8\n",
            " 114336.17  112224.17  190270.28  115941.305 190906.19   88141.97\n",
            "  91525.73  118973.4   109282.46  127405.805 132225.12  182888.92\n",
            " 163403.19  152006.25  159168.7    96999.18  151167.67  108415.24\n",
            " 129016.79  212121.89  154778.88  262590.25   78329.914 205777.11\n",
            " 268992.5    84908.37   99934.6   100313.27   84988.7   114760.97\n",
            "  92997.945 112628.79  138798.84  196462.55  103034.086  92597.11\n",
            "  95848.04  167320.36  128754.68  109805.46  146705.38   53165.523]\n"
          ]
        }
      ],
      "source": [
        "print(test_predictions)"
      ]
    },
    {
      "cell_type": "markdown",
      "metadata": {
        "id": "19wyogbOSU5t"
      },
      "source": [
        "It appears that the model predicts reasonably well.\n",
        "\n",
        "Now, check the error distribution:"
      ]
    },
    {
      "cell_type": "code",
      "execution_count": null,
      "metadata": {
        "colab": {
          "base_uri": "https://localhost:8080/",
          "height": 877
        },
        "id": "f-OHX4DiXd8x",
        "outputId": "2cd49408-da64-496d-ac77-fbaadd73c7f0"
      },
      "outputs": [
        {
          "data": {
            "image/png": "[encoded data removed]",
            "text/plain": [
              "<Figure size 1080x1080 with 1 Axes>"
            ]
          },
          "metadata": {},
          "output_type": "display_data"
        }
      ],
      "source": [
        "error = test_predictions - test_labels\n",
        "plt.hist(error, bins=10)\n",
        "plt.rcParams[\"figure.figsize\"] = (15,15)\n",
        "plt.xlabel('Prediction Error [ConvertedCompYearly]')\n",
        "_ = plt.ylabel('Count')"
      ]
    },
    {
      "cell_type": "markdown",
      "metadata": {
        "id": "KSyaHUfDT-mZ"
      },
      "source": [
        "If you're happy with the model, save it for later use with `Model.save`:"
      ]
    },
    {
      "cell_type": "code",
      "execution_count": null,
      "metadata": {
        "colab": {
          "base_uri": "https://localhost:8080/"
        },
        "id": "4-WwLlmfT-mb",
        "outputId": "09668309-ad1c-41da-9341-8707d30062dd"
      },
      "outputs": [
        {
          "name": "stdout",
          "output_type": "stream",
          "text": [
            "INFO:tensorflow:Assets written to: dnn_model/assets\n"
          ]
        }
      ],
      "source": [
        "dnn_model.save('dnn_model')"
      ]
    },
    {
      "cell_type": "code",
      "execution_count": null,
      "metadata": {
        "id": "pc3wkQAX9cO0",
        "colab": {
          "base_uri": "https://localhost:8080/"
        },
        "outputId": "42991833-f768-4854-e62b-df2db1189a94"
      },
      "outputs": [
        {
          "output_type": "stream",
          "name": "stdout",
          "text": [
            "INFO:tensorflow:Assets written to: ram://2ffbb912-7ab5-405e-932d-88f5dc96b7d2/assets\n"
          ]
        }
      ],
      "source": [
        "import pickle\n",
        "pickle.dump(dnn_model,open('/content/model.pkl','wb'))"
      ]
    },
    {
      "cell_type": "markdown",
      "metadata": {
        "id": "Benlnl8UT-me"
      },
      "source": [
        "If you reload the model, it gives identical output:"
      ]
    },
    {
      "cell_type": "code",
      "execution_count": null,
      "metadata": {
        "id": "dyyyj2zVT-mf"
      },
      "outputs": [],
      "source": [
        "reloaded = tf.keras.models.load_model('dnn_model')\n",
        "\n",
        "test_results['reloaded'] = reloaded.evaluate(\n",
        "    test_features, test_labels, verbose=0)"
      ]
    },
    {
      "cell_type": "code",
      "execution_count": null,
      "metadata": {
        "colab": {
          "base_uri": "https://localhost:8080/"
        },
        "id": "OoWrqkZnydkf",
        "outputId": "4a469d57-684e-40a0-c210-8f01ae5d114d"
      },
      "outputs": [
        {
          "output_type": "execute_result",
          "data": {
            "text/plain": [
              "120673.07"
            ]
          },
          "metadata": {},
          "execution_count": 144
        }
      ],
      "source": [
        "test_one = reloaded.predict(mylist).flatten()\n",
        "test_one[0]"
      ]
    },
    {
      "cell_type": "code",
      "execution_count": null,
      "metadata": {
        "colab": {
          "base_uri": "https://localhost:8080/",
          "height": 206
        },
        "id": "f_GchJ2tg-2o",
        "outputId": "ff104d22-ed72-4acb-8274-16c04afe44d1"
      },
      "outputs": [
        {
          "data": {
            "text/html": [
              "<div>\n",
              "<style scoped>\n",
              "    .dataframe tbody tr th:only-of-type {\n",
              "        vertical-align: middle;\n",
              "    }\n",
              "\n",
              "    .dataframe tbody tr th {\n",
              "        vertical-align: top;\n",
              "    }\n",
              "\n",
              "    .dataframe thead th {\n",
              "        text-align: right;\n",
              "    }\n",
              "</style>\n",
              "<table border=\"1\" class=\"dataframe\">\n",
              "  <thead>\n",
              "    <tr style=\"text-align: right;\">\n",
              "      <th></th>\n",
              "      <th>Mean absolute error [ConvertedCompYearly]</th>\n",
              "    </tr>\n",
              "  </thead>\n",
              "  <tbody>\n",
              "    <tr>\n",
              "      <th>horsepower_model</th>\n",
              "      <td>136949.171875</td>\n",
              "    </tr>\n",
              "    <tr>\n",
              "      <th>linear_model</th>\n",
              "      <td>136954.937500</td>\n",
              "    </tr>\n",
              "    <tr>\n",
              "      <th>dnn_horsepower_model</th>\n",
              "      <td>43975.554688</td>\n",
              "    </tr>\n",
              "    <tr>\n",
              "      <th>dnn_model</th>\n",
              "      <td>39936.164062</td>\n",
              "    </tr>\n",
              "    <tr>\n",
              "      <th>reloaded</th>\n",
              "      <td>39936.164062</td>\n",
              "    </tr>\n",
              "  </tbody>\n",
              "</table>\n",
              "</div>"
            ],
            "text/plain": [
              "                      Mean absolute error [ConvertedCompYearly]\n",
              "horsepower_model                                  136949.171875\n",
              "linear_model                                      136954.937500\n",
              "dnn_horsepower_model                               43975.554688\n",
              "dnn_model                                          39936.164062\n",
              "reloaded                                           39936.164062"
            ]
          },
          "execution_count": 95,
          "metadata": {},
          "output_type": "execute_result"
        }
      ],
      "source": [
        "pd.DataFrame(test_results, index=['Mean absolute error [ConvertedCompYearly]']).T"
      ]
    },
    {
      "cell_type": "code",
      "execution_count": null,
      "metadata": {
        "colab": {
          "base_uri": "https://localhost:8080/"
        },
        "id": "EDw2yiz-i4PM",
        "outputId": "f1339a2b-5e6f-4921-deb7-d8987cb87583"
      },
      "outputs": [
        {
          "output_type": "stream",
          "name": "stdout",
          "text": [
            "Mounted at /content/drive\n"
          ]
        }
      ],
      "source": [
        "from google.colab import drive\n",
        "drive.mount('/content/drive')"
      ]
    },
    {
      "cell_type": "markdown",
      "metadata": {
        "id": "vgGQuV-yqYZH"
      },
      "source": [
        "## Conclusion\n",
        "\n",
        "This notebook introduced a few techniques to handle a regression problem. Here are a few more tips that may help:\n",
        "\n",
        "- Mean squared error (MSE) (`tf.losses.MeanSquaredError`) and mean absolute error (MAE) (`tf.losses.MeanAbsoluteError`) are common loss functions used for regression problems. MAE is less sensitive to outliers. Different loss functions are used for classification problems.\n",
        "- Similarly, evaluation metrics used for regression differ from classification.\n",
        "- When numeric input data features have values with different ranges, each feature should be scaled independently to the same range.\n",
        "- Overfitting is a common problem for DNN models, though it wasn't a problem for this tutorial. Visit the [Overfit and underfit](overfit_and_underfit.ipynb) tutorial for more help with this."
      ]
    },
    {
      "cell_type": "code",
      "execution_count": null,
      "metadata": {
        "colab": {
          "base_uri": "https://localhost:8080/"
        },
        "id": "cfHFz_Xj1moy",
        "outputId": "914b0f3f-2517-4ecf-d192-b304f5597794"
      },
      "outputs": [
        {
          "output_type": "stream",
          "name": "stdout",
          "text": [
            "Requirement already satisfied: flask-ngrok in /usr/local/lib/python3.7/dist-packages (0.0.25)\n",
            "Requirement already satisfied: Flask>=0.8 in /usr/local/lib/python3.7/dist-packages (from flask-ngrok) (1.1.4)\n",
            "Requirement already satisfied: requests in /usr/local/lib/python3.7/dist-packages (from flask-ngrok) (2.23.0)\n",
            "Requirement already satisfied: click<8.0,>=5.1 in /usr/local/lib/python3.7/dist-packages (from Flask>=0.8->flask-ngrok) (7.1.2)\n",
            "Requirement already satisfied: Jinja2<3.0,>=2.10.1 in /usr/local/lib/python3.7/dist-packages (from Flask>=0.8->flask-ngrok) (2.11.3)\n",
            "Requirement already satisfied: itsdangerous<2.0,>=0.24 in /usr/local/lib/python3.7/dist-packages (from Flask>=0.8->flask-ngrok) (1.1.0)\n",
            "Requirement already satisfied: Werkzeug<2.0,>=0.15 in /usr/local/lib/python3.7/dist-packages (from Flask>=0.8->flask-ngrok) (1.0.1)\n",
            "Requirement already satisfied: MarkupSafe>=0.23 in /usr/local/lib/python3.7/dist-packages (from Jinja2<3.0,>=2.10.1->Flask>=0.8->flask-ngrok) (2.0.1)\n",
            "Requirement already satisfied: idna<3,>=2.5 in /usr/local/lib/python3.7/dist-packages (from requests->flask-ngrok) (2.10)\n",
            "Requirement already satisfied: chardet<4,>=3.0.2 in /usr/local/lib/python3.7/dist-packages (from requests->flask-ngrok) (3.0.4)\n",
            "Requirement already satisfied: certifi>=2017.4.17 in /usr/local/lib/python3.7/dist-packages (from requests->flask-ngrok) (2021.10.8)\n",
            "Requirement already satisfied: urllib3!=1.25.0,!=1.25.1,<1.26,>=1.21.1 in /usr/local/lib/python3.7/dist-packages (from requests->flask-ngrok) (1.24.3)\n"
          ]
        }
      ],
      "source": [
        ""
      ]
    },
    {
      "cell_type": "code",
      "execution_count": null,
      "metadata": {
        "id": "1Z-zdSvX1ztK"
      },
      "outputs": [],
      "source": [
        "# from flask import Flask, request, render_template\n",
        "# from languages import languages\n",
        "# from flask_ngrok import run_with_ngrok\n",
        "\n",
        "# from google.colab import drive\n",
        "# drive.mount('/content/gdrive')\n",
        "\n",
        "# app = Flask(__name__)\n",
        "# run_with_ngrok(app)\n",
        "\n",
        "# @app.route('/', methods=['GET', 'POST'])\n",
        "# def my_form():\n",
        "#     testlist = languages\n",
        "#     if request.method == 'POST':\n",
        "#         list = []\n",
        "#         list.append(request.form.get('CodingPro'))\n",
        "#         langs = (request.form.getlist('checkbox'))\n",
        "#         params = [i in langs for i in testlist] \n",
        "#         list = list + params\n",
        "\n",
        "#         print(list)\n",
        "#     return render_template('test1.html')\n",
        "\n",
        "# if __name__ == '__main__':\n",
        "#     app.run()"
      ]
    },
    {
      "cell_type": "code",
      "execution_count": null,
      "metadata": {
        "id": "cxcdIPi613Za"
      },
      "outputs": [],
      "source": [
        ""
      ]
    }
  ],
  "metadata": {
    "colab": {
      "collapsed_sections": [],
      "name": "Stack Overflow Main Model.ipynb",
      "provenance": [],
      "include_colab_link": true
    },
    "kernelspec": {
      "display_name": "Python 3",
      "name": "python3"
    }
  },
  "nbformat": 4,
  "nbformat_minor": 0
}