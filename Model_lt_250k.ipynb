{
  "cells": [
    {
      "cell_type": "markdown",
      "metadata": {
        "id": "view-in-github",
        "colab_type": "text"
      },
      "source": [
        "<a href=\"https://colab.research.google.com/github/navistar792/final-project/blob/main/Model_lt_250k.ipynb\" target=\"_parent\"><img src=\"https://colab.research.google.com/assets/colab-badge.svg\" alt=\"Open In Colab\"/></a>"
      ]
    },
    {
      "cell_type": "markdown",
      "metadata": {
        "id": "FhGuhbZ6M5tl"
      },
      "source": [
        "##### Copyright 2018 The TensorFlow Authors."
      ]
    },
    {
      "cell_type": "code",
      "execution_count": null,
      "metadata": {
        "cellView": "form",
        "id": "AwOEIRJC6Une"
      },
      "outputs": [],
      "source": [
        "#@title Licensed under the Apache License, Version 2.0 (the \"License\");\n",
        "# you may not use this file except in compliance with the License.\n",
        "# You may obtain a copy of the License at\n",
        "#\n",
        "# https://www.apache.org/licenses/LICENSE-2.0\n",
        "#\n",
        "# Unless required by applicable law or agreed to in writing, software\n",
        "# distributed under the License is distributed on an \"AS IS\" BASIS,\n",
        "# WITHOUT WARRANTIES OR CONDITIONS OF ANY KIND, either express or implied.\n",
        "# See the License for the specific language governing permissions and\n",
        "# limitations under the License."
      ]
    },
    {
      "cell_type": "code",
      "execution_count": null,
      "metadata": {
        "cellView": "form",
        "id": "KyPEtTqk6VdG"
      },
      "outputs": [],
      "source": [
        "#@title MIT License\n",
        "#\n",
        "# Copyright (c) 2017 François Chollet\n",
        "#\n",
        "# Permission is hereby granted, free of charge, to any person obtaining a\n",
        "# copy of this software and associated documentation files (the \"Software\"),\n",
        "# to deal in the Software without restriction, including without limitation\n",
        "# the rights to use, copy, modify, merge, publish, distribute, sublicense,\n",
        "# and/or sell copies of the Software, and to permit persons to whom the\n",
        "# Software is furnished to do so, subject to the following conditions:\n",
        "#\n",
        "# The above copyright notice and this permission notice shall be included in\n",
        "# all copies or substantial portions of the Software.\n",
        "#\n",
        "# THE SOFTWARE IS PROVIDED \"AS IS\", WITHOUT WARRANTY OF ANY KIND, EXPRESS OR\n",
        "# IMPLIED, INCLUDING BUT NOT LIMITED TO THE WARRANTIES OF MERCHANTABILITY,\n",
        "# FITNESS FOR A PARTICULAR PURPOSE AND NONINFRINGEMENT. IN NO EVENT SHALL\n",
        "# THE AUTHORS OR COPYRIGHT HOLDERS BE LIABLE FOR ANY CLAIM, DAMAGES OR OTHER\n",
        "# LIABILITY, WHETHER IN AN ACTION OF CONTRACT, TORT OR OTHERWISE, ARISING\n",
        "# FROM, OUT OF OR IN CONNECTION WITH THE SOFTWARE OR THE USE OR OTHER\n",
        "# DEALINGS IN THE SOFTWARE."
      ]
    },
    {
      "cell_type": "markdown",
      "metadata": {
        "id": "EIdT9iu_Z4Rb"
      },
      "source": [
        "# Basic regression: Predict salary from experience and languages known"
      ]
    },
    {
      "cell_type": "markdown",
      "metadata": {
        "id": "bBIlTPscrIT9"
      },
      "source": [
        "<table class=\"tfo-notebook-buttons\" align=\"left\">\n",
        "  <td>\n",
        "    <a target=\"_blank\" href=\"https://www.tensorflow.org/tutorials/keras/regression\"><img src=\"https://www.tensorflow.org/images/tf_logo_32px.png\" />View on TensorFlow.org</a>\n",
        "  </td>\n",
        "  <td>\n",
        "    <a target=\"_blank\" href=\"https://colab.research.google.com/github/tensorflow/docs/blob/master/site/en/tutorials/keras/regression.ipynb\"><img src=\"https://www.tensorflow.org/images/colab_logo_32px.png\" />Run in Google Colab</a>\n",
        "  </td>\n",
        "  <td>\n",
        "    <a target=\"_blank\" href=\"https://github.com/tensorflow/docs/blob/master/site/en/tutorials/keras/regression.ipynb\"><img src=\"https://www.tensorflow.org/images/GitHub-Mark-32px.png\" />View source on GitHub</a>\n",
        "  </td>\n",
        "  <td>\n",
        "    <a href=\"https://storage.googleapis.com/tensorflow_docs/docs/site/en/tutorials/keras/regression.ipynb\"><img src=\"https://www.tensorflow.org/images/download_logo_32px.png\" />Download notebook</a>\n",
        "  </td>\n",
        "</table>"
      ]
    },
    {
      "cell_type": "markdown",
      "metadata": {
        "id": "AHp3M9ZmrIxj"
      },
      "source": [
        "In a *regression* problem, the aim is to predict the output of a continuous value, like a price or a probability. Contrast this with a *classification* problem, where the aim is to select a class from a list of classes (for example, where a picture contains an apple or an orange, recognizing which fruit is in the picture).\n",
        "\n",
        "This example uses the Keras API. (Visit the Keras [tutorials](https://www.tensorflow.org/tutorials/keras) and [guides](https://www.tensorflow.org/guide/keras) to learn more.)"
      ]
    },
    {
      "cell_type": "code",
      "execution_count": null,
      "metadata": {
        "id": "moB4tpEHxKB3"
      },
      "outputs": [],
      "source": [
        "# Use seaborn for pairplot.\n",
        "!pip install -q seaborn"
      ]
    },
    {
      "cell_type": "code",
      "execution_count": null,
      "metadata": {
        "id": "1rRo8oNqZ-Rj"
      },
      "outputs": [],
      "source": [
        "import matplotlib.pyplot as plt\n",
        "import numpy as np\n",
        "import pandas as pd\n",
        "import seaborn as sns\n",
        "from matplotlib.pyplot import figure\n",
        "\n",
        "\n",
        "# Make NumPy printouts easier to read.\n",
        "np.set_printoptions(precision=3, suppress=True)"
      ]
    },
    {
      "cell_type": "code",
      "execution_count": null,
      "metadata": {
        "colab": {
          "base_uri": "https://localhost:8080/"
        },
        "id": "9xQKvCJ85kCQ",
        "outputId": "cb44f28e-7881-4a62-f6e3-3a2f836a5f10"
      },
      "outputs": [
        {
          "output_type": "stream",
          "name": "stdout",
          "text": [
            "2.7.0\n"
          ]
        }
      ],
      "source": [
        "import tensorflow as tf\n",
        "\n",
        "from tensorflow import keras\n",
        "from tensorflow.keras import layers\n",
        "\n",
        "print(tf.__version__)"
      ]
    },
    {
      "cell_type": "markdown",
      "metadata": {
        "id": "F_72b0LCNbjx"
      },
      "source": [
        "## The Stack Overflow Annual Survey (2021) data\n",
        "The dataset is available from the [UCI Machine Learning Repository](https://www.google.com/url?sa=t&rct=j&q=&esrc=s&source=web&cd=&cad=rja&uact=8&ved=2ahUKEwjt1Kanu9L0AhUFG80KHR9iClgQFnoECBQQAQ&url=https%3A%2F%2Finsights.stackoverflow.com%2Fsurvey%2F2021&usg=AOvVaw03n3qvug3EVxESbBohszEz).\n"
      ]
    },
    {
      "cell_type": "markdown",
      "metadata": {
        "id": "gFh9ne3FZ-On"
      },
      "source": [
        "### Get the data\n",
        "First download and import the dataset using pandas:"
      ]
    },
    {
      "cell_type": "code",
      "execution_count": null,
      "metadata": {
        "id": "CiX2FI4gZtTt"
      },
      "outputs": [],
      "source": [
        "url = 'https://raw.githubusercontent.com/navistar792/final-project/main/2021_features.csv'\n",
        "\n",
        "raw_dataset = pd.read_csv(url)\n",
        "raw_dataset = raw_dataset.drop('Unnamed: 0', 1)\n",
        "raw_dataset = raw_dataset.drop('YearsCode', 1)\n",
        "raw = raw_dataset.astype('float64')\n",
        "raw2 = raw[raw['ConvertedCompYearly']<250000]"
      ]
    },
    {
      "cell_type": "code",
      "execution_count": null,
      "metadata": {
        "colab": {
          "base_uri": "https://localhost:8080/"
        },
        "id": "OFZFQfuqoAH0",
        "outputId": "38e7470b-d153-44c5-dae4-7bd4806e365c"
      },
      "outputs": [
        {
          "output_type": "execute_result",
          "data": {
            "text/plain": [
              "Index(['ConvertedCompYearly', 'YearsCodePro', 'AWS', 'Bash/Shell', 'C++',\n",
              "       'COBOL', 'Cassandra', 'Clojure', 'Crystal', 'Delphi', 'Django',\n",
              "       'Drupal', 'DynamoDB', 'Elasticsearch', 'Flask', 'Flow', 'Git', 'Go',\n",
              "       'Google Cloud Platform', 'Hadoop', 'Java', 'JavaScript', 'Kubernetes',\n",
              "       'LISP', 'MariaDB', 'Microsoft Azure', 'Node.js', 'Oracle', 'PHP',\n",
              "       'Pandas', 'Perl', 'PowerShell', 'Python', 'Qt', 'React.js', 'Redis',\n",
              "       'Ruby on Rails', 'Rust', 'Scala', 'Swift', 'Terraform', 'TypeScript',\n",
              "       'Unity 3D', 'Vue.js', 'Xamarin', 'jQuery'],\n",
              "      dtype='object')"
            ]
          },
          "metadata": {},
          "execution_count": 5
        }
      ],
      "source": [
        "raw2.columns"
      ]
    },
    {
      "cell_type": "code",
      "execution_count": null,
      "metadata": {
        "colab": {
          "base_uri": "https://localhost:8080/",
          "height": 261
        },
        "id": "2oY3pMPagJrO",
        "outputId": "b64633ad-031a-4109-f4ac-6ea807c3039e"
      },
      "outputs": [
        {
          "output_type": "execute_result",
          "data": {
            "text/html": [
              "<div>\n",
              "<style scoped>\n",
              "    .dataframe tbody tr th:only-of-type {\n",
              "        vertical-align: middle;\n",
              "    }\n",
              "\n",
              "    .dataframe tbody tr th {\n",
              "        vertical-align: top;\n",
              "    }\n",
              "\n",
              "    .dataframe thead th {\n",
              "        text-align: right;\n",
              "    }\n",
              "</style>\n",
              "<table border=\"1\" class=\"dataframe\">\n",
              "  <thead>\n",
              "    <tr style=\"text-align: right;\">\n",
              "      <th></th>\n",
              "      <th>ConvertedCompYearly</th>\n",
              "      <th>YearsCodePro</th>\n",
              "      <th>AWS</th>\n",
              "      <th>Bash/Shell</th>\n",
              "      <th>C++</th>\n",
              "      <th>COBOL</th>\n",
              "      <th>Cassandra</th>\n",
              "      <th>Clojure</th>\n",
              "      <th>Crystal</th>\n",
              "      <th>Delphi</th>\n",
              "      <th>Django</th>\n",
              "      <th>Drupal</th>\n",
              "      <th>DynamoDB</th>\n",
              "      <th>Elasticsearch</th>\n",
              "      <th>Flask</th>\n",
              "      <th>Flow</th>\n",
              "      <th>Git</th>\n",
              "      <th>Go</th>\n",
              "      <th>Google Cloud Platform</th>\n",
              "      <th>Hadoop</th>\n",
              "      <th>Java</th>\n",
              "      <th>JavaScript</th>\n",
              "      <th>Kubernetes</th>\n",
              "      <th>LISP</th>\n",
              "      <th>MariaDB</th>\n",
              "      <th>Microsoft Azure</th>\n",
              "      <th>Node.js</th>\n",
              "      <th>Oracle</th>\n",
              "      <th>PHP</th>\n",
              "      <th>Pandas</th>\n",
              "      <th>Perl</th>\n",
              "      <th>PowerShell</th>\n",
              "      <th>Python</th>\n",
              "      <th>Qt</th>\n",
              "      <th>React.js</th>\n",
              "      <th>Redis</th>\n",
              "      <th>Ruby on Rails</th>\n",
              "      <th>Rust</th>\n",
              "      <th>Scala</th>\n",
              "      <th>Swift</th>\n",
              "      <th>Terraform</th>\n",
              "      <th>TypeScript</th>\n",
              "      <th>Unity 3D</th>\n",
              "      <th>Vue.js</th>\n",
              "      <th>Xamarin</th>\n",
              "      <th>jQuery</th>\n",
              "    </tr>\n",
              "  </thead>\n",
              "  <tbody>\n",
              "    <tr>\n",
              "      <th>8814</th>\n",
              "      <td>130000.0</td>\n",
              "      <td>25.0</td>\n",
              "      <td>0.0</td>\n",
              "      <td>1.0</td>\n",
              "      <td>0.0</td>\n",
              "      <td>0.0</td>\n",
              "      <td>0.0</td>\n",
              "      <td>0.0</td>\n",
              "      <td>0.0</td>\n",
              "      <td>0.0</td>\n",
              "      <td>0.0</td>\n",
              "      <td>0.0</td>\n",
              "      <td>0.0</td>\n",
              "      <td>0.0</td>\n",
              "      <td>0.0</td>\n",
              "      <td>0.0</td>\n",
              "      <td>1.0</td>\n",
              "      <td>0.0</td>\n",
              "      <td>0.0</td>\n",
              "      <td>0.0</td>\n",
              "      <td>0.0</td>\n",
              "      <td>0.0</td>\n",
              "      <td>0.0</td>\n",
              "      <td>0.0</td>\n",
              "      <td>1.0</td>\n",
              "      <td>0.0</td>\n",
              "      <td>0.0</td>\n",
              "      <td>0.0</td>\n",
              "      <td>1.0</td>\n",
              "      <td>0.0</td>\n",
              "      <td>0.0</td>\n",
              "      <td>0.0</td>\n",
              "      <td>0.0</td>\n",
              "      <td>0.0</td>\n",
              "      <td>0.0</td>\n",
              "      <td>0.0</td>\n",
              "      <td>0.0</td>\n",
              "      <td>0.0</td>\n",
              "      <td>0.0</td>\n",
              "      <td>0.0</td>\n",
              "      <td>0.0</td>\n",
              "      <td>0.0</td>\n",
              "      <td>0.0</td>\n",
              "      <td>0.0</td>\n",
              "      <td>0.0</td>\n",
              "      <td>1.0</td>\n",
              "    </tr>\n",
              "    <tr>\n",
              "      <th>8815</th>\n",
              "      <td>200000.0</td>\n",
              "      <td>5.0</td>\n",
              "      <td>1.0</td>\n",
              "      <td>1.0</td>\n",
              "      <td>0.0</td>\n",
              "      <td>0.0</td>\n",
              "      <td>0.0</td>\n",
              "      <td>0.0</td>\n",
              "      <td>0.0</td>\n",
              "      <td>0.0</td>\n",
              "      <td>0.0</td>\n",
              "      <td>0.0</td>\n",
              "      <td>0.0</td>\n",
              "      <td>1.0</td>\n",
              "      <td>1.0</td>\n",
              "      <td>0.0</td>\n",
              "      <td>1.0</td>\n",
              "      <td>0.0</td>\n",
              "      <td>0.0</td>\n",
              "      <td>0.0</td>\n",
              "      <td>0.0</td>\n",
              "      <td>1.0</td>\n",
              "      <td>0.0</td>\n",
              "      <td>0.0</td>\n",
              "      <td>0.0</td>\n",
              "      <td>0.0</td>\n",
              "      <td>0.0</td>\n",
              "      <td>0.0</td>\n",
              "      <td>0.0</td>\n",
              "      <td>0.0</td>\n",
              "      <td>0.0</td>\n",
              "      <td>0.0</td>\n",
              "      <td>1.0</td>\n",
              "      <td>0.0</td>\n",
              "      <td>1.0</td>\n",
              "      <td>0.0</td>\n",
              "      <td>0.0</td>\n",
              "      <td>0.0</td>\n",
              "      <td>0.0</td>\n",
              "      <td>0.0</td>\n",
              "      <td>0.0</td>\n",
              "      <td>0.0</td>\n",
              "      <td>0.0</td>\n",
              "      <td>0.0</td>\n",
              "      <td>0.0</td>\n",
              "      <td>0.0</td>\n",
              "    </tr>\n",
              "    <tr>\n",
              "      <th>8816</th>\n",
              "      <td>160000.0</td>\n",
              "      <td>35.0</td>\n",
              "      <td>0.0</td>\n",
              "      <td>1.0</td>\n",
              "      <td>0.0</td>\n",
              "      <td>0.0</td>\n",
              "      <td>0.0</td>\n",
              "      <td>0.0</td>\n",
              "      <td>0.0</td>\n",
              "      <td>0.0</td>\n",
              "      <td>0.0</td>\n",
              "      <td>0.0</td>\n",
              "      <td>0.0</td>\n",
              "      <td>0.0</td>\n",
              "      <td>0.0</td>\n",
              "      <td>0.0</td>\n",
              "      <td>1.0</td>\n",
              "      <td>0.0</td>\n",
              "      <td>0.0</td>\n",
              "      <td>0.0</td>\n",
              "      <td>1.0</td>\n",
              "      <td>1.0</td>\n",
              "      <td>1.0</td>\n",
              "      <td>0.0</td>\n",
              "      <td>0.0</td>\n",
              "      <td>1.0</td>\n",
              "      <td>1.0</td>\n",
              "      <td>0.0</td>\n",
              "      <td>0.0</td>\n",
              "      <td>0.0</td>\n",
              "      <td>0.0</td>\n",
              "      <td>0.0</td>\n",
              "      <td>0.0</td>\n",
              "      <td>0.0</td>\n",
              "      <td>0.0</td>\n",
              "      <td>0.0</td>\n",
              "      <td>0.0</td>\n",
              "      <td>0.0</td>\n",
              "      <td>1.0</td>\n",
              "      <td>0.0</td>\n",
              "      <td>0.0</td>\n",
              "      <td>0.0</td>\n",
              "      <td>0.0</td>\n",
              "      <td>0.0</td>\n",
              "      <td>0.0</td>\n",
              "      <td>1.0</td>\n",
              "    </tr>\n",
              "    <tr>\n",
              "      <th>8817</th>\n",
              "      <td>40000.0</td>\n",
              "      <td>0.0</td>\n",
              "      <td>1.0</td>\n",
              "      <td>1.0</td>\n",
              "      <td>0.0</td>\n",
              "      <td>0.0</td>\n",
              "      <td>0.0</td>\n",
              "      <td>0.0</td>\n",
              "      <td>0.0</td>\n",
              "      <td>0.0</td>\n",
              "      <td>0.0</td>\n",
              "      <td>0.0</td>\n",
              "      <td>0.0</td>\n",
              "      <td>0.0</td>\n",
              "      <td>1.0</td>\n",
              "      <td>0.0</td>\n",
              "      <td>1.0</td>\n",
              "      <td>0.0</td>\n",
              "      <td>0.0</td>\n",
              "      <td>0.0</td>\n",
              "      <td>0.0</td>\n",
              "      <td>1.0</td>\n",
              "      <td>0.0</td>\n",
              "      <td>0.0</td>\n",
              "      <td>0.0</td>\n",
              "      <td>0.0</td>\n",
              "      <td>1.0</td>\n",
              "      <td>0.0</td>\n",
              "      <td>1.0</td>\n",
              "      <td>0.0</td>\n",
              "      <td>0.0</td>\n",
              "      <td>1.0</td>\n",
              "      <td>1.0</td>\n",
              "      <td>1.0</td>\n",
              "      <td>1.0</td>\n",
              "      <td>0.0</td>\n",
              "      <td>0.0</td>\n",
              "      <td>0.0</td>\n",
              "      <td>0.0</td>\n",
              "      <td>0.0</td>\n",
              "      <td>0.0</td>\n",
              "      <td>0.0</td>\n",
              "      <td>0.0</td>\n",
              "      <td>1.0</td>\n",
              "      <td>0.0</td>\n",
              "      <td>0.0</td>\n",
              "    </tr>\n",
              "    <tr>\n",
              "      <th>8819</th>\n",
              "      <td>128000.0</td>\n",
              "      <td>6.0</td>\n",
              "      <td>1.0</td>\n",
              "      <td>0.0</td>\n",
              "      <td>0.0</td>\n",
              "      <td>0.0</td>\n",
              "      <td>0.0</td>\n",
              "      <td>0.0</td>\n",
              "      <td>0.0</td>\n",
              "      <td>0.0</td>\n",
              "      <td>0.0</td>\n",
              "      <td>0.0</td>\n",
              "      <td>0.0</td>\n",
              "      <td>0.0</td>\n",
              "      <td>0.0</td>\n",
              "      <td>0.0</td>\n",
              "      <td>0.0</td>\n",
              "      <td>0.0</td>\n",
              "      <td>0.0</td>\n",
              "      <td>0.0</td>\n",
              "      <td>0.0</td>\n",
              "      <td>0.0</td>\n",
              "      <td>0.0</td>\n",
              "      <td>0.0</td>\n",
              "      <td>0.0</td>\n",
              "      <td>0.0</td>\n",
              "      <td>0.0</td>\n",
              "      <td>0.0</td>\n",
              "      <td>0.0</td>\n",
              "      <td>0.0</td>\n",
              "      <td>0.0</td>\n",
              "      <td>0.0</td>\n",
              "      <td>0.0</td>\n",
              "      <td>0.0</td>\n",
              "      <td>0.0</td>\n",
              "      <td>0.0</td>\n",
              "      <td>1.0</td>\n",
              "      <td>0.0</td>\n",
              "      <td>0.0</td>\n",
              "      <td>0.0</td>\n",
              "      <td>0.0</td>\n",
              "      <td>1.0</td>\n",
              "      <td>0.0</td>\n",
              "      <td>0.0</td>\n",
              "      <td>0.0</td>\n",
              "      <td>0.0</td>\n",
              "    </tr>\n",
              "  </tbody>\n",
              "</table>\n",
              "</div>"
            ],
            "text/plain": [
              "      ConvertedCompYearly  YearsCodePro  AWS  ...  Vue.js  Xamarin  jQuery\n",
              "8814             130000.0          25.0  0.0  ...     0.0      0.0     1.0\n",
              "8815             200000.0           5.0  1.0  ...     0.0      0.0     0.0\n",
              "8816             160000.0          35.0  0.0  ...     0.0      0.0     1.0\n",
              "8817              40000.0           0.0  1.0  ...     1.0      0.0     0.0\n",
              "8819             128000.0           6.0  1.0  ...     0.0      0.0     0.0\n",
              "\n",
              "[5 rows x 46 columns]"
            ]
          },
          "metadata": {},
          "execution_count": 6
        }
      ],
      "source": [
        "dataset = raw2.copy()\n",
        "dataset.tail()"
      ]
    },
    {
      "cell_type": "markdown",
      "metadata": {
        "id": "3MWuJTKEDM-f"
      },
      "source": [
        "### Clean the data\n",
        "\n",
        "The dataset may contain a few unknown values:"
      ]
    },
    {
      "cell_type": "code",
      "execution_count": null,
      "metadata": {
        "colab": {
          "base_uri": "https://localhost:8080/"
        },
        "id": "JEJHhN65a2VV",
        "outputId": "a5d3db4f-e5e0-4fd2-aade-7ff25fee9000"
      },
      "outputs": [
        {
          "output_type": "execute_result",
          "data": {
            "text/plain": [
              "ConvertedCompYearly      0\n",
              "YearsCodePro             0\n",
              "AWS                      0\n",
              "Bash/Shell               0\n",
              "C++                      0\n",
              "COBOL                    0\n",
              "Cassandra                0\n",
              "Clojure                  0\n",
              "Crystal                  0\n",
              "Delphi                   0\n",
              "Django                   0\n",
              "Drupal                   0\n",
              "DynamoDB                 0\n",
              "Elasticsearch            0\n",
              "Flask                    0\n",
              "Flow                     0\n",
              "Git                      0\n",
              "Go                       0\n",
              "Google Cloud Platform    0\n",
              "Hadoop                   0\n",
              "Java                     0\n",
              "JavaScript               0\n",
              "Kubernetes               0\n",
              "LISP                     0\n",
              "MariaDB                  0\n",
              "Microsoft Azure          0\n",
              "Node.js                  0\n",
              "Oracle                   0\n",
              "PHP                      0\n",
              "Pandas                   0\n",
              "Perl                     0\n",
              "PowerShell               0\n",
              "Python                   0\n",
              "Qt                       0\n",
              "React.js                 0\n",
              "Redis                    0\n",
              "Ruby on Rails            0\n",
              "Rust                     0\n",
              "Scala                    0\n",
              "Swift                    0\n",
              "Terraform                0\n",
              "TypeScript               0\n",
              "Unity 3D                 0\n",
              "Vue.js                   0\n",
              "Xamarin                  0\n",
              "jQuery                   0\n",
              "dtype: int64"
            ]
          },
          "metadata": {},
          "execution_count": 7
        }
      ],
      "source": [
        "dataset.isna().sum()"
      ]
    },
    {
      "cell_type": "markdown",
      "metadata": {
        "id": "9UPN0KBHa_WI"
      },
      "source": [
        "Drop those rows to keep this initial tutorial simple:"
      ]
    },
    {
      "cell_type": "code",
      "execution_count": null,
      "metadata": {
        "id": "4ZUDosChC1UN"
      },
      "outputs": [],
      "source": [
        "dataset = dataset.dropna()"
      ]
    },
    {
      "cell_type": "markdown",
      "metadata": {
        "id": "Cuym4yvk76vU"
      },
      "source": [
        "### Split the data into training and test sets\n",
        "\n",
        "Now, split the dataset into a training set and a test set. You will use the test set in the final evaluation of your models."
      ]
    },
    {
      "cell_type": "code",
      "execution_count": null,
      "metadata": {
        "id": "qn-IGhUE7_1H"
      },
      "outputs": [],
      "source": [
        "train_dataset = dataset.sample(frac=0.8, random_state=0)\n",
        "test_dataset = dataset.drop(train_dataset.index)"
      ]
    },
    {
      "cell_type": "markdown",
      "metadata": {
        "id": "J4ubs136WLNp"
      },
      "source": [
        "### Inspect the data\n",
        "\n",
        "Review the joint distribution of a few pairs of columns from the training set.\n",
        "\n",
        "The top row suggests that the fuel efficiency (MPG) is a function of all the other parameters. The other rows indicate they are functions of each other."
      ]
    },
    {
      "cell_type": "code",
      "execution_count": null,
      "metadata": {
        "colab": {
          "base_uri": "https://localhost:8080/",
          "height": 920
        },
        "id": "oRKO_x8gWKv-",
        "outputId": "f2914ae4-bbc9-424d-84cf-b2e387f47a75"
      },
      "outputs": [
        {
          "output_type": "execute_result",
          "data": {
            "text/plain": [
              "<seaborn.axisgrid.PairGrid at 0x7f43d9507550>"
            ]
          },
          "metadata": {},
          "execution_count": 10
        },
        {
          "output_type": "display_data",
          "data": {
            "image/png": "[encoded data removed]",
            "text/plain": [
              "<Figure size 900x900 with 30 Axes>"
            ]
          },
          "metadata": {
            "needs_background": "light"
          }
        }
      ],
      "source": [
        "sns.pairplot(train_dataset[['YearsCodePro', 'AWS', 'Python', 'PHP','Go']], diag_kind='kde')"
      ]
    },
    {
      "cell_type": "code",
      "execution_count": null,
      "metadata": {
        "colab": {
          "base_uri": "https://localhost:8080/",
          "height": 920
        },
        "id": "RB2GifZTorY4",
        "outputId": "51a66a41-981f-4836-ad3a-2ed82198fa20"
      },
      "outputs": [
        {
          "output_type": "execute_result",
          "data": {
            "text/plain": [
              "<seaborn.axisgrid.PairGrid at 0x7f43ce205450>"
            ]
          },
          "metadata": {},
          "execution_count": 11
        },
        {
          "output_type": "display_data",
          "data": {
            "image/png": "[encoded data removed]",
            "text/plain": [
              "<Figure size 951.875x900 with 30 Axes>"
            ]
          },
          "metadata": {
            "needs_background": "light"
          }
        }
      ],
      "source": [
        "sns.pairplot(dataset[['ConvertedCompYearly','YearsCodePro', 'AWS', 'Python', 'PHP','Go']], diag_kind='kde', hue='Python')"
      ]
    },
    {
      "cell_type": "markdown",
      "metadata": {
        "id": "gavKO_6DWRMP"
      },
      "source": [
        "Let's also check the overall statistics. Note how each feature covers a very different range:"
      ]
    },
    {
      "cell_type": "code",
      "execution_count": null,
      "metadata": {
        "colab": {
          "base_uri": "https://localhost:8080/",
          "height": 1000
        },
        "id": "yi2FzC3T21jR",
        "outputId": "f02575cb-281a-4497-89d1-5cd7bacc03cc"
      },
      "outputs": [
        {
          "output_type": "execute_result",
          "data": {
            "text/html": [
              "<div>\n",
              "<style scoped>\n",
              "    .dataframe tbody tr th:only-of-type {\n",
              "        vertical-align: middle;\n",
              "    }\n",
              "\n",
              "    .dataframe tbody tr th {\n",
              "        vertical-align: top;\n",
              "    }\n",
              "\n",
              "    .dataframe thead th {\n",
              "        text-align: right;\n",
              "    }\n",
              "</style>\n",
              "<table border=\"1\" class=\"dataframe\">\n",
              "  <thead>\n",
              "    <tr style=\"text-align: right;\">\n",
              "      <th></th>\n",
              "      <th>count</th>\n",
              "      <th>mean</th>\n",
              "      <th>std</th>\n",
              "      <th>min</th>\n",
              "      <th>25%</th>\n",
              "      <th>50%</th>\n",
              "      <th>75%</th>\n",
              "      <th>max</th>\n",
              "    </tr>\n",
              "  </thead>\n",
              "  <tbody>\n",
              "    <tr>\n",
              "      <th>ConvertedCompYearly</th>\n",
              "      <td>6562.0</td>\n",
              "      <td>125207.803718</td>\n",
              "      <td>44760.881144</td>\n",
              "      <td>40000.0</td>\n",
              "      <td>90000.0</td>\n",
              "      <td>120000.0</td>\n",
              "      <td>153000.0</td>\n",
              "      <td>249000.0</td>\n",
              "    </tr>\n",
              "    <tr>\n",
              "      <th>YearsCodePro</th>\n",
              "      <td>6562.0</td>\n",
              "      <td>11.245200</td>\n",
              "      <td>9.401026</td>\n",
              "      <td>0.0</td>\n",
              "      <td>4.0</td>\n",
              "      <td>8.0</td>\n",
              "      <td>16.0</td>\n",
              "      <td>51.0</td>\n",
              "    </tr>\n",
              "    <tr>\n",
              "      <th>AWS</th>\n",
              "      <td>6562.0</td>\n",
              "      <td>0.525145</td>\n",
              "      <td>0.499405</td>\n",
              "      <td>0.0</td>\n",
              "      <td>0.0</td>\n",
              "      <td>1.0</td>\n",
              "      <td>1.0</td>\n",
              "      <td>1.0</td>\n",
              "    </tr>\n",
              "    <tr>\n",
              "      <th>Bash/Shell</th>\n",
              "      <td>6562.0</td>\n",
              "      <td>0.392563</td>\n",
              "      <td>0.488358</td>\n",
              "      <td>0.0</td>\n",
              "      <td>0.0</td>\n",
              "      <td>0.0</td>\n",
              "      <td>1.0</td>\n",
              "      <td>1.0</td>\n",
              "    </tr>\n",
              "    <tr>\n",
              "      <th>C++</th>\n",
              "      <td>6562.0</td>\n",
              "      <td>0.165346</td>\n",
              "      <td>0.371521</td>\n",
              "      <td>0.0</td>\n",
              "      <td>0.0</td>\n",
              "      <td>0.0</td>\n",
              "      <td>0.0</td>\n",
              "      <td>1.0</td>\n",
              "    </tr>\n",
              "    <tr>\n",
              "      <th>COBOL</th>\n",
              "      <td>6562.0</td>\n",
              "      <td>0.005181</td>\n",
              "      <td>0.071800</td>\n",
              "      <td>0.0</td>\n",
              "      <td>0.0</td>\n",
              "      <td>0.0</td>\n",
              "      <td>0.0</td>\n",
              "      <td>1.0</td>\n",
              "    </tr>\n",
              "    <tr>\n",
              "      <th>Cassandra</th>\n",
              "      <td>6562.0</td>\n",
              "      <td>0.020116</td>\n",
              "      <td>0.140407</td>\n",
              "      <td>0.0</td>\n",
              "      <td>0.0</td>\n",
              "      <td>0.0</td>\n",
              "      <td>0.0</td>\n",
              "      <td>1.0</td>\n",
              "    </tr>\n",
              "    <tr>\n",
              "      <th>Clojure</th>\n",
              "      <td>6562.0</td>\n",
              "      <td>0.033374</td>\n",
              "      <td>0.179625</td>\n",
              "      <td>0.0</td>\n",
              "      <td>0.0</td>\n",
              "      <td>0.0</td>\n",
              "      <td>0.0</td>\n",
              "      <td>1.0</td>\n",
              "    </tr>\n",
              "    <tr>\n",
              "      <th>Crystal</th>\n",
              "      <td>6562.0</td>\n",
              "      <td>0.006553</td>\n",
              "      <td>0.080690</td>\n",
              "      <td>0.0</td>\n",
              "      <td>0.0</td>\n",
              "      <td>0.0</td>\n",
              "      <td>0.0</td>\n",
              "      <td>1.0</td>\n",
              "    </tr>\n",
              "    <tr>\n",
              "      <th>Delphi</th>\n",
              "      <td>6562.0</td>\n",
              "      <td>0.010820</td>\n",
              "      <td>0.103462</td>\n",
              "      <td>0.0</td>\n",
              "      <td>0.0</td>\n",
              "      <td>0.0</td>\n",
              "      <td>0.0</td>\n",
              "      <td>1.0</td>\n",
              "    </tr>\n",
              "    <tr>\n",
              "      <th>Django</th>\n",
              "      <td>6562.0</td>\n",
              "      <td>0.083816</td>\n",
              "      <td>0.277133</td>\n",
              "      <td>0.0</td>\n",
              "      <td>0.0</td>\n",
              "      <td>0.0</td>\n",
              "      <td>0.0</td>\n",
              "      <td>1.0</td>\n",
              "    </tr>\n",
              "    <tr>\n",
              "      <th>Drupal</th>\n",
              "      <td>6562.0</td>\n",
              "      <td>0.025145</td>\n",
              "      <td>0.156577</td>\n",
              "      <td>0.0</td>\n",
              "      <td>0.0</td>\n",
              "      <td>0.0</td>\n",
              "      <td>0.0</td>\n",
              "      <td>1.0</td>\n",
              "    </tr>\n",
              "    <tr>\n",
              "      <th>DynamoDB</th>\n",
              "      <td>6562.0</td>\n",
              "      <td>0.111551</td>\n",
              "      <td>0.314838</td>\n",
              "      <td>0.0</td>\n",
              "      <td>0.0</td>\n",
              "      <td>0.0</td>\n",
              "      <td>0.0</td>\n",
              "      <td>1.0</td>\n",
              "    </tr>\n",
              "    <tr>\n",
              "      <th>Elasticsearch</th>\n",
              "      <td>6562.0</td>\n",
              "      <td>0.148583</td>\n",
              "      <td>0.355704</td>\n",
              "      <td>0.0</td>\n",
              "      <td>0.0</td>\n",
              "      <td>0.0</td>\n",
              "      <td>0.0</td>\n",
              "      <td>1.0</td>\n",
              "    </tr>\n",
              "    <tr>\n",
              "      <th>Flask</th>\n",
              "      <td>6562.0</td>\n",
              "      <td>0.116733</td>\n",
              "      <td>0.321126</td>\n",
              "      <td>0.0</td>\n",
              "      <td>0.0</td>\n",
              "      <td>0.0</td>\n",
              "      <td>0.0</td>\n",
              "      <td>1.0</td>\n",
              "    </tr>\n",
              "    <tr>\n",
              "      <th>Flow</th>\n",
              "      <td>6562.0</td>\n",
              "      <td>0.009601</td>\n",
              "      <td>0.097519</td>\n",
              "      <td>0.0</td>\n",
              "      <td>0.0</td>\n",
              "      <td>0.0</td>\n",
              "      <td>0.0</td>\n",
              "      <td>1.0</td>\n",
              "    </tr>\n",
              "    <tr>\n",
              "      <th>Git</th>\n",
              "      <td>6562.0</td>\n",
              "      <td>0.879305</td>\n",
              "      <td>0.325797</td>\n",
              "      <td>0.0</td>\n",
              "      <td>1.0</td>\n",
              "      <td>1.0</td>\n",
              "      <td>1.0</td>\n",
              "      <td>1.0</td>\n",
              "    </tr>\n",
              "    <tr>\n",
              "      <th>Go</th>\n",
              "      <td>6562.0</td>\n",
              "      <td>0.126638</td>\n",
              "      <td>0.332593</td>\n",
              "      <td>0.0</td>\n",
              "      <td>0.0</td>\n",
              "      <td>0.0</td>\n",
              "      <td>0.0</td>\n",
              "      <td>1.0</td>\n",
              "    </tr>\n",
              "    <tr>\n",
              "      <th>Google Cloud Platform</th>\n",
              "      <td>6562.0</td>\n",
              "      <td>0.181195</td>\n",
              "      <td>0.385209</td>\n",
              "      <td>0.0</td>\n",
              "      <td>0.0</td>\n",
              "      <td>0.0</td>\n",
              "      <td>0.0</td>\n",
              "      <td>1.0</td>\n",
              "    </tr>\n",
              "    <tr>\n",
              "      <th>Hadoop</th>\n",
              "      <td>6562.0</td>\n",
              "      <td>0.023926</td>\n",
              "      <td>0.152829</td>\n",
              "      <td>0.0</td>\n",
              "      <td>0.0</td>\n",
              "      <td>0.0</td>\n",
              "      <td>0.0</td>\n",
              "      <td>1.0</td>\n",
              "    </tr>\n",
              "    <tr>\n",
              "      <th>Java</th>\n",
              "      <td>6562.0</td>\n",
              "      <td>0.272935</td>\n",
              "      <td>0.445502</td>\n",
              "      <td>0.0</td>\n",
              "      <td>0.0</td>\n",
              "      <td>0.0</td>\n",
              "      <td>1.0</td>\n",
              "      <td>1.0</td>\n",
              "    </tr>\n",
              "    <tr>\n",
              "      <th>JavaScript</th>\n",
              "      <td>6562.0</td>\n",
              "      <td>0.690491</td>\n",
              "      <td>0.462327</td>\n",
              "      <td>0.0</td>\n",
              "      <td>0.0</td>\n",
              "      <td>1.0</td>\n",
              "      <td>1.0</td>\n",
              "      <td>1.0</td>\n",
              "    </tr>\n",
              "    <tr>\n",
              "      <th>Kubernetes</th>\n",
              "      <td>6562.0</td>\n",
              "      <td>0.204511</td>\n",
              "      <td>0.403374</td>\n",
              "      <td>0.0</td>\n",
              "      <td>0.0</td>\n",
              "      <td>0.0</td>\n",
              "      <td>0.0</td>\n",
              "      <td>1.0</td>\n",
              "    </tr>\n",
              "    <tr>\n",
              "      <th>LISP</th>\n",
              "      <td>6562.0</td>\n",
              "      <td>0.017220</td>\n",
              "      <td>0.130101</td>\n",
              "      <td>0.0</td>\n",
              "      <td>0.0</td>\n",
              "      <td>0.0</td>\n",
              "      <td>0.0</td>\n",
              "      <td>1.0</td>\n",
              "    </tr>\n",
              "    <tr>\n",
              "      <th>MariaDB</th>\n",
              "      <td>6562.0</td>\n",
              "      <td>0.102408</td>\n",
              "      <td>0.303207</td>\n",
              "      <td>0.0</td>\n",
              "      <td>0.0</td>\n",
              "      <td>0.0</td>\n",
              "      <td>0.0</td>\n",
              "      <td>1.0</td>\n",
              "    </tr>\n",
              "    <tr>\n",
              "      <th>Microsoft Azure</th>\n",
              "      <td>6562.0</td>\n",
              "      <td>0.258610</td>\n",
              "      <td>0.437904</td>\n",
              "      <td>0.0</td>\n",
              "      <td>0.0</td>\n",
              "      <td>0.0</td>\n",
              "      <td>1.0</td>\n",
              "      <td>1.0</td>\n",
              "    </tr>\n",
              "    <tr>\n",
              "      <th>Node.js</th>\n",
              "      <td>6562.0</td>\n",
              "      <td>0.363151</td>\n",
              "      <td>0.480945</td>\n",
              "      <td>0.0</td>\n",
              "      <td>0.0</td>\n",
              "      <td>0.0</td>\n",
              "      <td>1.0</td>\n",
              "      <td>1.0</td>\n",
              "    </tr>\n",
              "    <tr>\n",
              "      <th>Oracle</th>\n",
              "      <td>6562.0</td>\n",
              "      <td>0.089607</td>\n",
              "      <td>0.285639</td>\n",
              "      <td>0.0</td>\n",
              "      <td>0.0</td>\n",
              "      <td>0.0</td>\n",
              "      <td>0.0</td>\n",
              "      <td>1.0</td>\n",
              "    </tr>\n",
              "    <tr>\n",
              "      <th>PHP</th>\n",
              "      <td>6562.0</td>\n",
              "      <td>0.145230</td>\n",
              "      <td>0.352360</td>\n",
              "      <td>0.0</td>\n",
              "      <td>0.0</td>\n",
              "      <td>0.0</td>\n",
              "      <td>0.0</td>\n",
              "      <td>1.0</td>\n",
              "    </tr>\n",
              "    <tr>\n",
              "      <th>Pandas</th>\n",
              "      <td>6562.0</td>\n",
              "      <td>0.152697</td>\n",
              "      <td>0.359723</td>\n",
              "      <td>0.0</td>\n",
              "      <td>0.0</td>\n",
              "      <td>0.0</td>\n",
              "      <td>0.0</td>\n",
              "      <td>1.0</td>\n",
              "    </tr>\n",
              "    <tr>\n",
              "      <th>Perl</th>\n",
              "      <td>6562.0</td>\n",
              "      <td>0.040232</td>\n",
              "      <td>0.196517</td>\n",
              "      <td>0.0</td>\n",
              "      <td>0.0</td>\n",
              "      <td>0.0</td>\n",
              "      <td>0.0</td>\n",
              "      <td>1.0</td>\n",
              "    </tr>\n",
              "    <tr>\n",
              "      <th>PowerShell</th>\n",
              "      <td>6562.0</td>\n",
              "      <td>0.166717</td>\n",
              "      <td>0.372752</td>\n",
              "      <td>0.0</td>\n",
              "      <td>0.0</td>\n",
              "      <td>0.0</td>\n",
              "      <td>0.0</td>\n",
              "      <td>1.0</td>\n",
              "    </tr>\n",
              "    <tr>\n",
              "      <th>Python</th>\n",
              "      <td>6562.0</td>\n",
              "      <td>0.472722</td>\n",
              "      <td>0.499293</td>\n",
              "      <td>0.0</td>\n",
              "      <td>0.0</td>\n",
              "      <td>0.0</td>\n",
              "      <td>1.0</td>\n",
              "      <td>1.0</td>\n",
              "    </tr>\n",
              "    <tr>\n",
              "      <th>Qt</th>\n",
              "      <td>6562.0</td>\n",
              "      <td>0.036117</td>\n",
              "      <td>0.186596</td>\n",
              "      <td>0.0</td>\n",
              "      <td>0.0</td>\n",
              "      <td>0.0</td>\n",
              "      <td>0.0</td>\n",
              "      <td>1.0</td>\n",
              "    </tr>\n",
              "    <tr>\n",
              "      <th>React.js</th>\n",
              "      <td>6562.0</td>\n",
              "      <td>0.349741</td>\n",
              "      <td>0.476924</td>\n",
              "      <td>0.0</td>\n",
              "      <td>0.0</td>\n",
              "      <td>0.0</td>\n",
              "      <td>1.0</td>\n",
              "      <td>1.0</td>\n",
              "    </tr>\n",
              "    <tr>\n",
              "      <th>Redis</th>\n",
              "      <td>6562.0</td>\n",
              "      <td>0.224474</td>\n",
              "      <td>0.417267</td>\n",
              "      <td>0.0</td>\n",
              "      <td>0.0</td>\n",
              "      <td>0.0</td>\n",
              "      <td>0.0</td>\n",
              "      <td>1.0</td>\n",
              "    </tr>\n",
              "    <tr>\n",
              "      <th>Ruby on Rails</th>\n",
              "      <td>6562.0</td>\n",
              "      <td>0.103627</td>\n",
              "      <td>0.304799</td>\n",
              "      <td>0.0</td>\n",
              "      <td>0.0</td>\n",
              "      <td>0.0</td>\n",
              "      <td>0.0</td>\n",
              "      <td>1.0</td>\n",
              "    </tr>\n",
              "    <tr>\n",
              "      <th>Rust</th>\n",
              "      <td>6562.0</td>\n",
              "      <td>0.082902</td>\n",
              "      <td>0.275754</td>\n",
              "      <td>0.0</td>\n",
              "      <td>0.0</td>\n",
              "      <td>0.0</td>\n",
              "      <td>0.0</td>\n",
              "      <td>1.0</td>\n",
              "    </tr>\n",
              "    <tr>\n",
              "      <th>Scala</th>\n",
              "      <td>6562.0</td>\n",
              "      <td>0.030479</td>\n",
              "      <td>0.171913</td>\n",
              "      <td>0.0</td>\n",
              "      <td>0.0</td>\n",
              "      <td>0.0</td>\n",
              "      <td>0.0</td>\n",
              "      <td>1.0</td>\n",
              "    </tr>\n",
              "    <tr>\n",
              "      <th>Swift</th>\n",
              "      <td>6562.0</td>\n",
              "      <td>0.053185</td>\n",
              "      <td>0.224419</td>\n",
              "      <td>0.0</td>\n",
              "      <td>0.0</td>\n",
              "      <td>0.0</td>\n",
              "      <td>0.0</td>\n",
              "      <td>1.0</td>\n",
              "    </tr>\n",
              "    <tr>\n",
              "      <th>Terraform</th>\n",
              "      <td>6562.0</td>\n",
              "      <td>0.124352</td>\n",
              "      <td>0.330008</td>\n",
              "      <td>0.0</td>\n",
              "      <td>0.0</td>\n",
              "      <td>0.0</td>\n",
              "      <td>0.0</td>\n",
              "      <td>1.0</td>\n",
              "    </tr>\n",
              "    <tr>\n",
              "      <th>TypeScript</th>\n",
              "      <td>6562.0</td>\n",
              "      <td>0.360866</td>\n",
              "      <td>0.480288</td>\n",
              "      <td>0.0</td>\n",
              "      <td>0.0</td>\n",
              "      <td>0.0</td>\n",
              "      <td>1.0</td>\n",
              "      <td>1.0</td>\n",
              "    </tr>\n",
              "    <tr>\n",
              "      <th>Unity 3D</th>\n",
              "      <td>6562.0</td>\n",
              "      <td>0.051204</td>\n",
              "      <td>0.220430</td>\n",
              "      <td>0.0</td>\n",
              "      <td>0.0</td>\n",
              "      <td>0.0</td>\n",
              "      <td>0.0</td>\n",
              "      <td>1.0</td>\n",
              "    </tr>\n",
              "    <tr>\n",
              "      <th>Vue.js</th>\n",
              "      <td>6562.0</td>\n",
              "      <td>0.139134</td>\n",
              "      <td>0.346113</td>\n",
              "      <td>0.0</td>\n",
              "      <td>0.0</td>\n",
              "      <td>0.0</td>\n",
              "      <td>0.0</td>\n",
              "      <td>1.0</td>\n",
              "    </tr>\n",
              "    <tr>\n",
              "      <th>Xamarin</th>\n",
              "      <td>6562.0</td>\n",
              "      <td>0.031088</td>\n",
              "      <td>0.173569</td>\n",
              "      <td>0.0</td>\n",
              "      <td>0.0</td>\n",
              "      <td>0.0</td>\n",
              "      <td>0.0</td>\n",
              "      <td>1.0</td>\n",
              "    </tr>\n",
              "    <tr>\n",
              "      <th>jQuery</th>\n",
              "      <td>6562.0</td>\n",
              "      <td>0.259677</td>\n",
              "      <td>0.438491</td>\n",
              "      <td>0.0</td>\n",
              "      <td>0.0</td>\n",
              "      <td>0.0</td>\n",
              "      <td>1.0</td>\n",
              "      <td>1.0</td>\n",
              "    </tr>\n",
              "  </tbody>\n",
              "</table>\n",
              "</div>"
            ],
            "text/plain": [
              "                        count           mean  ...       75%       max\n",
              "ConvertedCompYearly    6562.0  125207.803718  ...  153000.0  249000.0\n",
              "YearsCodePro           6562.0      11.245200  ...      16.0      51.0\n",
              "AWS                    6562.0       0.525145  ...       1.0       1.0\n",
              "Bash/Shell             6562.0       0.392563  ...       1.0       1.0\n",
              "C++                    6562.0       0.165346  ...       0.0       1.0\n",
              "COBOL                  6562.0       0.005181  ...       0.0       1.0\n",
              "Cassandra              6562.0       0.020116  ...       0.0       1.0\n",
              "Clojure                6562.0       0.033374  ...       0.0       1.0\n",
              "Crystal                6562.0       0.006553  ...       0.0       1.0\n",
              "Delphi                 6562.0       0.010820  ...       0.0       1.0\n",
              "Django                 6562.0       0.083816  ...       0.0       1.0\n",
              "Drupal                 6562.0       0.025145  ...       0.0       1.0\n",
              "DynamoDB               6562.0       0.111551  ...       0.0       1.0\n",
              "Elasticsearch          6562.0       0.148583  ...       0.0       1.0\n",
              "Flask                  6562.0       0.116733  ...       0.0       1.0\n",
              "Flow                   6562.0       0.009601  ...       0.0       1.0\n",
              "Git                    6562.0       0.879305  ...       1.0       1.0\n",
              "Go                     6562.0       0.126638  ...       0.0       1.0\n",
              "Google Cloud Platform  6562.0       0.181195  ...       0.0       1.0\n",
              "Hadoop                 6562.0       0.023926  ...       0.0       1.0\n",
              "Java                   6562.0       0.272935  ...       1.0       1.0\n",
              "JavaScript             6562.0       0.690491  ...       1.0       1.0\n",
              "Kubernetes             6562.0       0.204511  ...       0.0       1.0\n",
              "LISP                   6562.0       0.017220  ...       0.0       1.0\n",
              "MariaDB                6562.0       0.102408  ...       0.0       1.0\n",
              "Microsoft Azure        6562.0       0.258610  ...       1.0       1.0\n",
              "Node.js                6562.0       0.363151  ...       1.0       1.0\n",
              "Oracle                 6562.0       0.089607  ...       0.0       1.0\n",
              "PHP                    6562.0       0.145230  ...       0.0       1.0\n",
              "Pandas                 6562.0       0.152697  ...       0.0       1.0\n",
              "Perl                   6562.0       0.040232  ...       0.0       1.0\n",
              "PowerShell             6562.0       0.166717  ...       0.0       1.0\n",
              "Python                 6562.0       0.472722  ...       1.0       1.0\n",
              "Qt                     6562.0       0.036117  ...       0.0       1.0\n",
              "React.js               6562.0       0.349741  ...       1.0       1.0\n",
              "Redis                  6562.0       0.224474  ...       0.0       1.0\n",
              "Ruby on Rails          6562.0       0.103627  ...       0.0       1.0\n",
              "Rust                   6562.0       0.082902  ...       0.0       1.0\n",
              "Scala                  6562.0       0.030479  ...       0.0       1.0\n",
              "Swift                  6562.0       0.053185  ...       0.0       1.0\n",
              "Terraform              6562.0       0.124352  ...       0.0       1.0\n",
              "TypeScript             6562.0       0.360866  ...       1.0       1.0\n",
              "Unity 3D               6562.0       0.051204  ...       0.0       1.0\n",
              "Vue.js                 6562.0       0.139134  ...       0.0       1.0\n",
              "Xamarin                6562.0       0.031088  ...       0.0       1.0\n",
              "jQuery                 6562.0       0.259677  ...       1.0       1.0\n",
              "\n",
              "[46 rows x 8 columns]"
            ]
          },
          "metadata": {},
          "execution_count": 12
        }
      ],
      "source": [
        "train_dataset.describe().transpose()"
      ]
    },
    {
      "cell_type": "markdown",
      "metadata": {
        "id": "Db7Auq1yXUvh"
      },
      "source": [
        "### Split features from labels\n",
        "\n",
        "Separate the target value—the \"label\"—from the features. This label is the value that you will train the model to predict."
      ]
    },
    {
      "cell_type": "code",
      "execution_count": null,
      "metadata": {
        "id": "t2sluJdCW7jN"
      },
      "outputs": [],
      "source": [
        "train_features = train_dataset.copy()\n",
        "test_features = test_dataset.copy()\n",
        "\n",
        "train_labels = train_features.pop('ConvertedCompYearly')\n",
        "test_labels = test_features.pop('ConvertedCompYearly')"
      ]
    },
    {
      "cell_type": "code",
      "execution_count": null,
      "metadata": {
        "colab": {
          "base_uri": "https://localhost:8080/"
        },
        "id": "29GqvjRhn3z1",
        "outputId": "d1d37e49-6da5-441a-a567-f3d67441390f"
      },
      "outputs": [
        {
          "output_type": "execute_result",
          "data": {
            "text/plain": [
              "YearsCodePro             float64\n",
              "AWS                      float64\n",
              "Bash/Shell               float64\n",
              "C++                      float64\n",
              "COBOL                    float64\n",
              "Cassandra                float64\n",
              "Clojure                  float64\n",
              "Crystal                  float64\n",
              "Delphi                   float64\n",
              "Django                   float64\n",
              "Drupal                   float64\n",
              "DynamoDB                 float64\n",
              "Elasticsearch            float64\n",
              "Flask                    float64\n",
              "Flow                     float64\n",
              "Git                      float64\n",
              "Go                       float64\n",
              "Google Cloud Platform    float64\n",
              "Hadoop                   float64\n",
              "Java                     float64\n",
              "JavaScript               float64\n",
              "Kubernetes               float64\n",
              "LISP                     float64\n",
              "MariaDB                  float64\n",
              "Microsoft Azure          float64\n",
              "Node.js                  float64\n",
              "Oracle                   float64\n",
              "PHP                      float64\n",
              "Pandas                   float64\n",
              "Perl                     float64\n",
              "PowerShell               float64\n",
              "Python                   float64\n",
              "Qt                       float64\n",
              "React.js                 float64\n",
              "Redis                    float64\n",
              "Ruby on Rails            float64\n",
              "Rust                     float64\n",
              "Scala                    float64\n",
              "Swift                    float64\n",
              "Terraform                float64\n",
              "TypeScript               float64\n",
              "Unity 3D                 float64\n",
              "Vue.js                   float64\n",
              "Xamarin                  float64\n",
              "jQuery                   float64\n",
              "dtype: object"
            ]
          },
          "metadata": {},
          "execution_count": 14
        }
      ],
      "source": [
        "train_features.dtypes"
      ]
    },
    {
      "cell_type": "markdown",
      "metadata": {
        "id": "mRklxK5s388r"
      },
      "source": [
        "## Normalization\n",
        "\n",
        "In the table of statistics it's easy to see how different the ranges of each feature are:"
      ]
    },
    {
      "cell_type": "code",
      "execution_count": null,
      "metadata": {
        "colab": {
          "base_uri": "https://localhost:8080/",
          "height": 1000
        },
        "id": "IcmY6lKKbkw8",
        "outputId": "9ec977e5-0c85-4ef5-8cee-a9c7d5ce8d0c"
      },
      "outputs": [
        {
          "output_type": "execute_result",
          "data": {
            "text/html": [
              "<div>\n",
              "<style scoped>\n",
              "    .dataframe tbody tr th:only-of-type {\n",
              "        vertical-align: middle;\n",
              "    }\n",
              "\n",
              "    .dataframe tbody tr th {\n",
              "        vertical-align: top;\n",
              "    }\n",
              "\n",
              "    .dataframe thead th {\n",
              "        text-align: right;\n",
              "    }\n",
              "</style>\n",
              "<table border=\"1\" class=\"dataframe\">\n",
              "  <thead>\n",
              "    <tr style=\"text-align: right;\">\n",
              "      <th></th>\n",
              "      <th>mean</th>\n",
              "      <th>std</th>\n",
              "    </tr>\n",
              "  </thead>\n",
              "  <tbody>\n",
              "    <tr>\n",
              "      <th>ConvertedCompYearly</th>\n",
              "      <td>125207.803718</td>\n",
              "      <td>44760.881144</td>\n",
              "    </tr>\n",
              "    <tr>\n",
              "      <th>YearsCodePro</th>\n",
              "      <td>11.245200</td>\n",
              "      <td>9.401026</td>\n",
              "    </tr>\n",
              "    <tr>\n",
              "      <th>AWS</th>\n",
              "      <td>0.525145</td>\n",
              "      <td>0.499405</td>\n",
              "    </tr>\n",
              "    <tr>\n",
              "      <th>Bash/Shell</th>\n",
              "      <td>0.392563</td>\n",
              "      <td>0.488358</td>\n",
              "    </tr>\n",
              "    <tr>\n",
              "      <th>C++</th>\n",
              "      <td>0.165346</td>\n",
              "      <td>0.371521</td>\n",
              "    </tr>\n",
              "    <tr>\n",
              "      <th>COBOL</th>\n",
              "      <td>0.005181</td>\n",
              "      <td>0.071800</td>\n",
              "    </tr>\n",
              "    <tr>\n",
              "      <th>Cassandra</th>\n",
              "      <td>0.020116</td>\n",
              "      <td>0.140407</td>\n",
              "    </tr>\n",
              "    <tr>\n",
              "      <th>Clojure</th>\n",
              "      <td>0.033374</td>\n",
              "      <td>0.179625</td>\n",
              "    </tr>\n",
              "    <tr>\n",
              "      <th>Crystal</th>\n",
              "      <td>0.006553</td>\n",
              "      <td>0.080690</td>\n",
              "    </tr>\n",
              "    <tr>\n",
              "      <th>Delphi</th>\n",
              "      <td>0.010820</td>\n",
              "      <td>0.103462</td>\n",
              "    </tr>\n",
              "    <tr>\n",
              "      <th>Django</th>\n",
              "      <td>0.083816</td>\n",
              "      <td>0.277133</td>\n",
              "    </tr>\n",
              "    <tr>\n",
              "      <th>Drupal</th>\n",
              "      <td>0.025145</td>\n",
              "      <td>0.156577</td>\n",
              "    </tr>\n",
              "    <tr>\n",
              "      <th>DynamoDB</th>\n",
              "      <td>0.111551</td>\n",
              "      <td>0.314838</td>\n",
              "    </tr>\n",
              "    <tr>\n",
              "      <th>Elasticsearch</th>\n",
              "      <td>0.148583</td>\n",
              "      <td>0.355704</td>\n",
              "    </tr>\n",
              "    <tr>\n",
              "      <th>Flask</th>\n",
              "      <td>0.116733</td>\n",
              "      <td>0.321126</td>\n",
              "    </tr>\n",
              "    <tr>\n",
              "      <th>Flow</th>\n",
              "      <td>0.009601</td>\n",
              "      <td>0.097519</td>\n",
              "    </tr>\n",
              "    <tr>\n",
              "      <th>Git</th>\n",
              "      <td>0.879305</td>\n",
              "      <td>0.325797</td>\n",
              "    </tr>\n",
              "    <tr>\n",
              "      <th>Go</th>\n",
              "      <td>0.126638</td>\n",
              "      <td>0.332593</td>\n",
              "    </tr>\n",
              "    <tr>\n",
              "      <th>Google Cloud Platform</th>\n",
              "      <td>0.181195</td>\n",
              "      <td>0.385209</td>\n",
              "    </tr>\n",
              "    <tr>\n",
              "      <th>Hadoop</th>\n",
              "      <td>0.023926</td>\n",
              "      <td>0.152829</td>\n",
              "    </tr>\n",
              "    <tr>\n",
              "      <th>Java</th>\n",
              "      <td>0.272935</td>\n",
              "      <td>0.445502</td>\n",
              "    </tr>\n",
              "    <tr>\n",
              "      <th>JavaScript</th>\n",
              "      <td>0.690491</td>\n",
              "      <td>0.462327</td>\n",
              "    </tr>\n",
              "    <tr>\n",
              "      <th>Kubernetes</th>\n",
              "      <td>0.204511</td>\n",
              "      <td>0.403374</td>\n",
              "    </tr>\n",
              "    <tr>\n",
              "      <th>LISP</th>\n",
              "      <td>0.017220</td>\n",
              "      <td>0.130101</td>\n",
              "    </tr>\n",
              "    <tr>\n",
              "      <th>MariaDB</th>\n",
              "      <td>0.102408</td>\n",
              "      <td>0.303207</td>\n",
              "    </tr>\n",
              "    <tr>\n",
              "      <th>Microsoft Azure</th>\n",
              "      <td>0.258610</td>\n",
              "      <td>0.437904</td>\n",
              "    </tr>\n",
              "    <tr>\n",
              "      <th>Node.js</th>\n",
              "      <td>0.363151</td>\n",
              "      <td>0.480945</td>\n",
              "    </tr>\n",
              "    <tr>\n",
              "      <th>Oracle</th>\n",
              "      <td>0.089607</td>\n",
              "      <td>0.285639</td>\n",
              "    </tr>\n",
              "    <tr>\n",
              "      <th>PHP</th>\n",
              "      <td>0.145230</td>\n",
              "      <td>0.352360</td>\n",
              "    </tr>\n",
              "    <tr>\n",
              "      <th>Pandas</th>\n",
              "      <td>0.152697</td>\n",
              "      <td>0.359723</td>\n",
              "    </tr>\n",
              "    <tr>\n",
              "      <th>Perl</th>\n",
              "      <td>0.040232</td>\n",
              "      <td>0.196517</td>\n",
              "    </tr>\n",
              "    <tr>\n",
              "      <th>PowerShell</th>\n",
              "      <td>0.166717</td>\n",
              "      <td>0.372752</td>\n",
              "    </tr>\n",
              "    <tr>\n",
              "      <th>Python</th>\n",
              "      <td>0.472722</td>\n",
              "      <td>0.499293</td>\n",
              "    </tr>\n",
              "    <tr>\n",
              "      <th>Qt</th>\n",
              "      <td>0.036117</td>\n",
              "      <td>0.186596</td>\n",
              "    </tr>\n",
              "    <tr>\n",
              "      <th>React.js</th>\n",
              "      <td>0.349741</td>\n",
              "      <td>0.476924</td>\n",
              "    </tr>\n",
              "    <tr>\n",
              "      <th>Redis</th>\n",
              "      <td>0.224474</td>\n",
              "      <td>0.417267</td>\n",
              "    </tr>\n",
              "    <tr>\n",
              "      <th>Ruby on Rails</th>\n",
              "      <td>0.103627</td>\n",
              "      <td>0.304799</td>\n",
              "    </tr>\n",
              "    <tr>\n",
              "      <th>Rust</th>\n",
              "      <td>0.082902</td>\n",
              "      <td>0.275754</td>\n",
              "    </tr>\n",
              "    <tr>\n",
              "      <th>Scala</th>\n",
              "      <td>0.030479</td>\n",
              "      <td>0.171913</td>\n",
              "    </tr>\n",
              "    <tr>\n",
              "      <th>Swift</th>\n",
              "      <td>0.053185</td>\n",
              "      <td>0.224419</td>\n",
              "    </tr>\n",
              "    <tr>\n",
              "      <th>Terraform</th>\n",
              "      <td>0.124352</td>\n",
              "      <td>0.330008</td>\n",
              "    </tr>\n",
              "    <tr>\n",
              "      <th>TypeScript</th>\n",
              "      <td>0.360866</td>\n",
              "      <td>0.480288</td>\n",
              "    </tr>\n",
              "    <tr>\n",
              "      <th>Unity 3D</th>\n",
              "      <td>0.051204</td>\n",
              "      <td>0.220430</td>\n",
              "    </tr>\n",
              "    <tr>\n",
              "      <th>Vue.js</th>\n",
              "      <td>0.139134</td>\n",
              "      <td>0.346113</td>\n",
              "    </tr>\n",
              "    <tr>\n",
              "      <th>Xamarin</th>\n",
              "      <td>0.031088</td>\n",
              "      <td>0.173569</td>\n",
              "    </tr>\n",
              "    <tr>\n",
              "      <th>jQuery</th>\n",
              "      <td>0.259677</td>\n",
              "      <td>0.438491</td>\n",
              "    </tr>\n",
              "  </tbody>\n",
              "</table>\n",
              "</div>"
            ],
            "text/plain": [
              "                                mean           std\n",
              "ConvertedCompYearly    125207.803718  44760.881144\n",
              "YearsCodePro               11.245200      9.401026\n",
              "AWS                         0.525145      0.499405\n",
              "Bash/Shell                  0.392563      0.488358\n",
              "C++                         0.165346      0.371521\n",
              "COBOL                       0.005181      0.071800\n",
              "Cassandra                   0.020116      0.140407\n",
              "Clojure                     0.033374      0.179625\n",
              "Crystal                     0.006553      0.080690\n",
              "Delphi                      0.010820      0.103462\n",
              "Django                      0.083816      0.277133\n",
              "Drupal                      0.025145      0.156577\n",
              "DynamoDB                    0.111551      0.314838\n",
              "Elasticsearch               0.148583      0.355704\n",
              "Flask                       0.116733      0.321126\n",
              "Flow                        0.009601      0.097519\n",
              "Git                         0.879305      0.325797\n",
              "Go                          0.126638      0.332593\n",
              "Google Cloud Platform       0.181195      0.385209\n",
              "Hadoop                      0.023926      0.152829\n",
              "Java                        0.272935      0.445502\n",
              "JavaScript                  0.690491      0.462327\n",
              "Kubernetes                  0.204511      0.403374\n",
              "LISP                        0.017220      0.130101\n",
              "MariaDB                     0.102408      0.303207\n",
              "Microsoft Azure             0.258610      0.437904\n",
              "Node.js                     0.363151      0.480945\n",
              "Oracle                      0.089607      0.285639\n",
              "PHP                         0.145230      0.352360\n",
              "Pandas                      0.152697      0.359723\n",
              "Perl                        0.040232      0.196517\n",
              "PowerShell                  0.166717      0.372752\n",
              "Python                      0.472722      0.499293\n",
              "Qt                          0.036117      0.186596\n",
              "React.js                    0.349741      0.476924\n",
              "Redis                       0.224474      0.417267\n",
              "Ruby on Rails               0.103627      0.304799\n",
              "Rust                        0.082902      0.275754\n",
              "Scala                       0.030479      0.171913\n",
              "Swift                       0.053185      0.224419\n",
              "Terraform                   0.124352      0.330008\n",
              "TypeScript                  0.360866      0.480288\n",
              "Unity 3D                    0.051204      0.220430\n",
              "Vue.js                      0.139134      0.346113\n",
              "Xamarin                     0.031088      0.173569\n",
              "jQuery                      0.259677      0.438491"
            ]
          },
          "metadata": {},
          "execution_count": 15
        }
      ],
      "source": [
        "train_dataset.describe().transpose()[['mean', 'std']]"
      ]
    },
    {
      "cell_type": "markdown",
      "metadata": {
        "id": "-ywmerQ6dSox"
      },
      "source": [
        "It is good practice to normalize features that use different scales and ranges.\n",
        "\n",
        "One reason this is important is because the features are multiplied by the model weights. So, the scale of the outputs and the scale of the gradients are affected by the scale of the inputs.\n",
        "\n",
        "Although a model *might* converge without feature normalization, normalization makes training much more stable.\n",
        "\n",
        "Note: There is no advantage to normalizing the one-hot features—it is done here for simplicity. For more details on how to use the preprocessing layers, refer to the [Working with preprocessing layers](https://www.tensorflow.org/guide/keras/preprocessing_layers) guide and the [Classify structured data using Keras preprocessing layers](../structured_data/preprocessing_layers.ipynb) tutorial."
      ]
    },
    {
      "cell_type": "markdown",
      "metadata": {
        "id": "aFJ6ISropeoo"
      },
      "source": [
        "### The Normalization layer\n",
        "\n",
        "The `tf.keras.layers.Normalization` is a clean and simple way to add feature normalization into your model.\n",
        "\n",
        "The first step is to create the layer:"
      ]
    },
    {
      "cell_type": "code",
      "execution_count": null,
      "metadata": {
        "id": "JlC5ooJrgjQF"
      },
      "outputs": [],
      "source": [
        "normalizer = tf.keras.layers.Normalization(axis=-1)"
      ]
    },
    {
      "cell_type": "markdown",
      "metadata": {
        "id": "XYA2Ap6nVOha"
      },
      "source": [
        "Then, fit the state of the preprocessing layer to the data by calling `Normalization.adapt`:"
      ]
    },
    {
      "cell_type": "code",
      "execution_count": null,
      "metadata": {
        "id": "CrBbbjbwV91f"
      },
      "outputs": [],
      "source": [
        "normalizer.adapt(np.array(train_features))"
      ]
    },
    {
      "cell_type": "markdown",
      "metadata": {
        "id": "oZccMR5yV9YV"
      },
      "source": [
        "Calculate the mean and variance, and store them in the layer:"
      ]
    },
    {
      "cell_type": "code",
      "execution_count": null,
      "metadata": {
        "colab": {
          "base_uri": "https://localhost:8080/"
        },
        "id": "GGn-ukwxSPtx",
        "outputId": "556b6a8b-69b5-4555-a989-54f39d3f3a58"
      },
      "outputs": [
        {
          "output_type": "stream",
          "name": "stdout",
          "text": [
            "[[11.245  0.525  0.393  0.165  0.005  0.02   0.033  0.007  0.011  0.084\n",
            "   0.025  0.112  0.149  0.117  0.01   0.879  0.127  0.181  0.024  0.273\n",
            "   0.69   0.205  0.017  0.102  0.259  0.363  0.09   0.145  0.153  0.04\n",
            "   0.167  0.473  0.036  0.35   0.224  0.104  0.083  0.03   0.053  0.124\n",
            "   0.361  0.051  0.139  0.031  0.26 ]]\n"
          ]
        }
      ],
      "source": [
        "print(normalizer.mean.numpy())"
      ]
    },
    {
      "cell_type": "markdown",
      "metadata": {
        "id": "oGWKaF9GSRuN"
      },
      "source": [
        "When the layer is called, it returns the input data, with each feature independently normalized:"
      ]
    },
    {
      "cell_type": "code",
      "execution_count": null,
      "metadata": {
        "colab": {
          "base_uri": "https://localhost:8080/"
        },
        "id": "2l7zFL_XWIRu",
        "outputId": "7c660fd8-a72e-4d85-b44a-7d6bb3629504"
      },
      "outputs": [
        {
          "output_type": "stream",
          "name": "stdout",
          "text": [
            "First example: [[3. 0. 1. 0. 0. 0. 0. 0. 0. 0. 0. 0. 1. 0. 0. 0. 0. 0. 0. 0. 0. 0. 0. 0.\n",
            "  1. 0. 0. 0. 0. 1. 1. 1. 0. 0. 0. 0. 0. 0. 0. 0. 0. 0. 0. 0. 0.]]\n",
            "\n",
            "Normalized: [[-0.88 -1.05  1.24 -0.45 -0.07 -0.14 -0.19 -0.08 -0.1  -0.3  -0.16 -0.35\n",
            "   2.39 -0.36 -0.1  -2.7  -0.38 -0.47 -0.16 -0.61 -1.49 -0.51 -0.13 -0.34\n",
            "   1.69 -0.76 -0.31 -0.41 -0.42  4.88  2.24  1.06 -0.19 -0.73 -0.54 -0.34\n",
            "  -0.3  -0.18 -0.24 -0.38 -0.75 -0.23 -0.4  -0.18 -0.59]]\n"
          ]
        }
      ],
      "source": [
        "first = np.array(train_features[:1])\n",
        "\n",
        "with np.printoptions(precision=2, suppress=True):\n",
        "  print('First example:', first)\n",
        "  print()\n",
        "  print('Normalized:', normalizer(first).numpy())"
      ]
    },
    {
      "cell_type": "markdown",
      "metadata": {
        "id": "6o3CrycBXA2s"
      },
      "source": [
        "## Linear regression\n",
        "\n",
        "Before building a deep neural network model, start with linear regression using one and several variables."
      ]
    },
    {
      "cell_type": "markdown",
      "metadata": {
        "id": "lFby9n0tnHkw"
      },
      "source": [
        "### Linear regression with one variable\n",
        "\n",
        "Begin with a single-variable linear regression to predict `'ConvertedCompYearly'` from `'YearsCodePro'`.\n",
        "\n",
        "Training a model with `tf.keras` typically starts by defining the model architecture. Use a `tf.keras.Sequential` model, which [represents a sequence of steps](.././guide/keras/sequential_model.ipynb).\n",
        "\n",
        "There are two steps in your single-variable linear regression model:\n",
        "\n",
        "- Normalize the `'YearsCodePro'` input features using the `tf.keras.layers.Normalization` preprocessing layer.\n",
        "- Apply a linear transformation ($y = mx+b$) to produce 1 output using a linear layer (`tf.keras.layers.Dense`).\n",
        "\n",
        "The number of _inputs_ can either be set by the `input_shape` argument, or automatically when the model is run for the first time."
      ]
    },
    {
      "cell_type": "markdown",
      "metadata": {
        "id": "Xp3gAFn3TPv8"
      },
      "source": [
        "First, create a NumPy array made of the `'Horsepower'` features. Then, instantiate the `tf.keras.layers.Normalization` and fit its state to the `horsepower` data:"
      ]
    },
    {
      "cell_type": "code",
      "execution_count": null,
      "metadata": {
        "id": "1gJAy0fKs1TS"
      },
      "outputs": [],
      "source": [
        "horsepower = np.array(train_features['YearsCodePro'])\n",
        "\n",
        "horsepower_normalizer = layers.Normalization(input_shape=[1,], axis=None)\n",
        "horsepower_normalizer.adapt(horsepower)"
      ]
    },
    {
      "cell_type": "markdown",
      "metadata": {
        "id": "4NVlHJY2TWlC"
      },
      "source": [
        "Build the Keras Sequential model:"
      ]
    },
    {
      "cell_type": "code",
      "execution_count": null,
      "metadata": {
        "colab": {
          "base_uri": "https://localhost:8080/"
        },
        "id": "c0sXM7qLlKfZ",
        "outputId": "a8c9ba31-aaf2-493a-a0b8-fece6acc1fff"
      },
      "outputs": [
        {
          "output_type": "stream",
          "name": "stdout",
          "text": [
            "Model: \"sequential\"\n",
            "_________________________________________________________________\n",
            " Layer (type)                Output Shape              Param #   \n",
            "=================================================================\n",
            " normalization_1 (Normalizat  (None, 1)                3         \n",
            " ion)                                                            \n",
            "                                                                 \n",
            " dense (Dense)               (None, 1)                 2         \n",
            "                                                                 \n",
            "=================================================================\n",
            "Total params: 5\n",
            "Trainable params: 2\n",
            "Non-trainable params: 3\n",
            "_________________________________________________________________\n"
          ]
        }
      ],
      "source": [
        "horsepower_model = tf.keras.Sequential([\n",
        "    horsepower_normalizer,\n",
        "    layers.Dense(units=1)\n",
        "])\n",
        "\n",
        "horsepower_model.summary()"
      ]
    },
    {
      "cell_type": "markdown",
      "metadata": {
        "id": "eObQu9fDnXGL"
      },
      "source": [
        "This model will predict `'Salary'` from `'YearsCodePro'`.\n",
        "\n",
        "Run the untrained model on the first 10 'Horsepower' values. The output won't be good, but notice that it has the expected shape of `(10, 1)`:"
      ]
    },
    {
      "cell_type": "code",
      "execution_count": null,
      "metadata": {
        "colab": {
          "base_uri": "https://localhost:8080/"
        },
        "id": "UfV1HS6bns-s",
        "outputId": "105834a4-3a00-4dfb-cde0-0a0c0de82efb"
      },
      "outputs": [
        {
          "output_type": "execute_result",
          "data": {
            "text/plain": [
              "array([[-1.006],\n",
              "       [ 2.165],\n",
              "       [-0.396],\n",
              "       [-0.762],\n",
              "       [-0.762],\n",
              "       [-0.152],\n",
              "       [-1.006],\n",
              "       [-1.006],\n",
              "       [-0.03 ],\n",
              "       [ 1.921]], dtype=float32)"
            ]
          },
          "metadata": {},
          "execution_count": 22
        }
      ],
      "source": [
        "horsepower_model.predict(horsepower[:10])"
      ]
    },
    {
      "cell_type": "markdown",
      "metadata": {
        "id": "CSkanJlmmFBX"
      },
      "source": [
        "Once the model is built, configure the training procedure using the Keras `Model.compile` method. The most important arguments to compile are the `loss` and the `optimizer`, since these define what will be optimized (`mean_absolute_error`) and how (using the `tf.keras.optimizers.Adam`)."
      ]
    },
    {
      "cell_type": "code",
      "execution_count": null,
      "metadata": {
        "id": "JxA_3lpOm-SK"
      },
      "outputs": [],
      "source": [
        "horsepower_model.compile(\n",
        "    optimizer=tf.optimizers.Adam(learning_rate=0.1),\n",
        "    loss='mean_absolute_error')"
      ]
    },
    {
      "cell_type": "markdown",
      "metadata": {
        "id": "Z3q1I9TwnRSC"
      },
      "source": [
        "Use Keras `Model.fit` to execute the training for 100 epochs:"
      ]
    },
    {
      "cell_type": "code",
      "execution_count": null,
      "metadata": {
        "colab": {
          "base_uri": "https://localhost:8080/"
        },
        "id": "-iSrNy59nRAp",
        "outputId": "c648eec6-23eb-4808-cde8-0e81d426dae4"
      },
      "outputs": [
        {
          "output_type": "stream",
          "name": "stdout",
          "text": [
            "CPU times: user 25.4 s, sys: 1.71 s, total: 27.2 s\n",
            "Wall time: 22.6 s\n"
          ]
        }
      ],
      "source": [
        "%%time\n",
        "history = horsepower_model.fit(\n",
        "    train_features['YearsCodePro'],\n",
        "    train_labels,\n",
        "    epochs=100,\n",
        "    # Suppress logging.\n",
        "    verbose=0,\n",
        "    # Calculate validation results on 20% of the training data.\n",
        "    validation_split = 0.2)"
      ]
    },
    {
      "cell_type": "markdown",
      "metadata": {
        "id": "tQm3pc0FYPQB"
      },
      "source": [
        "Visualize the model's training progress using the stats stored in the `history` object:"
      ]
    },
    {
      "cell_type": "code",
      "execution_count": null,
      "metadata": {
        "colab": {
          "base_uri": "https://localhost:8080/",
          "height": 206
        },
        "id": "YCAwD_y4AdC3",
        "outputId": "1f34f213-c978-404a-f08a-afc233cd2f50"
      },
      "outputs": [
        {
          "output_type": "execute_result",
          "data": {
            "text/html": [
              "<div>\n",
              "<style scoped>\n",
              "    .dataframe tbody tr th:only-of-type {\n",
              "        vertical-align: middle;\n",
              "    }\n",
              "\n",
              "    .dataframe tbody tr th {\n",
              "        vertical-align: top;\n",
              "    }\n",
              "\n",
              "    .dataframe thead th {\n",
              "        text-align: right;\n",
              "    }\n",
              "</style>\n",
              "<table border=\"1\" class=\"dataframe\">\n",
              "  <thead>\n",
              "    <tr style=\"text-align: right;\">\n",
              "      <th></th>\n",
              "      <th>loss</th>\n",
              "      <th>val_loss</th>\n",
              "      <th>epoch</th>\n",
              "    </tr>\n",
              "  </thead>\n",
              "  <tbody>\n",
              "    <tr>\n",
              "      <th>95</th>\n",
              "      <td>123807.398438</td>\n",
              "      <td>122924.445312</td>\n",
              "      <td>95</td>\n",
              "    </tr>\n",
              "    <tr>\n",
              "      <th>96</th>\n",
              "      <td>123790.914062</td>\n",
              "      <td>122907.953125</td>\n",
              "      <td>96</td>\n",
              "    </tr>\n",
              "    <tr>\n",
              "      <th>97</th>\n",
              "      <td>123774.406250</td>\n",
              "      <td>122891.453125</td>\n",
              "      <td>97</td>\n",
              "    </tr>\n",
              "    <tr>\n",
              "      <th>98</th>\n",
              "      <td>123757.867188</td>\n",
              "      <td>122874.968750</td>\n",
              "      <td>98</td>\n",
              "    </tr>\n",
              "    <tr>\n",
              "      <th>99</th>\n",
              "      <td>123741.398438</td>\n",
              "      <td>122858.468750</td>\n",
              "      <td>99</td>\n",
              "    </tr>\n",
              "  </tbody>\n",
              "</table>\n",
              "</div>"
            ],
            "text/plain": [
              "             loss       val_loss  epoch\n",
              "95  123807.398438  122924.445312     95\n",
              "96  123790.914062  122907.953125     96\n",
              "97  123774.406250  122891.453125     97\n",
              "98  123757.867188  122874.968750     98\n",
              "99  123741.398438  122858.468750     99"
            ]
          },
          "metadata": {},
          "execution_count": 25
        }
      ],
      "source": [
        "hist = pd.DataFrame(history.history)\n",
        "hist['epoch'] = history.epoch\n",
        "hist.tail()"
      ]
    },
    {
      "cell_type": "code",
      "execution_count": null,
      "metadata": {
        "id": "9E54UoZunqhc"
      },
      "outputs": [],
      "source": [
        "def plot_loss(history):\n",
        "  plt.plot(history.history['loss'], label='loss')\n",
        "  plt.plot(history.history['val_loss'], label='val_loss')\n",
        "  # plt.ylim([0, 10])\n",
        "  plt.xlabel('Epoch')\n",
        "  plt.ylabel('Error [Salary]')\n",
        "  plt.legend()\n",
        "  plt.grid(True)\n",
        "  plt.rcParams[\"figure.figsize\"] = (15,15)"
      ]
    },
    {
      "cell_type": "code",
      "execution_count": null,
      "metadata": {
        "colab": {
          "base_uri": "https://localhost:8080/",
          "height": 283
        },
        "id": "yYsQYrIZyqjz",
        "outputId": "9752a22a-3823-47f7-85cf-0764d36649ad"
      },
      "outputs": [
        {
          "output_type": "display_data",
          "data": {
            "image/png": "[encoded data removed]",
            "text/plain": [
              "<Figure size 432x288 with 1 Axes>"
            ]
          },
          "metadata": {
            "needs_background": "light"
          }
        }
      ],
      "source": [
        "plot_loss(history)"
      ]
    },
    {
      "cell_type": "markdown",
      "metadata": {
        "id": "CMNrt8X2ebXd"
      },
      "source": [
        "Collect the results on the test set for later:"
      ]
    },
    {
      "cell_type": "code",
      "execution_count": null,
      "metadata": {
        "id": "kDZ8EvNYrDtx"
      },
      "outputs": [],
      "source": [
        "test_results = {}\n",
        "\n",
        "test_results['horsepower_model'] = horsepower_model.evaluate(\n",
        "    test_features['YearsCodePro'],\n",
        "    test_labels, verbose=0)"
      ]
    },
    {
      "cell_type": "markdown",
      "metadata": {
        "id": "F0qutYAKwoda"
      },
      "source": [
        "Since this is a single variable regression, it's easy to view the model's predictions as a function of the input:"
      ]
    },
    {
      "cell_type": "code",
      "execution_count": null,
      "metadata": {
        "id": "xDS2JEtOn9Jn"
      },
      "outputs": [],
      "source": [
        "x = tf.linspace(0.0, 250, 251)\n",
        "y = horsepower_model.predict(x)"
      ]
    },
    {
      "cell_type": "code",
      "execution_count": null,
      "metadata": {
        "id": "rttFCTU8czsI"
      },
      "outputs": [],
      "source": [
        "def plot_horsepower(x, y):\n",
        "  plt.scatter(train_features['YearsCodePro'], train_labels, label='Data')\n",
        "  plt.plot(x, y, color='k', label='Predictions')\n",
        "  plt.xlim([0, 60])\n",
        "  plt.xlabel('YearsCodePro')\n",
        "  plt.ylabel('Salary')\n",
        "  plt.legend()\n",
        "  plt.rcParams[\"figure.figsize\"] = (15,15)"
      ]
    },
    {
      "cell_type": "code",
      "execution_count": null,
      "metadata": {
        "colab": {
          "base_uri": "https://localhost:8080/",
          "height": 877
        },
        "id": "7l9ZiAOEUNBL",
        "outputId": "c16579e2-a1a8-4679-c6d2-aa0a51db835d"
      },
      "outputs": [
        {
          "output_type": "display_data",
          "data": {
            "image/png": "[encoded data removed]",
            "text/plain": [
              "<Figure size 1080x1080 with 1 Axes>"
            ]
          },
          "metadata": {
            "needs_background": "light"
          }
        }
      ],
      "source": [
        "plot_horsepower(x,y)"
      ]
    },
    {
      "cell_type": "markdown",
      "metadata": {
        "id": "Yk2RmlqPoM9u"
      },
      "source": [
        "### Linear regression with multiple inputs"
      ]
    },
    {
      "cell_type": "markdown",
      "metadata": {
        "id": "PribnwDHUksC"
      },
      "source": [
        "You can use an almost identical setup to make predictions based on multiple inputs. This model still does the same $y = mx+b$ except that $m$ is a matrix and $b$ is a vector.\n",
        "\n",
        "Create a two-step Keras Sequential model again with the first layer being `normalizer` (`tf.keras.layers.Normalization(axis=-1)`) you defined earlier and adapted to the whole dataset:"
      ]
    },
    {
      "cell_type": "code",
      "execution_count": null,
      "metadata": {
        "id": "ssnVcKg7oMe6"
      },
      "outputs": [],
      "source": [
        "linear_model = tf.keras.Sequential([\n",
        "    normalizer,\n",
        "    layers.Dense(units=1)\n",
        "])"
      ]
    },
    {
      "cell_type": "code",
      "execution_count": null,
      "metadata": {
        "colab": {
          "base_uri": "https://localhost:8080/",
          "height": 478
        },
        "id": "t-IrcvtWfUja",
        "outputId": "d7146944-67cd-4277-d418-fc92d9cf8269"
      },
      "outputs": [
        {
          "output_type": "execute_result",
          "data": {
            "text/html": [
              "<div>\n",
              "<style scoped>\n",
              "    .dataframe tbody tr th:only-of-type {\n",
              "        vertical-align: middle;\n",
              "    }\n",
              "\n",
              "    .dataframe tbody tr th {\n",
              "        vertical-align: top;\n",
              "    }\n",
              "\n",
              "    .dataframe thead th {\n",
              "        text-align: right;\n",
              "    }\n",
              "</style>\n",
              "<table border=\"1\" class=\"dataframe\">\n",
              "  <thead>\n",
              "    <tr style=\"text-align: right;\">\n",
              "      <th></th>\n",
              "      <th>YearsCodePro</th>\n",
              "      <th>AWS</th>\n",
              "      <th>Bash/Shell</th>\n",
              "      <th>C++</th>\n",
              "      <th>COBOL</th>\n",
              "      <th>Cassandra</th>\n",
              "      <th>Clojure</th>\n",
              "      <th>Crystal</th>\n",
              "      <th>Delphi</th>\n",
              "      <th>Django</th>\n",
              "      <th>Drupal</th>\n",
              "      <th>DynamoDB</th>\n",
              "      <th>Elasticsearch</th>\n",
              "      <th>Flask</th>\n",
              "      <th>Flow</th>\n",
              "      <th>Git</th>\n",
              "      <th>Go</th>\n",
              "      <th>Google Cloud Platform</th>\n",
              "      <th>Hadoop</th>\n",
              "      <th>Java</th>\n",
              "      <th>JavaScript</th>\n",
              "      <th>Kubernetes</th>\n",
              "      <th>LISP</th>\n",
              "      <th>MariaDB</th>\n",
              "      <th>Microsoft Azure</th>\n",
              "      <th>Node.js</th>\n",
              "      <th>Oracle</th>\n",
              "      <th>PHP</th>\n",
              "      <th>Pandas</th>\n",
              "      <th>Perl</th>\n",
              "      <th>PowerShell</th>\n",
              "      <th>Python</th>\n",
              "      <th>Qt</th>\n",
              "      <th>React.js</th>\n",
              "      <th>Redis</th>\n",
              "      <th>Ruby on Rails</th>\n",
              "      <th>Rust</th>\n",
              "      <th>Scala</th>\n",
              "      <th>Swift</th>\n",
              "      <th>Terraform</th>\n",
              "      <th>TypeScript</th>\n",
              "      <th>Unity 3D</th>\n",
              "      <th>Vue.js</th>\n",
              "      <th>Xamarin</th>\n",
              "      <th>jQuery</th>\n",
              "    </tr>\n",
              "  </thead>\n",
              "  <tbody>\n",
              "    <tr>\n",
              "      <th>669</th>\n",
              "      <td>3.0</td>\n",
              "      <td>0.0</td>\n",
              "      <td>1.0</td>\n",
              "      <td>0.0</td>\n",
              "      <td>0.0</td>\n",
              "      <td>0.0</td>\n",
              "      <td>0.0</td>\n",
              "      <td>0.0</td>\n",
              "      <td>0.0</td>\n",
              "      <td>0.0</td>\n",
              "      <td>0.0</td>\n",
              "      <td>0.0</td>\n",
              "      <td>1.0</td>\n",
              "      <td>0.0</td>\n",
              "      <td>0.0</td>\n",
              "      <td>0.0</td>\n",
              "      <td>0.0</td>\n",
              "      <td>0.0</td>\n",
              "      <td>0.0</td>\n",
              "      <td>0.0</td>\n",
              "      <td>0.0</td>\n",
              "      <td>0.0</td>\n",
              "      <td>0.0</td>\n",
              "      <td>0.0</td>\n",
              "      <td>1.0</td>\n",
              "      <td>0.0</td>\n",
              "      <td>0.0</td>\n",
              "      <td>0.0</td>\n",
              "      <td>0.0</td>\n",
              "      <td>1.0</td>\n",
              "      <td>1.0</td>\n",
              "      <td>1.0</td>\n",
              "      <td>0.0</td>\n",
              "      <td>0.0</td>\n",
              "      <td>0.0</td>\n",
              "      <td>0.0</td>\n",
              "      <td>0.0</td>\n",
              "      <td>0.0</td>\n",
              "      <td>0.0</td>\n",
              "      <td>0.0</td>\n",
              "      <td>0.0</td>\n",
              "      <td>0.0</td>\n",
              "      <td>0.0</td>\n",
              "      <td>0.0</td>\n",
              "      <td>0.0</td>\n",
              "    </tr>\n",
              "    <tr>\n",
              "      <th>3961</th>\n",
              "      <td>29.0</td>\n",
              "      <td>0.0</td>\n",
              "      <td>0.0</td>\n",
              "      <td>0.0</td>\n",
              "      <td>0.0</td>\n",
              "      <td>0.0</td>\n",
              "      <td>0.0</td>\n",
              "      <td>0.0</td>\n",
              "      <td>0.0</td>\n",
              "      <td>0.0</td>\n",
              "      <td>0.0</td>\n",
              "      <td>0.0</td>\n",
              "      <td>0.0</td>\n",
              "      <td>0.0</td>\n",
              "      <td>0.0</td>\n",
              "      <td>0.0</td>\n",
              "      <td>0.0</td>\n",
              "      <td>0.0</td>\n",
              "      <td>0.0</td>\n",
              "      <td>0.0</td>\n",
              "      <td>0.0</td>\n",
              "      <td>0.0</td>\n",
              "      <td>0.0</td>\n",
              "      <td>0.0</td>\n",
              "      <td>0.0</td>\n",
              "      <td>0.0</td>\n",
              "      <td>1.0</td>\n",
              "      <td>0.0</td>\n",
              "      <td>0.0</td>\n",
              "      <td>0.0</td>\n",
              "      <td>0.0</td>\n",
              "      <td>0.0</td>\n",
              "      <td>0.0</td>\n",
              "      <td>0.0</td>\n",
              "      <td>0.0</td>\n",
              "      <td>0.0</td>\n",
              "      <td>0.0</td>\n",
              "      <td>0.0</td>\n",
              "      <td>0.0</td>\n",
              "      <td>0.0</td>\n",
              "      <td>0.0</td>\n",
              "      <td>0.0</td>\n",
              "      <td>0.0</td>\n",
              "      <td>0.0</td>\n",
              "      <td>0.0</td>\n",
              "    </tr>\n",
              "    <tr>\n",
              "      <th>8708</th>\n",
              "      <td>8.0</td>\n",
              "      <td>1.0</td>\n",
              "      <td>0.0</td>\n",
              "      <td>1.0</td>\n",
              "      <td>0.0</td>\n",
              "      <td>0.0</td>\n",
              "      <td>0.0</td>\n",
              "      <td>0.0</td>\n",
              "      <td>0.0</td>\n",
              "      <td>0.0</td>\n",
              "      <td>0.0</td>\n",
              "      <td>0.0</td>\n",
              "      <td>0.0</td>\n",
              "      <td>0.0</td>\n",
              "      <td>0.0</td>\n",
              "      <td>1.0</td>\n",
              "      <td>0.0</td>\n",
              "      <td>0.0</td>\n",
              "      <td>0.0</td>\n",
              "      <td>1.0</td>\n",
              "      <td>1.0</td>\n",
              "      <td>0.0</td>\n",
              "      <td>0.0</td>\n",
              "      <td>0.0</td>\n",
              "      <td>1.0</td>\n",
              "      <td>0.0</td>\n",
              "      <td>0.0</td>\n",
              "      <td>0.0</td>\n",
              "      <td>0.0</td>\n",
              "      <td>0.0</td>\n",
              "      <td>1.0</td>\n",
              "      <td>1.0</td>\n",
              "      <td>0.0</td>\n",
              "      <td>0.0</td>\n",
              "      <td>1.0</td>\n",
              "      <td>0.0</td>\n",
              "      <td>0.0</td>\n",
              "      <td>0.0</td>\n",
              "      <td>0.0</td>\n",
              "      <td>0.0</td>\n",
              "      <td>0.0</td>\n",
              "      <td>0.0</td>\n",
              "      <td>0.0</td>\n",
              "      <td>0.0</td>\n",
              "      <td>0.0</td>\n",
              "    </tr>\n",
              "    <tr>\n",
              "      <th>8088</th>\n",
              "      <td>5.0</td>\n",
              "      <td>0.0</td>\n",
              "      <td>0.0</td>\n",
              "      <td>0.0</td>\n",
              "      <td>0.0</td>\n",
              "      <td>0.0</td>\n",
              "      <td>0.0</td>\n",
              "      <td>0.0</td>\n",
              "      <td>0.0</td>\n",
              "      <td>0.0</td>\n",
              "      <td>0.0</td>\n",
              "      <td>0.0</td>\n",
              "      <td>0.0</td>\n",
              "      <td>0.0</td>\n",
              "      <td>0.0</td>\n",
              "      <td>1.0</td>\n",
              "      <td>0.0</td>\n",
              "      <td>1.0</td>\n",
              "      <td>0.0</td>\n",
              "      <td>0.0</td>\n",
              "      <td>1.0</td>\n",
              "      <td>0.0</td>\n",
              "      <td>0.0</td>\n",
              "      <td>0.0</td>\n",
              "      <td>0.0</td>\n",
              "      <td>1.0</td>\n",
              "      <td>0.0</td>\n",
              "      <td>1.0</td>\n",
              "      <td>0.0</td>\n",
              "      <td>0.0</td>\n",
              "      <td>0.0</td>\n",
              "      <td>0.0</td>\n",
              "      <td>0.0</td>\n",
              "      <td>1.0</td>\n",
              "      <td>1.0</td>\n",
              "      <td>0.0</td>\n",
              "      <td>0.0</td>\n",
              "      <td>0.0</td>\n",
              "      <td>0.0</td>\n",
              "      <td>0.0</td>\n",
              "      <td>1.0</td>\n",
              "      <td>0.0</td>\n",
              "      <td>1.0</td>\n",
              "      <td>0.0</td>\n",
              "      <td>1.0</td>\n",
              "    </tr>\n",
              "    <tr>\n",
              "      <th>2751</th>\n",
              "      <td>5.0</td>\n",
              "      <td>0.0</td>\n",
              "      <td>0.0</td>\n",
              "      <td>0.0</td>\n",
              "      <td>0.0</td>\n",
              "      <td>0.0</td>\n",
              "      <td>0.0</td>\n",
              "      <td>0.0</td>\n",
              "      <td>0.0</td>\n",
              "      <td>0.0</td>\n",
              "      <td>0.0</td>\n",
              "      <td>0.0</td>\n",
              "      <td>0.0</td>\n",
              "      <td>0.0</td>\n",
              "      <td>0.0</td>\n",
              "      <td>1.0</td>\n",
              "      <td>0.0</td>\n",
              "      <td>0.0</td>\n",
              "      <td>0.0</td>\n",
              "      <td>0.0</td>\n",
              "      <td>1.0</td>\n",
              "      <td>0.0</td>\n",
              "      <td>0.0</td>\n",
              "      <td>0.0</td>\n",
              "      <td>1.0</td>\n",
              "      <td>1.0</td>\n",
              "      <td>0.0</td>\n",
              "      <td>0.0</td>\n",
              "      <td>0.0</td>\n",
              "      <td>0.0</td>\n",
              "      <td>0.0</td>\n",
              "      <td>0.0</td>\n",
              "      <td>0.0</td>\n",
              "      <td>0.0</td>\n",
              "      <td>0.0</td>\n",
              "      <td>0.0</td>\n",
              "      <td>0.0</td>\n",
              "      <td>0.0</td>\n",
              "      <td>0.0</td>\n",
              "      <td>0.0</td>\n",
              "      <td>1.0</td>\n",
              "      <td>1.0</td>\n",
              "      <td>0.0</td>\n",
              "      <td>0.0</td>\n",
              "      <td>1.0</td>\n",
              "    </tr>\n",
              "    <tr>\n",
              "      <th>...</th>\n",
              "      <td>...</td>\n",
              "      <td>...</td>\n",
              "      <td>...</td>\n",
              "      <td>...</td>\n",
              "      <td>...</td>\n",
              "      <td>...</td>\n",
              "      <td>...</td>\n",
              "      <td>...</td>\n",
              "      <td>...</td>\n",
              "      <td>...</td>\n",
              "      <td>...</td>\n",
              "      <td>...</td>\n",
              "      <td>...</td>\n",
              "      <td>...</td>\n",
              "      <td>...</td>\n",
              "      <td>...</td>\n",
              "      <td>...</td>\n",
              "      <td>...</td>\n",
              "      <td>...</td>\n",
              "      <td>...</td>\n",
              "      <td>...</td>\n",
              "      <td>...</td>\n",
              "      <td>...</td>\n",
              "      <td>...</td>\n",
              "      <td>...</td>\n",
              "      <td>...</td>\n",
              "      <td>...</td>\n",
              "      <td>...</td>\n",
              "      <td>...</td>\n",
              "      <td>...</td>\n",
              "      <td>...</td>\n",
              "      <td>...</td>\n",
              "      <td>...</td>\n",
              "      <td>...</td>\n",
              "      <td>...</td>\n",
              "      <td>...</td>\n",
              "      <td>...</td>\n",
              "      <td>...</td>\n",
              "      <td>...</td>\n",
              "      <td>...</td>\n",
              "      <td>...</td>\n",
              "      <td>...</td>\n",
              "      <td>...</td>\n",
              "      <td>...</td>\n",
              "      <td>...</td>\n",
              "    </tr>\n",
              "    <tr>\n",
              "      <th>2868</th>\n",
              "      <td>23.0</td>\n",
              "      <td>0.0</td>\n",
              "      <td>0.0</td>\n",
              "      <td>0.0</td>\n",
              "      <td>0.0</td>\n",
              "      <td>0.0</td>\n",
              "      <td>0.0</td>\n",
              "      <td>0.0</td>\n",
              "      <td>0.0</td>\n",
              "      <td>0.0</td>\n",
              "      <td>0.0</td>\n",
              "      <td>0.0</td>\n",
              "      <td>0.0</td>\n",
              "      <td>0.0</td>\n",
              "      <td>0.0</td>\n",
              "      <td>1.0</td>\n",
              "      <td>0.0</td>\n",
              "      <td>0.0</td>\n",
              "      <td>0.0</td>\n",
              "      <td>0.0</td>\n",
              "      <td>0.0</td>\n",
              "      <td>0.0</td>\n",
              "      <td>0.0</td>\n",
              "      <td>0.0</td>\n",
              "      <td>0.0</td>\n",
              "      <td>0.0</td>\n",
              "      <td>0.0</td>\n",
              "      <td>0.0</td>\n",
              "      <td>0.0</td>\n",
              "      <td>0.0</td>\n",
              "      <td>0.0</td>\n",
              "      <td>0.0</td>\n",
              "      <td>0.0</td>\n",
              "      <td>0.0</td>\n",
              "      <td>0.0</td>\n",
              "      <td>0.0</td>\n",
              "      <td>0.0</td>\n",
              "      <td>0.0</td>\n",
              "      <td>0.0</td>\n",
              "      <td>0.0</td>\n",
              "      <td>0.0</td>\n",
              "      <td>0.0</td>\n",
              "      <td>0.0</td>\n",
              "      <td>0.0</td>\n",
              "      <td>0.0</td>\n",
              "    </tr>\n",
              "    <tr>\n",
              "      <th>860</th>\n",
              "      <td>1.0</td>\n",
              "      <td>1.0</td>\n",
              "      <td>1.0</td>\n",
              "      <td>0.0</td>\n",
              "      <td>0.0</td>\n",
              "      <td>0.0</td>\n",
              "      <td>0.0</td>\n",
              "      <td>0.0</td>\n",
              "      <td>0.0</td>\n",
              "      <td>0.0</td>\n",
              "      <td>0.0</td>\n",
              "      <td>0.0</td>\n",
              "      <td>0.0</td>\n",
              "      <td>0.0</td>\n",
              "      <td>0.0</td>\n",
              "      <td>1.0</td>\n",
              "      <td>0.0</td>\n",
              "      <td>0.0</td>\n",
              "      <td>0.0</td>\n",
              "      <td>1.0</td>\n",
              "      <td>1.0</td>\n",
              "      <td>1.0</td>\n",
              "      <td>0.0</td>\n",
              "      <td>0.0</td>\n",
              "      <td>0.0</td>\n",
              "      <td>1.0</td>\n",
              "      <td>0.0</td>\n",
              "      <td>0.0</td>\n",
              "      <td>0.0</td>\n",
              "      <td>0.0</td>\n",
              "      <td>0.0</td>\n",
              "      <td>1.0</td>\n",
              "      <td>0.0</td>\n",
              "      <td>1.0</td>\n",
              "      <td>0.0</td>\n",
              "      <td>0.0</td>\n",
              "      <td>1.0</td>\n",
              "      <td>0.0</td>\n",
              "      <td>0.0</td>\n",
              "      <td>0.0</td>\n",
              "      <td>1.0</td>\n",
              "      <td>0.0</td>\n",
              "      <td>0.0</td>\n",
              "      <td>0.0</td>\n",
              "      <td>0.0</td>\n",
              "    </tr>\n",
              "    <tr>\n",
              "      <th>2443</th>\n",
              "      <td>6.0</td>\n",
              "      <td>1.0</td>\n",
              "      <td>1.0</td>\n",
              "      <td>0.0</td>\n",
              "      <td>0.0</td>\n",
              "      <td>0.0</td>\n",
              "      <td>0.0</td>\n",
              "      <td>0.0</td>\n",
              "      <td>0.0</td>\n",
              "      <td>0.0</td>\n",
              "      <td>0.0</td>\n",
              "      <td>0.0</td>\n",
              "      <td>0.0</td>\n",
              "      <td>1.0</td>\n",
              "      <td>0.0</td>\n",
              "      <td>1.0</td>\n",
              "      <td>0.0</td>\n",
              "      <td>1.0</td>\n",
              "      <td>1.0</td>\n",
              "      <td>0.0</td>\n",
              "      <td>1.0</td>\n",
              "      <td>0.0</td>\n",
              "      <td>0.0</td>\n",
              "      <td>0.0</td>\n",
              "      <td>0.0</td>\n",
              "      <td>0.0</td>\n",
              "      <td>1.0</td>\n",
              "      <td>0.0</td>\n",
              "      <td>1.0</td>\n",
              "      <td>0.0</td>\n",
              "      <td>1.0</td>\n",
              "      <td>1.0</td>\n",
              "      <td>0.0</td>\n",
              "      <td>0.0</td>\n",
              "      <td>0.0</td>\n",
              "      <td>0.0</td>\n",
              "      <td>0.0</td>\n",
              "      <td>0.0</td>\n",
              "      <td>0.0</td>\n",
              "      <td>1.0</td>\n",
              "      <td>0.0</td>\n",
              "      <td>0.0</td>\n",
              "      <td>0.0</td>\n",
              "      <td>0.0</td>\n",
              "      <td>1.0</td>\n",
              "    </tr>\n",
              "    <tr>\n",
              "      <th>4396</th>\n",
              "      <td>6.0</td>\n",
              "      <td>1.0</td>\n",
              "      <td>1.0</td>\n",
              "      <td>0.0</td>\n",
              "      <td>0.0</td>\n",
              "      <td>0.0</td>\n",
              "      <td>0.0</td>\n",
              "      <td>0.0</td>\n",
              "      <td>0.0</td>\n",
              "      <td>0.0</td>\n",
              "      <td>0.0</td>\n",
              "      <td>1.0</td>\n",
              "      <td>1.0</td>\n",
              "      <td>0.0</td>\n",
              "      <td>0.0</td>\n",
              "      <td>1.0</td>\n",
              "      <td>1.0</td>\n",
              "      <td>1.0</td>\n",
              "      <td>0.0</td>\n",
              "      <td>0.0</td>\n",
              "      <td>1.0</td>\n",
              "      <td>1.0</td>\n",
              "      <td>1.0</td>\n",
              "      <td>0.0</td>\n",
              "      <td>0.0</td>\n",
              "      <td>1.0</td>\n",
              "      <td>0.0</td>\n",
              "      <td>0.0</td>\n",
              "      <td>1.0</td>\n",
              "      <td>0.0</td>\n",
              "      <td>0.0</td>\n",
              "      <td>1.0</td>\n",
              "      <td>0.0</td>\n",
              "      <td>1.0</td>\n",
              "      <td>1.0</td>\n",
              "      <td>0.0</td>\n",
              "      <td>0.0</td>\n",
              "      <td>0.0</td>\n",
              "      <td>0.0</td>\n",
              "      <td>1.0</td>\n",
              "      <td>1.0</td>\n",
              "      <td>0.0</td>\n",
              "      <td>0.0</td>\n",
              "      <td>0.0</td>\n",
              "      <td>1.0</td>\n",
              "    </tr>\n",
              "    <tr>\n",
              "      <th>6877</th>\n",
              "      <td>25.0</td>\n",
              "      <td>1.0</td>\n",
              "      <td>0.0</td>\n",
              "      <td>0.0</td>\n",
              "      <td>0.0</td>\n",
              "      <td>0.0</td>\n",
              "      <td>0.0</td>\n",
              "      <td>0.0</td>\n",
              "      <td>0.0</td>\n",
              "      <td>0.0</td>\n",
              "      <td>0.0</td>\n",
              "      <td>1.0</td>\n",
              "      <td>1.0</td>\n",
              "      <td>0.0</td>\n",
              "      <td>0.0</td>\n",
              "      <td>1.0</td>\n",
              "      <td>0.0</td>\n",
              "      <td>1.0</td>\n",
              "      <td>1.0</td>\n",
              "      <td>0.0</td>\n",
              "      <td>1.0</td>\n",
              "      <td>0.0</td>\n",
              "      <td>0.0</td>\n",
              "      <td>0.0</td>\n",
              "      <td>0.0</td>\n",
              "      <td>1.0</td>\n",
              "      <td>1.0</td>\n",
              "      <td>1.0</td>\n",
              "      <td>0.0</td>\n",
              "      <td>0.0</td>\n",
              "      <td>1.0</td>\n",
              "      <td>1.0</td>\n",
              "      <td>0.0</td>\n",
              "      <td>1.0</td>\n",
              "      <td>0.0</td>\n",
              "      <td>0.0</td>\n",
              "      <td>0.0</td>\n",
              "      <td>0.0</td>\n",
              "      <td>0.0</td>\n",
              "      <td>0.0</td>\n",
              "      <td>0.0</td>\n",
              "      <td>0.0</td>\n",
              "      <td>1.0</td>\n",
              "      <td>0.0</td>\n",
              "      <td>1.0</td>\n",
              "    </tr>\n",
              "  </tbody>\n",
              "</table>\n",
              "<p>6562 rows × 45 columns</p>\n",
              "</div>"
            ],
            "text/plain": [
              "      YearsCodePro  AWS  Bash/Shell  C++  ...  Unity 3D  Vue.js  Xamarin  jQuery\n",
              "669            3.0  0.0         1.0  0.0  ...       0.0     0.0      0.0     0.0\n",
              "3961          29.0  0.0         0.0  0.0  ...       0.0     0.0      0.0     0.0\n",
              "8708           8.0  1.0         0.0  1.0  ...       0.0     0.0      0.0     0.0\n",
              "8088           5.0  0.0         0.0  0.0  ...       0.0     1.0      0.0     1.0\n",
              "2751           5.0  0.0         0.0  0.0  ...       1.0     0.0      0.0     1.0\n",
              "...            ...  ...         ...  ...  ...       ...     ...      ...     ...\n",
              "2868          23.0  0.0         0.0  0.0  ...       0.0     0.0      0.0     0.0\n",
              "860            1.0  1.0         1.0  0.0  ...       0.0     0.0      0.0     0.0\n",
              "2443           6.0  1.0         1.0  0.0  ...       0.0     0.0      0.0     1.0\n",
              "4396           6.0  1.0         1.0  0.0  ...       0.0     0.0      0.0     1.0\n",
              "6877          25.0  1.0         0.0  0.0  ...       0.0     1.0      0.0     1.0\n",
              "\n",
              "[6562 rows x 45 columns]"
            ]
          },
          "metadata": {},
          "execution_count": 33
        }
      ],
      "source": [
        "train_features"
      ]
    },
    {
      "cell_type": "markdown",
      "metadata": {
        "id": "IHlx6WeIWyAr"
      },
      "source": [
        "When you call `Model.predict` on a batch of inputs, it produces `units=1` outputs for each example:"
      ]
    },
    {
      "cell_type": "code",
      "execution_count": null,
      "metadata": {
        "colab": {
          "base_uri": "https://localhost:8080/"
        },
        "id": "DynfJV18WiuT",
        "outputId": "97ef3729-971e-422d-a96d-198178a55787"
      },
      "outputs": [
        {
          "output_type": "execute_result",
          "data": {
            "text/plain": [
              "array([[0.38 ],\n",
              "       [0.343],\n",
              "       [0.124],\n",
              "       ...,\n",
              "       [0.575],\n",
              "       [0.518],\n",
              "       [3.597]], dtype=float32)"
            ]
          },
          "metadata": {},
          "execution_count": 34
        }
      ],
      "source": [
        "linear_model.predict(train_features)"
      ]
    },
    {
      "cell_type": "markdown",
      "metadata": {
        "id": "hvHKH3rPXHmq"
      },
      "source": [
        "When you call the model, its weight matrices will be built"
      ]
    },
    {
      "cell_type": "code",
      "execution_count": null,
      "metadata": {
        "colab": {
          "base_uri": "https://localhost:8080/"
        },
        "id": "DwJ4Fq0RXBQf",
        "outputId": "78318c22-562b-4787-8a6a-81c7a0c74f45"
      },
      "outputs": [
        {
          "output_type": "execute_result",
          "data": {
            "text/plain": [
              "<tf.Variable 'dense_1/kernel:0' shape=(45, 1) dtype=float32, numpy=\n",
              "array([[ 0.351],\n",
              "       [-0.208],\n",
              "       [ 0.018],\n",
              "       [ 0.008],\n",
              "       [-0.111],\n",
              "       [ 0.191],\n",
              "       [-0.011],\n",
              "       [-0.058],\n",
              "       [-0.106],\n",
              "       [-0.314],\n",
              "       [-0.129],\n",
              "       [ 0.336],\n",
              "       [ 0.229],\n",
              "       [-0.032],\n",
              "       [ 0.272],\n",
              "       [-0.151],\n",
              "       [ 0.213],\n",
              "       [ 0.022],\n",
              "       [ 0.258],\n",
              "       [-0.042],\n",
              "       [-0.065],\n",
              "       [ 0.014],\n",
              "       [-0.09 ],\n",
              "       [ 0.329],\n",
              "       [ 0.183],\n",
              "       [ 0.209],\n",
              "       [-0.125],\n",
              "       [ 0.124],\n",
              "       [ 0.116],\n",
              "       [-0.219],\n",
              "       [ 0.249],\n",
              "       [-0.042],\n",
              "       [ 0.157],\n",
              "       [-0.262],\n",
              "       [ 0.092],\n",
              "       [ 0.088],\n",
              "       [ 0.079],\n",
              "       [-0.08 ],\n",
              "       [ 0.201],\n",
              "       [-0.106],\n",
              "       [-0.02 ],\n",
              "       [ 0.055],\n",
              "       [ 0.103],\n",
              "       [-0.16 ],\n",
              "       [-0.067]], dtype=float32)>"
            ]
          },
          "metadata": {},
          "execution_count": 35
        }
      ],
      "source": [
        "linear_model.layers[1].kernel"
      ]
    },
    {
      "cell_type": "markdown",
      "metadata": {
        "id": "eINAc6rZXzOt"
      },
      "source": [
        "Configure the model with Keras `Model.compile` and train with `Model.fit` for 100 epochs:"
      ]
    },
    {
      "cell_type": "code",
      "execution_count": null,
      "metadata": {
        "id": "A0Sv_Ybr0szp"
      },
      "outputs": [],
      "source": [
        "linear_model.compile(\n",
        "    optimizer=tf.optimizers.Adam(learning_rate=0.1),\n",
        "    loss='mean_absolute_error')"
      ]
    },
    {
      "cell_type": "code",
      "execution_count": null,
      "metadata": {
        "colab": {
          "base_uri": "https://localhost:8080/"
        },
        "id": "EZoOYORvoTSe",
        "outputId": "3de7b4a4-2add-4e8f-eb0c-2891ff309b83"
      },
      "outputs": [
        {
          "output_type": "stream",
          "name": "stdout",
          "text": [
            "CPU times: user 27.1 s, sys: 2.04 s, total: 29.1 s\n",
            "Wall time: 23.9 s\n"
          ]
        }
      ],
      "source": [
        "%%time\n",
        "history = linear_model.fit(\n",
        "    train_features,\n",
        "    train_labels,\n",
        "    epochs=100,\n",
        "    # Suppress logging.\n",
        "    verbose=0,\n",
        "    # Calculate validation results on 20% of the training data.\n",
        "    validation_split = 0.2)"
      ]
    },
    {
      "cell_type": "markdown",
      "metadata": {
        "id": "EdxiCbiNYK2F"
      },
      "source": [
        "Using all the inputs in this regression model achieves a much lower training and validation error than the `horsepower_model`, which had one input:"
      ]
    },
    {
      "cell_type": "code",
      "execution_count": null,
      "metadata": {
        "colab": {
          "base_uri": "https://localhost:8080/",
          "height": 877
        },
        "id": "4sWO3W0koYgu",
        "outputId": "c18d0ca3-bc9e-4948-a261-4f78f412c207"
      },
      "outputs": [
        {
          "output_type": "display_data",
          "data": {
            "image/png": "[encoded data removed]",
            "text/plain": [
              "<Figure size 1080x1080 with 1 Axes>"
            ]
          },
          "metadata": {
            "needs_background": "light"
          }
        }
      ],
      "source": [
        "plot_loss(history)"
      ]
    },
    {
      "cell_type": "markdown",
      "metadata": {
        "id": "NyN49hIWe_NH"
      },
      "source": [
        "Collect the results on the test set for later:"
      ]
    },
    {
      "cell_type": "code",
      "execution_count": null,
      "metadata": {
        "id": "jNC3D1DGsGgK"
      },
      "outputs": [],
      "source": [
        "test_results['linear_model'] = linear_model.evaluate(\n",
        "    test_features, test_labels, verbose=0)"
      ]
    },
    {
      "cell_type": "markdown",
      "metadata": {
        "id": "SmjdzxKzEu1-"
      },
      "source": [
        "## Regression with a deep neural network (DNN)"
      ]
    },
    {
      "cell_type": "markdown",
      "metadata": {
        "id": "DT_aHPsrzO1t"
      },
      "source": [
        "In the previous section, you implemented two linear models for single and multiple inputs.\n",
        "\n",
        "Here, you will implement single-input and multiple-input DNN models.\n",
        "\n",
        "The code is basically the same except the model is expanded to include some \"hidden\" non-linear layers. The name \"hidden\" here just means not directly connected to the inputs or outputs."
      ]
    },
    {
      "cell_type": "markdown",
      "metadata": {
        "id": "6SWtkIjhrZwa"
      },
      "source": [
        "These models will contain a few more layers than the linear model:\n",
        "\n",
        "* The normalization layer, as before (with `horsepower_normalizer` for a single-input model and `normalizer` for a multiple-input model).\n",
        "* Two hidden, non-linear, `Dense` layers with the ReLU (`relu`) activation function nonlinearity.\n",
        "* A linear `Dense` single-output layer.\n",
        "\n",
        "Both models will use the same training procedure so the `compile` method is included in the `build_and_compile_model` function below."
      ]
    },
    {
      "cell_type": "code",
      "execution_count": null,
      "metadata": {
        "id": "c26juK7ZG8j-"
      },
      "outputs": [],
      "source": [
        "def build_and_compile_model(norm):\n",
        "  model = keras.Sequential([\n",
        "      norm,\n",
        "      layers.Dense(64, activation='relu'),\n",
        "      layers.Dense(64, activation='relu'),\n",
        "      layers.Dense(1)\n",
        "  ])\n",
        "\n",
        "  model.compile(loss='mean_absolute_error',\n",
        "                optimizer=tf.keras.optimizers.Adam(0.001))\n",
        "  return model"
      ]
    },
    {
      "cell_type": "markdown",
      "metadata": {
        "id": "6c51caebbc0d"
      },
      "source": [
        "### Regression using a DNN and a single input"
      ]
    },
    {
      "cell_type": "markdown",
      "metadata": {
        "id": "xvu9gtxTZR5V"
      },
      "source": [
        "Create a DNN model with only `'YearsCodePro'` as input and `horsepower_normalizer` (defined earlier) as the normalization layer:"
      ]
    },
    {
      "cell_type": "code",
      "execution_count": null,
      "metadata": {
        "id": "cGbPb-PHGbhs"
      },
      "outputs": [],
      "source": [
        "dnn_horsepower_model = build_and_compile_model(horsepower_normalizer)"
      ]
    },
    {
      "cell_type": "markdown",
      "metadata": {
        "id": "Sj49Og4YGULr"
      },
      "source": [
        "This model has quite a few more trainable parameters than the linear models:"
      ]
    },
    {
      "cell_type": "code",
      "execution_count": null,
      "metadata": {
        "colab": {
          "base_uri": "https://localhost:8080/"
        },
        "id": "ReAD0n6MsFK-",
        "outputId": "1f204d73-0307-493a-fe06-1fbc67755428"
      },
      "outputs": [
        {
          "output_type": "stream",
          "name": "stdout",
          "text": [
            "Model: \"sequential_2\"\n",
            "_________________________________________________________________\n",
            " Layer (type)                Output Shape              Param #   \n",
            "=================================================================\n",
            " normalization_1 (Normalizat  (None, 1)                3         \n",
            " ion)                                                            \n",
            "                                                                 \n",
            " dense_2 (Dense)             (None, 64)                128       \n",
            "                                                                 \n",
            " dense_3 (Dense)             (None, 64)                4160      \n",
            "                                                                 \n",
            " dense_4 (Dense)             (None, 1)                 65        \n",
            "                                                                 \n",
            "=================================================================\n",
            "Total params: 4,356\n",
            "Trainable params: 4,353\n",
            "Non-trainable params: 3\n",
            "_________________________________________________________________\n"
          ]
        }
      ],
      "source": [
        "dnn_horsepower_model.summary()"
      ]
    },
    {
      "cell_type": "markdown",
      "metadata": {
        "id": "0-qWCsh6DlyH"
      },
      "source": [
        "Train the model with Keras `Model.fit`:"
      ]
    },
    {
      "cell_type": "code",
      "execution_count": null,
      "metadata": {
        "colab": {
          "base_uri": "https://localhost:8080/"
        },
        "id": "sD7qHCmNIOY0",
        "outputId": "becc65eb-277f-44dc-abe2-66ab27cf0624"
      },
      "outputs": [
        {
          "output_type": "stream",
          "name": "stdout",
          "text": [
            "CPU times: user 7.25 s, sys: 466 ms, total: 7.72 s\n",
            "Wall time: 6.06 s\n"
          ]
        }
      ],
      "source": [
        "%%time\n",
        "history = dnn_horsepower_model.fit(\n",
        "    train_features['YearsCodePro'],\n",
        "    train_labels,\n",
        "    validation_split=0.2,\n",
        "    verbose=0, epochs=20)"
      ]
    },
    {
      "cell_type": "markdown",
      "metadata": {
        "id": "dArGGxHxcKjN"
      },
      "source": [
        "This model does slightly better than the linear single-input `horsepower_model`:"
      ]
    },
    {
      "cell_type": "code",
      "execution_count": null,
      "metadata": {
        "colab": {
          "base_uri": "https://localhost:8080/",
          "height": 877
        },
        "id": "NcF6UWjdCU8T",
        "outputId": "048e9142-b274-4e94-9fb0-b6b6bea68557"
      },
      "outputs": [
        {
          "output_type": "display_data",
          "data": {
            "image/png": "[encoded data removed]",
            "text/plain": [
              "<Figure size 1080x1080 with 1 Axes>"
            ]
          },
          "metadata": {
            "needs_background": "light"
          }
        }
      ],
      "source": [
        "plot_loss(history)"
      ]
    },
    {
      "cell_type": "markdown",
      "metadata": {
        "id": "TG1snlpR2QCK"
      },
      "source": [
        "If you plot the predictions as a function of `'Horsepower'`, you should notice how this model takes advantage of the nonlinearity provided by the hidden layers:"
      ]
    },
    {
      "cell_type": "code",
      "execution_count": null,
      "metadata": {
        "id": "hPF53Rem14NS"
      },
      "outputs": [],
      "source": [
        "x = tf.linspace(0.0, 250, 251)\n",
        "y = dnn_horsepower_model.predict(x)\n"
      ]
    },
    {
      "cell_type": "code",
      "execution_count": null,
      "metadata": {
        "colab": {
          "base_uri": "https://localhost:8080/"
        },
        "id": "084ojhDf682P",
        "outputId": "3693f8e1-f15e-487b-cc3d-720362ddc970"
      },
      "outputs": [
        {
          "output_type": "stream",
          "name": "stdout",
          "text": [
            "tf.Tensor(\n",
            "[  0.   1.   2.   3.   4.   5.   6.   7.   8.   9.  10.  11.  12.  13.\n",
            "  14.  15.  16.  17.  18.  19.  20.  21.  22.  23.  24.  25.  26.  27.\n",
            "  28.  29.  30.  31.  32.  33.  34.  35.  36.  37.  38.  39.  40.  41.\n",
            "  42.  43.  44.  45.  46.  47.  48.  49.  50.  51.  52.  53.  54.  55.\n",
            "  56.  57.  58.  59.  60.  61.  62.  63.  64.  65.  66.  67.  68.  69.\n",
            "  70.  71.  72.  73.  74.  75.  76.  77.  78.  79.  80.  81.  82.  83.\n",
            "  84.  85.  86.  87.  88.  89.  90.  91.  92.  93.  94.  95.  96.  97.\n",
            "  98.  99. 100. 101. 102. 103. 104. 105. 106. 107. 108. 109. 110. 111.\n",
            " 112. 113. 114. 115. 116. 117. 118. 119. 120. 121. 122. 123. 124. 125.\n",
            " 126. 127. 128. 129. 130. 131. 132. 133. 134. 135. 136. 137. 138. 139.\n",
            " 140. 141. 142. 143. 144. 145. 146. 147. 148. 149. 150. 151. 152. 153.\n",
            " 154. 155. 156. 157. 158. 159. 160. 161. 162. 163. 164. 165. 166. 167.\n",
            " 168. 169. 170. 171. 172. 173. 174. 175. 176. 177. 178. 179. 180. 181.\n",
            " 182. 183. 184. 185. 186. 187. 188. 189. 190. 191. 192. 193. 194. 195.\n",
            " 196. 197. 198. 199. 200. 201. 202. 203. 204. 205. 206. 207. 208. 209.\n",
            " 210. 211. 212. 213. 214. 215. 216. 217. 218. 219. 220. 221. 222. 223.\n",
            " 224. 225. 226. 227. 228. 229. 230. 231. 232. 233. 234. 235. 236. 237.\n",
            " 238. 239. 240. 241. 242. 243. 244. 245. 246. 247. 248. 249. 250.], shape=(251,), dtype=float32)\n"
          ]
        }
      ],
      "source": [
        "print(x)"
      ]
    },
    {
      "cell_type": "code",
      "execution_count": null,
      "metadata": {
        "colab": {
          "base_uri": "https://localhost:8080/",
          "height": 888
        },
        "id": "rsf9rD8I17Wq",
        "outputId": "2abb664c-9a24-41d5-f824-fc9affe65dd2"
      },
      "outputs": [
        {
          "output_type": "display_data",
          "data": {
            "image/png": "[encoded data removed]",
            "text/plain": [
              "<Figure size 1080x1080 with 1 Axes>"
            ]
          },
          "metadata": {
            "needs_background": "light"
          }
        }
      ],
      "source": [
        "plot_horsepower(x, y)"
      ]
    },
    {
      "cell_type": "markdown",
      "metadata": {
        "id": "WxCJKIUpe4io"
      },
      "source": [
        "Collect the results on the test set for later:"
      ]
    },
    {
      "cell_type": "code",
      "execution_count": null,
      "metadata": {
        "id": "bJjM0dU52XtN"
      },
      "outputs": [],
      "source": [
        "test_results['dnn_horsepower_model'] = dnn_horsepower_model.evaluate(\n",
        "    test_features['YearsCodePro'], test_labels,\n",
        "    verbose=0)"
      ]
    },
    {
      "cell_type": "markdown",
      "metadata": {
        "id": "S_2Btebp2e64"
      },
      "source": [
        "### Regression using a DNN and multiple inputs"
      ]
    },
    {
      "cell_type": "markdown",
      "metadata": {
        "id": "aKFtezDldLSf"
      },
      "source": [
        "Repeat the previous process using all the inputs. The model's performance slightly improves on the validation dataset."
      ]
    },
    {
      "cell_type": "code",
      "execution_count": null,
      "metadata": {
        "colab": {
          "base_uri": "https://localhost:8080/"
        },
        "id": "c0mhscXh2k36",
        "outputId": "252700d3-76db-4c24-bdcd-9f66dedd1028"
      },
      "outputs": [
        {
          "output_type": "stream",
          "name": "stdout",
          "text": [
            "Model: \"sequential_3\"\n",
            "_________________________________________________________________\n",
            " Layer (type)                Output Shape              Param #   \n",
            "=================================================================\n",
            " normalization (Normalizatio  (None, 45)               91        \n",
            " n)                                                              \n",
            "                                                                 \n",
            " dense_5 (Dense)             (None, 64)                2944      \n",
            "                                                                 \n",
            " dense_6 (Dense)             (None, 64)                4160      \n",
            "                                                                 \n",
            " dense_7 (Dense)             (None, 1)                 65        \n",
            "                                                                 \n",
            "=================================================================\n",
            "Total params: 7,260\n",
            "Trainable params: 7,169\n",
            "Non-trainable params: 91\n",
            "_________________________________________________________________\n"
          ]
        }
      ],
      "source": [
        "dnn_model = build_and_compile_model(normalizer)\n",
        "dnn_model.summary()"
      ]
    },
    {
      "cell_type": "code",
      "execution_count": null,
      "metadata": {
        "colab": {
          "base_uri": "https://localhost:8080/"
        },
        "id": "CXDENACl2tuW",
        "outputId": "bb08857b-58a8-4dc3-bbd3-98e75b7da522"
      },
      "outputs": [
        {
          "output_type": "stream",
          "name": "stdout",
          "text": [
            "CPU times: user 27.1 s, sys: 2.12 s, total: 29.2 s\n",
            "Wall time: 22.2 s\n"
          ]
        }
      ],
      "source": [
        "%%time\n",
        "history = dnn_model.fit(\n",
        "    train_features,\n",
        "    train_labels,\n",
        "    validation_split=0.2,\n",
        "    verbose=0, epochs=75)"
      ]
    },
    {
      "cell_type": "code",
      "execution_count": null,
      "metadata": {
        "colab": {
          "base_uri": "https://localhost:8080/",
          "height": 877
        },
        "id": "-9Dbj0fX23RQ",
        "outputId": "88e47ec7-a34e-4b7f-b1f8-c8a7287778fc"
      },
      "outputs": [
        {
          "output_type": "display_data",
          "data": {
            "image/png": "[encoded data removed]",
            "text/plain": [
              "<Figure size 1080x1080 with 1 Axes>"
            ]
          },
          "metadata": {
            "needs_background": "light"
          }
        }
      ],
      "source": [
        "plot_loss(history)"
      ]
    },
    {
      "cell_type": "markdown",
      "metadata": {
        "id": "hWoVYS34fJPZ"
      },
      "source": [
        "Collect the results on the test set:"
      ]
    },
    {
      "cell_type": "code",
      "execution_count": null,
      "metadata": {
        "id": "-bZIa96W3c7K"
      },
      "outputs": [],
      "source": [
        "test_results['dnn_model'] = dnn_model.evaluate(test_features, test_labels, verbose=0)"
      ]
    },
    {
      "cell_type": "markdown",
      "metadata": {
        "id": "uiCucdPLfMkZ"
      },
      "source": [
        "## Performance"
      ]
    },
    {
      "cell_type": "markdown",
      "metadata": {
        "id": "rDf1xebEfWBw"
      },
      "source": [
        "Since all models have been trained, you can review their test set performance:"
      ]
    },
    {
      "cell_type": "code",
      "execution_count": null,
      "metadata": {
        "colab": {
          "base_uri": "https://localhost:8080/",
          "height": 175
        },
        "id": "e5_ooufM5iH2",
        "outputId": "467679cb-4cea-4f23-c022-7860f3ccef93"
      },
      "outputs": [
        {
          "output_type": "execute_result",
          "data": {
            "text/html": [
              "<div>\n",
              "<style scoped>\n",
              "    .dataframe tbody tr th:only-of-type {\n",
              "        vertical-align: middle;\n",
              "    }\n",
              "\n",
              "    .dataframe tbody tr th {\n",
              "        vertical-align: top;\n",
              "    }\n",
              "\n",
              "    .dataframe thead th {\n",
              "        text-align: right;\n",
              "    }\n",
              "</style>\n",
              "<table border=\"1\" class=\"dataframe\">\n",
              "  <thead>\n",
              "    <tr style=\"text-align: right;\">\n",
              "      <th></th>\n",
              "      <th>Mean absolute error [ConvertedCompYearly]</th>\n",
              "    </tr>\n",
              "  </thead>\n",
              "  <tbody>\n",
              "    <tr>\n",
              "      <th>horsepower_model</th>\n",
              "      <td>121334.328125</td>\n",
              "    </tr>\n",
              "    <tr>\n",
              "      <th>linear_model</th>\n",
              "      <td>119672.703125</td>\n",
              "    </tr>\n",
              "    <tr>\n",
              "      <th>dnn_horsepower_model</th>\n",
              "      <td>34143.945312</td>\n",
              "    </tr>\n",
              "    <tr>\n",
              "      <th>dnn_model</th>\n",
              "      <td>31137.644531</td>\n",
              "    </tr>\n",
              "  </tbody>\n",
              "</table>\n",
              "</div>"
            ],
            "text/plain": [
              "                      Mean absolute error [ConvertedCompYearly]\n",
              "horsepower_model                                  121334.328125\n",
              "linear_model                                      119672.703125\n",
              "dnn_horsepower_model                               34143.945312\n",
              "dnn_model                                          31137.644531"
            ]
          },
          "metadata": {},
          "execution_count": 64
        }
      ],
      "source": [
        "pd.DataFrame(test_results, index=['Mean absolute error [ConvertedCompYearly]']).T"
      ]
    },
    {
      "cell_type": "markdown",
      "metadata": {
        "id": "DABIVzsCf-QI"
      },
      "source": [
        "These results match the validation error observed during training."
      ]
    },
    {
      "cell_type": "markdown",
      "metadata": {
        "id": "ft603OzXuEZC"
      },
      "source": [
        "### Make predictions\n",
        "\n",
        "You can now make predictions with the `dnn_model` on the test set using Keras `Model.predict` and review the loss:"
      ]
    },
    {
      "cell_type": "code",
      "execution_count": null,
      "metadata": {
        "colab": {
          "base_uri": "https://localhost:8080/"
        },
        "id": "I-3SCC_-7Ooq",
        "outputId": "199a058c-57b9-4d45-cc9e-2d4f7f655b86"
      },
      "outputs": [
        {
          "output_type": "stream",
          "name": "stdout",
          "text": [
            "[    YearsCodePro  AWS  Bash/Shell  C++  ...  Unity 3D  Vue.js  Xamarin  jQuery\n",
            "26           6.0  0.0         1.0  0.0  ...       0.0     0.0      0.0     0.0\n",
            "\n",
            "[1 rows x 45 columns]]\n"
          ]
        }
      ],
      "source": [
        "import pprint\n",
        "import sys\n",
        "\n",
        "np.set_printoptions(threshold=sys.maxsize)\n",
        "\n",
        "sample = []\n",
        "list1 = test_features.iloc[3:4]\n",
        "sample.append(test_features.iloc[3:4])\n",
        "print(sample)"
      ]
    },
    {
      "cell_type": "code",
      "execution_count": null,
      "metadata": {
        "colab": {
          "base_uri": "https://localhost:8080/",
          "height": 104
        },
        "id": "l7s7oIkeC_Do",
        "outputId": "1b4a69d8-36a4-4188-9c0c-7af6d464f445"
      },
      "outputs": [
        {
          "output_type": "execute_result",
          "data": {
            "text/html": [
              "<div>\n",
              "<style scoped>\n",
              "    .dataframe tbody tr th:only-of-type {\n",
              "        vertical-align: middle;\n",
              "    }\n",
              "\n",
              "    .dataframe tbody tr th {\n",
              "        vertical-align: top;\n",
              "    }\n",
              "\n",
              "    .dataframe thead th {\n",
              "        text-align: right;\n",
              "    }\n",
              "</style>\n",
              "<table border=\"1\" class=\"dataframe\">\n",
              "  <thead>\n",
              "    <tr style=\"text-align: right;\">\n",
              "      <th></th>\n",
              "      <th>YearsCodePro</th>\n",
              "      <th>AWS</th>\n",
              "      <th>Bash/Shell</th>\n",
              "      <th>C++</th>\n",
              "      <th>COBOL</th>\n",
              "      <th>Cassandra</th>\n",
              "      <th>Clojure</th>\n",
              "      <th>Crystal</th>\n",
              "      <th>Delphi</th>\n",
              "      <th>Django</th>\n",
              "      <th>Drupal</th>\n",
              "      <th>DynamoDB</th>\n",
              "      <th>Elasticsearch</th>\n",
              "      <th>Flask</th>\n",
              "      <th>Flow</th>\n",
              "      <th>Git</th>\n",
              "      <th>Go</th>\n",
              "      <th>Google Cloud Platform</th>\n",
              "      <th>Hadoop</th>\n",
              "      <th>Java</th>\n",
              "      <th>JavaScript</th>\n",
              "      <th>Kubernetes</th>\n",
              "      <th>LISP</th>\n",
              "      <th>MariaDB</th>\n",
              "      <th>Microsoft Azure</th>\n",
              "      <th>Node.js</th>\n",
              "      <th>Oracle</th>\n",
              "      <th>PHP</th>\n",
              "      <th>Pandas</th>\n",
              "      <th>Perl</th>\n",
              "      <th>PowerShell</th>\n",
              "      <th>Python</th>\n",
              "      <th>Qt</th>\n",
              "      <th>React.js</th>\n",
              "      <th>Redis</th>\n",
              "      <th>Ruby on Rails</th>\n",
              "      <th>Rust</th>\n",
              "      <th>Scala</th>\n",
              "      <th>Swift</th>\n",
              "      <th>Terraform</th>\n",
              "      <th>TypeScript</th>\n",
              "      <th>Unity 3D</th>\n",
              "      <th>Vue.js</th>\n",
              "      <th>Xamarin</th>\n",
              "      <th>jQuery</th>\n",
              "    </tr>\n",
              "  </thead>\n",
              "  <tbody>\n",
              "  </tbody>\n",
              "</table>\n",
              "</div>"
            ],
            "text/plain": [
              "Empty DataFrame\n",
              "Columns: [YearsCodePro, AWS, Bash/Shell, C++, COBOL, Cassandra, Clojure, Crystal, Delphi, Django, Drupal, DynamoDB, Elasticsearch, Flask, Flow, Git, Go, Google Cloud Platform, Hadoop, Java, JavaScript, Kubernetes, LISP, MariaDB, Microsoft Azure, Node.js, Oracle, PHP, Pandas, Perl, PowerShell, Python, Qt, React.js, Redis, Ruby on Rails, Rust, Scala, Swift, Terraform, TypeScript, Unity 3D, Vue.js, Xamarin, jQuery]\n",
              "Index: []"
            ]
          },
          "metadata": {},
          "execution_count": 66
        }
      ],
      "source": [
        "headers = ['YearsCodePro', 'AWS', 'Bash/Shell', 'C++',\n",
        "       'COBOL', 'Cassandra', 'Clojure', 'Crystal', 'Delphi', 'Django',\n",
        "       'Drupal', 'DynamoDB', 'Elasticsearch', 'Flask', 'Flow', 'Git', 'Go',\n",
        "       'Google Cloud Platform', 'Hadoop', 'Java', 'JavaScript', 'Kubernetes',\n",
        "       'LISP', 'MariaDB', 'Microsoft Azure', 'Node.js', 'Oracle', 'PHP',\n",
        "       'Pandas', 'Perl', 'PowerShell', 'Python', 'Qt', 'React.js', 'Redis',\n",
        "       'Ruby on Rails', 'Rust', 'Scala', 'Swift', 'Terraform', 'TypeScript',\n",
        "       'Unity 3D', 'Vue.js', 'Xamarin', 'jQuery']\n",
        "\n",
        "dataset_input = pd.DataFrame(columns=headers)\n",
        "dataset_input = dataset_input.astype('float64')\n",
        "dataset_input\n",
        "# "
      ]
    },
    {
      "cell_type": "code",
      "execution_count": null,
      "metadata": {
        "colab": {
          "base_uri": "https://localhost:8080/",
          "height": 135
        },
        "id": "RAs2tD_pSalV",
        "outputId": "97005998-d239-4ddc-9c1d-254f8791cc93"
      },
      "outputs": [
        {
          "output_type": "execute_result",
          "data": {
            "text/html": [
              "<div>\n",
              "<style scoped>\n",
              "    .dataframe tbody tr th:only-of-type {\n",
              "        vertical-align: middle;\n",
              "    }\n",
              "\n",
              "    .dataframe tbody tr th {\n",
              "        vertical-align: top;\n",
              "    }\n",
              "\n",
              "    .dataframe thead th {\n",
              "        text-align: right;\n",
              "    }\n",
              "</style>\n",
              "<table border=\"1\" class=\"dataframe\">\n",
              "  <thead>\n",
              "    <tr style=\"text-align: right;\">\n",
              "      <th></th>\n",
              "      <th>YearsCodePro</th>\n",
              "      <th>AWS</th>\n",
              "      <th>Bash/Shell</th>\n",
              "      <th>C++</th>\n",
              "      <th>COBOL</th>\n",
              "      <th>Cassandra</th>\n",
              "      <th>Clojure</th>\n",
              "      <th>Crystal</th>\n",
              "      <th>Delphi</th>\n",
              "      <th>Django</th>\n",
              "      <th>Drupal</th>\n",
              "      <th>DynamoDB</th>\n",
              "      <th>Elasticsearch</th>\n",
              "      <th>Flask</th>\n",
              "      <th>Flow</th>\n",
              "      <th>Git</th>\n",
              "      <th>Go</th>\n",
              "      <th>Google Cloud Platform</th>\n",
              "      <th>Hadoop</th>\n",
              "      <th>Java</th>\n",
              "      <th>JavaScript</th>\n",
              "      <th>Kubernetes</th>\n",
              "      <th>LISP</th>\n",
              "      <th>MariaDB</th>\n",
              "      <th>Microsoft Azure</th>\n",
              "      <th>Node.js</th>\n",
              "      <th>Oracle</th>\n",
              "      <th>PHP</th>\n",
              "      <th>Pandas</th>\n",
              "      <th>Perl</th>\n",
              "      <th>PowerShell</th>\n",
              "      <th>Python</th>\n",
              "      <th>Qt</th>\n",
              "      <th>React.js</th>\n",
              "      <th>Redis</th>\n",
              "      <th>Ruby on Rails</th>\n",
              "      <th>Rust</th>\n",
              "      <th>Scala</th>\n",
              "      <th>Swift</th>\n",
              "      <th>Terraform</th>\n",
              "      <th>TypeScript</th>\n",
              "      <th>Unity 3D</th>\n",
              "      <th>Vue.js</th>\n",
              "      <th>Xamarin</th>\n",
              "      <th>jQuery</th>\n",
              "    </tr>\n",
              "  </thead>\n",
              "  <tbody>\n",
              "    <tr>\n",
              "      <th>0</th>\n",
              "      <td>5.0</td>\n",
              "      <td>1.0</td>\n",
              "      <td>0.0</td>\n",
              "      <td>1.0</td>\n",
              "      <td>0.0</td>\n",
              "      <td>1.0</td>\n",
              "      <td>0.0</td>\n",
              "      <td>1.0</td>\n",
              "      <td>0.0</td>\n",
              "      <td>1.0</td>\n",
              "      <td>0.0</td>\n",
              "      <td>1.0</td>\n",
              "      <td>0.0</td>\n",
              "      <td>1.0</td>\n",
              "      <td>0.0</td>\n",
              "      <td>1.0</td>\n",
              "      <td>0.0</td>\n",
              "      <td>1.0</td>\n",
              "      <td>0.0</td>\n",
              "      <td>1.0</td>\n",
              "      <td>0.0</td>\n",
              "      <td>1.0</td>\n",
              "      <td>0.0</td>\n",
              "      <td>1.0</td>\n",
              "      <td>0.0</td>\n",
              "      <td>1.0</td>\n",
              "      <td>0.0</td>\n",
              "      <td>1.0</td>\n",
              "      <td>0.0</td>\n",
              "      <td>1.0</td>\n",
              "      <td>0.0</td>\n",
              "      <td>1.0</td>\n",
              "      <td>0.0</td>\n",
              "      <td>1.0</td>\n",
              "      <td>0.0</td>\n",
              "      <td>1.0</td>\n",
              "      <td>0.0</td>\n",
              "      <td>1.0</td>\n",
              "      <td>0.0</td>\n",
              "      <td>1.0</td>\n",
              "      <td>0.0</td>\n",
              "      <td>1.0</td>\n",
              "      <td>0.0</td>\n",
              "      <td>1.0</td>\n",
              "      <td>0.0</td>\n",
              "    </tr>\n",
              "  </tbody>\n",
              "</table>\n",
              "</div>"
            ],
            "text/plain": [
              "   YearsCodePro  AWS  Bash/Shell  C++  ...  Unity 3D  Vue.js  Xamarin  jQuery\n",
              "0           5.0  1.0         0.0  1.0  ...       1.0     0.0      1.0     0.0\n",
              "\n",
              "[1 rows x 45 columns]"
            ]
          },
          "metadata": {},
          "execution_count": 67
        }
      ],
      "source": [
        "headers = ['YearsCodePro', 'AWS', 'Bash/Shell', 'C++',\n",
        "       'COBOL', 'Cassandra', 'Clojure', 'Crystal', 'Delphi', 'Django',\n",
        "       'Drupal', 'DynamoDB', 'Elasticsearch', 'Flask', 'Flow', 'Git', 'Go',\n",
        "       'Google Cloud Platform', 'Hadoop', 'Java', 'JavaScript', 'Kubernetes',\n",
        "       'LISP', 'MariaDB', 'Microsoft Azure', 'Node.js', 'Oracle', 'PHP',\n",
        "       'Pandas', 'Perl', 'PowerShell', 'Python', 'Qt', 'React.js', 'Redis',\n",
        "       'Ruby on Rails', 'Rust', 'Scala', 'Swift', 'Terraform', 'TypeScript',\n",
        "       'Unity 3D', 'Vue.js', 'Xamarin', 'jQuery']\n",
        "\n",
        "simple_list = [[5.0,1.0,0.0,1.0,0.0,1.0,0.0,1.0,0.0,1.0,0.0,1.0,0.0,1.0,0.0,1.0,0.0,1.0,0.0,1.0,0.0,1.0,0.0,1.0,0.0,1.0,0.0,1.0,0.0,1.0,0.0,1.0,0.0,1.0,0.0,1.0,0.0,1.0,0.0,1.0,0.0,1.0,0.0,1.0,0.0]]\n",
        "mylist = pd.DataFrame(simple_list, columns = headers)\n",
        "mylist\n"
      ]
    },
    {
      "cell_type": "code",
      "execution_count": null,
      "metadata": {
        "colab": {
          "base_uri": "https://localhost:8080/"
        },
        "id": "c2_qm-yo8roI",
        "outputId": "a567fc78-ad47-44ae-e15a-525616ba903b"
      },
      "outputs": [
        {
          "output_type": "execute_result",
          "data": {
            "text/plain": [
              "101680.01"
            ]
          },
          "metadata": {},
          "execution_count": 68
        }
      ],
      "source": [
        "test_one = dnn_model.predict(mylist).flatten()\n",
        "test_one[0]"
      ]
    },
    {
      "cell_type": "code",
      "execution_count": null,
      "metadata": {
        "colab": {
          "base_uri": "https://localhost:8080/",
          "height": 881
        },
        "id": "Xe7RXH3N3CWU",
        "outputId": "f1b59406-62c2-4284-f0ae-fb3ac147be66"
      },
      "outputs": [
        {
          "output_type": "display_data",
          "data": {
            "image/png": "[encoded data removed]",
            "text/plain": [
              "<Figure size 1080x1080 with 1 Axes>"
            ]
          },
          "metadata": {
            "needs_background": "light"
          }
        }
      ],
      "source": [
        "test_predictions = dnn_model.predict(test_features).flatten()\n",
        "\n",
        "a = plt.axes(aspect='equal')\n",
        "plt.scatter(test_labels, test_predictions)\n",
        "plt.xlabel('True Values [ConvertedCompYearly]')\n",
        "plt.ylabel('Predictions [ConvertedCompYearly]')\n",
        "lims = [0, 300000]\n",
        "plt.rcParams[\"figure.figsize\"] = (15,15)\n",
        "plt.xlim(lims)\n",
        "plt.ylim(lims)\n",
        "_ = plt.plot(lims, lims)\n"
      ]
    },
    {
      "cell_type": "code",
      "execution_count": null,
      "metadata": {
        "colab": {
          "base_uri": "https://localhost:8080/"
        },
        "id": "KpKIOIFU7j21",
        "outputId": "d1f3694d-c06e-4f04-8eab-b42b949db222"
      },
      "outputs": [
        {
          "output_type": "stream",
          "name": "stdout",
          "text": [
            "[102939.87  148965.55  141840.44   80902.875 100036.3    99222.586\n",
            " 126193.22  102468.68  130953.63  139602.97   78746.086  97838.63\n",
            " 153021.73  106203.23  167308.38   68176.266 131033.03  117244.34\n",
            " 148185.42   95143.836 130086.19  112284.93  114539.4    92391.914\n",
            " 116367.836 140999.06   97563.44  160057.34  138693.12  113485.695\n",
            " 186094.56   91723.7   147580.    128764.43  157582.84   92256.62\n",
            " 102496.57  179088.33  104280.336 159796.45   98175.164 132957.19\n",
            "  92735.57   88804.945  91738.125 107347.26  200674.95   80283.46\n",
            " 127700.305  99597.28   96831.6   112441.445 112897.695  76543.24\n",
            " 111590.4   114280.19  168187.75  182900.7    97518.414 108072.68\n",
            "  95529.984 152498.75  137306.1    98268.68   93937.36  123694.484\n",
            "  83645.86  130794.5    90515.1   111129.92  123957.16  132003.06\n",
            " 159938.16  101703.35  108477.1   144702.31   99452.18  149122.75\n",
            " 119662.54  122174.62  137214.58  134764.5   171855.53  108974.33\n",
            " 137850.1   164753.69  116517.49  112789.305 140598.83   87173.125\n",
            " 159313.55  125343.016 111987.51  118438.92  133634.97  104824.63\n",
            " 146664.94  155297.38  116286.79  117239.625 168160.19   85890.49\n",
            " 141904.06  122702.34   78181.68   92090.58  136616.8   180167.48\n",
            "  85645.97   84065.86   93328.27  156556.8   178622.23  132322.05\n",
            " 120699.29  144173.66  117315.57  125682.55  107415.73   74493.414\n",
            " 162288.78  122867.98  124340.36   74845.89  111064.49   80779.18\n",
            " 151649.42  159980.14  150769.34  148564.16  109263.805 100070.78\n",
            "  77923.    161277.5   136969.     84433.98   79147.016 107818.42\n",
            "  91488.79   83042.38   83536.86  107663.57  120677.58  116379.99\n",
            " 154356.34  131618.06  136717.02   99716.28  135382.83  161738.19\n",
            "  76734.99   83325.04  101940.586 156984.22  122632.15  112912.24\n",
            " 126129.24  109456.16  108751.73   96187.42   81411.21  165900.4\n",
            " 107485.09   82049.555 137771.17  113975.64  116222.516 106744.39\n",
            " 121629.51  129207.04  148101.84  135813.16  122540.38  103682.75\n",
            " 121354.57  125337.805 156993.67  118497.45  159914.94  149435.5\n",
            " 125275.27  132577.8   155485.75  100641.     93006.4   176509.92\n",
            " 124208.984 107420.85  128645.85   88510.47  136116.31  139749.42\n",
            " 138214.4    90585.62  101195.79  106647.82  101853.78   98636.04\n",
            " 139906.34  187242.88  134918.25  118306.73  154921.02   76744.01\n",
            " 117333.99  140995.78   99391.46  119092.84  159817.22  135671.36\n",
            "  93964.71  129015.05  110224.4   127650.2   157103.53  161703.28\n",
            "  99376.21  121358.79  130185.16  119134.04   97694.99  136090.22\n",
            " 152276.28  121242.27   91364.12   81249.414  79629.664 119846.32\n",
            " 116927.516 122679.414 123501.48  123701.195 118910.164 101272.85\n",
            " 126819.96  123350.836 119538.43  110093.93  142604.6    95952.56\n",
            " 133220.53  140281.89  103184.625 100390.89  134165.2   155757.33\n",
            " 119365.836 135485.48  151429.36  125454.62  118075.555 120607.66\n",
            "  73290.39  149563.56  108307.37  134823.88  100949.56  115606.055\n",
            " 130375.266 181272.5    96946.414 132811.66  120081.47  206904.22\n",
            "  88463.51  143917.53   87388.42  104853.805 106647.83   91054.18\n",
            " 159373.83  137992.56  137030.45  110474.016  97795.18  142048.53\n",
            " 114093.5   102847.945 137930.25  206692.89  147459.77  107734.13\n",
            " 117919.35  107455.24  132054.33   98669.586 172480.23  112016.73\n",
            " 115825.72  136120.84  139611.72  128069.16  156579.5   126996.69\n",
            "  72062.    126334.28   78983.586  85836.73  126315.73   88823.71\n",
            " 131464.97   72357.6   121872.23  147930.55  118531.266 142647.22\n",
            " 100725.8    84876.74  172209.39   81643.13   90458.47  119270.89\n",
            " 101137.85  104791.54   90241.15  132815.03  110875.914 164919.98\n",
            " 106248.195 142966.47  125547.2   142666.92  135614.81  165421.14\n",
            " 131426.03  130501.99   83901.19  129215.17   93465.38  138319.9\n",
            " 100222.375 108396.34  119979.66  101441.57  125815.91   98072.3\n",
            " 108448.836 100042.25  150062.66  188894.62   83701.71  111037.195\n",
            " 145270.22   85940.57  112150.23   89281.64  147863.62  115083.23\n",
            "  88455.62  102638.96   94962.914 112427.39  166874.12   86224.54\n",
            "  57863.207  85068.9   163255.6   102915.18   87434.33  142841.25\n",
            " 100624.65  138613.56   92179.36  106882.21  115082.54  173680.78\n",
            " 141261.67  112648.164 122893.18  142057.97  125508.805 123212.336\n",
            " 159203.44   77595.84   82535.58  124244.85   95383.21  180101.14\n",
            "  64977.96  119806.695 176631.38   73459.51   75499.75  124062.336\n",
            "  88616.75  105337.7   187627.97   88406.95   65986.01  111506.1\n",
            " 137082.5   114927.25  111523.65  183234.03  110707.99  114987.195\n",
            " 102436.35  119861.07  103353.93   91901.586  81569.695 133354.06\n",
            " 127383.555 147675.25  162532.06  148904.1   110164.03  128770.055\n",
            "  99782.29  123973.24  175978.06  150571.78  113895.74  128959.16\n",
            " 152853.73  133349.22  136857.11   89253.57  122117.92  118015.51\n",
            " 111932.12   97699.92   75121.195  79961.24  107474.44   77645.44\n",
            " 100266.1   165886.9    99116.97   98956.555 107567.44   98369.32\n",
            "  86547.79  123028.73  100046.805 104105.12   70641.26  132782.34\n",
            " 107876.12  138856.48  136788.19   83934.26  146357.3   181598.44\n",
            " 128358.484  99696.62  142851.47  188877.9   109483.84  102020.086\n",
            " 114009.195 105800.23   97111.125 220551.    105180.87  152201.5\n",
            " 190801.    108926.32  100983.87   86932.99  120260.18  142691.61\n",
            " 131587.56  103208.42  134261.83  104790.164 122670.195  66236.53\n",
            " 140152.88   93246.54  117104.57  107169.23  142539.06  141693.56\n",
            " 117027.08  116231.14  134387.64  130012.27  124692.15  169611.6\n",
            " 119426.69  100013.07   83309.07  112333.13   95715.9   128077.46\n",
            "  85110.    116416.55  108757.664 107182.26  102309.02  128766.734\n",
            " 131258.16  129820.15  142546.16  107005.1   115825.164 157637.22\n",
            " 102100.64   92106.15  150913.34  148441.31  112858.24  112978.31\n",
            " 137362.84  151018.88  133002.81  123777.76  107910.336  77822.47\n",
            " 125423.27   85446.6    88039.1   182472.1   160686.78  103955.\n",
            " 156241.12  114950.336 126840.62  161980.72  111947.65  179693.86\n",
            " 141682.1   152030.05  109943.5    85314.2    77780.695  95624.766\n",
            " 125699.32  153259.33  157984.56  125706.99  121205.414 117126.305\n",
            " 131216.7   135680.5    93461.84   97812.    115803.04  156305.69\n",
            " 103089.375 111520.59  144861.53  153066.53  140422.78  102848.33\n",
            " 131864.97   82846.38   87079.45   91358.39  103896.85  159656.92\n",
            "  83325.04  129072.97  153004.08  183229.3   110767.945 112786.234\n",
            " 113730.984 121818.63  125162.38  101562.65  144988.22   89533.2\n",
            " 115062.36  170901.72  138094.06  151890.05  121904.664  97080.25\n",
            " 122140.73  159467.11  158793.36  129031.664 127351.1   140950.72\n",
            " 117214.8   132841.23  135602.33  120558.69  129488.66  126221.336\n",
            " 151468.97  154565.5    99128.38  162459.56   89396.74   94752.46\n",
            "  70164.82   77097.17   95954.06  162301.14  123842.1    93758.87\n",
            " 142451.03  114460.84  115752.375 113105.695 132936.92  140205.44\n",
            " 125525.44   94951.09  130573.12  166360.75  197290.47  115392.914\n",
            " 104945.56   78399.98  125135.06  127724.1    37358.992  56751.93\n",
            " 107279.54   95530.77  164005.14  123061.42  171126.19  124982.01\n",
            "  98231.63  112425.74  132502.7   124107.21  117644.586 128553.45\n",
            " 129711.32   89955.664 117832.87  120629.836  84989.75  133513.72\n",
            " 109922.88  152436.06  125328.98  130941.59  125236.22  131809.17\n",
            " 143751.1   105850.02  123292.02   81643.13  109940.6   163483.73\n",
            " 114305.97  131416.8   150368.03  127633.7   129600.43  154877.48\n",
            " 100232.47  119915.305  77181.4    98990.11  117119.445 126489.66\n",
            " 105805.4   109656.07  126726.23  126083.875 109391.99  162466.14\n",
            " 141526.78  109830.29   82306.91  141361.56  137282.3   125752.555\n",
            " 173460.28  151801.9    95645.02  156856.28  151166.03   98209.805\n",
            "  53098.473 123245.66  144505.98  118647.71  116943.28  115192.59\n",
            "  78429.375 140064.12  151815.    130345.96   89676.086 183303.94\n",
            " 105226.74  105330.664 131716.19  106986.414 101805.34   93650.664\n",
            " 126345.44  100122.484  97909.555  79513.32  100563.836 135963.25\n",
            " 117719.93  108782.27  119434.73   98293.695 148890.44   87476.21\n",
            " 133276.69  145980.52  141984.39  148958.95   87454.78   85049.15\n",
            " 113916.4   109636.4   133469.25  173497.11  102435.01  171749.72\n",
            " 100731.31  136305.31  105107.3   113879.33  104327.664 166072.1\n",
            " 162805.84   80523.71  139276.44  111449.15  119642.84  153279.72\n",
            " 142762.88   98669.9   125170.04  149137.72   84791.695 106894.586\n",
            "  96352.4   144298.97  102240.97  148078.58   91535.52  185099.5\n",
            " 157927.77  128015.26  135430.77  110997.37  109026.71  143173.55\n",
            " 136646.7   165302.95  121730.06  105596.664 162318.53  177341.75\n",
            " 141102.67  117937.984 123135.445 100967.95  165012.44  149767.16\n",
            " 122059.805 115597.664 113393.29  117170.96  138483.6   177831.17\n",
            " 114277.414 105428.69   93240.664 107183.28  147445.67   99929.68\n",
            " 133207.4   104998.484 110345.836 124165.69  130823.805 224879.\n",
            " 138775.84  111134.33   81577.86  132325.1    80738.4   129769.83\n",
            " 162436.28  141345.62  133825.44  115136.445 193838.64  135430.17\n",
            " 120259.1   109473.695 123292.266 107150.88  220732.94   98092.97\n",
            "  92023.34  106493.195 113512.97  110255.336  87519.32  122543.52\n",
            " 156272.42  137441.69   99051.21   83865.01   85018.695 141249.06\n",
            " 135385.72  182283.81  104069.51  116850.84  138056.27  122048.98\n",
            " 101068.18  132998.88  128178.03  117343.78  172636.16   84141.57\n",
            " 117734.68  104466.73   93407.555  93203.68  154714.84  170856.05\n",
            " 116007.086 104103.81  118582.07  103497.48  115305.63  153699.06\n",
            "  64550.664 165961.9    81901.18  124897.63   94127.164 193852.03\n",
            " 126253.38  110266.49   93914.38  163729.47  161827.53  151628.55\n",
            " 134988.12   92699.68  222601.72  106080.46  116973.49  120697.37\n",
            "  93212.18   76373.02  121987.2   188630.66  125436.35   95471.87\n",
            " 135033.34   89436.82  121478.35  137408.94  130289.85  137294.53\n",
            " 124976.29  153055.25  118023.734 145466.62   90451.95  161452.75\n",
            " 115030.414 100671.22  109310.14  113132.414 123809.38  114472.42\n",
            "  90787.71  144219.42  196594.38  115178.445 114629.96  101500.57\n",
            " 125126.15  139421.4   202885.6   121110.01  133671.52  154820.02\n",
            " 138876.03  142917.98  130138.46  179214.12  210617.1   111838.42\n",
            "  92540.63   98880.69   96236.664 106842.96  107039.695 137137.5\n",
            " 138024.61  115401.46  165553.5   180489.31  144392.44  133725.42\n",
            " 118873.414 128940.93   95956.055  95903.31   82688.164 132101.61\n",
            " 114161.9    96929.29  162502.62  120574.38   97364.945 120648.23\n",
            " 118502.65  135998.08  118568.305 116698.07  117046.43  154945.14\n",
            " 104042.586 101223.914 102106.8   131030.32  107604.68  118228.9\n",
            " 134529.69  113099.02  149914.58   87681.51  129200.42  128642.4\n",
            " 115768.375  99644.17  115195.35  128605.78   92956.63  128009.42\n",
            " 181525.9   133883.06  110200.48   98152.57  111313.805  90601.63\n",
            " 132859.42   93197.04  128414.91  156091.12   79313.664 110718.41\n",
            " 138525.45  130925.46  160058.44  114105.04   93216.85   98594.414\n",
            " 118847.87  102984.94  106243.37   98401.336 133024.45  116516.44\n",
            " 116010.87   99001.58   96638.586 111031.99  130171.09   89004.07\n",
            "  84492.26   93819.836 124166.33   93960.47   79343.63  158417.2\n",
            " 126637.46  114992.15   83308.875  92411.336  82509.36  174572.1\n",
            " 131532.14  121599.75  143287.55  104761.27  152816.47  165722.67\n",
            "  92462.1   112087.28  114474.82  116794.53  180225.05   99741.31\n",
            " 191982.66  100269.27  129126.75  116468.61  136176.84  112110.63\n",
            " 124289.24   74257.68  176276.27   88166.64   93081.18  157605.72\n",
            " 110595.04  142312.12  137580.1   171721.95   58490.29  110755.086\n",
            "  86347.57  141565.17  126286.984 136415.75  131707.83  109177.305\n",
            " 109079.4   129845.9   117479.49  102739.51  152686.38  140534.67\n",
            " 109186.945 113170.67  143804.48  148942.22  131470.22   90070.32\n",
            " 143491.88   89619.98  198219.77  102387.35  145870.66   79819.93\n",
            " 114339.47  116275.21   98174.28  154229.2   171407.33  108536.29\n",
            " 105298.32   88845.17  125551.33  131723.92  127966.46   98175.164\n",
            "  99292.02  163262.38  119538.43   81237.52  162120.69  134159.23\n",
            " 155027.38  101872.93  122157.87  104887.15  146609.97  127147.055\n",
            " 122552.21   95259.1   150832.95  122656.23  197909.36   86634.29\n",
            " 143418.92   92181.33  106782.5   105178.67  190786.92   88848.805\n",
            " 143161.06  134058.75  108864.37   76070.44  212580.31  151019.69\n",
            " 159595.62  158186.02   76116.19  265806.94  108731.33  115873.445\n",
            " 133831.66  141506.3   108913.52  106735.6   111148.05  140370.36\n",
            " 111263.414 160728.25  139526.5   135047.9   198466.28  128405.88\n",
            "  82743.38  119179.75  132650.27   80015.586  93696.5    96569.25\n",
            " 155781.75   79920.87  122516.48   91521.305 166758.73   98727.76\n",
            "  82850.67  155429.73   94534.305  78633.3   114009.37   80353.75\n",
            " 134548.5   176673.22  145174.28  199772.7    94672.32  180783.58\n",
            " 178774.81  194830.16  162358.28   77197.92  171820.16  132492.95\n",
            " 141979.62   81269.45  184715.44   95210.516 171874.34  126235.44\n",
            " 149612.19  118129.54  122333.54  154215.72  109102.1   142265.17\n",
            "  91494.69  134771.58  118027.875 111820.07  169266.     89467.1\n",
            " 137911.66  128180.12  133453.45  106612.875 100542.93  128972.54\n",
            " 137433.19  139651.56  124881.11  166089.56  142764.77   93987.79\n",
            " 100372.64  129374.99   88084.77   91591.836 152027.    135267.06\n",
            "  90592.914 183517.34  149121.06  117577.375 174575.31   85215.88\n",
            " 165801.19  123542.2   159671.27   89981.76  120766.51  149584.31\n",
            "  91970.31   95508.26   96124.32  190288.47  121792.26  113445.67\n",
            " 174718.52  103170.86   75334.336 113940.21  107054.086  93322.21\n",
            " 194504.5   159162.78  136345.25  114494.07   98721.016 109623.74\n",
            "  76685.29  145246.33  134331.9   128154.31   74398.93  131681.84\n",
            " 198969.52  185024.84  110316.79  125176.664  86610.06   81738.85\n",
            "  91819.164 112446.68   83709.94  187471.25  117525.555 110591.04\n",
            " 117701.82  153716.38  160464.61  116974.68  131397.12  155352.62\n",
            "  97050.43  104269.086  76905.336  89099.4    94513.48  120765.375\n",
            " 183347.66  163182.06  182338.86  194126.4   153071.72  207128.22\n",
            " 114594.47  100097.02  131043.11  180263.94   77469.18  102396.51\n",
            " 125413.89  114382.62  122649.47   96332.21   91518.86  152388.44\n",
            "  64711.496 129795.336 105906.57  156860.52  125835.836  78436.15\n",
            " 130190.85  102348.06  144673.88   86642.305  81557.26   98647.15\n",
            " 109962.6   137633.75   70585.664 131349.92  118905.46  113610.86\n",
            "  85553.664 158074.23  113013.7    90693.61   89123.72  111263.38\n",
            " 109853.75   91816.13  123788.39  102662.08  107086.68  133084.2\n",
            "  87418.18   82285.72  112872.77  109410.945 164453.56   95271.53\n",
            " 160595.28   80000.51  123063.68  155429.9    98597.38  119451.625\n",
            " 178400.2   132618.11   88487.73  107167.17  139693.    108089.85\n",
            " 141706.45  116455.91  121501.266 156375.69  111642.35  142063.42\n",
            " 138102.4    77786.68  117814.84  118975.484 117063.68  163080.03\n",
            " 199738.81  155896.77  187358.78  122047.18  102056.22  121433.516\n",
            " 142633.16   95593.37  112147.125  89857.625 125736.09  130255.625\n",
            "  72298.88  113473.13  116536.42  104699.37  144034.39   82839.87\n",
            " 105244.16  121875.414  97463.83  106406.43   92235.195 170324.83\n",
            " 147240.4   143830.81  108204.71   63002.062 115323.664 114794.76\n",
            " 100401.71   93558.36   85703.21  101020.02  142188.8    77897.45\n",
            " 164509.28  122132.91  137306.36  154076.92  147172.84  212934.16\n",
            " 129104.64  157268.02  103514.54  131375.84  138670.55   84644.46\n",
            "  87713.46   92135.336 137241.98  143516.81  167357.69   58490.29\n",
            "  98749.766  93533.5   142515.47  110192.77  164348.66  150332.84\n",
            "  93883.4    84067.89   94438.96   72617.4    93745.72   96965.28\n",
            " 148989.    117178.53  117193.01  121854.84  119978.12  155938.12\n",
            " 136444.11  133427.61  144574.38  132197.53  112553.57  148736.7\n",
            " 160966.98  143495.28  117454.79  151658.22  150952.69  122793.86\n",
            " 194628.69   84079.836 102016.81  168455.69  104711.12  131884.62\n",
            "  70296.96  144986.88  206341.3   116896.32  136019.4   115037.63\n",
            " 162557.62  147077.33   87992.01   88569.414 177424.56  159216.38\n",
            " 123485.72  136838.25  142972.62  125667.12  109273.88   94665.555\n",
            "  89559.305 126507.86  155927.44  127042.266 175454.31  119473.46\n",
            " 110023.336  81184.61  181839.48  101025.02  108103.01  160371.4\n",
            " 169257.62  126171.336 116293.52  142687.34  140053.12  110382.66\n",
            "  93609.     85362.086  83864.32  137609.84  107359.74  110685.24\n",
            " 108651.79   84808.68  105631.93  151889.6   138562.11  149044.25\n",
            " 139536.3   112840.49  132016.97   86790.96  124196.39   92470.305\n",
            "  95076.586  84735.43  144707.61  134752.38  114162.625  74571.76\n",
            "  71378.12  112086.98  115417.02  135779.17  146200.94  131244.2\n",
            " 123202.516 192788.67  172311.06  144105.44   81388.87  147439.53\n",
            "  88605.58  125289.47  159026.33  156898.03  179505.08   86634.31\n",
            " 126202.1   114686.82  135107.4   126490.555  96752.76  113280.98\n",
            " 121859.734  86049.945  94515.164 146249.33  141808.9   110424.13\n",
            "  89487.27   83035.94   94631.26  169436.34   96960.65   95189.59\n",
            " 111303.164  98634.26  111086.664 174476.1    81198.375  96524.15\n",
            "  81269.45   86883.805 119658.2    96501.836 107377.02  142101.89\n",
            " 139484.44   85484.99   93342.32  137158.56   85152.01  113220.65\n",
            " 107556.15  111073.32   81643.13  132641.4    65048.85   90312.54\n",
            " 108897.23  132600.39   94642.24  115215.78  102892.13  107436.695\n",
            "  74481.82   92789.42  120260.03  113234.27  148353.28  113294.33\n",
            "  83034.375  80858.34  105628.414  77870.44   86398.26  104993.55\n",
            "  69786.73  104735.77  140610.38  132569.23  113402.516 111620.18\n",
            "  71617.72  102835.086 113587.734 125499.695 115876.46  131924.52\n",
            " 128790.08   96847.28  134571.4   105914.29  117947.4   131616.58\n",
            " 133874.27  129600.125 136584.9   112971.29   94245.914 155565.98\n",
            " 128398.99  121475.586  97465.58  100547.53  108727.     80597.54\n",
            "  98141.23   80604.625 122722.14   91015.85   79893.914  92299.82\n",
            "  90036.64   86954.02   95541.74   98995.11  117272.41   99445.37\n",
            "  85771.35   95892.43  124895.305  71874.9    57593.844 124957.586\n",
            " 126784.766 108716.13   89857.33  119141.016  79961.24  116877.94\n",
            " 158817.67  113603.164 116199.91  153889.31  101216.93   98623.4\n",
            " 154524.44  142155.17   82358.695 105738.97  151822.72  161059.56\n",
            " 108729.13   99823.055  96785.71  140938.02   73678.77  130106.88\n",
            " 138298.62  127321.55  201304.9   117597.734 120029.61  151524.36\n",
            " 103081.35   86634.31  121038.65  126710.71  134522.03  102074.49\n",
            " 110174.445  98614.664  70716.06   97720.25  115269.336 177046.4\n",
            "  95077.46   89860.12   91220.164 101995.13  144335.34  109621.38\n",
            " 105321.5   113369.555 112346.04  118429.68  103298.67   89491.04\n",
            "  99407.695 184839.    141891.16   90381.71   88868.57  104884.72\n",
            " 151572.89  211481.34  137707.55  125370.54  111640.836 105220.82\n",
            " 143435.5   110390.25 ]\n"
          ]
        }
      ],
      "source": [
        "print(test_predictions)"
      ]
    },
    {
      "cell_type": "markdown",
      "metadata": {
        "id": "19wyogbOSU5t"
      },
      "source": [
        "It appears that the model predicts reasonably well.\n",
        "\n",
        "Now, check the error distribution:"
      ]
    },
    {
      "cell_type": "code",
      "execution_count": null,
      "metadata": {
        "colab": {
          "base_uri": "https://localhost:8080/",
          "height": 877
        },
        "id": "f-OHX4DiXd8x",
        "outputId": "d469b311-3b72-4cdc-e68a-edf0c83e1cbe"
      },
      "outputs": [
        {
          "output_type": "display_data",
          "data": {
            "image/png": "[encoded data removed]",
            "text/plain": [
              "<Figure size 1080x1080 with 1 Axes>"
            ]
          },
          "metadata": {
            "needs_background": "light"
          }
        }
      ],
      "source": [
        "error = test_predictions - test_labels\n",
        "plt.hist(error, bins=10)\n",
        "plt.rcParams[\"figure.figsize\"] = (15,15)\n",
        "plt.xlabel('Prediction Error [ConvertedCompYearly]')\n",
        "_ = plt.ylabel('Count')"
      ]
    },
    {
      "cell_type": "markdown",
      "metadata": {
        "id": "KSyaHUfDT-mZ"
      },
      "source": [
        "If you're happy with the model, save it for later use with `Model.save`:"
      ]
    },
    {
      "cell_type": "code",
      "execution_count": null,
      "metadata": {
        "colab": {
          "base_uri": "https://localhost:8080/"
        },
        "id": "4-WwLlmfT-mb",
        "outputId": "09668309-ad1c-41da-9341-8707d30062dd"
      },
      "outputs": [
        {
          "name": "stdout",
          "output_type": "stream",
          "text": [
            "INFO:tensorflow:Assets written to: dnn_model/assets\n"
          ]
        }
      ],
      "source": [
        "dnn_model.save('dnn_model')"
      ]
    },
    {
      "cell_type": "code",
      "execution_count": null,
      "metadata": {
        "id": "pc3wkQAX9cO0",
        "colab": {
          "base_uri": "https://localhost:8080/"
        },
        "outputId": "42991833-f768-4854-e62b-df2db1189a94"
      },
      "outputs": [
        {
          "output_type": "stream",
          "name": "stdout",
          "text": [
            "INFO:tensorflow:Assets written to: ram://2ffbb912-7ab5-405e-932d-88f5dc96b7d2/assets\n"
          ]
        }
      ],
      "source": [
        "import pickle\n",
        "pickle.dump(dnn_model,open('/content/model.pkl','wb'))"
      ]
    },
    {
      "cell_type": "markdown",
      "metadata": {
        "id": "Benlnl8UT-me"
      },
      "source": [
        "If you reload the model, it gives identical output:"
      ]
    },
    {
      "cell_type": "code",
      "execution_count": null,
      "metadata": {
        "id": "dyyyj2zVT-mf"
      },
      "outputs": [],
      "source": [
        "reloaded = tf.keras.models.load_model('dnn_model')\n",
        "\n",
        "test_results['reloaded'] = reloaded.evaluate(\n",
        "    test_features, test_labels, verbose=0)"
      ]
    },
    {
      "cell_type": "code",
      "execution_count": null,
      "metadata": {
        "colab": {
          "base_uri": "https://localhost:8080/"
        },
        "id": "OoWrqkZnydkf",
        "outputId": "4a469d57-684e-40a0-c210-8f01ae5d114d"
      },
      "outputs": [
        {
          "output_type": "execute_result",
          "data": {
            "text/plain": [
              "120673.07"
            ]
          },
          "metadata": {},
          "execution_count": 144
        }
      ],
      "source": [
        "test_one = reloaded.predict(mylist).flatten()\n",
        "test_one[0]"
      ]
    },
    {
      "cell_type": "code",
      "execution_count": null,
      "metadata": {
        "colab": {
          "base_uri": "https://localhost:8080/",
          "height": 175
        },
        "id": "f_GchJ2tg-2o",
        "outputId": "026585ed-2a8f-42c1-dcea-24e2dcbee335"
      },
      "outputs": [
        {
          "output_type": "execute_result",
          "data": {
            "text/html": [
              "<div>\n",
              "<style scoped>\n",
              "    .dataframe tbody tr th:only-of-type {\n",
              "        vertical-align: middle;\n",
              "    }\n",
              "\n",
              "    .dataframe tbody tr th {\n",
              "        vertical-align: top;\n",
              "    }\n",
              "\n",
              "    .dataframe thead th {\n",
              "        text-align: right;\n",
              "    }\n",
              "</style>\n",
              "<table border=\"1\" class=\"dataframe\">\n",
              "  <thead>\n",
              "    <tr style=\"text-align: right;\">\n",
              "      <th></th>\n",
              "      <th>Mean absolute error [ConvertedCompYearly]</th>\n",
              "    </tr>\n",
              "  </thead>\n",
              "  <tbody>\n",
              "    <tr>\n",
              "      <th>horsepower_model</th>\n",
              "      <td>121334.328125</td>\n",
              "    </tr>\n",
              "    <tr>\n",
              "      <th>linear_model</th>\n",
              "      <td>119672.703125</td>\n",
              "    </tr>\n",
              "    <tr>\n",
              "      <th>dnn_horsepower_model</th>\n",
              "      <td>34143.945312</td>\n",
              "    </tr>\n",
              "    <tr>\n",
              "      <th>dnn_model</th>\n",
              "      <td>31137.644531</td>\n",
              "    </tr>\n",
              "  </tbody>\n",
              "</table>\n",
              "</div>"
            ],
            "text/plain": [
              "                      Mean absolute error [ConvertedCompYearly]\n",
              "horsepower_model                                  121334.328125\n",
              "linear_model                                      119672.703125\n",
              "dnn_horsepower_model                               34143.945312\n",
              "dnn_model                                          31137.644531"
            ]
          },
          "metadata": {},
          "execution_count": 72
        }
      ],
      "source": [
        "pd.DataFrame(test_results, index=['Mean absolute error [ConvertedCompYearly]']).T"
      ]
    },
    {
      "cell_type": "code",
      "execution_count": null,
      "metadata": {
        "colab": {
          "base_uri": "https://localhost:8080/"
        },
        "id": "EDw2yiz-i4PM",
        "outputId": "f1339a2b-5e6f-4921-deb7-d8987cb87583"
      },
      "outputs": [
        {
          "output_type": "stream",
          "name": "stdout",
          "text": [
            "Mounted at /content/drive\n"
          ]
        }
      ],
      "source": [
        "from google.colab import drive\n",
        "drive.mount('/content/drive')"
      ]
    },
    {
      "cell_type": "markdown",
      "metadata": {
        "id": "vgGQuV-yqYZH"
      },
      "source": [
        "## Conclusion\n",
        "\n",
        "This notebook introduced a few techniques to handle a regression problem. Here are a few more tips that may help:\n",
        "\n",
        "- Mean squared error (MSE) (`tf.losses.MeanSquaredError`) and mean absolute error (MAE) (`tf.losses.MeanAbsoluteError`) are common loss functions used for regression problems. MAE is less sensitive to outliers. Different loss functions are used for classification problems.\n",
        "- Similarly, evaluation metrics used for regression differ from classification.\n",
        "- When numeric input data features have values with different ranges, each feature should be scaled independently to the same range.\n",
        "- Overfitting is a common problem for DNN models, though it wasn't a problem for this tutorial. Visit the [Overfit and underfit](overfit_and_underfit.ipynb) tutorial for more help with this."
      ]
    },
    {
      "cell_type": "code",
      "execution_count": null,
      "metadata": {
        "colab": {
          "base_uri": "https://localhost:8080/"
        },
        "id": "cfHFz_Xj1moy",
        "outputId": "914b0f3f-2517-4ecf-d192-b304f5597794"
      },
      "outputs": [
        {
          "output_type": "stream",
          "name": "stdout",
          "text": [
            "Requirement already satisfied: flask-ngrok in /usr/local/lib/python3.7/dist-packages (0.0.25)\n",
            "Requirement already satisfied: Flask>=0.8 in /usr/local/lib/python3.7/dist-packages (from flask-ngrok) (1.1.4)\n",
            "Requirement already satisfied: requests in /usr/local/lib/python3.7/dist-packages (from flask-ngrok) (2.23.0)\n",
            "Requirement already satisfied: click<8.0,>=5.1 in /usr/local/lib/python3.7/dist-packages (from Flask>=0.8->flask-ngrok) (7.1.2)\n",
            "Requirement already satisfied: Jinja2<3.0,>=2.10.1 in /usr/local/lib/python3.7/dist-packages (from Flask>=0.8->flask-ngrok) (2.11.3)\n",
            "Requirement already satisfied: itsdangerous<2.0,>=0.24 in /usr/local/lib/python3.7/dist-packages (from Flask>=0.8->flask-ngrok) (1.1.0)\n",
            "Requirement already satisfied: Werkzeug<2.0,>=0.15 in /usr/local/lib/python3.7/dist-packages (from Flask>=0.8->flask-ngrok) (1.0.1)\n",
            "Requirement already satisfied: MarkupSafe>=0.23 in /usr/local/lib/python3.7/dist-packages (from Jinja2<3.0,>=2.10.1->Flask>=0.8->flask-ngrok) (2.0.1)\n",
            "Requirement already satisfied: idna<3,>=2.5 in /usr/local/lib/python3.7/dist-packages (from requests->flask-ngrok) (2.10)\n",
            "Requirement already satisfied: chardet<4,>=3.0.2 in /usr/local/lib/python3.7/dist-packages (from requests->flask-ngrok) (3.0.4)\n",
            "Requirement already satisfied: certifi>=2017.4.17 in /usr/local/lib/python3.7/dist-packages (from requests->flask-ngrok) (2021.10.8)\n",
            "Requirement already satisfied: urllib3!=1.25.0,!=1.25.1,<1.26,>=1.21.1 in /usr/local/lib/python3.7/dist-packages (from requests->flask-ngrok) (1.24.3)\n"
          ]
        }
      ],
      "source": [
        "!pip install flask-ngrok"
      ]
    },
    {
      "cell_type": "code",
      "execution_count": null,
      "metadata": {
        "id": "1Z-zdSvX1ztK"
      },
      "outputs": [],
      "source": [
        "from flask import Flask, request, render_template\n",
        "from languages import languages\n",
        "from flask_ngrok import run_with_ngrok\n",
        "\n",
        "from google.colab import drive\n",
        "drive.mount('/content/gdrive')\n",
        "\n",
        "app = Flask(__name__)\n",
        "run_with_ngrok(app)\n",
        "\n",
        "@app.route('/', methods=['GET', 'POST'])\n",
        "def my_form():\n",
        "    testlist = languages\n",
        "    if request.method == 'POST':\n",
        "        list = []\n",
        "        list.append(request.form.get('CodingPro'))\n",
        "        langs = (request.form.getlist('checkbox'))\n",
        "        params = [i in langs for i in testlist] \n",
        "        list = list + params\n",
        "\n",
        "        print(list)\n",
        "    return render_template('test1.html')\n",
        "\n",
        "if __name__ == '__main__':\n",
        "    app.run()"
      ]
    },
    {
      "cell_type": "code",
      "execution_count": null,
      "metadata": {
        "id": "cxcdIPi613Za"
      },
      "outputs": [],
      "source": [
        ""
      ]
    }
  ],
  "metadata": {
    "colab": {
      "collapsed_sections": [],
      "name": "Model lt 250k.ipynb",
      "provenance": [],
      "include_colab_link": true
    },
    "kernelspec": {
      "display_name": "Python 3",
      "name": "python3"
    }
  },
  "nbformat": 4,
  "nbformat_minor": 0
}